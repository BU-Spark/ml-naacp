{
 "cells": [
  {
   "cell_type": "code",
   "execution_count": 54,
   "metadata": {},
   "outputs": [],
   "source": [
    "import pandas as pd\n",
    "import spacy\n",
    "import requests\n",
    "import googlemaps \n",
    "\n",
    "from bs4 import BeautifulSoup "
   ]
  },
  {
   "cell_type": "code",
   "execution_count": 2,
   "metadata": {},
   "outputs": [
    {
     "data": {
      "text/html": [
       "<div>\n",
       "<style scoped>\n",
       "    .dataframe tbody tr th:only-of-type {\n",
       "        vertical-align: middle;\n",
       "    }\n",
       "\n",
       "    .dataframe tbody tr th {\n",
       "        vertical-align: top;\n",
       "    }\n",
       "\n",
       "    .dataframe thead th {\n",
       "        text-align: right;\n",
       "    }\n",
       "</style>\n",
       "<table border=\"1\" class=\"dataframe\">\n",
       "  <thead>\n",
       "    <tr style=\"text-align: right;\">\n",
       "      <th></th>\n",
       "      <th>Type</th>\n",
       "      <th>Label</th>\n",
       "      <th>Headline</th>\n",
       "      <th>Body</th>\n",
       "      <th>Byline</th>\n",
       "      <th>Publish Date</th>\n",
       "    </tr>\n",
       "  </thead>\n",
       "  <tbody>\n",
       "    <tr>\n",
       "      <th>0</th>\n",
       "      <td>Article</td>\n",
       "      <td>Watertown Police Detective Alleges Hostile Wor...</td>\n",
       "      <td>Watertown Police Detective Alleges Hostile Wor...</td>\n",
       "      <td>BOSTON (AP) — A Watertown police detective all...</td>\n",
       "      <td>Associated Press</td>\n",
       "      <td>Wed Nov 18 14:39:02 EST 2020</td>\n",
       "    </tr>\n",
       "    <tr>\n",
       "      <th>1</th>\n",
       "      <td>Article</td>\n",
       "      <td>In 2020, Larissa FastHorse's 'The Thanksgiving...</td>\n",
       "      <td>In 2020, Larissa FastHorse's 'The Thanksgiving...</td>\n",
       "      <td>In late October, Native American playwright &lt;a...</td>\n",
       "      <td>Jill Kaufman</td>\n",
       "      <td>Fri Nov 20 16:34:53 EST 2020</td>\n",
       "    </tr>\n",
       "    <tr>\n",
       "      <th>2</th>\n",
       "      <td>Article</td>\n",
       "      <td>In From The Cold: Martha’s Vineyard To Open It...</td>\n",
       "      <td>In From The Cold: Martha’s Vineyard To Open It...</td>\n",
       "      <td>For the past five winters, three Martha’s Vine...</td>\n",
       "      <td>Jennette Barnes</td>\n",
       "      <td>Tue Nov 24 15:48:23 EST 2020</td>\n",
       "    </tr>\n",
       "    <tr>\n",
       "      <th>3</th>\n",
       "      <td>Article</td>\n",
       "      <td>Retail Behemoth Amazon May Be Coming To The Si...</td>\n",
       "      <td>Retail Behemoth Amazon May Be Coming To The Si...</td>\n",
       "      <td>A site plan filed with the city of Worcester’s...</td>\n",
       "      <td>Aaron Schachter</td>\n",
       "      <td>Fri Nov 27 15:11:17 EST 2020</td>\n",
       "    </tr>\n",
       "    <tr>\n",
       "      <th>4</th>\n",
       "      <td>Article</td>\n",
       "      <td>Rollins Talking Criminal Justice With Biden Team</td>\n",
       "      <td>Rollins Talking Criminal Justice With Biden Team</td>\n",
       "      <td>While she said &amp;quot;right now I&amp;#39;m stickin...</td>\n",
       "      <td>Michael P. Norton | State House News Service</td>\n",
       "      <td>Mon Nov 30 08:49:08 EST 2020</td>\n",
       "    </tr>\n",
       "    <tr>\n",
       "      <th>...</th>\n",
       "      <td>...</td>\n",
       "      <td>...</td>\n",
       "      <td>...</td>\n",
       "      <td>...</td>\n",
       "      <td>...</td>\n",
       "      <td>...</td>\n",
       "    </tr>\n",
       "    <tr>\n",
       "      <th>350</th>\n",
       "      <td>Article</td>\n",
       "      <td>Baker recommends pardons of four people</td>\n",
       "      <td>Baker recommends pardons of four people</td>\n",
       "      <td>Gov. Charlie Baker announced pardons of four p...</td>\n",
       "      <td>Jenifer B. McKim</td>\n",
       "      <td>Wed Oct 26 15:29:34 EDT 2022</td>\n",
       "    </tr>\n",
       "    <tr>\n",
       "      <th>351</th>\n",
       "      <td>Article</td>\n",
       "      <td>Ketanji Brown Jackson's recusal in Harvard adm...</td>\n",
       "      <td>Ketanji Brown Jackson's recusal in Harvard adm...</td>\n",
       "      <td>When the U.S. Supreme Court announces its deci...</td>\n",
       "      <td>Diane Adame</td>\n",
       "      <td>Mon Oct 31 15:15:03 EDT 2022</td>\n",
       "    </tr>\n",
       "    <tr>\n",
       "      <th>352</th>\n",
       "      <td>Article</td>\n",
       "      <td>It's now illegal in Mass. to throw out used je...</td>\n",
       "      <td>It's now illegal in Mass. to throw out used je...</td>\n",
       "      <td>It&amp;#39;s now against the law in Massachusetts ...</td>\n",
       "      <td>Craig LeMoult</td>\n",
       "      <td>Tue Nov 01 09:58:52 EDT 2022</td>\n",
       "    </tr>\n",
       "    <tr>\n",
       "      <th>353</th>\n",
       "      <td>Article</td>\n",
       "      <td>Salem takes in record numbers of Halloween tou...</td>\n",
       "      <td>Salem takes in record numbers of Halloween tou...</td>\n",
       "      <td>Saying that Halloween in Salem is “a big deal”...</td>\n",
       "      <td>James Bennett II</td>\n",
       "      <td>Mon Oct 31 16:32:14 EDT 2022</td>\n",
       "    </tr>\n",
       "    <tr>\n",
       "      <th>354</th>\n",
       "      <td>Article</td>\n",
       "      <td>Democrats strike $3.7B deal on overdue economi...</td>\n",
       "      <td>Democrats strike $3.7B deal on overdue economi...</td>\n",
       "      <td>The House and Senate have struck an agreement ...</td>\n",
       "      <td>Colin A. Young | State House News Service</td>\n",
       "      <td>Wed Nov 02 15:42:17 EDT 2022</td>\n",
       "    </tr>\n",
       "  </tbody>\n",
       "</table>\n",
       "<p>355 rows × 6 columns</p>\n",
       "</div>"
      ],
      "text/plain": [
       "        Type                                              Label  \\\n",
       "0    Article  Watertown Police Detective Alleges Hostile Wor...   \n",
       "1    Article  In 2020, Larissa FastHorse's 'The Thanksgiving...   \n",
       "2    Article  In From The Cold: Martha’s Vineyard To Open It...   \n",
       "3    Article  Retail Behemoth Amazon May Be Coming To The Si...   \n",
       "4    Article   Rollins Talking Criminal Justice With Biden Team   \n",
       "..       ...                                                ...   \n",
       "350  Article            Baker recommends pardons of four people   \n",
       "351  Article  Ketanji Brown Jackson's recusal in Harvard adm...   \n",
       "352  Article  It's now illegal in Mass. to throw out used je...   \n",
       "353  Article  Salem takes in record numbers of Halloween tou...   \n",
       "354  Article  Democrats strike $3.7B deal on overdue economi...   \n",
       "\n",
       "                                              Headline  \\\n",
       "0    Watertown Police Detective Alleges Hostile Wor...   \n",
       "1    In 2020, Larissa FastHorse's 'The Thanksgiving...   \n",
       "2    In From The Cold: Martha’s Vineyard To Open It...   \n",
       "3    Retail Behemoth Amazon May Be Coming To The Si...   \n",
       "4     Rollins Talking Criminal Justice With Biden Team   \n",
       "..                                                 ...   \n",
       "350            Baker recommends pardons of four people   \n",
       "351  Ketanji Brown Jackson's recusal in Harvard adm...   \n",
       "352  It's now illegal in Mass. to throw out used je...   \n",
       "353  Salem takes in record numbers of Halloween tou...   \n",
       "354  Democrats strike $3.7B deal on overdue economi...   \n",
       "\n",
       "                                                  Body  \\\n",
       "0    BOSTON (AP) — A Watertown police detective all...   \n",
       "1    In late October, Native American playwright <a...   \n",
       "2    For the past five winters, three Martha’s Vine...   \n",
       "3    A site plan filed with the city of Worcester’s...   \n",
       "4    While she said &quot;right now I&#39;m stickin...   \n",
       "..                                                 ...   \n",
       "350  Gov. Charlie Baker announced pardons of four p...   \n",
       "351  When the U.S. Supreme Court announces its deci...   \n",
       "352  It&#39;s now against the law in Massachusetts ...   \n",
       "353  Saying that Halloween in Salem is “a big deal”...   \n",
       "354  The House and Senate have struck an agreement ...   \n",
       "\n",
       "                                           Byline  \\\n",
       "0                                Associated Press   \n",
       "1                                    Jill Kaufman   \n",
       "2                                 Jennette Barnes   \n",
       "3                                 Aaron Schachter   \n",
       "4    Michael P. Norton | State House News Service   \n",
       "..                                            ...   \n",
       "350                              Jenifer B. McKim   \n",
       "351                                   Diane Adame   \n",
       "352                                 Craig LeMoult   \n",
       "353                              James Bennett II   \n",
       "354     Colin A. Young | State House News Service   \n",
       "\n",
       "                     Publish Date  \n",
       "0    Wed Nov 18 14:39:02 EST 2020  \n",
       "1    Fri Nov 20 16:34:53 EST 2020  \n",
       "2    Tue Nov 24 15:48:23 EST 2020  \n",
       "3    Fri Nov 27 15:11:17 EST 2020  \n",
       "4    Mon Nov 30 08:49:08 EST 2020  \n",
       "..                            ...  \n",
       "350  Wed Oct 26 15:29:34 EDT 2022  \n",
       "351  Mon Oct 31 15:15:03 EDT 2022  \n",
       "352  Tue Nov 01 09:58:52 EDT 2022  \n",
       "353  Mon Oct 31 16:32:14 EDT 2022  \n",
       "354  Wed Nov 02 15:42:17 EDT 2022  \n",
       "\n",
       "[355 rows x 6 columns]"
      ]
     },
     "execution_count": 2,
     "metadata": {},
     "output_type": "execute_result"
    }
   ],
   "source": [
    "# read gbh rss feed \n",
    "df = pd.read_csv(\"../gbh_rss/search-result-2022-11-08-04-04-19.csv\")\n",
    "clean_df = df.iloc[:, :6]\n",
    "clean_df"
   ]
  },
  {
   "cell_type": "code",
   "execution_count": 20,
   "metadata": {},
   "outputs": [],
   "source": [
    "def get_locations(article_text):\n",
    "    \"\"\"\n",
    "    get location names from article using NER \n",
    "    input: article_text as a string, aggregate of h1, h2, lede, and body\n",
    "    returns: locations - set of tuples of (NAME, 'GPE')\n",
    "    \"\"\"\n",
    "    # get locations using NER  \n",
    "    nlp = spacy.load(\"en_core_web_lg\")\n",
    "    doc = nlp(article_text)\n",
    "\n",
    "    # get the locations only, remove duplicates from results \n",
    "    locations = set([(X.text, X.label_) for X in doc.ents if X.label_ == 'GPE' or X.label_ == 'LOC' or X.label_ == 'FAC']) # or X.label_ == 'LOC' or X.label_ == 'FAC' or X.label_ == 'ORG'\n",
    "    orgs = set([(X.text, X.label_) for X in doc.ents if X.label_ == 'ORG'])\n",
    "    \n",
    "    return locations, orgs"
   ]
  },
  {
   "cell_type": "code",
   "execution_count": 160,
   "metadata": {},
   "outputs": [],
   "source": [
    "test = \"Long closed sporting-goods store in Packards Corner in Center of Computing and Data Sciences could be replaced by six-story residential building. A developer has filed plans to replace the old City Sports at 1035 Commonwealth Ave. in Allston with a six-story, 55-unit residential building with retail space on the ground floor. In a filing with the BPDA, developers BGI Homes of Brighton and D2 Development of Roxbury say the $15-million project would have units ranging from studios to three bedrooms. The plans do not specify whether the units would be rented as apartments or sold as condos. Seven of the units would be offered as affordable. The building, right on the B Line and the 57 bus route, would have no parking spaces for residents but two for the retail space. The filing notes that Fenway Park is a 29-minute walk away. Residents would have easier access to Thai food - at Brown Sugar Cafe next door. The developer expect the units will be very attractive to those seeking an active neighborhood within the urban context of Boston. City Sports closed in 2015.\""
   ]
  },
  {
   "cell_type": "code",
   "execution_count": 161,
   "metadata": {},
   "outputs": [
    {
     "name": "stdout",
     "output_type": "stream",
     "text": [
      "{('Allston', 'GPE'), ('Brown Sugar Cafe', 'FAC'), ('Fenway Park', 'FAC'), ('Boston', 'GPE')}\n",
      "\n",
      "{('D2 Development of Roxbury', 'ORG'), ('Packards Corner', 'ORG'), ('City Sports', 'ORG'), ('BGI Homes of Brighton', 'ORG'), ('Center of Computing and Data Sciences', 'ORG'), ('the B Line', 'ORG')}\n"
     ]
    }
   ],
   "source": [
    "#!python3 -m spacy download en_core_web_lg\n",
    "i = 11\n",
    "text = df['Label'][i] + df['Headline'][i] + df['Body'][i]\n",
    "loc, org = get_locations(test)\n",
    "print(loc)\n",
    "print()\n",
    "print(org)"
   ]
  },
  {
   "cell_type": "code",
   "execution_count": 147,
   "metadata": {},
   "outputs": [
    {
     "name": "stdout",
     "output_type": "stream",
     "text": [
      "Long closed sporting-goods store in Center for Computing and Data Sciences could be replaced by six-story residential building. A developer has filed plans to replace the old City Sports at 1035 Commonwealth Ave. in Allston with a six-story, 55-unit residential building with retail space on the ground floor. In a filing with the BPDA, developers BGI Homes of Brighton and D2 Development of Roxbury say the $15-million project would have units ranging from studios to three bedrooms. The plans do not specify whether the units would be rented as apartments or sold as condos. Seven of the units would be offered as affordable. The building, right on the B Line and the 57 bus route, would have no parking spaces for residents but two for the retail space. The filing notes that Fenway Park is a 29-minute walk away. Residents would have easier access to Thai food - at Brown Sugar Cafe next door. The developer expect the units will be very attractive to those seeking an active neighborhood within the urban context of Boston. City Sports closed in 2015.\n"
     ]
    }
   ],
   "source": [
    "print(test)"
   ]
  },
  {
   "cell_type": "code",
   "execution_count": 151,
   "metadata": {},
   "outputs": [],
   "source": [
    "def get_location_geocode(API_KEY, locations):\n",
    "    \"\"\"\n",
    "    getting coordinates from location names in articles \n",
    "    input: google maps platform API KEY, locations article \n",
    "    return: dictionary of location names (key) with coordinates (value as a dictionary with lat and lon as keys)\n",
    "    \"\"\"\n",
    "    gmaps = googlemaps.Client(key=API_KEY)\n",
    "    results = {}\n",
    "\n",
    "    # getting coordinates\n",
    "    for place in locations:\n",
    "        # we can constrain google geocode api search to massachusetts or us - census geocoder will not work for places outside of U.S \n",
    "        #geocode_result = gmaps.geocode(place[0] + \", Suffok County, MA, USA\") # place is a tuple, where first value is the location name \n",
    "        geocode_result = gmaps.geocode(place[0] + \", Suffolk County\",  components={\"administrative_area_level\": \"MA\", \n",
    "                                                                                   \"country\": \"US\"})\n",
    "        print(geocode_result)\n",
    "        print()\n",
    "        temp = {}\n",
    "        try:\n",
    "            geocode_components = geocode_result[0]['address_components']\n",
    "            for addr_comp in geocode_components:\n",
    "                if 'administrative_area_level_2' in addr_comp['types']:\n",
    "                    if \"Suffolk County\" == addr_comp['short_name']:\n",
    "                        temp['lat'] = geocode_result[0]['geometry']['location']['lat']\n",
    "                        temp['lon'] = geocode_result[0]['geometry']['location']['lng']\n",
    "                        results[place[0]] = temp\n",
    "        except IndexError: # unable to get coordinates for location\n",
    "            print(\"Unable to locate \" + place[0])\n",
    "\n",
    "    return results "
   ]
  },
  {
   "cell_type": "code",
   "execution_count": 162,
   "metadata": {},
   "outputs": [
    {
     "name": "stdout",
     "output_type": "stream",
     "text": [
      "[{'address_components': [{'long_name': '407', 'short_name': '407', 'types': ['street_number']}, {'long_name': 'Dudley Street', 'short_name': 'Dudley St', 'types': ['route']}, {'long_name': 'Roxbury', 'short_name': 'Roxbury', 'types': ['neighborhood', 'political']}, {'long_name': 'Boston', 'short_name': 'Boston', 'types': ['locality', 'political']}, {'long_name': 'Suffolk County', 'short_name': 'Suffolk County', 'types': ['administrative_area_level_2', 'political']}, {'long_name': 'Massachusetts', 'short_name': 'MA', 'types': ['administrative_area_level_1', 'political']}, {'long_name': 'United States', 'short_name': 'US', 'types': ['country', 'political']}, {'long_name': '02119', 'short_name': '02119', 'types': ['postal_code']}, {'long_name': '3392', 'short_name': '3392', 'types': ['postal_code_suffix']}], 'formatted_address': '407 Dudley St, Boston, MA 02119, USA', 'geometry': {'location': {'lat': 42.32550490000001, 'lng': -71.0754742}, 'location_type': 'ROOFTOP', 'viewport': {'northeast': {'lat': 42.3269021802915, 'lng': -71.07393686970849}, 'southwest': {'lat': 42.32420421970851, 'lng': -71.0766348302915}}}, 'partial_match': True, 'place_id': 'ChIJq6ruvTd644kR30h_4Q87GVg', 'plus_code': {'compound_code': '8WGF+6R Boston, MA', 'global_code': '87JC8WGF+6R'}, 'types': ['establishment', 'point_of_interest', 'real_estate_agency']}]\n",
      "\n",
      "[{'address_components': [{'long_name': \"Packard's Corner\", 'short_name': \"Packard's Corner\", 'types': ['neighborhood', 'political']}, {'long_name': 'Boston', 'short_name': 'Boston', 'types': ['locality', 'political']}, {'long_name': 'Suffolk County', 'short_name': 'Suffolk County', 'types': ['administrative_area_level_2', 'political']}, {'long_name': 'Massachusetts', 'short_name': 'MA', 'types': ['administrative_area_level_1', 'political']}, {'long_name': 'United States', 'short_name': 'US', 'types': ['country', 'political']}], 'formatted_address': \"Packard's Corner, Boston, MA, USA\", 'geometry': {'bounds': {'northeast': {'lat': 42.3537177, 'lng': -71.12298849999999}, 'southwest': {'lat': 42.34842099999999, 'lng': -71.13222209999999}}, 'location': {'lat': 42.3512369, 'lng': -71.1285122}, 'location_type': 'APPROXIMATE', 'viewport': {'northeast': {'lat': 42.3537177, 'lng': -71.12298849999999}, 'southwest': {'lat': 42.34842099999999, 'lng': -71.13222209999999}}}, 'place_id': 'ChIJYYwrDcR544kRyGJ4DtA7BrE', 'types': ['neighborhood', 'political']}]\n",
      "\n",
      "[{'address_components': [{'long_name': 'United States', 'short_name': 'US', 'types': ['country', 'political']}], 'formatted_address': 'United States', 'geometry': {'bounds': {'northeast': {'lat': 74.071038, 'lng': -66.885417}, 'southwest': {'lat': 18.7763, 'lng': 166.9999999}}, 'location': {'lat': 37.09024, 'lng': -95.712891}, 'location_type': 'APPROXIMATE', 'viewport': {'northeast': {'lat': 49.38, 'lng': -66.94}, 'southwest': {'lat': 25.82, 'lng': -124.39}}}, 'partial_match': True, 'place_id': 'ChIJCzYy5IS16lQRQrfeQ5K5Oxw', 'types': ['country', 'political']}]\n",
      "\n",
      "[{'address_components': [{'long_name': 'Brighton', 'short_name': 'Brighton', 'types': ['locality', 'political']}, {'long_name': 'Livingston County', 'short_name': 'Livingston County', 'types': ['administrative_area_level_2', 'political']}, {'long_name': 'Michigan', 'short_name': 'MI', 'types': ['administrative_area_level_1', 'political']}, {'long_name': 'United States', 'short_name': 'US', 'types': ['country', 'political']}, {'long_name': '48116', 'short_name': '48116', 'types': ['postal_code']}], 'formatted_address': 'Brighton, MI 48116, USA', 'geometry': {'bounds': {'northeast': {'lat': 42.551464, 'lng': -83.7634619}, 'southwest': {'lat': 42.5073409, 'lng': -83.8107418}}, 'location': {'lat': 42.5294773, 'lng': -83.7802214}, 'location_type': 'APPROXIMATE', 'viewport': {'northeast': {'lat': 42.551464, 'lng': -83.7634619}, 'southwest': {'lat': 42.5073409, 'lng': -83.8107418}}}, 'partial_match': True, 'place_id': 'ChIJy6Le2ZNPI4gRYhf_ull1mEE', 'types': ['locality', 'political']}]\n",
      "\n",
      "[{'address_components': [{'long_name': 'Center for Computing & Data Sciences', 'short_name': 'Center for Computing & Data Sciences', 'types': ['establishment', 'point_of_interest']}, {'long_name': '665', 'short_name': '665', 'types': ['street_number']}, {'long_name': 'Commonwealth Avenue', 'short_name': 'Commonwealth Ave', 'types': ['route']}, {'long_name': 'Fenway–Kenmore', 'short_name': 'Fenway–Kenmore', 'types': ['neighborhood', 'political']}, {'long_name': 'Boston', 'short_name': 'Boston', 'types': ['locality', 'political']}, {'long_name': 'Suffolk County', 'short_name': 'Suffolk County', 'types': ['administrative_area_level_2', 'political']}, {'long_name': 'Massachusetts', 'short_name': 'MA', 'types': ['administrative_area_level_1', 'political']}, {'long_name': 'United States', 'short_name': 'US', 'types': ['country', 'political']}, {'long_name': '02215', 'short_name': '02215', 'types': ['postal_code']}], 'formatted_address': 'Center for Computing & Data Sciences, 665 Commonwealth Ave, Boston, MA 02215, USA', 'geometry': {'location': {'lat': 42.34989710000001, 'lng': -71.10323009999999}, 'location_type': 'ROOFTOP', 'viewport': {'northeast': {'lat': 42.3511533302915, 'lng': -71.10190246970849}, 'southwest': {'lat': 42.3484553697085, 'lng': -71.10460043029151}}}, 'partial_match': True, 'place_id': 'ChIJR04AJ4R544kRNzPd8NZj3Gg', 'plus_code': {'compound_code': '8VXW+XP Boston, MA', 'global_code': '87JC8VXW+XP'}, 'types': ['establishment', 'point_of_interest', 'university']}]\n",
      "\n",
      "[{'address_components': [{'long_name': '# 200', 'short_name': '# 200', 'types': ['subpremise']}, {'long_name': '50', 'short_name': '50', 'types': ['street_number']}, {'long_name': 'East Rivercenter Boulevard', 'short_name': 'E Rivercenter Blvd', 'types': ['route']}, {'long_name': 'Covington', 'short_name': 'Covington', 'types': ['locality', 'political']}, {'long_name': 'Kenton County', 'short_name': 'Kenton County', 'types': ['administrative_area_level_2', 'political']}, {'long_name': 'Kentucky', 'short_name': 'KY', 'types': ['administrative_area_level_1', 'political']}, {'long_name': 'United States', 'short_name': 'US', 'types': ['country', 'political']}, {'long_name': '41011', 'short_name': '41011', 'types': ['postal_code']}], 'formatted_address': '50 E Rivercenter Blvd # 200, Covington, KY 41011, USA', 'geometry': {'location': {'lat': 39.0901115, 'lng': -84.50983269999999}, 'location_type': 'ROOFTOP', 'viewport': {'northeast': {'lat': 39.0913903802915, 'lng': -84.50848356970849}, 'southwest': {'lat': 39.0886924197085, 'lng': -84.5111815302915}}}, 'partial_match': True, 'place_id': 'ChIJl2i7f2axQYgRl-hwQ8AstbY', 'plus_code': {'compound_code': '3FRR+23 Covington, KY', 'global_code': '86FQ3FRR+23'}, 'types': ['establishment', 'point_of_interest', 'tourist_attraction']}]\n",
      "\n"
     ]
    },
    {
     "data": {
      "text/plain": [
       "{'D2 Development of Roxbury': {'lat': 42.32550490000001, 'lon': -71.0754742},\n",
       " 'Packards Corner': {'lat': 42.3512369, 'lon': -71.1285122},\n",
       " 'Center of Computing and Data Sciences': {'lat': 42.34989710000001,\n",
       "  'lon': -71.10323009999999}}"
      ]
     },
     "execution_count": 162,
     "metadata": {},
     "output_type": "execute_result"
    }
   ],
   "source": [
    "import secret\n",
    "get_location_geocode(secret.API_KEY, org)"
   ]
  },
  {
   "cell_type": "code",
   "execution_count": 168,
   "metadata": {},
   "outputs": [
    {
     "name": "stdout",
     "output_type": "stream",
     "text": [
      "Long closed sporting-goods store in Packards Corner in Center of Computing and Data Sciences could be replaced by six-story residential building. A developer has filed plans to replace the old City Sports at 1035 Commonwealth Ave. in Allston with a six-story, 55-unit residential building with retail space on the ground floor. In a filing with the BPDA, developers BGI Homes of Brighton and D2 Development of Roxbury say the $15-million project would have units ranging from studios to three bedrooms. The plans do not specify whether the units would be rented as apartments or sold as condos. Seven of the units would be offered as affordable. The building, right on the B Line and the 57 bus route, would have no parking spaces for residents but two for the retail space. The filing notes that Fenway Park is a 29-minute walk away. Residents would have easier access to Thai food - at Brown Sugar Cafe next door. The developer expect the units will be very attractive to those seeking an active neighborhood within the urban context of Boston. City Sports closed in 2015.\n"
     ]
    }
   ],
   "source": [
    "i = 11\n",
    "text = df['Label'][i] + df['Headline'][i] + df['Body'][i]\n",
    "\n",
    "\n",
    "\n",
    "soup = BeautifulSoup(test)\n",
    "print(soup.get_text())"
   ]
  },
  {
   "cell_type": "code",
   "execution_count": 167,
   "metadata": {},
   "outputs": [
    {
     "name": "stdout",
     "output_type": "stream",
     "text": [
      "Statehouses Evacuate Amid Protests In Support Of TrumpStatehouses Evacuate Amid Protests In Support Of TrumpProtesters who back President Donald Trump massed outside statehouses from Georgia to New Mexico on Wednesday, leading to some evacuations as cheers rang out in reaction to the news that pro-Trump demonstrators had <a href=\"https://apnews.com/article/congress-confirm-joe-biden-78104aea082995bbd7412a6e6cd13818\" style=\"box-sizing: border-box; text-decoration: none; background-color: transparent; font-size: inherit; cursor: pointer; color: rgb(28, 167, 218); font-family: &quot;AP Serif&quot;; font-style: normal; font-weight: 400;\">stormed the U.S. Capitol</a>.<br/><br/>Hundreds of people gathered in state capitals across the country to oppose President-elect Joe Biden&#39;s win, waving signs saying “Stop the Steal” and “Four more years,” most of them not wearing masks during the coronavirus pandemic and a few carrying long guns in places like Oklahoma and Georgia.<br/><br/>New Mexico state police evacuated staff from a Statehouse building that includes the governor’s office and the secretary of state’s office as a precaution shortly after hundreds of flag-waving supporters arrived in a vehicle caravan and on horseback.<br/><bsp-module data-state=\"{&quot;cms.site.owner&quot;:{&quot;_ref&quot;:&quot;00000160-2ca4-dda9-abf8-ffb4eba00002&quot;,&quot;_type&quot;:&quot;0000015f-fed7-db18-a37f-fef72a4c0002&quot;},&quot;cms.content.publishDate&quot;:1609971627615,&quot;cms.content.publishUser&quot;:{&quot;_ref&quot;:&quot;00000160-dc28-dd0e-abfa-fc3bb6e60000&quot;,&quot;_type&quot;:&quot;0000015f-fed7-db18-a37f-fef72a4e0001&quot;},&quot;cms.content.updateDate&quot;:1609971627615,&quot;cms.content.updateUser&quot;:{&quot;_ref&quot;:&quot;00000160-dc28-dd0e-abfa-fc3bb6e60000&quot;,&quot;_type&quot;:&quot;0000015f-fed7-db18-a37f-fef72a4e0001&quot;},&quot;module&quot;:{&quot;relatedPostsHeader&quot;:&quot;Read More&quot;,&quot;relatedPostItems&quot;:[{&quot;_ref&quot;:&quot;00000176-d8be-de44-a77e-febe4a4b0003&quot;,&quot;_type&quot;:&quot;0000015f-fed7-db18-a37f-fef729f20000&quot;},{&quot;_ref&quot;:&quot;00000176-d7e7-de44-a77e-f7f7ff120003&quot;,&quot;_type&quot;:&quot;0000015f-fed7-db18-a37f-fef729f20000&quot;},{&quot;_ref&quot;:&quot;00000176-d9aa-d997-af77-dbebbd180003&quot;,&quot;_type&quot;:&quot;0000015f-fed7-db18-a37f-fef729f20000&quot;},{&quot;_ref&quot;:&quot;00000176-d988-d997-af77-dbe9af930003&quot;,&quot;_type&quot;:&quot;0000015f-fed7-db18-a37f-fef729f20000&quot;}],&quot;_id&quot;:&quot;00000176-d9c9-d909-af76-ffdb04aa0016&quot;,&quot;_type&quot;:&quot;0000016d-b178-dd16-a77f-f37adb5c0000&quot;},&quot;theme.default.:core:enhancement:Enhancement.hbs._template&quot;:null,&quot;_id&quot;:&quot;00000176-d9c9-d909-af76-ffdb04080000&quot;,&quot;_type&quot;:&quot;0000015f-fed7-db18-a37f-fef72a100000&quot;}\">Module</bsp-module><br/>“It&#39;s the first time in the history of the United States that the peaceful transfer of power has been slowed by an act of violence,¨ Democratic House Speaker Brian Egolf said. “It is a shameful moment, and I hope that the Congress can recover soon.”<br/><br/>Chaotic demonstrations in Washington, D.C., came as Congress tried to affirm the Biden’s Electoral College victory.<br/><br/>Georgia’s secretary of state and his staff evacuated their offices at the state Capitol as armed protesters gathered outside.<br/><br/>Gabriel Sterling, a top official with the secretary of state’s office, said it was an internal decision made by Republican Secretary of State Brad Raffensperger and his team leave.<br/><br/>“We saw stuff happening at the Georgia Capitol and said we should not be around here, we should not be a spark,” Sterling told The Associated Press.<br/><br/>About 100 protesters gathered at the state Capitol, some were armed with long guns. Trump has focused much of his ire on Raffensperger in the weeks following his loss by about 12,000 votes.<br/><br/>Trump supporters circled the state Capitol building in Madison, Wisconsin, in cars and trucks adorned with Trump and U.S. flags for several hours Wednesday, blaring their horns.<br/><br/>In Colorado, Denver Mayor Michael Hancock ordered city agencies to close buildings after hundreds gathered in front of the Capitol building for a protest against the election results.<br/><br/>In South Carolina, protesters supporting Trump came to the Statehouse but left before the U.S. Capitol was breached.\n"
     ]
    }
   ],
   "source": [
    "print(text)"
   ]
  }
 ],
 "metadata": {
  "kernelspec": {
   "display_name": "naacp-topic-model",
   "language": "python",
   "name": "python3"
  },
  "language_info": {
   "codemirror_mode": {
    "name": "ipython",
    "version": 3
   },
   "file_extension": ".py",
   "mimetype": "text/x-python",
   "name": "python",
   "nbconvert_exporter": "python",
   "pygments_lexer": "ipython3",
   "version": "3.10.9"
  },
  "orig_nbformat": 4,
  "vscode": {
   "interpreter": {
    "hash": "6a89955c7b0e4bffc6eea71d004babb4c2be38cee7840c28e9f18bf2b2572cc4"
   }
  }
 },
 "nbformat": 4,
 "nbformat_minor": 2
}
