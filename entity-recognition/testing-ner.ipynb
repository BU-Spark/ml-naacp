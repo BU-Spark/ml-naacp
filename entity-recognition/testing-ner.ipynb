{
 "cells": [
  {
   "cell_type": "code",
   "execution_count": 1,
   "metadata": {},
   "outputs": [
    {
     "name": "stderr",
     "output_type": "stream",
     "text": [
      "/opt/anaconda3/envs/naacp-topic-model/lib/python3.10/site-packages/tqdm/auto.py:22: TqdmWarning: IProgress not found. Please update jupyter and ipywidgets. See https://ipywidgets.readthedocs.io/en/stable/user_install.html\n",
      "  from .autonotebook import tqdm as notebook_tqdm\n"
     ]
    }
   ],
   "source": [
    "import pandas as pd\n",
    "import spacy\n",
    "import requests"
   ]
  },
  {
   "cell_type": "code",
   "execution_count": 2,
   "metadata": {},
   "outputs": [
    {
     "data": {
      "text/html": [
       "<div>\n",
       "<style scoped>\n",
       "    .dataframe tbody tr th:only-of-type {\n",
       "        vertical-align: middle;\n",
       "    }\n",
       "\n",
       "    .dataframe tbody tr th {\n",
       "        vertical-align: top;\n",
       "    }\n",
       "\n",
       "    .dataframe thead th {\n",
       "        text-align: right;\n",
       "    }\n",
       "</style>\n",
       "<table border=\"1\" class=\"dataframe\">\n",
       "  <thead>\n",
       "    <tr style=\"text-align: right;\">\n",
       "      <th></th>\n",
       "      <th>Type</th>\n",
       "      <th>Label</th>\n",
       "      <th>Headline</th>\n",
       "      <th>Body</th>\n",
       "      <th>Byline</th>\n",
       "      <th>Publish Date</th>\n",
       "    </tr>\n",
       "  </thead>\n",
       "  <tbody>\n",
       "    <tr>\n",
       "      <th>0</th>\n",
       "      <td>Article</td>\n",
       "      <td>Watertown Police Detective Alleges Hostile Wor...</td>\n",
       "      <td>Watertown Police Detective Alleges Hostile Wor...</td>\n",
       "      <td>BOSTON (AP) — A Watertown police detective all...</td>\n",
       "      <td>Associated Press</td>\n",
       "      <td>Wed Nov 18 14:39:02 EST 2020</td>\n",
       "    </tr>\n",
       "    <tr>\n",
       "      <th>1</th>\n",
       "      <td>Article</td>\n",
       "      <td>In 2020, Larissa FastHorse's 'The Thanksgiving...</td>\n",
       "      <td>In 2020, Larissa FastHorse's 'The Thanksgiving...</td>\n",
       "      <td>In late October, Native American playwright &lt;a...</td>\n",
       "      <td>Jill Kaufman</td>\n",
       "      <td>Fri Nov 20 16:34:53 EST 2020</td>\n",
       "    </tr>\n",
       "    <tr>\n",
       "      <th>2</th>\n",
       "      <td>Article</td>\n",
       "      <td>In From The Cold: Martha’s Vineyard To Open It...</td>\n",
       "      <td>In From The Cold: Martha’s Vineyard To Open It...</td>\n",
       "      <td>For the past five winters, three Martha’s Vine...</td>\n",
       "      <td>Jennette Barnes</td>\n",
       "      <td>Tue Nov 24 15:48:23 EST 2020</td>\n",
       "    </tr>\n",
       "    <tr>\n",
       "      <th>3</th>\n",
       "      <td>Article</td>\n",
       "      <td>Retail Behemoth Amazon May Be Coming To The Si...</td>\n",
       "      <td>Retail Behemoth Amazon May Be Coming To The Si...</td>\n",
       "      <td>A site plan filed with the city of Worcester’s...</td>\n",
       "      <td>Aaron Schachter</td>\n",
       "      <td>Fri Nov 27 15:11:17 EST 2020</td>\n",
       "    </tr>\n",
       "    <tr>\n",
       "      <th>4</th>\n",
       "      <td>Article</td>\n",
       "      <td>Rollins Talking Criminal Justice With Biden Team</td>\n",
       "      <td>Rollins Talking Criminal Justice With Biden Team</td>\n",
       "      <td>While she said &amp;quot;right now I&amp;#39;m stickin...</td>\n",
       "      <td>Michael P. Norton | State House News Service</td>\n",
       "      <td>Mon Nov 30 08:49:08 EST 2020</td>\n",
       "    </tr>\n",
       "    <tr>\n",
       "      <th>...</th>\n",
       "      <td>...</td>\n",
       "      <td>...</td>\n",
       "      <td>...</td>\n",
       "      <td>...</td>\n",
       "      <td>...</td>\n",
       "      <td>...</td>\n",
       "    </tr>\n",
       "    <tr>\n",
       "      <th>350</th>\n",
       "      <td>Article</td>\n",
       "      <td>Baker recommends pardons of four people</td>\n",
       "      <td>Baker recommends pardons of four people</td>\n",
       "      <td>Gov. Charlie Baker announced pardons of four p...</td>\n",
       "      <td>Jenifer B. McKim</td>\n",
       "      <td>Wed Oct 26 15:29:34 EDT 2022</td>\n",
       "    </tr>\n",
       "    <tr>\n",
       "      <th>351</th>\n",
       "      <td>Article</td>\n",
       "      <td>Ketanji Brown Jackson's recusal in Harvard adm...</td>\n",
       "      <td>Ketanji Brown Jackson's recusal in Harvard adm...</td>\n",
       "      <td>When the U.S. Supreme Court announces its deci...</td>\n",
       "      <td>Diane Adame</td>\n",
       "      <td>Mon Oct 31 15:15:03 EDT 2022</td>\n",
       "    </tr>\n",
       "    <tr>\n",
       "      <th>352</th>\n",
       "      <td>Article</td>\n",
       "      <td>It's now illegal in Mass. to throw out used je...</td>\n",
       "      <td>It's now illegal in Mass. to throw out used je...</td>\n",
       "      <td>It&amp;#39;s now against the law in Massachusetts ...</td>\n",
       "      <td>Craig LeMoult</td>\n",
       "      <td>Tue Nov 01 09:58:52 EDT 2022</td>\n",
       "    </tr>\n",
       "    <tr>\n",
       "      <th>353</th>\n",
       "      <td>Article</td>\n",
       "      <td>Salem takes in record numbers of Halloween tou...</td>\n",
       "      <td>Salem takes in record numbers of Halloween tou...</td>\n",
       "      <td>Saying that Halloween in Salem is “a big deal”...</td>\n",
       "      <td>James Bennett II</td>\n",
       "      <td>Mon Oct 31 16:32:14 EDT 2022</td>\n",
       "    </tr>\n",
       "    <tr>\n",
       "      <th>354</th>\n",
       "      <td>Article</td>\n",
       "      <td>Democrats strike $3.7B deal on overdue economi...</td>\n",
       "      <td>Democrats strike $3.7B deal on overdue economi...</td>\n",
       "      <td>The House and Senate have struck an agreement ...</td>\n",
       "      <td>Colin A. Young | State House News Service</td>\n",
       "      <td>Wed Nov 02 15:42:17 EDT 2022</td>\n",
       "    </tr>\n",
       "  </tbody>\n",
       "</table>\n",
       "<p>355 rows × 6 columns</p>\n",
       "</div>"
      ],
      "text/plain": [
       "        Type                                              Label  \\\n",
       "0    Article  Watertown Police Detective Alleges Hostile Wor...   \n",
       "1    Article  In 2020, Larissa FastHorse's 'The Thanksgiving...   \n",
       "2    Article  In From The Cold: Martha’s Vineyard To Open It...   \n",
       "3    Article  Retail Behemoth Amazon May Be Coming To The Si...   \n",
       "4    Article   Rollins Talking Criminal Justice With Biden Team   \n",
       "..       ...                                                ...   \n",
       "350  Article            Baker recommends pardons of four people   \n",
       "351  Article  Ketanji Brown Jackson's recusal in Harvard adm...   \n",
       "352  Article  It's now illegal in Mass. to throw out used je...   \n",
       "353  Article  Salem takes in record numbers of Halloween tou...   \n",
       "354  Article  Democrats strike $3.7B deal on overdue economi...   \n",
       "\n",
       "                                              Headline  \\\n",
       "0    Watertown Police Detective Alleges Hostile Wor...   \n",
       "1    In 2020, Larissa FastHorse's 'The Thanksgiving...   \n",
       "2    In From The Cold: Martha’s Vineyard To Open It...   \n",
       "3    Retail Behemoth Amazon May Be Coming To The Si...   \n",
       "4     Rollins Talking Criminal Justice With Biden Team   \n",
       "..                                                 ...   \n",
       "350            Baker recommends pardons of four people   \n",
       "351  Ketanji Brown Jackson's recusal in Harvard adm...   \n",
       "352  It's now illegal in Mass. to throw out used je...   \n",
       "353  Salem takes in record numbers of Halloween tou...   \n",
       "354  Democrats strike $3.7B deal on overdue economi...   \n",
       "\n",
       "                                                  Body  \\\n",
       "0    BOSTON (AP) — A Watertown police detective all...   \n",
       "1    In late October, Native American playwright <a...   \n",
       "2    For the past five winters, three Martha’s Vine...   \n",
       "3    A site plan filed with the city of Worcester’s...   \n",
       "4    While she said &quot;right now I&#39;m stickin...   \n",
       "..                                                 ...   \n",
       "350  Gov. Charlie Baker announced pardons of four p...   \n",
       "351  When the U.S. Supreme Court announces its deci...   \n",
       "352  It&#39;s now against the law in Massachusetts ...   \n",
       "353  Saying that Halloween in Salem is “a big deal”...   \n",
       "354  The House and Senate have struck an agreement ...   \n",
       "\n",
       "                                           Byline  \\\n",
       "0                                Associated Press   \n",
       "1                                    Jill Kaufman   \n",
       "2                                 Jennette Barnes   \n",
       "3                                 Aaron Schachter   \n",
       "4    Michael P. Norton | State House News Service   \n",
       "..                                            ...   \n",
       "350                              Jenifer B. McKim   \n",
       "351                                   Diane Adame   \n",
       "352                                 Craig LeMoult   \n",
       "353                              James Bennett II   \n",
       "354     Colin A. Young | State House News Service   \n",
       "\n",
       "                     Publish Date  \n",
       "0    Wed Nov 18 14:39:02 EST 2020  \n",
       "1    Fri Nov 20 16:34:53 EST 2020  \n",
       "2    Tue Nov 24 15:48:23 EST 2020  \n",
       "3    Fri Nov 27 15:11:17 EST 2020  \n",
       "4    Mon Nov 30 08:49:08 EST 2020  \n",
       "..                            ...  \n",
       "350  Wed Oct 26 15:29:34 EDT 2022  \n",
       "351  Mon Oct 31 15:15:03 EDT 2022  \n",
       "352  Tue Nov 01 09:58:52 EDT 2022  \n",
       "353  Mon Oct 31 16:32:14 EDT 2022  \n",
       "354  Wed Nov 02 15:42:17 EDT 2022  \n",
       "\n",
       "[355 rows x 6 columns]"
      ]
     },
     "execution_count": 2,
     "metadata": {},
     "output_type": "execute_result"
    }
   ],
   "source": [
    "# read gbh rss feed \n",
    "df = pd.read_csv(\"../gbh_rss/search-result-2022-11-08-04-04-19.csv\")\n",
    "clean_df = df.iloc[:, :6]\n",
    "clean_df"
   ]
  },
  {
   "cell_type": "code",
   "execution_count": 20,
   "metadata": {},
   "outputs": [],
   "source": [
    "def get_locations(article_text):\n",
    "    \"\"\"\n",
    "    get location names from article using NER \n",
    "    input: article_text as a string, aggregate of h1, h2, lede, and body\n",
    "    returns: locations - set of tuples of (NAME, 'GPE')\n",
    "    \"\"\"\n",
    "    # get locations using NER  \n",
    "    nlp = spacy.load(\"en_core_web_lg\")\n",
    "    doc = nlp(article_text)\n",
    "\n",
    "    # get the locations only, remove duplicates from results \n",
    "    locations = set([(X.text, X.label_) for X in doc.ents if X.label_ == 'GPE' or X.label_ == 'LOC' or X.label_ == 'FAC']) # or X.label_ == 'LOC' or X.label_ == 'FAC' or X.label_ == 'ORG'\n",
    "    \n",
    "    orgs = set([(X.text, X.label_) for X in doc.ents if X.label_ == 'ORG'])\n",
    "    return locations, orgs"
   ]
  },
  {
   "cell_type": "code",
   "execution_count": 49,
   "metadata": {},
   "outputs": [],
   "source": [
    "test = \"Long closed sporting-goods store in BU East MBTA could be replaced by six-story residential building. A developer has filed plans to replace the old City Sports at 1035 Commonwealth Ave. in Allston with a six-story, 55-unit residential building with retail space on the ground floor. In a filing with the BPDA, developers BGI Homes of Brighton and D2 Development of Roxbury say the $15-million project would have units ranging from studios to three bedrooms. The plans do not specify whether the units would be rented as apartments or sold as condos. Seven of the units would be offered as affordable. The building, right on the B Line and the 57 bus route, would have no parking spaces for residents but two for the retail space. The filing notes that Fenway Park is a 29-minute walk away. Residents would have easier access to Thai food - at Brown Sugar next door. The developer expect the units will be very attractive to those seeking an active neighborhood within the urban context of Boston. City Sports closed in 2015.\""
   ]
  },
  {
   "cell_type": "code",
   "execution_count": 50,
   "metadata": {},
   "outputs": [
    {
     "name": "stdout",
     "output_type": "stream",
     "text": [
      "{('Allston', 'GPE'), ('Boston', 'GPE'), ('Fenway Park', 'FAC'), ('Brown Sugar', 'FAC')}\n",
      "\n",
      "{('D2 Development of Roxbury', 'ORG'), ('City Sports', 'ORG'), ('BGI Homes of Brighton', 'ORG'), ('the B Line', 'ORG'), ('BU East MBTA', 'ORG')}\n"
     ]
    }
   ],
   "source": [
    "#!python3 -m spacy download en_core_web_lg\n",
    "i = 15\n",
    "text = df['Label'][i] + df['Headline'][i] + df['Body'][i]\n",
    "loc, org = get_locations(test)\n",
    "print(loc)\n",
    "print()\n",
    "print(org)"
   ]
  },
  {
   "cell_type": "code",
   "execution_count": 45,
   "metadata": {},
   "outputs": [
    {
     "name": "stdout",
     "output_type": "stream",
     "text": [
      "Long closed sporting-goods store in Packards Corner could be replaced by six-story residential building. A developer has filed plans to replace the old City Sports at 1035 Commonwealth Ave. in Allston with a six-story, 55-unit residential building with retail space on the ground floor. In a filing with the BPDA, developers BGI Homes of Brighton and D2 Development of Roxbury say the $15-million project would have units ranging from studios to three bedrooms. The plans do not specify whether the units would be rented as apartments or sold as condos. Seven of the units would be offered as affordable. The building, right on the B Line and the 57 bus route, would have no parking spaces for residents but two for the retail space. The filing notes that Fenway Park is a 29-minute walk away. Residents would have easier access to Thai food - at Brown Sugar next door. The developer expect the units will be very attractive to those seeking an active neighborhood within the urban context of Boston. City Sports closed in 2015.\n"
     ]
    }
   ],
   "source": [
    "print(test)"
   ]
  }
 ],
 "metadata": {
  "kernelspec": {
   "display_name": "naacp-topic-model",
   "language": "python",
   "name": "python3"
  },
  "language_info": {
   "codemirror_mode": {
    "name": "ipython",
    "version": 3
   },
   "file_extension": ".py",
   "mimetype": "text/x-python",
   "name": "python",
   "nbconvert_exporter": "python",
   "pygments_lexer": "ipython3",
   "version": "3.10.9"
  },
  "orig_nbformat": 4,
  "vscode": {
   "interpreter": {
    "hash": "6a89955c7b0e4bffc6eea71d004babb4c2be38cee7840c28e9f18bf2b2572cc4"
   }
  }
 },
 "nbformat": 4,
 "nbformat_minor": 2
}
