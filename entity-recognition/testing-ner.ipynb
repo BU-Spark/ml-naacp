{
 "cells": [
  {
   "cell_type": "code",
   "execution_count": 283,
   "metadata": {},
   "outputs": [],
   "source": [
    "import pandas as pd\n",
    "import spacy\n",
    "import requests\n",
    "import googlemaps \n",
    "\n",
    "from bs4 import BeautifulSoup \n",
    "from spacy.pipeline.spancat import DEFAULT_SPANCAT_MODEL\n",
    "from spacy.pipeline import SpanCategorizer"
   ]
  },
  {
   "cell_type": "code",
   "execution_count": 230,
   "metadata": {},
   "outputs": [
    {
     "data": {
      "text/html": [
       "<div>\n",
       "<style scoped>\n",
       "    .dataframe tbody tr th:only-of-type {\n",
       "        vertical-align: middle;\n",
       "    }\n",
       "\n",
       "    .dataframe tbody tr th {\n",
       "        vertical-align: top;\n",
       "    }\n",
       "\n",
       "    .dataframe thead th {\n",
       "        text-align: right;\n",
       "    }\n",
       "</style>\n",
       "<table border=\"1\" class=\"dataframe\">\n",
       "  <thead>\n",
       "    <tr style=\"text-align: right;\">\n",
       "      <th></th>\n",
       "      <th>Type</th>\n",
       "      <th>Label</th>\n",
       "      <th>Headline</th>\n",
       "      <th>Body</th>\n",
       "      <th>Byline</th>\n",
       "      <th>Publish Date</th>\n",
       "    </tr>\n",
       "  </thead>\n",
       "  <tbody>\n",
       "    <tr>\n",
       "      <th>0</th>\n",
       "      <td>Article</td>\n",
       "      <td>Watertown Police Detective Alleges Hostile Wor...</td>\n",
       "      <td>Watertown Police Detective Alleges Hostile Wor...</td>\n",
       "      <td>BOSTON (AP) — A Watertown police detective all...</td>\n",
       "      <td>Associated Press</td>\n",
       "      <td>Wed Nov 18 14:39:02 EST 2020</td>\n",
       "    </tr>\n",
       "    <tr>\n",
       "      <th>1</th>\n",
       "      <td>Article</td>\n",
       "      <td>In 2020, Larissa FastHorse's 'The Thanksgiving...</td>\n",
       "      <td>In 2020, Larissa FastHorse's 'The Thanksgiving...</td>\n",
       "      <td>In late October, Native American playwright &lt;a...</td>\n",
       "      <td>Jill Kaufman</td>\n",
       "      <td>Fri Nov 20 16:34:53 EST 2020</td>\n",
       "    </tr>\n",
       "    <tr>\n",
       "      <th>2</th>\n",
       "      <td>Article</td>\n",
       "      <td>In From The Cold: Martha’s Vineyard To Open It...</td>\n",
       "      <td>In From The Cold: Martha’s Vineyard To Open It...</td>\n",
       "      <td>For the past five winters, three Martha’s Vine...</td>\n",
       "      <td>Jennette Barnes</td>\n",
       "      <td>Tue Nov 24 15:48:23 EST 2020</td>\n",
       "    </tr>\n",
       "    <tr>\n",
       "      <th>3</th>\n",
       "      <td>Article</td>\n",
       "      <td>Retail Behemoth Amazon May Be Coming To The Si...</td>\n",
       "      <td>Retail Behemoth Amazon May Be Coming To The Si...</td>\n",
       "      <td>A site plan filed with the city of Worcester’s...</td>\n",
       "      <td>Aaron Schachter</td>\n",
       "      <td>Fri Nov 27 15:11:17 EST 2020</td>\n",
       "    </tr>\n",
       "    <tr>\n",
       "      <th>4</th>\n",
       "      <td>Article</td>\n",
       "      <td>Rollins Talking Criminal Justice With Biden Team</td>\n",
       "      <td>Rollins Talking Criminal Justice With Biden Team</td>\n",
       "      <td>While she said &amp;quot;right now I&amp;#39;m stickin...</td>\n",
       "      <td>Michael P. Norton | State House News Service</td>\n",
       "      <td>Mon Nov 30 08:49:08 EST 2020</td>\n",
       "    </tr>\n",
       "    <tr>\n",
       "      <th>...</th>\n",
       "      <td>...</td>\n",
       "      <td>...</td>\n",
       "      <td>...</td>\n",
       "      <td>...</td>\n",
       "      <td>...</td>\n",
       "      <td>...</td>\n",
       "    </tr>\n",
       "    <tr>\n",
       "      <th>351</th>\n",
       "      <td>Article</td>\n",
       "      <td>Baker recommends pardons of four people</td>\n",
       "      <td>Baker recommends pardons of four people</td>\n",
       "      <td>Gov. Charlie Baker announced pardons of four p...</td>\n",
       "      <td>Jenifer B. McKim</td>\n",
       "      <td>Wed Oct 26 15:29:34 EDT 2022</td>\n",
       "    </tr>\n",
       "    <tr>\n",
       "      <th>352</th>\n",
       "      <td>Article</td>\n",
       "      <td>Ketanji Brown Jackson's recusal in Harvard adm...</td>\n",
       "      <td>Ketanji Brown Jackson's recusal in Harvard adm...</td>\n",
       "      <td>When the U.S. Supreme Court announces its deci...</td>\n",
       "      <td>Diane Adame</td>\n",
       "      <td>Mon Oct 31 15:15:03 EDT 2022</td>\n",
       "    </tr>\n",
       "    <tr>\n",
       "      <th>353</th>\n",
       "      <td>Article</td>\n",
       "      <td>It's now illegal in Mass. to throw out used je...</td>\n",
       "      <td>It's now illegal in Mass. to throw out used je...</td>\n",
       "      <td>It&amp;#39;s now against the law in Massachusetts ...</td>\n",
       "      <td>Craig LeMoult</td>\n",
       "      <td>Tue Nov 01 09:58:52 EDT 2022</td>\n",
       "    </tr>\n",
       "    <tr>\n",
       "      <th>354</th>\n",
       "      <td>Article</td>\n",
       "      <td>Salem takes in record numbers of Halloween tou...</td>\n",
       "      <td>Salem takes in record numbers of Halloween tou...</td>\n",
       "      <td>Saying that Halloween in Salem is “a big deal”...</td>\n",
       "      <td>James Bennett II</td>\n",
       "      <td>Mon Oct 31 16:32:14 EDT 2022</td>\n",
       "    </tr>\n",
       "    <tr>\n",
       "      <th>355</th>\n",
       "      <td>Article</td>\n",
       "      <td>Democrats strike $3.7B deal on overdue economi...</td>\n",
       "      <td>Democrats strike $3.7B deal on overdue economi...</td>\n",
       "      <td>The House and Senate have struck an agreement ...</td>\n",
       "      <td>Colin A. Young | State House News Service</td>\n",
       "      <td>Wed Nov 02 15:42:17 EDT 2022</td>\n",
       "    </tr>\n",
       "  </tbody>\n",
       "</table>\n",
       "<p>356 rows × 6 columns</p>\n",
       "</div>"
      ],
      "text/plain": [
       "        Type                                              Label  \\\n",
       "0    Article  Watertown Police Detective Alleges Hostile Wor...   \n",
       "1    Article  In 2020, Larissa FastHorse's 'The Thanksgiving...   \n",
       "2    Article  In From The Cold: Martha’s Vineyard To Open It...   \n",
       "3    Article  Retail Behemoth Amazon May Be Coming To The Si...   \n",
       "4    Article   Rollins Talking Criminal Justice With Biden Team   \n",
       "..       ...                                                ...   \n",
       "351  Article            Baker recommends pardons of four people   \n",
       "352  Article  Ketanji Brown Jackson's recusal in Harvard adm...   \n",
       "353  Article  It's now illegal in Mass. to throw out used je...   \n",
       "354  Article  Salem takes in record numbers of Halloween tou...   \n",
       "355  Article  Democrats strike $3.7B deal on overdue economi...   \n",
       "\n",
       "                                              Headline  \\\n",
       "0    Watertown Police Detective Alleges Hostile Wor...   \n",
       "1    In 2020, Larissa FastHorse's 'The Thanksgiving...   \n",
       "2    In From The Cold: Martha’s Vineyard To Open It...   \n",
       "3    Retail Behemoth Amazon May Be Coming To The Si...   \n",
       "4     Rollins Talking Criminal Justice With Biden Team   \n",
       "..                                                 ...   \n",
       "351            Baker recommends pardons of four people   \n",
       "352  Ketanji Brown Jackson's recusal in Harvard adm...   \n",
       "353  It's now illegal in Mass. to throw out used je...   \n",
       "354  Salem takes in record numbers of Halloween tou...   \n",
       "355  Democrats strike $3.7B deal on overdue economi...   \n",
       "\n",
       "                                                  Body  \\\n",
       "0    BOSTON (AP) — A Watertown police detective all...   \n",
       "1    In late October, Native American playwright <a...   \n",
       "2    For the past five winters, three Martha’s Vine...   \n",
       "3    A site plan filed with the city of Worcester’s...   \n",
       "4    While she said &quot;right now I&#39;m stickin...   \n",
       "..                                                 ...   \n",
       "351  Gov. Charlie Baker announced pardons of four p...   \n",
       "352  When the U.S. Supreme Court announces its deci...   \n",
       "353  It&#39;s now against the law in Massachusetts ...   \n",
       "354  Saying that Halloween in Salem is “a big deal”...   \n",
       "355  The House and Senate have struck an agreement ...   \n",
       "\n",
       "                                           Byline  \\\n",
       "0                                Associated Press   \n",
       "1                                    Jill Kaufman   \n",
       "2                                 Jennette Barnes   \n",
       "3                                 Aaron Schachter   \n",
       "4    Michael P. Norton | State House News Service   \n",
       "..                                            ...   \n",
       "351                              Jenifer B. McKim   \n",
       "352                                   Diane Adame   \n",
       "353                                 Craig LeMoult   \n",
       "354                              James Bennett II   \n",
       "355     Colin A. Young | State House News Service   \n",
       "\n",
       "                     Publish Date  \n",
       "0    Wed Nov 18 14:39:02 EST 2020  \n",
       "1    Fri Nov 20 16:34:53 EST 2020  \n",
       "2    Tue Nov 24 15:48:23 EST 2020  \n",
       "3    Fri Nov 27 15:11:17 EST 2020  \n",
       "4    Mon Nov 30 08:49:08 EST 2020  \n",
       "..                            ...  \n",
       "351  Wed Oct 26 15:29:34 EDT 2022  \n",
       "352  Mon Oct 31 15:15:03 EDT 2022  \n",
       "353  Tue Nov 01 09:58:52 EDT 2022  \n",
       "354  Mon Oct 31 16:32:14 EDT 2022  \n",
       "355  Wed Nov 02 15:42:17 EDT 2022  \n",
       "\n",
       "[356 rows x 6 columns]"
      ]
     },
     "execution_count": 230,
     "metadata": {},
     "output_type": "execute_result"
    }
   ],
   "source": [
    "# read gbh rss feed \n",
    "df = pd.read_csv(\"../gbh_rss/search-result-2022-11-08-04-04-19.csv\")\n",
    "clean_df = df.iloc[:, :6]\n",
    "clean_df"
   ]
  },
  {
   "cell_type": "code",
   "execution_count": 305,
   "metadata": {},
   "outputs": [],
   "source": [
    "def get_locations(article_text):\n",
    "    \"\"\"\n",
    "    get location names from article using NER \n",
    "    input: article_text as a string, aggregate of h1, h2, lede, and body\n",
    "    returns: locations - set of tuples of (NAME, 'GPE')\n",
    "    \"\"\"\n",
    "    # get locations using NER \n",
    "\n",
    "\n",
    "    nlp = spacy.load(\"en_core_web_lg\")\n",
    "\n",
    "    doc = nlp(article_text)\n",
    "\n",
    "    # get the locations only, remove duplicates from results \n",
    "    locations = set([(X.text, X.label_) for X in doc.ents if X.label_ == 'GPE' or X.label_ == 'LOC' or X.label_ == 'FAC']) # or X.label_ == 'LOC' or X.label_ == 'FAC' or X.label_ == 'ORG'\n",
    "    orgs = set([(X.text, X.label_) for X in doc.ents if X.label_ == 'ORG'])\n",
    "    \n",
    "    return locations, orgs"
   ]
  },
  {
   "cell_type": "code",
   "execution_count": 301,
   "metadata": {},
   "outputs": [],
   "source": [
    "nlp = spacy.load('en_core_spancat_med7_trf') #define your span key name"
   ]
  },
  {
   "cell_type": "code",
   "execution_count": 216,
   "metadata": {},
   "outputs": [],
   "source": [
    "test = \"Long closed sporting-goods store in Melnea Cass Boulevard and Massachusetts Ave in Center of Computing and Data Sciences could be replaced by six-story residential building. A developer has filed plans to replace the old City Sports at 1035 Commonwealth Ave. in Allston with a six-story, 55-unit residential building with retail space on the ground floor. In a filing with the BPDA, developers BGI Homes of Brighton and D2 Development of Roxbury say the $15-million project would have units ranging from studios to three bedrooms. The plans do not specify whether the units would be rented as apartments or sold as condos. Seven of the units would be offered as affordable. The building, right on the B Line and the 57 bus route, would have no parking spaces for residents but two for the retail space. The filing notes that Fenway Park is a 29-minute walk away. Residents would have easier access to Thai food - at Brown Sugar Cafe next door. The developer expect the units will be very attractive to those seeking an active neighborhood within the urban context of Boston. City Sports closed in 2015.\""
   ]
  },
  {
   "cell_type": "code",
   "execution_count": 297,
   "metadata": {},
   "outputs": [
    {
     "name": "stdout",
     "output_type": "stream",
     "text": [
      "{}\n",
      "{('Boston', 'GPE'), ('Atkinson', 'GPE'), ('Southampton Streets', 'FAC'), ('Massachusetts Avenue', 'FAC'), ('Pine Street Inn', 'FAC')}\n",
      "\n",
      "{('GBH News', 'ORG'), ('ModuleBut', 'ORG'), ('Downie', 'ORG')}\n"
     ]
    }
   ],
   "source": [
    "i = 133\n",
    "text =  df['Headline'][i] + \" \" + df['Body'][i]\n",
    "soup = BeautifulSoup(text,  \"html.parser\")\n",
    "clean_text = soup.get_text()\n",
    "loc, org = get_locations(clean_text)\n",
    "print(loc)\n",
    "print()\n",
    "print(org)\n"
   ]
  },
  {
   "cell_type": "code",
   "execution_count": 309,
   "metadata": {},
   "outputs": [
    {
     "name": "stdout",
     "output_type": "stream",
     "text": [
      "Massachusetts House passes $4 billion spending bill  a nongovernmental accrediting organization\n",
      "set()\n",
      "\n",
      "{('Massachusetts House', 'ORG')}\n",
      "\n",
      "Kamala Harris and Doug Emhoff’s Hanukkah menorah comes on loan from Aaron Feuerstein’s family in Brookline Updated at 1:45 p.m. Dec. 10A group of around 100 Lesley University students and a handful of faculty members gathered on the Cambridge campus Thursday to protest what they describe as the “university administration’s refusal to meet our basic needs,” including clean water, heat in student housing, working laundry machines, transportation, security on campus and food that is both available and safe to eat. “I don't know where the money that we're paying for tuition is going, because I don't see it in my housing and I don't see it in my food,” sophomore and protest organizer Él Martinez, 20, said\n",
      "{('Brookline', 'GPE'), ('Cambridge', 'GPE')}\n",
      "\n",
      "{('Lesley University', 'ORG')}\n",
      "\n",
      "Four-alarm fire sweeps through Everett metal recycling yard Jennifer Wiles has met a lot of children who have lost a parent to COVID-19.\"I know a little girl who is eight years old, whose mother was diagnosed with COVID, and she had a really rapid decline,\" said Wiles, the director of children's services for the hospice and palliative care program at Beth Israel Lahey Health. Like many who have lost a loved one in this pandemic, the girl wasn't able to say goodbye in person. She just had an iPad with a poor connection.\"Not a final hug\n",
      "set()\n",
      "\n",
      "{('iPad', 'ORG'), ('Beth Israel Lahey Health', 'ORG')}\n",
      "\n",
      "Unseen, part 5: Sex traffickers prey on drug-addicted young men Updated at 7:10 p.m. Dec. 14A 33-year-old Black man recently died at a jail overseen by the Suffolk County Sheriff’s Office, the fifth death since July. For Gail Premdas, her son's death was more than a disturbing pattern\n",
      "{('Suffolk County', 'GPE')}\n",
      "\n",
      "set()\n",
      "\n"
     ]
    },
    {
     "ename": "TypeError",
     "evalue": "unsupported operand type(s) for +: 'float' and 'str'",
     "output_type": "error",
     "traceback": [
      "\u001b[0;31m---------------------------------------------------------------------------\u001b[0m",
      "\u001b[0;31mTypeError\u001b[0m                                 Traceback (most recent call last)",
      "Cell \u001b[0;32mIn[309], line 4\u001b[0m\n\u001b[1;32m      2\u001b[0m entities_5 \u001b[39m=\u001b[39m []\n\u001b[1;32m      3\u001b[0m \u001b[39mfor\u001b[39;00m i \u001b[39min\u001b[39;00m \u001b[39mrange\u001b[39m(\u001b[39m5\u001b[39m):\n\u001b[0;32m----> 4\u001b[0m     headline \u001b[39m=\u001b[39m df[\u001b[39m'\u001b[39;49m\u001b[39mHeadline\u001b[39;49m\u001b[39m'\u001b[39;49m][i\u001b[39m+\u001b[39;49m\u001b[39m155\u001b[39;49m] \u001b[39m+\u001b[39;49m \u001b[39m\"\u001b[39;49m\u001b[39m \u001b[39;49m\u001b[39m\"\u001b[39;49m\n\u001b[1;32m      5\u001b[0m     body \u001b[39m=\u001b[39m  df[\u001b[39m'\u001b[39m\u001b[39mBody\u001b[39m\u001b[39m'\u001b[39m][i\u001b[39m+\u001b[39m\u001b[39m160\u001b[39m]\n\u001b[1;32m      6\u001b[0m     soup \u001b[39m=\u001b[39m BeautifulSoup(body,  \u001b[39m\"\u001b[39m\u001b[39mhtml.parser\u001b[39m\u001b[39m\"\u001b[39m)\n",
      "\u001b[0;31mTypeError\u001b[0m: unsupported operand type(s) for +: 'float' and 'str'"
     ]
    }
   ],
   "source": [
    "# entity recognition on first 5 sentences\n",
    "entities_5 = []\n",
    "for i in range(5):\n",
    "    headline = df['Headline'][i+155] + \" \"\n",
    "    body =  df['Body'][i+160]\n",
    "    soup = BeautifulSoup(body,  \"html.parser\")\n",
    "    lede = soup.get_text().split(\".\")[:5]\n",
    "    lede = headline + \".\".join(lede)\n",
    "    loc, org = get_locations(lede)\n",
    "    print(lede)\n",
    "    print(loc)\n",
    "    print()\n",
    "    print(org)\n",
    "    print()\n",
    "    "
   ]
  },
  {
   "cell_type": "code",
   "execution_count": 235,
   "metadata": {},
   "outputs": [],
   "source": [
    "def get_location_geocode(API_KEY, locations):\n",
    "    \"\"\"\n",
    "    getting coordinates from location names in articles \n",
    "    input: google maps platform API KEY, locations article \n",
    "    return: dictionary of location names (key) with coordinates (value as a dictionary with lat and lon as keys)\n",
    "    \"\"\"\n",
    "    gmaps = googlemaps.Client(key=API_KEY)\n",
    "    results = {}\n",
    "\n",
    "    # getting coordinates\n",
    "    for place in locations:\n",
    "        # we can constrain google geocode api search to massachusetts or us - census geocoder will not work for places outside of U.S \n",
    "        #geocode_result = gmaps.geocode(place[0] + \", Suffok County, MA, USA\") # place is a tuple, where first value is the location name \n",
    "        geocode_result = gmaps.geocode(place[0] + \", Suffolk County\",  components={\"administrative_area_level\": \"MA\", \n",
    "                                                                                   \"country\": \"US\"})\n",
    "        print(geocode_result)\n",
    "        print()\n",
    "        temp = {}\n",
    "        try:\n",
    "            geocode_components = geocode_result[0]['address_components']\n",
    "            for i, addr_comp in enumerate(geocode_components):\n",
    "                if 'administrative_area_level_2' in addr_comp['types']:\n",
    "                    if \"Suffolk County\" == addr_comp['short_name'] and i != 0:\n",
    "                        temp['lat'] = geocode_result[0]['geometry']['location']['lat']\n",
    "                        temp['lon'] = geocode_result[0]['geometry']['location']['lng']\n",
    "                        results[place[0]] = temp\n",
    "        except IndexError: # unable to get coordinates for location\n",
    "            print(\"Unable to locate \" + place[0])\n",
    "\n",
    "    return results "
   ]
  },
  {
   "cell_type": "code",
   "execution_count": 221,
   "metadata": {},
   "outputs": [
    {
     "data": {
      "text/plain": [
       "{'GBH News': {'lat': 42.3571222, 'lon': -71.1480528},\n",
       " 'ModuleBut': {'lat': 40.9848784, 'lon': -72.61511689999999},\n",
       " 'Downie': {'lat': 40.9848784, 'lon': -72.61511689999999}}"
      ]
     },
     "execution_count": 221,
     "metadata": {},
     "output_type": "execute_result"
    }
   ],
   "source": [
    "import secret\n",
    "get_location_geocode(secret.API_KEY, org)"
   ]
  },
  {
   "cell_type": "code",
   "execution_count": 236,
   "metadata": {},
   "outputs": [
    {
     "name": "stdout",
     "output_type": "stream",
     "text": [
      "[{'address_components': [{'long_name': 'Boston', 'short_name': 'Boston', 'types': ['locality', 'political']}, {'long_name': 'Suffolk County', 'short_name': 'Suffolk County', 'types': ['administrative_area_level_2', 'political']}, {'long_name': 'Massachusetts', 'short_name': 'MA', 'types': ['administrative_area_level_1', 'political']}, {'long_name': 'United States', 'short_name': 'US', 'types': ['country', 'political']}], 'formatted_address': 'Boston, MA, USA', 'geometry': {'bounds': {'northeast': {'lat': 42.40081989999999, 'lng': -70.749455}, 'southwest': {'lat': 42.22788, 'lng': -71.191113}}, 'location': {'lat': 42.3600825, 'lng': -71.0588801}, 'location_type': 'APPROXIMATE', 'viewport': {'northeast': {'lat': 42.40081989999999, 'lng': -70.749455}, 'southwest': {'lat': 42.22788, 'lng': -71.191113}}}, 'place_id': 'ChIJGzE9DS1l44kRoOhiASS_fHg', 'types': ['locality', 'political']}]\n",
      "\n",
      "[{'address_components': [{'long_name': 'Suffolk County', 'short_name': 'Suffolk County', 'types': ['administrative_area_level_2', 'political']}, {'long_name': 'New York', 'short_name': 'NY', 'types': ['administrative_area_level_1', 'political']}, {'long_name': 'United States', 'short_name': 'US', 'types': ['country', 'political']}], 'formatted_address': 'Suffolk County, NY, USA', 'geometry': {'bounds': {'northeast': {'lat': 41.3103871, 'lng': -71.777491}, 'southwest': {'lat': 40.534265, 'lng': -73.49740489999999}}, 'location': {'lat': 40.9848784, 'lng': -72.61511689999999}, 'location_type': 'APPROXIMATE', 'viewport': {'northeast': {'lat': 41.3103871, 'lng': -71.777491}, 'southwest': {'lat': 40.534265, 'lng': -73.49740489999999}}}, 'partial_match': True, 'place_id': 'ChIJ1_mbyICu4IkRU18dDUkMxJU', 'types': ['administrative_area_level_2', 'political']}, {'address_components': [{'long_name': 'Atkinson County', 'short_name': 'Atkinson County', 'types': ['administrative_area_level_2', 'political']}, {'long_name': 'Georgia', 'short_name': 'GA', 'types': ['administrative_area_level_1', 'political']}, {'long_name': 'United States', 'short_name': 'US', 'types': ['country', 'political']}], 'formatted_address': 'Atkinson County, GA, USA', 'geometry': {'bounds': {'northeast': {'lat': 31.420395, 'lng': -82.628975}, 'southwest': {'lat': 31.1830121, 'lng': -83.14158599999999}}, 'location': {'lat': 31.2932161, 'lng': -82.8640623}, 'location_type': 'APPROXIMATE', 'viewport': {'northeast': {'lat': 31.420395, 'lng': -82.628975}, 'southwest': {'lat': 31.1830121, 'lng': -83.14158599999999}}}, 'partial_match': True, 'place_id': 'ChIJJYXPzC7T74gRLtfYYbXhcmk', 'types': ['administrative_area_level_2', 'political']}]\n",
      "\n",
      "[{'address_components': [{'long_name': 'Southampton Street', 'short_name': 'Southampton St', 'types': ['route']}, {'long_name': 'Boston', 'short_name': 'Boston', 'types': ['locality', 'political']}, {'long_name': 'Suffolk County', 'short_name': 'Suffolk County', 'types': ['administrative_area_level_2', 'political']}, {'long_name': 'Massachusetts', 'short_name': 'MA', 'types': ['administrative_area_level_1', 'political']}, {'long_name': 'United States', 'short_name': 'US', 'types': ['country', 'political']}], 'formatted_address': 'Southampton St, Boston, MA, USA', 'geometry': {'bounds': {'northeast': {'lat': 42.3332972, 'lng': -71.0568339}, 'southwest': {'lat': 42.3283831, 'lng': -71.07215479999999}}, 'location': {'lat': 42.3310002, 'lng': -71.064521}, 'location_type': 'GEOMETRIC_CENTER', 'viewport': {'northeast': {'lat': 42.3332972, 'lng': -71.0568339}, 'southwest': {'lat': 42.3283831, 'lng': -71.07215479999999}}}, 'place_id': 'ChIJdcyPqEN644kRP2BPenPyoBc', 'types': ['route']}]\n",
      "\n",
      "[{'address_components': [{'long_name': 'Massachusetts Avenue', 'short_name': 'Massachusetts Ave', 'types': ['route']}, {'long_name': 'Suffolk County', 'short_name': 'Suffolk County', 'types': ['administrative_area_level_2', 'political']}, {'long_name': 'Massachusetts', 'short_name': 'MA', 'types': ['administrative_area_level_1', 'political']}, {'long_name': 'United States', 'short_name': 'US', 'types': ['country', 'political']}], 'formatted_address': 'Massachusetts Ave, Massachusetts, USA', 'geometry': {'bounds': {'northeast': {'lat': 42.42544030000003, 'lng': -71.06136359999999}, 'southwest': {'lat': 42.32040419999998, 'lng': -71.1909326}}, 'location': {'lat': 42.3734217, 'lng': -71.1195063}, 'location_type': 'GEOMETRIC_CENTER', 'viewport': {'northeast': {'lat': 42.42544030000003, 'lng': -71.06136359999999}, 'southwest': {'lat': 42.32040419999998, 'lng': -71.1909326}}}, 'place_id': 'EiVNYXNzYWNodXNldHRzIEF2ZSwgTWFzc2FjaHVzZXR0cywgVVNBIi4qLAoUChIJZ6FepJZ344kRKPsPp5H_ArESFAoSCek2q1vUnOOJEeJ1FrqLcxMi', 'types': ['route']}]\n",
      "\n",
      "[{'address_components': [{'long_name': '444', 'short_name': '444', 'types': ['street_number']}, {'long_name': 'Harrison Avenue', 'short_name': 'Harrison Ave', 'types': ['route']}, {'long_name': 'South End', 'short_name': 'South End', 'types': ['neighborhood', 'political']}, {'long_name': 'Boston', 'short_name': 'Boston', 'types': ['locality', 'political']}, {'long_name': 'Suffolk County', 'short_name': 'Suffolk County', 'types': ['administrative_area_level_2', 'political']}, {'long_name': 'Massachusetts', 'short_name': 'MA', 'types': ['administrative_area_level_1', 'political']}, {'long_name': 'United States', 'short_name': 'US', 'types': ['country', 'political']}, {'long_name': '02118', 'short_name': '02118', 'types': ['postal_code']}], 'formatted_address': '444 Harrison Ave, Boston, MA 02118, USA', 'geometry': {'location': {'lat': 42.34319869999999, 'lng': -71.0645177}, 'location_type': 'ROOFTOP', 'viewport': {'northeast': {'lat': 42.34448268029149, 'lng': -71.0633159697085}, 'southwest': {'lat': 42.34178471970849, 'lng': -71.06601393029152}}}, 'partial_match': True, 'place_id': 'ChIJy-cZ2mx644kRfCYZlMYD7Ws', 'plus_code': {'compound_code': '8WVP+75 Boston, MA', 'global_code': '87JC8WVP+75'}, 'types': ['establishment', 'point_of_interest']}]\n",
      "\n"
     ]
    },
    {
     "data": {
      "text/plain": [
       "{'Boston': {'lat': 42.3600825, 'lon': -71.0588801},\n",
       " 'Southampton Streets': {'lat': 42.3310002, 'lon': -71.064521},\n",
       " 'Massachusetts Avenue': {'lat': 42.3734217, 'lon': -71.1195063},\n",
       " 'Pine Street Inn': {'lat': 42.34319869999999, 'lon': -71.0645177}}"
      ]
     },
     "execution_count": 236,
     "metadata": {},
     "output_type": "execute_result"
    }
   ],
   "source": [
    "get_location_geocode(secret.API_KEY, loc)"
   ]
  },
  {
   "cell_type": "code",
   "execution_count": 237,
   "metadata": {},
   "outputs": [
    {
     "name": "stdout",
     "output_type": "stream",
     "text": [
      "[{'address_components': [{'long_name': 'Suffolk County', 'short_name': 'Suffolk County', 'types': ['administrative_area_level_2', 'political']}, {'long_name': 'New York', 'short_name': 'NY', 'types': ['administrative_area_level_1', 'political']}, {'long_name': 'United States', 'short_name': 'US', 'types': ['country', 'political']}], 'formatted_address': 'Suffolk County, NY, USA', 'geometry': {'bounds': {'northeast': {'lat': 41.3103871, 'lng': -71.777491}, 'southwest': {'lat': 40.534265, 'lng': -73.49740489999999}}, 'location': {'lat': 40.9848784, 'lng': -72.61511689999999}, 'location_type': 'APPROXIMATE', 'viewport': {'northeast': {'lat': 41.3103871, 'lng': -71.777491}, 'southwest': {'lat': 40.534265, 'lng': -73.49740489999999}}}, 'partial_match': True, 'place_id': 'ChIJ1_mbyICu4IkRU18dDUkMxJU', 'types': ['administrative_area_level_2', 'political']}]\n",
      "\n",
      "[{'address_components': [{'long_name': 'Suffolk County', 'short_name': 'Suffolk County', 'types': ['administrative_area_level_2', 'political']}, {'long_name': 'New York', 'short_name': 'NY', 'types': ['administrative_area_level_1', 'political']}, {'long_name': 'United States', 'short_name': 'US', 'types': ['country', 'political']}], 'formatted_address': 'Suffolk County, NY, USA', 'geometry': {'bounds': {'northeast': {'lat': 41.3103871, 'lng': -71.777491}, 'southwest': {'lat': 40.534265, 'lng': -73.49740489999999}}, 'location': {'lat': 40.9848784, 'lng': -72.61511689999999}, 'location_type': 'APPROXIMATE', 'viewport': {'northeast': {'lat': 41.3103871, 'lng': -71.777491}, 'southwest': {'lat': 40.534265, 'lng': -73.49740489999999}}}, 'partial_match': True, 'place_id': 'ChIJ1_mbyICu4IkRU18dDUkMxJU', 'types': ['administrative_area_level_2', 'political']}]\n",
      "\n",
      "[{'address_components': [{'long_name': 'Suffolk County', 'short_name': 'Suffolk County', 'types': ['administrative_area_level_2', 'political']}, {'long_name': 'New York', 'short_name': 'NY', 'types': ['administrative_area_level_1', 'political']}, {'long_name': 'United States', 'short_name': 'US', 'types': ['country', 'political']}], 'formatted_address': 'Suffolk County, NY, USA', 'geometry': {'bounds': {'northeast': {'lat': 41.3103871, 'lng': -71.777491}, 'southwest': {'lat': 40.534265, 'lng': -73.49740489999999}}, 'location': {'lat': 40.9848784, 'lng': -72.61511689999999}, 'location_type': 'APPROXIMATE', 'viewport': {'northeast': {'lat': 41.3103871, 'lng': -71.777491}, 'southwest': {'lat': 40.534265, 'lng': -73.49740489999999}}}, 'partial_match': True, 'place_id': 'ChIJ1_mbyICu4IkRU18dDUkMxJU', 'types': ['administrative_area_level_2', 'political']}, {'address_components': [{'long_name': 'Atkinson County', 'short_name': 'Atkinson County', 'types': ['administrative_area_level_2', 'political']}, {'long_name': 'Georgia', 'short_name': 'GA', 'types': ['administrative_area_level_1', 'political']}, {'long_name': 'United States', 'short_name': 'US', 'types': ['country', 'political']}], 'formatted_address': 'Atkinson County, GA, USA', 'geometry': {'bounds': {'northeast': {'lat': 31.420395, 'lng': -82.628975}, 'southwest': {'lat': 31.1830121, 'lng': -83.14158599999999}}, 'location': {'lat': 31.2932161, 'lng': -82.8640623}, 'location_type': 'APPROXIMATE', 'viewport': {'northeast': {'lat': 31.420395, 'lng': -82.628975}, 'southwest': {'lat': 31.1830121, 'lng': -83.14158599999999}}}, 'partial_match': True, 'place_id': 'ChIJJYXPzC7T74gRLtfYYbXhcmk', 'types': ['administrative_area_level_2', 'political']}]\n",
      "\n"
     ]
    },
    {
     "data": {
      "text/plain": [
       "{}"
      ]
     },
     "execution_count": 237,
     "metadata": {},
     "output_type": "execute_result"
    }
   ],
   "source": [
    "get_location_geocode(secret.API_KEY, [('ModuleBut', 'ORG'), ('Downie', 'ORG'), ('Atkinson', 'GPE')])"
   ]
  }
 ],
 "metadata": {
  "kernelspec": {
   "display_name": "naacp-topic-model",
   "language": "python",
   "name": "python3"
  },
  "language_info": {
   "codemirror_mode": {
    "name": "ipython",
    "version": 3
   },
   "file_extension": ".py",
   "mimetype": "text/x-python",
   "name": "python",
   "nbconvert_exporter": "python",
   "pygments_lexer": "ipython3",
   "version": "3.10.9"
  },
  "orig_nbformat": 4,
  "vscode": {
   "interpreter": {
    "hash": "6a89955c7b0e4bffc6eea71d004babb4c2be38cee7840c28e9f18bf2b2572cc4"
   }
  }
 },
 "nbformat": 4,
 "nbformat_minor": 2
}
