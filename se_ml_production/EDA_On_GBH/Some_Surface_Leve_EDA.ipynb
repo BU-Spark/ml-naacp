{
 "cells": [
  {
   "cell_type": "code",
   "execution_count": 39,
   "id": "a9bfa038-aacf-4c1d-9856-b954540e6542",
   "metadata": {},
   "outputs": [],
   "source": [
    "import re\n",
    "import json\n",
    "import pandas as pd\n",
    "import numpy as np\n",
    "import plotly.graph_objects as go"
   ]
  },
  {
   "cell_type": "code",
   "execution_count": 2,
   "id": "07d69659-fb6b-4f53-97ca-85cbb9d7b943",
   "metadata": {},
   "outputs": [],
   "source": [
    "# Libraries that may take forever to load\n",
    "import nltk\n",
    "from nltk.tokenize import word_tokenize\n",
    "from nltk.corpus import stopwords"
   ]
  },
  {
   "cell_type": "code",
   "execution_count": 3,
   "id": "b1b41af3-9e66-4435-a7ef-8de5e2eff329",
   "metadata": {},
   "outputs": [
    {
     "name": "stderr",
     "output_type": "stream",
     "text": [
      "[nltk_data] Downloading package punkt to /Users/zacharyg/nltk_data...\n",
      "[nltk_data]   Package punkt is already up-to-date!\n",
      "[nltk_data] Downloading package stopwords to\n",
      "[nltk_data]     /Users/zacharyg/nltk_data...\n",
      "[nltk_data]   Package stopwords is already up-to-date!\n"
     ]
    },
    {
     "data": {
      "text/plain": [
       "True"
      ]
     },
     "execution_count": 3,
     "metadata": {},
     "output_type": "execute_result"
    }
   ],
   "source": [
    "# nltk stuff\n",
    "nltk.download('punkt')\n",
    "nltk.download('stopwords')"
   ]
  },
  {
   "cell_type": "code",
   "execution_count": 4,
   "id": "e9e48780-9f9f-4f31-b14d-9ceef8ddb385",
   "metadata": {},
   "outputs": [
    {
     "data": {
      "text/html": [
       "        <script type=\"text/javascript\">\n",
       "        window.PlotlyConfig = {MathJaxConfig: 'local'};\n",
       "        if (window.MathJax && window.MathJax.Hub && window.MathJax.Hub.Config) {window.MathJax.Hub.Config({SVG: {font: \"STIX-Web\"}});}\n",
       "        if (typeof require !== 'undefined') {\n",
       "        require.undef(\"plotly\");\n",
       "        requirejs.config({\n",
       "            paths: {\n",
       "                'plotly': ['https://cdn.plot.ly/plotly-2.27.0.min']\n",
       "            }\n",
       "        });\n",
       "        require(['plotly'], function(Plotly) {\n",
       "            window._Plotly = Plotly;\n",
       "        });\n",
       "        }\n",
       "        </script>\n",
       "        "
      ]
     },
     "metadata": {},
     "output_type": "display_data"
    }
   ],
   "source": [
    "# Plotly Configs\n",
    "import plotly.offline as pyo\n",
    "pyo.init_notebook_mode(connected=True)\n"
   ]
  },
  {
   "cell_type": "markdown",
   "id": "d2864641-467e-4f86-b899-f7d8885a05b6",
   "metadata": {},
   "source": [
    "# Data Utility"
   ]
  },
  {
   "cell_type": "code",
   "execution_count": 5,
   "id": "2f6d576d-211e-4f12-921e-263ae2752151",
   "metadata": {},
   "outputs": [],
   "source": [
    "with open('./non_stochastic_model_output.json', 'r') as file:\n",
    "    data = json.load(file)"
   ]
  },
  {
   "cell_type": "code",
   "execution_count": 6,
   "id": "e354ece0-397e-4c58-a834-565a01a868a9",
   "metadata": {},
   "outputs": [
    {
     "name": "stdout",
     "output_type": "stream",
     "text": [
      "dict_keys(['articles', 'topics_filter', 'dates_filter', 'neighs_filter', 'tracts_filter'])\n"
     ]
    }
   ],
   "source": [
    "print(data.keys())"
   ]
  },
  {
   "cell_type": "markdown",
   "id": "fafe3191-773a-4e37-b77c-d824b6651097",
   "metadata": {},
   "source": [
    "### To Pandas [articles]"
   ]
  },
  {
   "cell_type": "code",
   "execution_count": 7,
   "id": "b0688dfb-68d6-41ee-8d87-604bc68f2b9f",
   "metadata": {},
   "outputs": [],
   "source": [
    "list_of_articles = []\n",
    "\n",
    "for article_key in data['articles'].keys():\n",
    "    list_of_articles.append(data['articles'][article_key])"
   ]
  },
  {
   "cell_type": "code",
   "execution_count": 8,
   "id": "f4ae1cc8-ebdc-40a2-bd9c-38b30a845d9f",
   "metadata": {},
   "outputs": [
    {
     "name": "stdout",
     "output_type": "stream",
     "text": [
      "Amount of articles: 3023\n"
     ]
    }
   ],
   "source": [
    "print(f\"Amount of articles: {len(list_of_articles)}\")"
   ]
  },
  {
   "cell_type": "code",
   "execution_count": 9,
   "id": "de41a9f3-83c5-4897-8159-8b1b8bc7dd22",
   "metadata": {},
   "outputs": [
    {
     "data": {
      "text/plain": [
       "{'neighborhoods': ['Fenway'],\n",
       " 'position_section': 'Education',\n",
       " 'tracts': ['010300'],\n",
       " 'author': 'Esteban Bustillos',\n",
       " 'body': 'Thomas White, a senior at Boston Latin School, is like a lot of high school athletes. A cross country runner, he trained hard all summer in hopes a season would happen.And, to his surprise, it did. But it wasn\\'t without restrictions.“The state … didn’t really know what was safe or not safe. So everything kept getting pushed back,\" said White\\'s coach, Chris Blondin. \"And we were just praying that it wouldn’t end up like the spring season where it outright got cancelled. So the fact that we even have a season at all is just a blessing.”But then, in the last week of October, Boston Public Schools postponed the few athletic activities it was allowing, essentially killing the BLS season. It\\'s just one example of the dark hole that high school sports have been thrown into during the pandemic. And even for the sports and districts that are still going, a season can seem like a countdown to the inevitable postponement or cancellation. And for White, and other high school seniors like him, that uncertainty about what happens next may be the common refrain as they attempt to navigate through the haze of COVID-19.More from COVID And The ClassroomFor the full story, click on the audio player button above. ',\n",
       " 'content_id': '00000175-7583-d779-a575-779f0f6b0001',\n",
       " 'hl1': 'For High School Athletes, The Pandemic Has Led To Uncertainty, Anxiety',\n",
       " 'hl2': 'For High School Athletes, The Pandemic Has Led To Uncertainty, Anxiety',\n",
       " 'pub_date': '2020-11-11 00:00:00',\n",
       " 'pub_name': 'GBH',\n",
       " 'link': 'https://wgbh.org/news/education/2020/11/11/for-high-school-athletes-the-pandemic-has-led-to-uncertainty-anxiety',\n",
       " 'openai_labels': []}"
      ]
     },
     "execution_count": 9,
     "metadata": {},
     "output_type": "execute_result"
    }
   ],
   "source": [
    "list_of_articles[0]"
   ]
  },
  {
   "cell_type": "code",
   "execution_count": 10,
   "id": "738d8340-ff37-487c-8629-22212085373a",
   "metadata": {},
   "outputs": [],
   "source": [
    "df_articles = pd.DataFrame(list_of_articles)"
   ]
  },
  {
   "cell_type": "code",
   "execution_count": 11,
   "id": "0240ffa8-5baa-46fe-ab0d-ef0e0a45c19a",
   "metadata": {},
   "outputs": [
    {
     "data": {
      "text/html": [
       "<div>\n",
       "<style scoped>\n",
       "    .dataframe tbody tr th:only-of-type {\n",
       "        vertical-align: middle;\n",
       "    }\n",
       "\n",
       "    .dataframe tbody tr th {\n",
       "        vertical-align: top;\n",
       "    }\n",
       "\n",
       "    .dataframe thead th {\n",
       "        text-align: right;\n",
       "    }\n",
       "</style>\n",
       "<table border=\"1\" class=\"dataframe\">\n",
       "  <thead>\n",
       "    <tr style=\"text-align: right;\">\n",
       "      <th></th>\n",
       "      <th>neighborhoods</th>\n",
       "      <th>position_section</th>\n",
       "      <th>tracts</th>\n",
       "      <th>author</th>\n",
       "      <th>body</th>\n",
       "      <th>content_id</th>\n",
       "      <th>hl1</th>\n",
       "      <th>hl2</th>\n",
       "      <th>pub_date</th>\n",
       "      <th>pub_name</th>\n",
       "      <th>link</th>\n",
       "      <th>openai_labels</th>\n",
       "    </tr>\n",
       "  </thead>\n",
       "  <tbody>\n",
       "    <tr>\n",
       "      <th>0</th>\n",
       "      <td>[Fenway]</td>\n",
       "      <td>Education</td>\n",
       "      <td>[010300]</td>\n",
       "      <td>Esteban Bustillos</td>\n",
       "      <td>Thomas White, a senior at Boston Latin School,...</td>\n",
       "      <td>00000175-7583-d779-a575-779f0f6b0001</td>\n",
       "      <td>For High School Athletes, The Pandemic Has Led...</td>\n",
       "      <td>For High School Athletes, The Pandemic Has Led...</td>\n",
       "      <td>2020-11-11 00:00:00</td>\n",
       "      <td>GBH</td>\n",
       "      <td>https://wgbh.org/news/education/2020/11/11/for...</td>\n",
       "      <td>[]</td>\n",
       "    </tr>\n",
       "    <tr>\n",
       "      <th>1</th>\n",
       "      <td>[Downtown, Beacon Hill]</td>\n",
       "      <td>Politics</td>\n",
       "      <td>[981700, 020302]</td>\n",
       "      <td>Mike Deehan</td>\n",
       "      <td>A wave of blue votes could wash over the Massa...</td>\n",
       "      <td>00000175-75fe-d5c8-a775-f7fe5a7f0001</td>\n",
       "      <td>Mass. Republicans Don't Fear Trump-Fueled Blue...</td>\n",
       "      <td>Mass. Republicans Don't Fear Trump-Fueled Blue...</td>\n",
       "      <td>2020-11-03 00:00:00</td>\n",
       "      <td>GBH</td>\n",
       "      <td>https://wgbh.org/news/politics/2020/11/03/mass...</td>\n",
       "      <td>[Elections, Candidates, Decision-making]</td>\n",
       "    </tr>\n",
       "    <tr>\n",
       "      <th>2</th>\n",
       "      <td>[Dorchester, Mattapan]</td>\n",
       "      <td>Politics</td>\n",
       "      <td>[100900, 100700]</td>\n",
       "      <td>Adam Reilly</td>\n",
       "      <td>It’s unlikely Donald Trump will win Massachuse...</td>\n",
       "      <td>00000175-7aad-d944-a9fd-7aed30970002</td>\n",
       "      <td>Trump Won't Win Boston — But He Might Win This...</td>\n",
       "      <td>Trump Won't Win Boston — But He Might Win This...</td>\n",
       "      <td>2020-11-02 00:00:00</td>\n",
       "      <td>GBH</td>\n",
       "      <td>https://wgbh.org/news/politics/2020/11/02/trum...</td>\n",
       "      <td>[]</td>\n",
       "    </tr>\n",
       "    <tr>\n",
       "      <th>3</th>\n",
       "      <td>[Downtown]</td>\n",
       "      <td>News</td>\n",
       "      <td>[030302]</td>\n",
       "      <td>Craig LeMoult</td>\n",
       "      <td>The state Department of Public Health released...</td>\n",
       "      <td>00000175-7b20-d944-a9fd-7be1d4bf0001</td>\n",
       "      <td>Household 'Clusters' Are A Problem In Massachu...</td>\n",
       "      <td>Household 'Clusters' Are A Problem In Massachu...</td>\n",
       "      <td>2020-11-01 00:00:00</td>\n",
       "      <td>GBH</td>\n",
       "      <td>https://wgbh.org/news/local-news/2020/11/01/ho...</td>\n",
       "      <td>[Disease Control, Prevention, Outbreak]</td>\n",
       "    </tr>\n",
       "    <tr>\n",
       "      <th>4</th>\n",
       "      <td>[Jamaica Plain]</td>\n",
       "      <td>Education</td>\n",
       "      <td>[120400]</td>\n",
       "      <td>Kirk Carapezza</td>\n",
       "      <td>A couple of years ago, Daymian Mejia, a senior...</td>\n",
       "      <td>00000175-7b24-d5c8-a775-fb2c49a40001</td>\n",
       "      <td>'A Tint Over Everything': College Students Of ...</td>\n",
       "      <td>'A Tint Over Everything': College Students Of ...</td>\n",
       "      <td>2020-11-10 00:00:00</td>\n",
       "      <td>GBH</td>\n",
       "      <td>https://wgbh.org/news/education/2020/11/10/a-t...</td>\n",
       "      <td>[]</td>\n",
       "    </tr>\n",
       "    <tr>\n",
       "      <th>...</th>\n",
       "      <td>...</td>\n",
       "      <td>...</td>\n",
       "      <td>...</td>\n",
       "      <td>...</td>\n",
       "      <td>...</td>\n",
       "      <td>...</td>\n",
       "      <td>...</td>\n",
       "      <td>...</td>\n",
       "      <td>...</td>\n",
       "      <td>...</td>\n",
       "      <td>...</td>\n",
       "      <td>...</td>\n",
       "    </tr>\n",
       "    <tr>\n",
       "      <th>3018</th>\n",
       "      <td>[Longwood]</td>\n",
       "      <td>News</td>\n",
       "      <td>[081001]</td>\n",
       "      <td>Craig LeMoult</td>\n",
       "      <td>The successful use of messenger RNA to create ...</td>\n",
       "      <td>00000185-4000-d153-afcd-6e55fe180001</td>\n",
       "      <td>Trial is now testing the promise of mRNA techn...</td>\n",
       "      <td>Trial is now testing the promise of mRNA techn...</td>\n",
       "      <td>2023-01-03 00:00:00</td>\n",
       "      <td>GBH</td>\n",
       "      <td>https://wgbh.org/news/local-news/2023/01/03/tr...</td>\n",
       "      <td>[Disease Control, Prevention, Outbreak]</td>\n",
       "    </tr>\n",
       "    <tr>\n",
       "      <th>3019</th>\n",
       "      <td>[Downtown]</td>\n",
       "      <td>News</td>\n",
       "      <td>[070202]</td>\n",
       "      <td>Mackenzie Farkus</td>\n",
       "      <td>Today on Boston Public Radio:We began the show...</td>\n",
       "      <td>00000185-409c-d153-afcd-6edd8ac80001</td>\n",
       "      <td>Boston Public Radio full show: Dec. 23, 2022</td>\n",
       "      <td>Boston Public Radio full show: Dec. 23, 2022</td>\n",
       "      <td>2022-12-23 00:00:00</td>\n",
       "      <td>GBH</td>\n",
       "      <td>https://wgbh.org/news/local-news/2022/12/23/bo...</td>\n",
       "      <td>[Music, Performances, Organizations]</td>\n",
       "    </tr>\n",
       "    <tr>\n",
       "      <th>3020</th>\n",
       "      <td>[Downtown]</td>\n",
       "      <td>News</td>\n",
       "      <td>[030302]</td>\n",
       "      <td>Paul Singer</td>\n",
       "      <td>The holiday presents are unwrapped. So what do...</td>\n",
       "      <td>00000185-5049-d270-adb5-55db13350001</td>\n",
       "      <td>In Boston, last week's wrapping paper cannot b...</td>\n",
       "      <td>In Boston, last week's wrapping paper cannot b...</td>\n",
       "      <td>2022-12-26 00:00:00</td>\n",
       "      <td>GBH</td>\n",
       "      <td>https://wgbh.org/news/local-news/2022/12/26/in...</td>\n",
       "      <td>[Water Quality, Environmental Protection, Wast...</td>\n",
       "    </tr>\n",
       "    <tr>\n",
       "      <th>3021</th>\n",
       "      <td>[East Boston]</td>\n",
       "      <td>News</td>\n",
       "      <td>[981300]</td>\n",
       "      <td>Adam Reilly</td>\n",
       "      <td>Updated at 5:36 p.m. Dec. 27SeparatorThe scene...</td>\n",
       "      <td>00000185-5505-d153-afcd-7f555b950001</td>\n",
       "      <td>At Logan, stymied travelers seethe over Southw...</td>\n",
       "      <td>At Logan, stymied travelers seethe over Southw...</td>\n",
       "      <td>2022-12-27 00:00:00</td>\n",
       "      <td>GBH</td>\n",
       "      <td>https://wgbh.org/news/local-news/2022/12/27/at...</td>\n",
       "      <td>[Airline Industry, Customer Service, Flight]</td>\n",
       "    </tr>\n",
       "    <tr>\n",
       "      <th>3022</th>\n",
       "      <td>[Back Bay, South Boston]</td>\n",
       "      <td>News</td>\n",
       "      <td>[080100, 010600, 010702]</td>\n",
       "      <td>Tori Bedford</td>\n",
       "      <td>As Boston prepares for its annual First Night ...</td>\n",
       "      <td>00000185-5982-d153-afcd-7fd7f34f0001</td>\n",
       "      <td>As First Night Boston celebrations return to r...</td>\n",
       "      <td>As First Night Boston celebrations return to r...</td>\n",
       "      <td>2022-12-28 00:00:00</td>\n",
       "      <td>GBH</td>\n",
       "      <td>https://wgbh.org/news/local-news/2022/12/28/as...</td>\n",
       "      <td>[Disease Control, Prevention, Outbreak]</td>\n",
       "    </tr>\n",
       "  </tbody>\n",
       "</table>\n",
       "<p>3023 rows × 12 columns</p>\n",
       "</div>"
      ],
      "text/plain": [
       "                 neighborhoods position_section                    tracts  \\\n",
       "0                     [Fenway]        Education                  [010300]   \n",
       "1      [Downtown, Beacon Hill]         Politics          [981700, 020302]   \n",
       "2       [Dorchester, Mattapan]         Politics          [100900, 100700]   \n",
       "3                   [Downtown]             News                  [030302]   \n",
       "4              [Jamaica Plain]        Education                  [120400]   \n",
       "...                        ...              ...                       ...   \n",
       "3018                [Longwood]             News                  [081001]   \n",
       "3019                [Downtown]             News                  [070202]   \n",
       "3020                [Downtown]             News                  [030302]   \n",
       "3021             [East Boston]             News                  [981300]   \n",
       "3022  [Back Bay, South Boston]             News  [080100, 010600, 010702]   \n",
       "\n",
       "                 author                                               body  \\\n",
       "0     Esteban Bustillos  Thomas White, a senior at Boston Latin School,...   \n",
       "1           Mike Deehan  A wave of blue votes could wash over the Massa...   \n",
       "2           Adam Reilly  It’s unlikely Donald Trump will win Massachuse...   \n",
       "3         Craig LeMoult  The state Department of Public Health released...   \n",
       "4        Kirk Carapezza  A couple of years ago, Daymian Mejia, a senior...   \n",
       "...                 ...                                                ...   \n",
       "3018      Craig LeMoult  The successful use of messenger RNA to create ...   \n",
       "3019  Mackenzie Farkus   Today on Boston Public Radio:We began the show...   \n",
       "3020        Paul Singer  The holiday presents are unwrapped. So what do...   \n",
       "3021        Adam Reilly  Updated at 5:36 p.m. Dec. 27SeparatorThe scene...   \n",
       "3022       Tori Bedford  As Boston prepares for its annual First Night ...   \n",
       "\n",
       "                                content_id  \\\n",
       "0     00000175-7583-d779-a575-779f0f6b0001   \n",
       "1     00000175-75fe-d5c8-a775-f7fe5a7f0001   \n",
       "2     00000175-7aad-d944-a9fd-7aed30970002   \n",
       "3     00000175-7b20-d944-a9fd-7be1d4bf0001   \n",
       "4     00000175-7b24-d5c8-a775-fb2c49a40001   \n",
       "...                                    ...   \n",
       "3018  00000185-4000-d153-afcd-6e55fe180001   \n",
       "3019  00000185-409c-d153-afcd-6edd8ac80001   \n",
       "3020  00000185-5049-d270-adb5-55db13350001   \n",
       "3021  00000185-5505-d153-afcd-7f555b950001   \n",
       "3022  00000185-5982-d153-afcd-7fd7f34f0001   \n",
       "\n",
       "                                                    hl1  \\\n",
       "0     For High School Athletes, The Pandemic Has Led...   \n",
       "1     Mass. Republicans Don't Fear Trump-Fueled Blue...   \n",
       "2     Trump Won't Win Boston — But He Might Win This...   \n",
       "3     Household 'Clusters' Are A Problem In Massachu...   \n",
       "4     'A Tint Over Everything': College Students Of ...   \n",
       "...                                                 ...   \n",
       "3018  Trial is now testing the promise of mRNA techn...   \n",
       "3019       Boston Public Radio full show: Dec. 23, 2022   \n",
       "3020  In Boston, last week's wrapping paper cannot b...   \n",
       "3021  At Logan, stymied travelers seethe over Southw...   \n",
       "3022  As First Night Boston celebrations return to r...   \n",
       "\n",
       "                                                    hl2             pub_date  \\\n",
       "0     For High School Athletes, The Pandemic Has Led...  2020-11-11 00:00:00   \n",
       "1     Mass. Republicans Don't Fear Trump-Fueled Blue...  2020-11-03 00:00:00   \n",
       "2     Trump Won't Win Boston — But He Might Win This...  2020-11-02 00:00:00   \n",
       "3     Household 'Clusters' Are A Problem In Massachu...  2020-11-01 00:00:00   \n",
       "4     'A Tint Over Everything': College Students Of ...  2020-11-10 00:00:00   \n",
       "...                                                 ...                  ...   \n",
       "3018  Trial is now testing the promise of mRNA techn...  2023-01-03 00:00:00   \n",
       "3019       Boston Public Radio full show: Dec. 23, 2022  2022-12-23 00:00:00   \n",
       "3020  In Boston, last week's wrapping paper cannot b...  2022-12-26 00:00:00   \n",
       "3021  At Logan, stymied travelers seethe over Southw...  2022-12-27 00:00:00   \n",
       "3022  As First Night Boston celebrations return to r...  2022-12-28 00:00:00   \n",
       "\n",
       "     pub_name                                               link  \\\n",
       "0         GBH  https://wgbh.org/news/education/2020/11/11/for...   \n",
       "1         GBH  https://wgbh.org/news/politics/2020/11/03/mass...   \n",
       "2         GBH  https://wgbh.org/news/politics/2020/11/02/trum...   \n",
       "3         GBH  https://wgbh.org/news/local-news/2020/11/01/ho...   \n",
       "4         GBH  https://wgbh.org/news/education/2020/11/10/a-t...   \n",
       "...       ...                                                ...   \n",
       "3018      GBH  https://wgbh.org/news/local-news/2023/01/03/tr...   \n",
       "3019      GBH  https://wgbh.org/news/local-news/2022/12/23/bo...   \n",
       "3020      GBH  https://wgbh.org/news/local-news/2022/12/26/in...   \n",
       "3021      GBH  https://wgbh.org/news/local-news/2022/12/27/at...   \n",
       "3022      GBH  https://wgbh.org/news/local-news/2022/12/28/as...   \n",
       "\n",
       "                                          openai_labels  \n",
       "0                                                    []  \n",
       "1              [Elections, Candidates, Decision-making]  \n",
       "2                                                    []  \n",
       "3               [Disease Control, Prevention, Outbreak]  \n",
       "4                                                    []  \n",
       "...                                                 ...  \n",
       "3018            [Disease Control, Prevention, Outbreak]  \n",
       "3019               [Music, Performances, Organizations]  \n",
       "3020  [Water Quality, Environmental Protection, Wast...  \n",
       "3021       [Airline Industry, Customer Service, Flight]  \n",
       "3022            [Disease Control, Prevention, Outbreak]  \n",
       "\n",
       "[3023 rows x 12 columns]"
      ]
     },
     "execution_count": 11,
     "metadata": {},
     "output_type": "execute_result"
    }
   ],
   "source": [
    "df_articles"
   ]
  },
  {
   "cell_type": "code",
   "execution_count": 12,
   "id": "04f19d9f-e371-412a-b4c9-de996abf696f",
   "metadata": {},
   "outputs": [
    {
     "data": {
      "text/plain": [
       "neighborhoods       object\n",
       "position_section    object\n",
       "tracts              object\n",
       "author              object\n",
       "body                object\n",
       "content_id          object\n",
       "hl1                 object\n",
       "hl2                 object\n",
       "pub_date            object\n",
       "pub_name            object\n",
       "link                object\n",
       "openai_labels       object\n",
       "dtype: object"
      ]
     },
     "execution_count": 12,
     "metadata": {},
     "output_type": "execute_result"
    }
   ],
   "source": [
    "df_articles.dtypes"
   ]
  },
  {
   "cell_type": "markdown",
   "id": "0cfc2fa2-8824-432c-ac5e-33ed4a71f5e4",
   "metadata": {},
   "source": [
    "## Some Statistics on Article Bodies"
   ]
  },
  {
   "cell_type": "code",
   "execution_count": 13,
   "id": "1f743cb0-3405-42cf-acc5-dfb4c1ff0fa4",
   "metadata": {},
   "outputs": [],
   "source": [
    "def getNWordCounts(df_body):\n",
    "    \"\"\"\n",
    "    Get the top counts given a list of strings.\n",
    "    \"\"\"\n",
    "    body_np = df_body.to_numpy()\n",
    "    one_giant_string_of_all_bodies = \"\".join(body_np)\n",
    "    \n",
    "    tokens = word_tokenize(one_giant_string_of_all_bodies)\n",
    "    tokens = [word for word in tokens if word.isalpha()] # Remove punctuation\n",
    "    tokens = [word.lower() for word in tokens]\n",
    "    stop_words = set(stopwords.words('english')) # Remove stuff like and, or, the etc.\n",
    "    tokens = [word for word in tokens if word not in stop_words]\n",
    "    tokens_np = np.array(tokens) # I need them back in np to do some np stuff...\n",
    "    words, count = np.unique(tokens_np, return_counts=True)\n",
    "    \n",
    "    sorted_indices = np.argsort(count)[::-1] # Ascending order...\n",
    "    sorted_words = words[sorted_indices]\n",
    "    sorted_counts = count[sorted_indices]\n",
    "\n",
    "    return sorted_words, sorted_counts\n",
    "    "
   ]
  },
  {
   "cell_type": "markdown",
   "id": "1a641c14-2338-4f3d-acb6-22b81cbb9e0f",
   "metadata": {},
   "source": [
    "## Most Frequent Words Appeared in Different catagories"
   ]
  },
  {
   "cell_type": "code",
   "execution_count": 18,
   "id": "3fe9c324-de9b-41fb-a6b6-d8f72464c0e6",
   "metadata": {},
   "outputs": [],
   "source": [
    "sorted_words_all_body, sorted_counts_all_body = getNWordCounts(df_articles['body'])"
   ]
  },
  {
   "cell_type": "code",
   "execution_count": 24,
   "id": "e5eee518-727f-4cdd-aa00-25dde0e5d1be",
   "metadata": {},
   "outputs": [
    {
     "data": {
      "application/vnd.plotly.v1+json": {
       "config": {
        "plotlyServerURL": "https://plot.ly"
       },
       "data": [
        {
         "type": "bar",
         "x": [
          "said",
          "boston",
          "people",
          "state",
          "city",
          "massachusetts",
          "would",
          "new",
          "also",
          "like",
          "one",
          "public",
          "get",
          "school",
          "think",
          "year",
          "time",
          "health",
          "first",
          "going",
          "really",
          "could",
          "last",
          "gbh",
          "work",
          "know",
          "years",
          "many",
          "police",
          "news"
         ],
         "y": [
          15246,
          8880,
          6490,
          5309,
          4450,
          4420,
          4199,
          4186,
          3973,
          3905,
          3718,
          3581,
          2963,
          2919,
          2801,
          2724,
          2677,
          2664,
          2653,
          2627,
          2507,
          2336,
          2290,
          2265,
          2260,
          2218,
          2193,
          2175,
          2141,
          2124
         ]
        }
       ],
       "layout": {
        "height": 500,
        "template": {
         "data": {
          "bar": [
           {
            "error_x": {
             "color": "#2a3f5f"
            },
            "error_y": {
             "color": "#2a3f5f"
            },
            "marker": {
             "line": {
              "color": "#E5ECF6",
              "width": 0.5
             },
             "pattern": {
              "fillmode": "overlay",
              "size": 10,
              "solidity": 0.2
             }
            },
            "type": "bar"
           }
          ],
          "barpolar": [
           {
            "marker": {
             "line": {
              "color": "#E5ECF6",
              "width": 0.5
             },
             "pattern": {
              "fillmode": "overlay",
              "size": 10,
              "solidity": 0.2
             }
            },
            "type": "barpolar"
           }
          ],
          "carpet": [
           {
            "aaxis": {
             "endlinecolor": "#2a3f5f",
             "gridcolor": "white",
             "linecolor": "white",
             "minorgridcolor": "white",
             "startlinecolor": "#2a3f5f"
            },
            "baxis": {
             "endlinecolor": "#2a3f5f",
             "gridcolor": "white",
             "linecolor": "white",
             "minorgridcolor": "white",
             "startlinecolor": "#2a3f5f"
            },
            "type": "carpet"
           }
          ],
          "choropleth": [
           {
            "colorbar": {
             "outlinewidth": 0,
             "ticks": ""
            },
            "type": "choropleth"
           }
          ],
          "contour": [
           {
            "colorbar": {
             "outlinewidth": 0,
             "ticks": ""
            },
            "colorscale": [
             [
              0,
              "#0d0887"
             ],
             [
              0.1111111111111111,
              "#46039f"
             ],
             [
              0.2222222222222222,
              "#7201a8"
             ],
             [
              0.3333333333333333,
              "#9c179e"
             ],
             [
              0.4444444444444444,
              "#bd3786"
             ],
             [
              0.5555555555555556,
              "#d8576b"
             ],
             [
              0.6666666666666666,
              "#ed7953"
             ],
             [
              0.7777777777777778,
              "#fb9f3a"
             ],
             [
              0.8888888888888888,
              "#fdca26"
             ],
             [
              1,
              "#f0f921"
             ]
            ],
            "type": "contour"
           }
          ],
          "contourcarpet": [
           {
            "colorbar": {
             "outlinewidth": 0,
             "ticks": ""
            },
            "type": "contourcarpet"
           }
          ],
          "heatmap": [
           {
            "colorbar": {
             "outlinewidth": 0,
             "ticks": ""
            },
            "colorscale": [
             [
              0,
              "#0d0887"
             ],
             [
              0.1111111111111111,
              "#46039f"
             ],
             [
              0.2222222222222222,
              "#7201a8"
             ],
             [
              0.3333333333333333,
              "#9c179e"
             ],
             [
              0.4444444444444444,
              "#bd3786"
             ],
             [
              0.5555555555555556,
              "#d8576b"
             ],
             [
              0.6666666666666666,
              "#ed7953"
             ],
             [
              0.7777777777777778,
              "#fb9f3a"
             ],
             [
              0.8888888888888888,
              "#fdca26"
             ],
             [
              1,
              "#f0f921"
             ]
            ],
            "type": "heatmap"
           }
          ],
          "heatmapgl": [
           {
            "colorbar": {
             "outlinewidth": 0,
             "ticks": ""
            },
            "colorscale": [
             [
              0,
              "#0d0887"
             ],
             [
              0.1111111111111111,
              "#46039f"
             ],
             [
              0.2222222222222222,
              "#7201a8"
             ],
             [
              0.3333333333333333,
              "#9c179e"
             ],
             [
              0.4444444444444444,
              "#bd3786"
             ],
             [
              0.5555555555555556,
              "#d8576b"
             ],
             [
              0.6666666666666666,
              "#ed7953"
             ],
             [
              0.7777777777777778,
              "#fb9f3a"
             ],
             [
              0.8888888888888888,
              "#fdca26"
             ],
             [
              1,
              "#f0f921"
             ]
            ],
            "type": "heatmapgl"
           }
          ],
          "histogram": [
           {
            "marker": {
             "pattern": {
              "fillmode": "overlay",
              "size": 10,
              "solidity": 0.2
             }
            },
            "type": "histogram"
           }
          ],
          "histogram2d": [
           {
            "colorbar": {
             "outlinewidth": 0,
             "ticks": ""
            },
            "colorscale": [
             [
              0,
              "#0d0887"
             ],
             [
              0.1111111111111111,
              "#46039f"
             ],
             [
              0.2222222222222222,
              "#7201a8"
             ],
             [
              0.3333333333333333,
              "#9c179e"
             ],
             [
              0.4444444444444444,
              "#bd3786"
             ],
             [
              0.5555555555555556,
              "#d8576b"
             ],
             [
              0.6666666666666666,
              "#ed7953"
             ],
             [
              0.7777777777777778,
              "#fb9f3a"
             ],
             [
              0.8888888888888888,
              "#fdca26"
             ],
             [
              1,
              "#f0f921"
             ]
            ],
            "type": "histogram2d"
           }
          ],
          "histogram2dcontour": [
           {
            "colorbar": {
             "outlinewidth": 0,
             "ticks": ""
            },
            "colorscale": [
             [
              0,
              "#0d0887"
             ],
             [
              0.1111111111111111,
              "#46039f"
             ],
             [
              0.2222222222222222,
              "#7201a8"
             ],
             [
              0.3333333333333333,
              "#9c179e"
             ],
             [
              0.4444444444444444,
              "#bd3786"
             ],
             [
              0.5555555555555556,
              "#d8576b"
             ],
             [
              0.6666666666666666,
              "#ed7953"
             ],
             [
              0.7777777777777778,
              "#fb9f3a"
             ],
             [
              0.8888888888888888,
              "#fdca26"
             ],
             [
              1,
              "#f0f921"
             ]
            ],
            "type": "histogram2dcontour"
           }
          ],
          "mesh3d": [
           {
            "colorbar": {
             "outlinewidth": 0,
             "ticks": ""
            },
            "type": "mesh3d"
           }
          ],
          "parcoords": [
           {
            "line": {
             "colorbar": {
              "outlinewidth": 0,
              "ticks": ""
             }
            },
            "type": "parcoords"
           }
          ],
          "pie": [
           {
            "automargin": true,
            "type": "pie"
           }
          ],
          "scatter": [
           {
            "fillpattern": {
             "fillmode": "overlay",
             "size": 10,
             "solidity": 0.2
            },
            "type": "scatter"
           }
          ],
          "scatter3d": [
           {
            "line": {
             "colorbar": {
              "outlinewidth": 0,
              "ticks": ""
             }
            },
            "marker": {
             "colorbar": {
              "outlinewidth": 0,
              "ticks": ""
             }
            },
            "type": "scatter3d"
           }
          ],
          "scattercarpet": [
           {
            "marker": {
             "colorbar": {
              "outlinewidth": 0,
              "ticks": ""
             }
            },
            "type": "scattercarpet"
           }
          ],
          "scattergeo": [
           {
            "marker": {
             "colorbar": {
              "outlinewidth": 0,
              "ticks": ""
             }
            },
            "type": "scattergeo"
           }
          ],
          "scattergl": [
           {
            "marker": {
             "colorbar": {
              "outlinewidth": 0,
              "ticks": ""
             }
            },
            "type": "scattergl"
           }
          ],
          "scattermapbox": [
           {
            "marker": {
             "colorbar": {
              "outlinewidth": 0,
              "ticks": ""
             }
            },
            "type": "scattermapbox"
           }
          ],
          "scatterpolar": [
           {
            "marker": {
             "colorbar": {
              "outlinewidth": 0,
              "ticks": ""
             }
            },
            "type": "scatterpolar"
           }
          ],
          "scatterpolargl": [
           {
            "marker": {
             "colorbar": {
              "outlinewidth": 0,
              "ticks": ""
             }
            },
            "type": "scatterpolargl"
           }
          ],
          "scatterternary": [
           {
            "marker": {
             "colorbar": {
              "outlinewidth": 0,
              "ticks": ""
             }
            },
            "type": "scatterternary"
           }
          ],
          "surface": [
           {
            "colorbar": {
             "outlinewidth": 0,
             "ticks": ""
            },
            "colorscale": [
             [
              0,
              "#0d0887"
             ],
             [
              0.1111111111111111,
              "#46039f"
             ],
             [
              0.2222222222222222,
              "#7201a8"
             ],
             [
              0.3333333333333333,
              "#9c179e"
             ],
             [
              0.4444444444444444,
              "#bd3786"
             ],
             [
              0.5555555555555556,
              "#d8576b"
             ],
             [
              0.6666666666666666,
              "#ed7953"
             ],
             [
              0.7777777777777778,
              "#fb9f3a"
             ],
             [
              0.8888888888888888,
              "#fdca26"
             ],
             [
              1,
              "#f0f921"
             ]
            ],
            "type": "surface"
           }
          ],
          "table": [
           {
            "cells": {
             "fill": {
              "color": "#EBF0F8"
             },
             "line": {
              "color": "white"
             }
            },
            "header": {
             "fill": {
              "color": "#C8D4E3"
             },
             "line": {
              "color": "white"
             }
            },
            "type": "table"
           }
          ]
         },
         "layout": {
          "annotationdefaults": {
           "arrowcolor": "#2a3f5f",
           "arrowhead": 0,
           "arrowwidth": 1
          },
          "autotypenumbers": "strict",
          "coloraxis": {
           "colorbar": {
            "outlinewidth": 0,
            "ticks": ""
           }
          },
          "colorscale": {
           "diverging": [
            [
             0,
             "#8e0152"
            ],
            [
             0.1,
             "#c51b7d"
            ],
            [
             0.2,
             "#de77ae"
            ],
            [
             0.3,
             "#f1b6da"
            ],
            [
             0.4,
             "#fde0ef"
            ],
            [
             0.5,
             "#f7f7f7"
            ],
            [
             0.6,
             "#e6f5d0"
            ],
            [
             0.7,
             "#b8e186"
            ],
            [
             0.8,
             "#7fbc41"
            ],
            [
             0.9,
             "#4d9221"
            ],
            [
             1,
             "#276419"
            ]
           ],
           "sequential": [
            [
             0,
             "#0d0887"
            ],
            [
             0.1111111111111111,
             "#46039f"
            ],
            [
             0.2222222222222222,
             "#7201a8"
            ],
            [
             0.3333333333333333,
             "#9c179e"
            ],
            [
             0.4444444444444444,
             "#bd3786"
            ],
            [
             0.5555555555555556,
             "#d8576b"
            ],
            [
             0.6666666666666666,
             "#ed7953"
            ],
            [
             0.7777777777777778,
             "#fb9f3a"
            ],
            [
             0.8888888888888888,
             "#fdca26"
            ],
            [
             1,
             "#f0f921"
            ]
           ],
           "sequentialminus": [
            [
             0,
             "#0d0887"
            ],
            [
             0.1111111111111111,
             "#46039f"
            ],
            [
             0.2222222222222222,
             "#7201a8"
            ],
            [
             0.3333333333333333,
             "#9c179e"
            ],
            [
             0.4444444444444444,
             "#bd3786"
            ],
            [
             0.5555555555555556,
             "#d8576b"
            ],
            [
             0.6666666666666666,
             "#ed7953"
            ],
            [
             0.7777777777777778,
             "#fb9f3a"
            ],
            [
             0.8888888888888888,
             "#fdca26"
            ],
            [
             1,
             "#f0f921"
            ]
           ]
          },
          "colorway": [
           "#636efa",
           "#EF553B",
           "#00cc96",
           "#ab63fa",
           "#FFA15A",
           "#19d3f3",
           "#FF6692",
           "#B6E880",
           "#FF97FF",
           "#FECB52"
          ],
          "font": {
           "color": "#2a3f5f"
          },
          "geo": {
           "bgcolor": "white",
           "lakecolor": "white",
           "landcolor": "#E5ECF6",
           "showlakes": true,
           "showland": true,
           "subunitcolor": "white"
          },
          "hoverlabel": {
           "align": "left"
          },
          "hovermode": "closest",
          "mapbox": {
           "style": "light"
          },
          "paper_bgcolor": "white",
          "plot_bgcolor": "#E5ECF6",
          "polar": {
           "angularaxis": {
            "gridcolor": "white",
            "linecolor": "white",
            "ticks": ""
           },
           "bgcolor": "#E5ECF6",
           "radialaxis": {
            "gridcolor": "white",
            "linecolor": "white",
            "ticks": ""
           }
          },
          "scene": {
           "xaxis": {
            "backgroundcolor": "#E5ECF6",
            "gridcolor": "white",
            "gridwidth": 2,
            "linecolor": "white",
            "showbackground": true,
            "ticks": "",
            "zerolinecolor": "white"
           },
           "yaxis": {
            "backgroundcolor": "#E5ECF6",
            "gridcolor": "white",
            "gridwidth": 2,
            "linecolor": "white",
            "showbackground": true,
            "ticks": "",
            "zerolinecolor": "white"
           },
           "zaxis": {
            "backgroundcolor": "#E5ECF6",
            "gridcolor": "white",
            "gridwidth": 2,
            "linecolor": "white",
            "showbackground": true,
            "ticks": "",
            "zerolinecolor": "white"
           }
          },
          "shapedefaults": {
           "line": {
            "color": "#2a3f5f"
           }
          },
          "ternary": {
           "aaxis": {
            "gridcolor": "white",
            "linecolor": "white",
            "ticks": ""
           },
           "baxis": {
            "gridcolor": "white",
            "linecolor": "white",
            "ticks": ""
           },
           "bgcolor": "#E5ECF6",
           "caxis": {
            "gridcolor": "white",
            "linecolor": "white",
            "ticks": ""
           }
          },
          "title": {
           "x": 0.05
          },
          "xaxis": {
           "automargin": true,
           "gridcolor": "white",
           "linecolor": "white",
           "ticks": "",
           "title": {
            "standoff": 15
           },
           "zerolinecolor": "white",
           "zerolinewidth": 2
          },
          "yaxis": {
           "automargin": true,
           "gridcolor": "white",
           "linecolor": "white",
           "ticks": "",
           "title": {
            "standoff": 15
           },
           "zerolinecolor": "white",
           "zerolinewidth": 2
          }
         }
        },
        "title": {
         "text": "Top 30 word counts"
        },
        "width": 900,
        "xaxis": {
         "autorange": true,
         "range": [
          -0.5,
          29.5
         ],
         "title": {
          "text": "Words"
         },
         "type": "category"
        },
        "yaxis": {
         "autorange": true,
         "range": [
          0,
          16048.421052631578
         ],
         "title": {
          "text": "Counts"
         },
         "type": "linear"
        }
       }
      },
      "image/png": "[encoded data removed]",
      "text/html": [
       "<div>                            <div id=\"ba526961-70e3-4c60-9309-292122ced5ff\" class=\"plotly-graph-div\" style=\"height:500px; width:900px;\"></div>            <script type=\"text/javascript\">                require([\"plotly\"], function(Plotly) {                    window.PLOTLYENV=window.PLOTLYENV || {};                                    if (document.getElementById(\"ba526961-70e3-4c60-9309-292122ced5ff\")) {                    Plotly.newPlot(                        \"ba526961-70e3-4c60-9309-292122ced5ff\",                        [{\"x\":[\"said\",\"boston\",\"people\",\"state\",\"city\",\"massachusetts\",\"would\",\"new\",\"also\",\"like\",\"one\",\"public\",\"get\",\"school\",\"think\",\"year\",\"time\",\"health\",\"first\",\"going\",\"really\",\"could\",\"last\",\"gbh\",\"work\",\"know\",\"years\",\"many\",\"police\",\"news\"],\"y\":[15246,8880,6490,5309,4450,4420,4199,4186,3973,3905,3718,3581,2963,2919,2801,2724,2677,2664,2653,2627,2507,2336,2290,2265,2260,2218,2193,2175,2141,2124],\"type\":\"bar\"}],                        {\"template\":{\"data\":{\"histogram2dcontour\":[{\"type\":\"histogram2dcontour\",\"colorbar\":{\"outlinewidth\":0,\"ticks\":\"\"},\"colorscale\":[[0.0,\"#0d0887\"],[0.1111111111111111,\"#46039f\"],[0.2222222222222222,\"#7201a8\"],[0.3333333333333333,\"#9c179e\"],[0.4444444444444444,\"#bd3786\"],[0.5555555555555556,\"#d8576b\"],[0.6666666666666666,\"#ed7953\"],[0.7777777777777778,\"#fb9f3a\"],[0.8888888888888888,\"#fdca26\"],[1.0,\"#f0f921\"]]}],\"choropleth\":[{\"type\":\"choropleth\",\"colorbar\":{\"outlinewidth\":0,\"ticks\":\"\"}}],\"histogram2d\":[{\"type\":\"histogram2d\",\"colorbar\":{\"outlinewidth\":0,\"ticks\":\"\"},\"colorscale\":[[0.0,\"#0d0887\"],[0.1111111111111111,\"#46039f\"],[0.2222222222222222,\"#7201a8\"],[0.3333333333333333,\"#9c179e\"],[0.4444444444444444,\"#bd3786\"],[0.5555555555555556,\"#d8576b\"],[0.6666666666666666,\"#ed7953\"],[0.7777777777777778,\"#fb9f3a\"],[0.8888888888888888,\"#fdca26\"],[1.0,\"#f0f921\"]]}],\"heatmap\":[{\"type\":\"heatmap\",\"colorbar\":{\"outlinewidth\":0,\"ticks\":\"\"},\"colorscale\":[[0.0,\"#0d0887\"],[0.1111111111111111,\"#46039f\"],[0.2222222222222222,\"#7201a8\"],[0.3333333333333333,\"#9c179e\"],[0.4444444444444444,\"#bd3786\"],[0.5555555555555556,\"#d8576b\"],[0.6666666666666666,\"#ed7953\"],[0.7777777777777778,\"#fb9f3a\"],[0.8888888888888888,\"#fdca26\"],[1.0,\"#f0f921\"]]}],\"heatmapgl\":[{\"type\":\"heatmapgl\",\"colorbar\":{\"outlinewidth\":0,\"ticks\":\"\"},\"colorscale\":[[0.0,\"#0d0887\"],[0.1111111111111111,\"#46039f\"],[0.2222222222222222,\"#7201a8\"],[0.3333333333333333,\"#9c179e\"],[0.4444444444444444,\"#bd3786\"],[0.5555555555555556,\"#d8576b\"],[0.6666666666666666,\"#ed7953\"],[0.7777777777777778,\"#fb9f3a\"],[0.8888888888888888,\"#fdca26\"],[1.0,\"#f0f921\"]]}],\"contourcarpet\":[{\"type\":\"contourcarpet\",\"colorbar\":{\"outlinewidth\":0,\"ticks\":\"\"}}],\"contour\":[{\"type\":\"contour\",\"colorbar\":{\"outlinewidth\":0,\"ticks\":\"\"},\"colorscale\":[[0.0,\"#0d0887\"],[0.1111111111111111,\"#46039f\"],[0.2222222222222222,\"#7201a8\"],[0.3333333333333333,\"#9c179e\"],[0.4444444444444444,\"#bd3786\"],[0.5555555555555556,\"#d8576b\"],[0.6666666666666666,\"#ed7953\"],[0.7777777777777778,\"#fb9f3a\"],[0.8888888888888888,\"#fdca26\"],[1.0,\"#f0f921\"]]}],\"surface\":[{\"type\":\"surface\",\"colorbar\":{\"outlinewidth\":0,\"ticks\":\"\"},\"colorscale\":[[0.0,\"#0d0887\"],[0.1111111111111111,\"#46039f\"],[0.2222222222222222,\"#7201a8\"],[0.3333333333333333,\"#9c179e\"],[0.4444444444444444,\"#bd3786\"],[0.5555555555555556,\"#d8576b\"],[0.6666666666666666,\"#ed7953\"],[0.7777777777777778,\"#fb9f3a\"],[0.8888888888888888,\"#fdca26\"],[1.0,\"#f0f921\"]]}],\"mesh3d\":[{\"type\":\"mesh3d\",\"colorbar\":{\"outlinewidth\":0,\"ticks\":\"\"}}],\"scatter\":[{\"fillpattern\":{\"fillmode\":\"overlay\",\"size\":10,\"solidity\":0.2},\"type\":\"scatter\"}],\"parcoords\":[{\"type\":\"parcoords\",\"line\":{\"colorbar\":{\"outlinewidth\":0,\"ticks\":\"\"}}}],\"scatterpolargl\":[{\"type\":\"scatterpolargl\",\"marker\":{\"colorbar\":{\"outlinewidth\":0,\"ticks\":\"\"}}}],\"bar\":[{\"error_x\":{\"color\":\"#2a3f5f\"},\"error_y\":{\"color\":\"#2a3f5f\"},\"marker\":{\"line\":{\"color\":\"#E5ECF6\",\"width\":0.5},\"pattern\":{\"fillmode\":\"overlay\",\"size\":10,\"solidity\":0.2}},\"type\":\"bar\"}],\"scattergeo\":[{\"type\":\"scattergeo\",\"marker\":{\"colorbar\":{\"outlinewidth\":0,\"ticks\":\"\"}}}],\"scatterpolar\":[{\"type\":\"scatterpolar\",\"marker\":{\"colorbar\":{\"outlinewidth\":0,\"ticks\":\"\"}}}],\"histogram\":[{\"marker\":{\"pattern\":{\"fillmode\":\"overlay\",\"size\":10,\"solidity\":0.2}},\"type\":\"histogram\"}],\"scattergl\":[{\"type\":\"scattergl\",\"marker\":{\"colorbar\":{\"outlinewidth\":0,\"ticks\":\"\"}}}],\"scatter3d\":[{\"type\":\"scatter3d\",\"line\":{\"colorbar\":{\"outlinewidth\":0,\"ticks\":\"\"}},\"marker\":{\"colorbar\":{\"outlinewidth\":0,\"ticks\":\"\"}}}],\"scattermapbox\":[{\"type\":\"scattermapbox\",\"marker\":{\"colorbar\":{\"outlinewidth\":0,\"ticks\":\"\"}}}],\"scatterternary\":[{\"type\":\"scatterternary\",\"marker\":{\"colorbar\":{\"outlinewidth\":0,\"ticks\":\"\"}}}],\"scattercarpet\":[{\"type\":\"scattercarpet\",\"marker\":{\"colorbar\":{\"outlinewidth\":0,\"ticks\":\"\"}}}],\"carpet\":[{\"aaxis\":{\"endlinecolor\":\"#2a3f5f\",\"gridcolor\":\"white\",\"linecolor\":\"white\",\"minorgridcolor\":\"white\",\"startlinecolor\":\"#2a3f5f\"},\"baxis\":{\"endlinecolor\":\"#2a3f5f\",\"gridcolor\":\"white\",\"linecolor\":\"white\",\"minorgridcolor\":\"white\",\"startlinecolor\":\"#2a3f5f\"},\"type\":\"carpet\"}],\"table\":[{\"cells\":{\"fill\":{\"color\":\"#EBF0F8\"},\"line\":{\"color\":\"white\"}},\"header\":{\"fill\":{\"color\":\"#C8D4E3\"},\"line\":{\"color\":\"white\"}},\"type\":\"table\"}],\"barpolar\":[{\"marker\":{\"line\":{\"color\":\"#E5ECF6\",\"width\":0.5},\"pattern\":{\"fillmode\":\"overlay\",\"size\":10,\"solidity\":0.2}},\"type\":\"barpolar\"}],\"pie\":[{\"automargin\":true,\"type\":\"pie\"}]},\"layout\":{\"autotypenumbers\":\"strict\",\"colorway\":[\"#636efa\",\"#EF553B\",\"#00cc96\",\"#ab63fa\",\"#FFA15A\",\"#19d3f3\",\"#FF6692\",\"#B6E880\",\"#FF97FF\",\"#FECB52\"],\"font\":{\"color\":\"#2a3f5f\"},\"hovermode\":\"closest\",\"hoverlabel\":{\"align\":\"left\"},\"paper_bgcolor\":\"white\",\"plot_bgcolor\":\"#E5ECF6\",\"polar\":{\"bgcolor\":\"#E5ECF6\",\"angularaxis\":{\"gridcolor\":\"white\",\"linecolor\":\"white\",\"ticks\":\"\"},\"radialaxis\":{\"gridcolor\":\"white\",\"linecolor\":\"white\",\"ticks\":\"\"}},\"ternary\":{\"bgcolor\":\"#E5ECF6\",\"aaxis\":{\"gridcolor\":\"white\",\"linecolor\":\"white\",\"ticks\":\"\"},\"baxis\":{\"gridcolor\":\"white\",\"linecolor\":\"white\",\"ticks\":\"\"},\"caxis\":{\"gridcolor\":\"white\",\"linecolor\":\"white\",\"ticks\":\"\"}},\"coloraxis\":{\"colorbar\":{\"outlinewidth\":0,\"ticks\":\"\"}},\"colorscale\":{\"sequential\":[[0.0,\"#0d0887\"],[0.1111111111111111,\"#46039f\"],[0.2222222222222222,\"#7201a8\"],[0.3333333333333333,\"#9c179e\"],[0.4444444444444444,\"#bd3786\"],[0.5555555555555556,\"#d8576b\"],[0.6666666666666666,\"#ed7953\"],[0.7777777777777778,\"#fb9f3a\"],[0.8888888888888888,\"#fdca26\"],[1.0,\"#f0f921\"]],\"sequentialminus\":[[0.0,\"#0d0887\"],[0.1111111111111111,\"#46039f\"],[0.2222222222222222,\"#7201a8\"],[0.3333333333333333,\"#9c179e\"],[0.4444444444444444,\"#bd3786\"],[0.5555555555555556,\"#d8576b\"],[0.6666666666666666,\"#ed7953\"],[0.7777777777777778,\"#fb9f3a\"],[0.8888888888888888,\"#fdca26\"],[1.0,\"#f0f921\"]],\"diverging\":[[0,\"#8e0152\"],[0.1,\"#c51b7d\"],[0.2,\"#de77ae\"],[0.3,\"#f1b6da\"],[0.4,\"#fde0ef\"],[0.5,\"#f7f7f7\"],[0.6,\"#e6f5d0\"],[0.7,\"#b8e186\"],[0.8,\"#7fbc41\"],[0.9,\"#4d9221\"],[1,\"#276419\"]]},\"xaxis\":{\"gridcolor\":\"white\",\"linecolor\":\"white\",\"ticks\":\"\",\"title\":{\"standoff\":15},\"zerolinecolor\":\"white\",\"automargin\":true,\"zerolinewidth\":2},\"yaxis\":{\"gridcolor\":\"white\",\"linecolor\":\"white\",\"ticks\":\"\",\"title\":{\"standoff\":15},\"zerolinecolor\":\"white\",\"automargin\":true,\"zerolinewidth\":2},\"scene\":{\"xaxis\":{\"backgroundcolor\":\"#E5ECF6\",\"gridcolor\":\"white\",\"linecolor\":\"white\",\"showbackground\":true,\"ticks\":\"\",\"zerolinecolor\":\"white\",\"gridwidth\":2},\"yaxis\":{\"backgroundcolor\":\"#E5ECF6\",\"gridcolor\":\"white\",\"linecolor\":\"white\",\"showbackground\":true,\"ticks\":\"\",\"zerolinecolor\":\"white\",\"gridwidth\":2},\"zaxis\":{\"backgroundcolor\":\"#E5ECF6\",\"gridcolor\":\"white\",\"linecolor\":\"white\",\"showbackground\":true,\"ticks\":\"\",\"zerolinecolor\":\"white\",\"gridwidth\":2}},\"shapedefaults\":{\"line\":{\"color\":\"#2a3f5f\"}},\"annotationdefaults\":{\"arrowcolor\":\"#2a3f5f\",\"arrowhead\":0,\"arrowwidth\":1},\"geo\":{\"bgcolor\":\"white\",\"landcolor\":\"#E5ECF6\",\"subunitcolor\":\"white\",\"showland\":true,\"showlakes\":true,\"lakecolor\":\"white\"},\"title\":{\"x\":0.05},\"mapbox\":{\"style\":\"light\"}}},\"title\":{\"text\":\"Top 30 word counts\"},\"xaxis\":{\"title\":{\"text\":\"Words\"}},\"yaxis\":{\"title\":{\"text\":\"Counts\"}},\"height\":500,\"width\":900},                        {\"responsive\": true}                    ).then(function(){\n",
       "                            \n",
       "var gd = document.getElementById('ba526961-70e3-4c60-9309-292122ced5ff');\n",
       "var x = new MutationObserver(function (mutations, observer) {{\n",
       "        var display = window.getComputedStyle(gd).display;\n",
       "        if (!display || display === 'none') {{\n",
       "            console.log([gd, 'removed!']);\n",
       "            Plotly.purge(gd);\n",
       "            observer.disconnect();\n",
       "        }}\n",
       "}});\n",
       "\n",
       "// Listen for the removal of the full notebook cells\n",
       "var notebookContainer = gd.closest('#notebook-container');\n",
       "if (notebookContainer) {{\n",
       "    x.observe(notebookContainer, {childList: true});\n",
       "}}\n",
       "\n",
       "// Listen for the clearing of the current output cell\n",
       "var outputEl = gd.closest('.output');\n",
       "if (outputEl) {{\n",
       "    x.observe(outputEl, {childList: true});\n",
       "}}\n",
       "\n",
       "                        })                };                });            </script>        </div>"
      ]
     },
     "metadata": {},
     "output_type": "display_data"
    }
   ],
   "source": [
    "# Overall\n",
    "n = 30\n",
    "fig = go.Figure([go.Bar(\n",
    "    x=sorted_words_all_body[:n], \n",
    "    y=sorted_counts_all_body[:n]\n",
    ")])\n",
    "fig.update_layout(\n",
    "    title=f\"Top {n} word counts\", \n",
    "    xaxis_title=\"Words\", \n",
    "    yaxis_title=\"Counts\",\n",
    "    height=500,\n",
    "    width = 900\n",
    ")\n",
    "\n",
    "# Show the figure\n",
    "fig.show()"
   ]
  },
  {
   "cell_type": "markdown",
   "id": "26519aba-3bfe-4082-84a8-e128185cd3bc",
   "metadata": {},
   "source": [
    "Boston is the second most used words over all the bodies (approx. 8880 times)."
   ]
  },
  {
   "cell_type": "code",
   "execution_count": 15,
   "id": "72e472f8-b1a0-4827-876c-4ec305c5aa15",
   "metadata": {},
   "outputs": [
    {
     "data": {
      "text/plain": [
       "array(['Education', 'Politics', 'News', 'Specials', 'Lifestyle', 'Arts',\n",
       "       'Support', 'GBH Events'], dtype=object)"
      ]
     },
     "execution_count": 15,
     "metadata": {},
     "output_type": "execute_result"
    }
   ],
   "source": [
    "df_articles['position_section'].unique()"
   ]
  },
  {
   "cell_type": "markdown",
   "id": "e3facb82-8855-4227-8a0a-5d3fee993863",
   "metadata": {},
   "source": [
    "## Frequent Words per Category"
   ]
  },
  {
   "cell_type": "code",
   "execution_count": 35,
   "id": "bc9f4e20-23eb-4d51-90a4-9c2a4d0bd562",
   "metadata": {},
   "outputs": [
    {
     "data": {
      "application/vnd.plotly.v1+json": {
       "config": {
        "plotlyServerURL": "https://plot.ly"
       },
       "data": [
        {
         "name": "Education",
         "type": "bar",
         "x": [
          "said",
          "school",
          "students",
          "boston",
          "schools",
          "college",
          "state",
          "education",
          "public",
          "like",
          "also",
          "new",
          "would",
          "one",
          "people",
          "year",
          "district",
          "colleges",
          "pandemic",
          "university",
          "think",
          "massachusetts",
          "get",
          "many",
          "health",
          "time",
          "parents",
          "student",
          "going",
          "city"
         ],
         "xaxis": "x",
         "y": [
          1563,
          1108,
          981,
          675,
          550,
          425,
          407,
          393,
          371,
          331,
          331,
          326,
          323,
          310,
          309,
          307,
          279,
          276,
          270,
          259,
          258,
          257,
          234,
          222,
          220,
          218,
          212,
          207,
          206,
          203
         ],
         "yaxis": "y"
        },
        {
         "name": "Politics",
         "type": "bar",
         "x": [
          "said",
          "boston",
          "city",
          "state",
          "would",
          "massachusetts",
          "mayor",
          "baker",
          "people",
          "wu",
          "also",
          "new",
          "public",
          "police",
          "house",
          "one",
          "think",
          "like",
          "council",
          "first",
          "could",
          "former",
          "election",
          "janey",
          "bill",
          "gbh",
          "going",
          "last",
          "office",
          "get"
         ],
         "xaxis": "x2",
         "y": [
          3322,
          2338,
          1799,
          1729,
          1489,
          1206,
          1081,
          1042,
          1032,
          1015,
          945,
          884,
          844,
          787,
          762,
          756,
          721,
          712,
          701,
          648,
          636,
          630,
          621,
          617,
          608,
          595,
          587,
          579,
          574,
          570
         ],
         "yaxis": "y2"
        },
        {
         "name": "News",
         "type": "bar",
         "x": [
          "said",
          "boston",
          "people",
          "state",
          "massachusetts",
          "new",
          "also",
          "like",
          "city",
          "one",
          "public",
          "would",
          "health",
          "get",
          "going",
          "think",
          "really",
          "year",
          "time",
          "first",
          "know",
          "work",
          "last",
          "many",
          "community",
          "could",
          "years",
          "gbh",
          "news",
          "school"
         ],
         "xaxis": "x3",
         "y": [
          9671,
          4739,
          4534,
          2954,
          2757,
          2303,
          2283,
          2243,
          2212,
          2073,
          2062,
          2022,
          1881,
          1847,
          1600,
          1556,
          1547,
          1514,
          1508,
          1489,
          1367,
          1361,
          1335,
          1330,
          1308,
          1305,
          1254,
          1224,
          1214,
          1210
         ],
         "yaxis": "y3"
        },
        {
         "name": "Specials",
         "type": "bar",
         "x": [
          "levasseur",
          "people",
          "said",
          "like",
          "get",
          "julia",
          "voting",
          "able",
          "women",
          "really",
          "year",
          "make",
          "boston",
          "ballot",
          "vote",
          "union",
          "local",
          "work",
          "movement",
          "election",
          "could",
          "pandemic",
          "know",
          "became",
          "polls",
          "right",
          "rights",
          "think",
          "look",
          "going"
         ],
         "xaxis": "x4",
         "y": [
          25,
          20,
          20,
          19,
          18,
          17,
          17,
          13,
          12,
          12,
          12,
          12,
          11,
          11,
          9,
          9,
          9,
          9,
          9,
          9,
          9,
          9,
          9,
          8,
          8,
          8,
          8,
          7,
          7,
          7
         ],
         "yaxis": "y4"
        },
        {
         "name": "Lifestyle",
         "type": "bar",
         "x": [
          "boston",
          "new",
          "one",
          "news",
          "would",
          "people",
          "like",
          "public",
          "black",
          "said",
          "city",
          "year",
          "time",
          "state",
          "school",
          "first",
          "massachusetts",
          "years",
          "many",
          "way",
          "police",
          "last",
          "also",
          "could",
          "media",
          "get",
          "local",
          "us",
          "white",
          "even"
         ],
         "xaxis": "x5",
         "y": [
          407,
          216,
          213,
          207,
          201,
          200,
          186,
          175,
          175,
          173,
          145,
          137,
          127,
          126,
          126,
          124,
          121,
          118,
          112,
          109,
          109,
          108,
          107,
          103,
          102,
          101,
          96,
          95,
          95,
          94
         ],
         "yaxis": "y5"
        },
        {
         "name": "Arts",
         "type": "bar",
         "x": [
          "boston",
          "said",
          "new",
          "music",
          "like",
          "people",
          "bowen",
          "art",
          "one",
          "also",
          "says",
          "work",
          "really",
          "time",
          "first",
          "museum",
          "arts",
          "stage",
          "year",
          "think",
          "jared",
          "artists",
          "theater",
          "get",
          "years",
          "us",
          "artist",
          "world",
          "show",
          "black"
         ],
         "xaxis": "x6",
         "y": [
          689,
          497,
          441,
          439,
          416,
          394,
          372,
          351,
          315,
          293,
          267,
          265,
          254,
          244,
          239,
          233,
          232,
          214,
          204,
          202,
          202,
          199,
          196,
          193,
          189,
          184,
          184,
          181,
          179,
          175
         ],
         "yaxis": "y6"
        },
        {
         "name": "Support",
         "type": "bar",
         "x": [
          "prize",
          "entry",
          "contest",
          "winner",
          "gbh",
          "entries",
          "period",
          "one",
          "time",
          "eligible",
          "including",
          "entrants",
          "april",
          "form",
          "rules",
          "without",
          "use",
          "phone",
          "entering",
          "received",
          "release",
          "drawing",
          "online",
          "members",
          "limited",
          "eastern",
          "awarded",
          "boston",
          "enter",
          "entered"
         ],
         "xaxis": "x7",
         "y": [
          96,
          94,
          65,
          54,
          50,
          46,
          44,
          43,
          36,
          29,
          28,
          28,
          24,
          22,
          22,
          22,
          21,
          21,
          21,
          21,
          21,
          21,
          21,
          21,
          21,
          21,
          19,
          18,
          17,
          16
         ],
         "yaxis": "y7"
        },
        {
         "name": "GBH Events",
         "type": "bar",
         "x": [
          "event",
          "participant",
          "gbh",
          "medical",
          "emergency",
          "including",
          "treatment",
          "race",
          "may",
          "known",
          "staff",
          "entities",
          "waiver",
          "participation",
          "give",
          "limited",
          "grant",
          "provide",
          "attending",
          "understand",
          "liability",
          "contact",
          "acknowledge",
          "run",
          "permission",
          "claims",
          "right",
          "release",
          "parties",
          "risks"
         ],
         "xaxis": "x8",
         "y": [
          32,
          28,
          18,
          14,
          9,
          8,
          8,
          7,
          7,
          6,
          5,
          5,
          5,
          5,
          5,
          4,
          4,
          4,
          4,
          4,
          4,
          4,
          4,
          4,
          4,
          4,
          4,
          3,
          3,
          3
         ],
         "yaxis": "y8"
        }
       ],
       "layout": {
        "autosize": true,
        "template": {
         "data": {
          "bar": [
           {
            "error_x": {
             "color": "#2a3f5f"
            },
            "error_y": {
             "color": "#2a3f5f"
            },
            "marker": {
             "line": {
              "color": "#E5ECF6",
              "width": 0.5
             },
             "pattern": {
              "fillmode": "overlay",
              "size": 10,
              "solidity": 0.2
             }
            },
            "type": "bar"
           }
          ],
          "barpolar": [
           {
            "marker": {
             "line": {
              "color": "#E5ECF6",
              "width": 0.5
             },
             "pattern": {
              "fillmode": "overlay",
              "size": 10,
              "solidity": 0.2
             }
            },
            "type": "barpolar"
           }
          ],
          "carpet": [
           {
            "aaxis": {
             "endlinecolor": "#2a3f5f",
             "gridcolor": "white",
             "linecolor": "white",
             "minorgridcolor": "white",
             "startlinecolor": "#2a3f5f"
            },
            "baxis": {
             "endlinecolor": "#2a3f5f",
             "gridcolor": "white",
             "linecolor": "white",
             "minorgridcolor": "white",
             "startlinecolor": "#2a3f5f"
            },
            "type": "carpet"
           }
          ],
          "choropleth": [
           {
            "colorbar": {
             "outlinewidth": 0,
             "ticks": ""
            },
            "type": "choropleth"
           }
          ],
          "contour": [
           {
            "colorbar": {
             "outlinewidth": 0,
             "ticks": ""
            },
            "colorscale": [
             [
              0,
              "#0d0887"
             ],
             [
              0.1111111111111111,
              "#46039f"
             ],
             [
              0.2222222222222222,
              "#7201a8"
             ],
             [
              0.3333333333333333,
              "#9c179e"
             ],
             [
              0.4444444444444444,
              "#bd3786"
             ],
             [
              0.5555555555555556,
              "#d8576b"
             ],
             [
              0.6666666666666666,
              "#ed7953"
             ],
             [
              0.7777777777777778,
              "#fb9f3a"
             ],
             [
              0.8888888888888888,
              "#fdca26"
             ],
             [
              1,
              "#f0f921"
             ]
            ],
            "type": "contour"
           }
          ],
          "contourcarpet": [
           {
            "colorbar": {
             "outlinewidth": 0,
             "ticks": ""
            },
            "type": "contourcarpet"
           }
          ],
          "heatmap": [
           {
            "colorbar": {
             "outlinewidth": 0,
             "ticks": ""
            },
            "colorscale": [
             [
              0,
              "#0d0887"
             ],
             [
              0.1111111111111111,
              "#46039f"
             ],
             [
              0.2222222222222222,
              "#7201a8"
             ],
             [
              0.3333333333333333,
              "#9c179e"
             ],
             [
              0.4444444444444444,
              "#bd3786"
             ],
             [
              0.5555555555555556,
              "#d8576b"
             ],
             [
              0.6666666666666666,
              "#ed7953"
             ],
             [
              0.7777777777777778,
              "#fb9f3a"
             ],
             [
              0.8888888888888888,
              "#fdca26"
             ],
             [
              1,
              "#f0f921"
             ]
            ],
            "type": "heatmap"
           }
          ],
          "heatmapgl": [
           {
            "colorbar": {
             "outlinewidth": 0,
             "ticks": ""
            },
            "colorscale": [
             [
              0,
              "#0d0887"
             ],
             [
              0.1111111111111111,
              "#46039f"
             ],
             [
              0.2222222222222222,
              "#7201a8"
             ],
             [
              0.3333333333333333,
              "#9c179e"
             ],
             [
              0.4444444444444444,
              "#bd3786"
             ],
             [
              0.5555555555555556,
              "#d8576b"
             ],
             [
              0.6666666666666666,
              "#ed7953"
             ],
             [
              0.7777777777777778,
              "#fb9f3a"
             ],
             [
              0.8888888888888888,
              "#fdca26"
             ],
             [
              1,
              "#f0f921"
             ]
            ],
            "type": "heatmapgl"
           }
          ],
          "histogram": [
           {
            "marker": {
             "pattern": {
              "fillmode": "overlay",
              "size": 10,
              "solidity": 0.2
             }
            },
            "type": "histogram"
           }
          ],
          "histogram2d": [
           {
            "colorbar": {
             "outlinewidth": 0,
             "ticks": ""
            },
            "colorscale": [
             [
              0,
              "#0d0887"
             ],
             [
              0.1111111111111111,
              "#46039f"
             ],
             [
              0.2222222222222222,
              "#7201a8"
             ],
             [
              0.3333333333333333,
              "#9c179e"
             ],
             [
              0.4444444444444444,
              "#bd3786"
             ],
             [
              0.5555555555555556,
              "#d8576b"
             ],
             [
              0.6666666666666666,
              "#ed7953"
             ],
             [
              0.7777777777777778,
              "#fb9f3a"
             ],
             [
              0.8888888888888888,
              "#fdca26"
             ],
             [
              1,
              "#f0f921"
             ]
            ],
            "type": "histogram2d"
           }
          ],
          "histogram2dcontour": [
           {
            "colorbar": {
             "outlinewidth": 0,
             "ticks": ""
            },
            "colorscale": [
             [
              0,
              "#0d0887"
             ],
             [
              0.1111111111111111,
              "#46039f"
             ],
             [
              0.2222222222222222,
              "#7201a8"
             ],
             [
              0.3333333333333333,
              "#9c179e"
             ],
             [
              0.4444444444444444,
              "#bd3786"
             ],
             [
              0.5555555555555556,
              "#d8576b"
             ],
             [
              0.6666666666666666,
              "#ed7953"
             ],
             [
              0.7777777777777778,
              "#fb9f3a"
             ],
             [
              0.8888888888888888,
              "#fdca26"
             ],
             [
              1,
              "#f0f921"
             ]
            ],
            "type": "histogram2dcontour"
           }
          ],
          "mesh3d": [
           {
            "colorbar": {
             "outlinewidth": 0,
             "ticks": ""
            },
            "type": "mesh3d"
           }
          ],
          "parcoords": [
           {
            "line": {
             "colorbar": {
              "outlinewidth": 0,
              "ticks": ""
             }
            },
            "type": "parcoords"
           }
          ],
          "pie": [
           {
            "automargin": true,
            "type": "pie"
           }
          ],
          "scatter": [
           {
            "fillpattern": {
             "fillmode": "overlay",
             "size": 10,
             "solidity": 0.2
            },
            "type": "scatter"
           }
          ],
          "scatter3d": [
           {
            "line": {
             "colorbar": {
              "outlinewidth": 0,
              "ticks": ""
             }
            },
            "marker": {
             "colorbar": {
              "outlinewidth": 0,
              "ticks": ""
             }
            },
            "type": "scatter3d"
           }
          ],
          "scattercarpet": [
           {
            "marker": {
             "colorbar": {
              "outlinewidth": 0,
              "ticks": ""
             }
            },
            "type": "scattercarpet"
           }
          ],
          "scattergeo": [
           {
            "marker": {
             "colorbar": {
              "outlinewidth": 0,
              "ticks": ""
             }
            },
            "type": "scattergeo"
           }
          ],
          "scattergl": [
           {
            "marker": {
             "colorbar": {
              "outlinewidth": 0,
              "ticks": ""
             }
            },
            "type": "scattergl"
           }
          ],
          "scattermapbox": [
           {
            "marker": {
             "colorbar": {
              "outlinewidth": 0,
              "ticks": ""
             }
            },
            "type": "scattermapbox"
           }
          ],
          "scatterpolar": [
           {
            "marker": {
             "colorbar": {
              "outlinewidth": 0,
              "ticks": ""
             }
            },
            "type": "scatterpolar"
           }
          ],
          "scatterpolargl": [
           {
            "marker": {
             "colorbar": {
              "outlinewidth": 0,
              "ticks": ""
             }
            },
            "type": "scatterpolargl"
           }
          ],
          "scatterternary": [
           {
            "marker": {
             "colorbar": {
              "outlinewidth": 0,
              "ticks": ""
             }
            },
            "type": "scatterternary"
           }
          ],
          "surface": [
           {
            "colorbar": {
             "outlinewidth": 0,
             "ticks": ""
            },
            "colorscale": [
             [
              0,
              "#0d0887"
             ],
             [
              0.1111111111111111,
              "#46039f"
             ],
             [
              0.2222222222222222,
              "#7201a8"
             ],
             [
              0.3333333333333333,
              "#9c179e"
             ],
             [
              0.4444444444444444,
              "#bd3786"
             ],
             [
              0.5555555555555556,
              "#d8576b"
             ],
             [
              0.6666666666666666,
              "#ed7953"
             ],
             [
              0.7777777777777778,
              "#fb9f3a"
             ],
             [
              0.8888888888888888,
              "#fdca26"
             ],
             [
              1,
              "#f0f921"
             ]
            ],
            "type": "surface"
           }
          ],
          "table": [
           {
            "cells": {
             "fill": {
              "color": "#EBF0F8"
             },
             "line": {
              "color": "white"
             }
            },
            "header": {
             "fill": {
              "color": "#C8D4E3"
             },
             "line": {
              "color": "white"
             }
            },
            "type": "table"
           }
          ]
         },
         "layout": {
          "annotationdefaults": {
           "arrowcolor": "#2a3f5f",
           "arrowhead": 0,
           "arrowwidth": 1
          },
          "autotypenumbers": "strict",
          "coloraxis": {
           "colorbar": {
            "outlinewidth": 0,
            "ticks": ""
           }
          },
          "colorscale": {
           "diverging": [
            [
             0,
             "#8e0152"
            ],
            [
             0.1,
             "#c51b7d"
            ],
            [
             0.2,
             "#de77ae"
            ],
            [
             0.3,
             "#f1b6da"
            ],
            [
             0.4,
             "#fde0ef"
            ],
            [
             0.5,
             "#f7f7f7"
            ],
            [
             0.6,
             "#e6f5d0"
            ],
            [
             0.7,
             "#b8e186"
            ],
            [
             0.8,
             "#7fbc41"
            ],
            [
             0.9,
             "#4d9221"
            ],
            [
             1,
             "#276419"
            ]
           ],
           "sequential": [
            [
             0,
             "#0d0887"
            ],
            [
             0.1111111111111111,
             "#46039f"
            ],
            [
             0.2222222222222222,
             "#7201a8"
            ],
            [
             0.3333333333333333,
             "#9c179e"
            ],
            [
             0.4444444444444444,
             "#bd3786"
            ],
            [
             0.5555555555555556,
             "#d8576b"
            ],
            [
             0.6666666666666666,
             "#ed7953"
            ],
            [
             0.7777777777777778,
             "#fb9f3a"
            ],
            [
             0.8888888888888888,
             "#fdca26"
            ],
            [
             1,
             "#f0f921"
            ]
           ],
           "sequentialminus": [
            [
             0,
             "#0d0887"
            ],
            [
             0.1111111111111111,
             "#46039f"
            ],
            [
             0.2222222222222222,
             "#7201a8"
            ],
            [
             0.3333333333333333,
             "#9c179e"
            ],
            [
             0.4444444444444444,
             "#bd3786"
            ],
            [
             0.5555555555555556,
             "#d8576b"
            ],
            [
             0.6666666666666666,
             "#ed7953"
            ],
            [
             0.7777777777777778,
             "#fb9f3a"
            ],
            [
             0.8888888888888888,
             "#fdca26"
            ],
            [
             1,
             "#f0f921"
            ]
           ]
          },
          "colorway": [
           "#636efa",
           "#EF553B",
           "#00cc96",
           "#ab63fa",
           "#FFA15A",
           "#19d3f3",
           "#FF6692",
           "#B6E880",
           "#FF97FF",
           "#FECB52"
          ],
          "font": {
           "color": "#2a3f5f"
          },
          "geo": {
           "bgcolor": "white",
           "lakecolor": "white",
           "landcolor": "#E5ECF6",
           "showlakes": true,
           "showland": true,
           "subunitcolor": "white"
          },
          "hoverlabel": {
           "align": "left"
          },
          "hovermode": "closest",
          "mapbox": {
           "style": "light"
          },
          "paper_bgcolor": "white",
          "plot_bgcolor": "#E5ECF6",
          "polar": {
           "angularaxis": {
            "gridcolor": "white",
            "linecolor": "white",
            "ticks": ""
           },
           "bgcolor": "#E5ECF6",
           "radialaxis": {
            "gridcolor": "white",
            "linecolor": "white",
            "ticks": ""
           }
          },
          "scene": {
           "xaxis": {
            "backgroundcolor": "#E5ECF6",
            "gridcolor": "white",
            "gridwidth": 2,
            "linecolor": "white",
            "showbackground": true,
            "ticks": "",
            "zerolinecolor": "white"
           },
           "yaxis": {
            "backgroundcolor": "#E5ECF6",
            "gridcolor": "white",
            "gridwidth": 2,
            "linecolor": "white",
            "showbackground": true,
            "ticks": "",
            "zerolinecolor": "white"
           },
           "zaxis": {
            "backgroundcolor": "#E5ECF6",
            "gridcolor": "white",
            "gridwidth": 2,
            "linecolor": "white",
            "showbackground": true,
            "ticks": "",
            "zerolinecolor": "white"
           }
          },
          "shapedefaults": {
           "line": {
            "color": "#2a3f5f"
           }
          },
          "ternary": {
           "aaxis": {
            "gridcolor": "white",
            "linecolor": "white",
            "ticks": ""
           },
           "baxis": {
            "gridcolor": "white",
            "linecolor": "white",
            "ticks": ""
           },
           "bgcolor": "#E5ECF6",
           "caxis": {
            "gridcolor": "white",
            "linecolor": "white",
            "ticks": ""
           }
          },
          "title": {
           "x": 0.05
          },
          "xaxis": {
           "automargin": true,
           "gridcolor": "white",
           "linecolor": "white",
           "ticks": "",
           "title": {
            "standoff": 15
           },
           "zerolinecolor": "white",
           "zerolinewidth": 2
          },
          "yaxis": {
           "automargin": true,
           "gridcolor": "white",
           "linecolor": "white",
           "ticks": "",
           "title": {
            "standoff": 15
           },
           "zerolinecolor": "white",
           "zerolinewidth": 2
          }
         }
        },
        "title": {
         "text": "Word Count based on Category for top 30 words"
        },
        "xaxis": {
         "anchor": "y",
         "autorange": true,
         "domain": [
          0,
          1
         ],
         "range": [
          -0.5,
          29.5
         ],
         "type": "category"
        },
        "xaxis2": {
         "anchor": "y2",
         "autorange": true,
         "domain": [
          0,
          1
         ],
         "range": [
          -0.5,
          29.5
         ],
         "type": "category"
        },
        "xaxis3": {
         "anchor": "y3",
         "autorange": true,
         "domain": [
          0,
          1
         ],
         "range": [
          -0.5,
          29.5
         ],
         "type": "category"
        },
        "xaxis4": {
         "anchor": "y4",
         "autorange": true,
         "domain": [
          0,
          1
         ],
         "range": [
          -0.5,
          29.5
         ],
         "type": "category"
        },
        "xaxis5": {
         "anchor": "y5",
         "autorange": true,
         "domain": [
          0,
          1
         ],
         "range": [
          -0.5,
          29.5
         ],
         "type": "category"
        },
        "xaxis6": {
         "anchor": "y6",
         "autorange": true,
         "domain": [
          0,
          1
         ],
         "range": [
          -0.5,
          29.5
         ],
         "type": "category"
        },
        "xaxis7": {
         "anchor": "y7",
         "autorange": true,
         "domain": [
          0,
          1
         ],
         "range": [
          -0.5,
          29.5
         ],
         "type": "category"
        },
        "xaxis8": {
         "anchor": "y8",
         "autorange": true,
         "domain": [
          0,
          1
         ],
         "range": [
          -0.5,
          29.5
         ],
         "type": "category"
        },
        "yaxis": {
         "anchor": "x",
         "autorange": true,
         "domain": [
          0.9078124999999999,
          0.9999999999999999
         ],
         "range": [
          0,
          1645.2631578947369
         ],
         "type": "linear"
        },
        "yaxis2": {
         "anchor": "x2",
         "autorange": true,
         "domain": [
          0.778125,
          0.8703124999999999
         ],
         "range": [
          0,
          3496.842105263158
         ],
         "type": "linear"
        },
        "yaxis3": {
         "anchor": "x3",
         "autorange": true,
         "domain": [
          0.6484375,
          0.740625
         ],
         "range": [
          0,
          10180
         ],
         "type": "linear"
        },
        "yaxis4": {
         "anchor": "x4",
         "autorange": true,
         "domain": [
          0.51875,
          0.6109375
         ],
         "range": [
          0,
          26.315789473684212
         ],
         "type": "linear"
        },
        "yaxis5": {
         "anchor": "x5",
         "autorange": true,
         "domain": [
          0.38906250000000003,
          0.48125000000000007
         ],
         "range": [
          0,
          428.42105263157896
         ],
         "type": "linear"
        },
        "yaxis6": {
         "anchor": "x6",
         "autorange": true,
         "domain": [
          0.259375,
          0.3515625
         ],
         "range": [
          0,
          725.2631578947369
         ],
         "type": "linear"
        },
        "yaxis7": {
         "anchor": "x7",
         "autorange": true,
         "domain": [
          0.1296875,
          0.22187500000000002
         ],
         "range": [
          0,
          101.05263157894737
         ],
         "type": "linear"
        },
        "yaxis8": {
         "anchor": "x8",
         "autorange": true,
         "domain": [
          0,
          0.0921875
         ],
         "range": [
          0,
          33.68421052631579
         ],
         "type": "linear"
        }
       }
      },
      "image/png": "[encoded data removed]",
      "text/html": [
       "<div>                            <div id=\"af1f9063-897e-44bc-b6df-3ad5ca3c2fa5\" class=\"plotly-graph-div\" style=\"height:1500px; width:100%;\"></div>            <script type=\"text/javascript\">                require([\"plotly\"], function(Plotly) {                    window.PLOTLYENV=window.PLOTLYENV || {};                                    if (document.getElementById(\"af1f9063-897e-44bc-b6df-3ad5ca3c2fa5\")) {                    Plotly.newPlot(                        \"af1f9063-897e-44bc-b6df-3ad5ca3c2fa5\",                        [{\"name\":\"Education\",\"x\":[\"said\",\"school\",\"students\",\"boston\",\"schools\",\"college\",\"state\",\"education\",\"public\",\"like\",\"also\",\"new\",\"would\",\"one\",\"people\",\"year\",\"district\",\"colleges\",\"pandemic\",\"university\",\"think\",\"massachusetts\",\"get\",\"many\",\"health\",\"time\",\"parents\",\"student\",\"going\",\"city\"],\"y\":[1563,1108,981,675,550,425,407,393,371,331,331,326,323,310,309,307,279,276,270,259,258,257,234,222,220,218,212,207,206,203],\"type\":\"bar\",\"xaxis\":\"x\",\"yaxis\":\"y\"},{\"name\":\"Politics\",\"x\":[\"said\",\"boston\",\"city\",\"state\",\"would\",\"massachusetts\",\"mayor\",\"baker\",\"people\",\"wu\",\"also\",\"new\",\"public\",\"police\",\"house\",\"one\",\"think\",\"like\",\"council\",\"first\",\"could\",\"former\",\"election\",\"janey\",\"bill\",\"gbh\",\"going\",\"last\",\"office\",\"get\"],\"y\":[3322,2338,1799,1729,1489,1206,1081,1042,1032,1015,945,884,844,787,762,756,721,712,701,648,636,630,621,617,608,595,587,579,574,570],\"type\":\"bar\",\"xaxis\":\"x2\",\"yaxis\":\"y2\"},{\"name\":\"News\",\"x\":[\"said\",\"boston\",\"people\",\"state\",\"massachusetts\",\"new\",\"also\",\"like\",\"city\",\"one\",\"public\",\"would\",\"health\",\"get\",\"going\",\"think\",\"really\",\"year\",\"time\",\"first\",\"know\",\"work\",\"last\",\"many\",\"community\",\"could\",\"years\",\"gbh\",\"news\",\"school\"],\"y\":[9671,4739,4534,2954,2757,2303,2283,2243,2212,2073,2062,2022,1881,1847,1600,1556,1547,1514,1508,1489,1367,1361,1335,1330,1308,1305,1254,1224,1214,1210],\"type\":\"bar\",\"xaxis\":\"x3\",\"yaxis\":\"y3\"},{\"name\":\"Specials\",\"x\":[\"levasseur\",\"people\",\"said\",\"like\",\"get\",\"julia\",\"voting\",\"able\",\"women\",\"really\",\"year\",\"make\",\"boston\",\"ballot\",\"vote\",\"union\",\"local\",\"work\",\"movement\",\"election\",\"could\",\"pandemic\",\"know\",\"became\",\"polls\",\"right\",\"rights\",\"think\",\"look\",\"going\"],\"y\":[25,20,20,19,18,17,17,13,12,12,12,12,11,11,9,9,9,9,9,9,9,9,9,8,8,8,8,7,7,7],\"type\":\"bar\",\"xaxis\":\"x4\",\"yaxis\":\"y4\"},{\"name\":\"Lifestyle\",\"x\":[\"boston\",\"new\",\"one\",\"news\",\"would\",\"people\",\"like\",\"public\",\"black\",\"said\",\"city\",\"year\",\"time\",\"state\",\"school\",\"first\",\"massachusetts\",\"years\",\"many\",\"way\",\"police\",\"last\",\"also\",\"could\",\"media\",\"get\",\"local\",\"us\",\"white\",\"even\"],\"y\":[407,216,213,207,201,200,186,175,175,173,145,137,127,126,126,124,121,118,112,109,109,108,107,103,102,101,96,95,95,94],\"type\":\"bar\",\"xaxis\":\"x5\",\"yaxis\":\"y5\"},{\"name\":\"Arts\",\"x\":[\"boston\",\"said\",\"new\",\"music\",\"like\",\"people\",\"bowen\",\"art\",\"one\",\"also\",\"says\",\"work\",\"really\",\"time\",\"first\",\"museum\",\"arts\",\"stage\",\"year\",\"think\",\"jared\",\"artists\",\"theater\",\"get\",\"years\",\"us\",\"artist\",\"world\",\"show\",\"black\"],\"y\":[689,497,441,439,416,394,372,351,315,293,267,265,254,244,239,233,232,214,204,202,202,199,196,193,189,184,184,181,179,175],\"type\":\"bar\",\"xaxis\":\"x6\",\"yaxis\":\"y6\"},{\"name\":\"Support\",\"x\":[\"prize\",\"entry\",\"contest\",\"winner\",\"gbh\",\"entries\",\"period\",\"one\",\"time\",\"eligible\",\"including\",\"entrants\",\"april\",\"form\",\"rules\",\"without\",\"use\",\"phone\",\"entering\",\"received\",\"release\",\"drawing\",\"online\",\"members\",\"limited\",\"eastern\",\"awarded\",\"boston\",\"enter\",\"entered\"],\"y\":[96,94,65,54,50,46,44,43,36,29,28,28,24,22,22,22,21,21,21,21,21,21,21,21,21,21,19,18,17,16],\"type\":\"bar\",\"xaxis\":\"x7\",\"yaxis\":\"y7\"},{\"name\":\"GBH Events\",\"x\":[\"event\",\"participant\",\"gbh\",\"medical\",\"emergency\",\"including\",\"treatment\",\"race\",\"may\",\"known\",\"staff\",\"entities\",\"waiver\",\"participation\",\"give\",\"limited\",\"grant\",\"provide\",\"attending\",\"understand\",\"liability\",\"contact\",\"acknowledge\",\"run\",\"permission\",\"claims\",\"right\",\"release\",\"parties\",\"risks\"],\"y\":[32,28,18,14,9,8,8,7,7,6,5,5,5,5,5,4,4,4,4,4,4,4,4,4,4,4,4,3,3,3],\"type\":\"bar\",\"xaxis\":\"x8\",\"yaxis\":\"y8\"}],                        {\"template\":{\"data\":{\"histogram2dcontour\":[{\"type\":\"histogram2dcontour\",\"colorbar\":{\"outlinewidth\":0,\"ticks\":\"\"},\"colorscale\":[[0.0,\"#0d0887\"],[0.1111111111111111,\"#46039f\"],[0.2222222222222222,\"#7201a8\"],[0.3333333333333333,\"#9c179e\"],[0.4444444444444444,\"#bd3786\"],[0.5555555555555556,\"#d8576b\"],[0.6666666666666666,\"#ed7953\"],[0.7777777777777778,\"#fb9f3a\"],[0.8888888888888888,\"#fdca26\"],[1.0,\"#f0f921\"]]}],\"choropleth\":[{\"type\":\"choropleth\",\"colorbar\":{\"outlinewidth\":0,\"ticks\":\"\"}}],\"histogram2d\":[{\"type\":\"histogram2d\",\"colorbar\":{\"outlinewidth\":0,\"ticks\":\"\"},\"colorscale\":[[0.0,\"#0d0887\"],[0.1111111111111111,\"#46039f\"],[0.2222222222222222,\"#7201a8\"],[0.3333333333333333,\"#9c179e\"],[0.4444444444444444,\"#bd3786\"],[0.5555555555555556,\"#d8576b\"],[0.6666666666666666,\"#ed7953\"],[0.7777777777777778,\"#fb9f3a\"],[0.8888888888888888,\"#fdca26\"],[1.0,\"#f0f921\"]]}],\"heatmap\":[{\"type\":\"heatmap\",\"colorbar\":{\"outlinewidth\":0,\"ticks\":\"\"},\"colorscale\":[[0.0,\"#0d0887\"],[0.1111111111111111,\"#46039f\"],[0.2222222222222222,\"#7201a8\"],[0.3333333333333333,\"#9c179e\"],[0.4444444444444444,\"#bd3786\"],[0.5555555555555556,\"#d8576b\"],[0.6666666666666666,\"#ed7953\"],[0.7777777777777778,\"#fb9f3a\"],[0.8888888888888888,\"#fdca26\"],[1.0,\"#f0f921\"]]}],\"heatmapgl\":[{\"type\":\"heatmapgl\",\"colorbar\":{\"outlinewidth\":0,\"ticks\":\"\"},\"colorscale\":[[0.0,\"#0d0887\"],[0.1111111111111111,\"#46039f\"],[0.2222222222222222,\"#7201a8\"],[0.3333333333333333,\"#9c179e\"],[0.4444444444444444,\"#bd3786\"],[0.5555555555555556,\"#d8576b\"],[0.6666666666666666,\"#ed7953\"],[0.7777777777777778,\"#fb9f3a\"],[0.8888888888888888,\"#fdca26\"],[1.0,\"#f0f921\"]]}],\"contourcarpet\":[{\"type\":\"contourcarpet\",\"colorbar\":{\"outlinewidth\":0,\"ticks\":\"\"}}],\"contour\":[{\"type\":\"contour\",\"colorbar\":{\"outlinewidth\":0,\"ticks\":\"\"},\"colorscale\":[[0.0,\"#0d0887\"],[0.1111111111111111,\"#46039f\"],[0.2222222222222222,\"#7201a8\"],[0.3333333333333333,\"#9c179e\"],[0.4444444444444444,\"#bd3786\"],[0.5555555555555556,\"#d8576b\"],[0.6666666666666666,\"#ed7953\"],[0.7777777777777778,\"#fb9f3a\"],[0.8888888888888888,\"#fdca26\"],[1.0,\"#f0f921\"]]}],\"surface\":[{\"type\":\"surface\",\"colorbar\":{\"outlinewidth\":0,\"ticks\":\"\"},\"colorscale\":[[0.0,\"#0d0887\"],[0.1111111111111111,\"#46039f\"],[0.2222222222222222,\"#7201a8\"],[0.3333333333333333,\"#9c179e\"],[0.4444444444444444,\"#bd3786\"],[0.5555555555555556,\"#d8576b\"],[0.6666666666666666,\"#ed7953\"],[0.7777777777777778,\"#fb9f3a\"],[0.8888888888888888,\"#fdca26\"],[1.0,\"#f0f921\"]]}],\"mesh3d\":[{\"type\":\"mesh3d\",\"colorbar\":{\"outlinewidth\":0,\"ticks\":\"\"}}],\"scatter\":[{\"fillpattern\":{\"fillmode\":\"overlay\",\"size\":10,\"solidity\":0.2},\"type\":\"scatter\"}],\"parcoords\":[{\"type\":\"parcoords\",\"line\":{\"colorbar\":{\"outlinewidth\":0,\"ticks\":\"\"}}}],\"scatterpolargl\":[{\"type\":\"scatterpolargl\",\"marker\":{\"colorbar\":{\"outlinewidth\":0,\"ticks\":\"\"}}}],\"bar\":[{\"error_x\":{\"color\":\"#2a3f5f\"},\"error_y\":{\"color\":\"#2a3f5f\"},\"marker\":{\"line\":{\"color\":\"#E5ECF6\",\"width\":0.5},\"pattern\":{\"fillmode\":\"overlay\",\"size\":10,\"solidity\":0.2}},\"type\":\"bar\"}],\"scattergeo\":[{\"type\":\"scattergeo\",\"marker\":{\"colorbar\":{\"outlinewidth\":0,\"ticks\":\"\"}}}],\"scatterpolar\":[{\"type\":\"scatterpolar\",\"marker\":{\"colorbar\":{\"outlinewidth\":0,\"ticks\":\"\"}}}],\"histogram\":[{\"marker\":{\"pattern\":{\"fillmode\":\"overlay\",\"size\":10,\"solidity\":0.2}},\"type\":\"histogram\"}],\"scattergl\":[{\"type\":\"scattergl\",\"marker\":{\"colorbar\":{\"outlinewidth\":0,\"ticks\":\"\"}}}],\"scatter3d\":[{\"type\":\"scatter3d\",\"line\":{\"colorbar\":{\"outlinewidth\":0,\"ticks\":\"\"}},\"marker\":{\"colorbar\":{\"outlinewidth\":0,\"ticks\":\"\"}}}],\"scattermapbox\":[{\"type\":\"scattermapbox\",\"marker\":{\"colorbar\":{\"outlinewidth\":0,\"ticks\":\"\"}}}],\"scatterternary\":[{\"type\":\"scatterternary\",\"marker\":{\"colorbar\":{\"outlinewidth\":0,\"ticks\":\"\"}}}],\"scattercarpet\":[{\"type\":\"scattercarpet\",\"marker\":{\"colorbar\":{\"outlinewidth\":0,\"ticks\":\"\"}}}],\"carpet\":[{\"aaxis\":{\"endlinecolor\":\"#2a3f5f\",\"gridcolor\":\"white\",\"linecolor\":\"white\",\"minorgridcolor\":\"white\",\"startlinecolor\":\"#2a3f5f\"},\"baxis\":{\"endlinecolor\":\"#2a3f5f\",\"gridcolor\":\"white\",\"linecolor\":\"white\",\"minorgridcolor\":\"white\",\"startlinecolor\":\"#2a3f5f\"},\"type\":\"carpet\"}],\"table\":[{\"cells\":{\"fill\":{\"color\":\"#EBF0F8\"},\"line\":{\"color\":\"white\"}},\"header\":{\"fill\":{\"color\":\"#C8D4E3\"},\"line\":{\"color\":\"white\"}},\"type\":\"table\"}],\"barpolar\":[{\"marker\":{\"line\":{\"color\":\"#E5ECF6\",\"width\":0.5},\"pattern\":{\"fillmode\":\"overlay\",\"size\":10,\"solidity\":0.2}},\"type\":\"barpolar\"}],\"pie\":[{\"automargin\":true,\"type\":\"pie\"}]},\"layout\":{\"autotypenumbers\":\"strict\",\"colorway\":[\"#636efa\",\"#EF553B\",\"#00cc96\",\"#ab63fa\",\"#FFA15A\",\"#19d3f3\",\"#FF6692\",\"#B6E880\",\"#FF97FF\",\"#FECB52\"],\"font\":{\"color\":\"#2a3f5f\"},\"hovermode\":\"closest\",\"hoverlabel\":{\"align\":\"left\"},\"paper_bgcolor\":\"white\",\"plot_bgcolor\":\"#E5ECF6\",\"polar\":{\"bgcolor\":\"#E5ECF6\",\"angularaxis\":{\"gridcolor\":\"white\",\"linecolor\":\"white\",\"ticks\":\"\"},\"radialaxis\":{\"gridcolor\":\"white\",\"linecolor\":\"white\",\"ticks\":\"\"}},\"ternary\":{\"bgcolor\":\"#E5ECF6\",\"aaxis\":{\"gridcolor\":\"white\",\"linecolor\":\"white\",\"ticks\":\"\"},\"baxis\":{\"gridcolor\":\"white\",\"linecolor\":\"white\",\"ticks\":\"\"},\"caxis\":{\"gridcolor\":\"white\",\"linecolor\":\"white\",\"ticks\":\"\"}},\"coloraxis\":{\"colorbar\":{\"outlinewidth\":0,\"ticks\":\"\"}},\"colorscale\":{\"sequential\":[[0.0,\"#0d0887\"],[0.1111111111111111,\"#46039f\"],[0.2222222222222222,\"#7201a8\"],[0.3333333333333333,\"#9c179e\"],[0.4444444444444444,\"#bd3786\"],[0.5555555555555556,\"#d8576b\"],[0.6666666666666666,\"#ed7953\"],[0.7777777777777778,\"#fb9f3a\"],[0.8888888888888888,\"#fdca26\"],[1.0,\"#f0f921\"]],\"sequentialminus\":[[0.0,\"#0d0887\"],[0.1111111111111111,\"#46039f\"],[0.2222222222222222,\"#7201a8\"],[0.3333333333333333,\"#9c179e\"],[0.4444444444444444,\"#bd3786\"],[0.5555555555555556,\"#d8576b\"],[0.6666666666666666,\"#ed7953\"],[0.7777777777777778,\"#fb9f3a\"],[0.8888888888888888,\"#fdca26\"],[1.0,\"#f0f921\"]],\"diverging\":[[0,\"#8e0152\"],[0.1,\"#c51b7d\"],[0.2,\"#de77ae\"],[0.3,\"#f1b6da\"],[0.4,\"#fde0ef\"],[0.5,\"#f7f7f7\"],[0.6,\"#e6f5d0\"],[0.7,\"#b8e186\"],[0.8,\"#7fbc41\"],[0.9,\"#4d9221\"],[1,\"#276419\"]]},\"xaxis\":{\"gridcolor\":\"white\",\"linecolor\":\"white\",\"ticks\":\"\",\"title\":{\"standoff\":15},\"zerolinecolor\":\"white\",\"automargin\":true,\"zerolinewidth\":2},\"yaxis\":{\"gridcolor\":\"white\",\"linecolor\":\"white\",\"ticks\":\"\",\"title\":{\"standoff\":15},\"zerolinecolor\":\"white\",\"automargin\":true,\"zerolinewidth\":2},\"scene\":{\"xaxis\":{\"backgroundcolor\":\"#E5ECF6\",\"gridcolor\":\"white\",\"linecolor\":\"white\",\"showbackground\":true,\"ticks\":\"\",\"zerolinecolor\":\"white\",\"gridwidth\":2},\"yaxis\":{\"backgroundcolor\":\"#E5ECF6\",\"gridcolor\":\"white\",\"linecolor\":\"white\",\"showbackground\":true,\"ticks\":\"\",\"zerolinecolor\":\"white\",\"gridwidth\":2},\"zaxis\":{\"backgroundcolor\":\"#E5ECF6\",\"gridcolor\":\"white\",\"linecolor\":\"white\",\"showbackground\":true,\"ticks\":\"\",\"zerolinecolor\":\"white\",\"gridwidth\":2}},\"shapedefaults\":{\"line\":{\"color\":\"#2a3f5f\"}},\"annotationdefaults\":{\"arrowcolor\":\"#2a3f5f\",\"arrowhead\":0,\"arrowwidth\":1},\"geo\":{\"bgcolor\":\"white\",\"landcolor\":\"#E5ECF6\",\"subunitcolor\":\"white\",\"showland\":true,\"showlakes\":true,\"lakecolor\":\"white\"},\"title\":{\"x\":0.05},\"mapbox\":{\"style\":\"light\"}}},\"xaxis\":{\"anchor\":\"y\",\"domain\":[0.0,1.0]},\"yaxis\":{\"anchor\":\"x\",\"domain\":[0.9078124999999999,0.9999999999999999]},\"xaxis2\":{\"anchor\":\"y2\",\"domain\":[0.0,1.0]},\"yaxis2\":{\"anchor\":\"x2\",\"domain\":[0.778125,0.8703124999999999]},\"xaxis3\":{\"anchor\":\"y3\",\"domain\":[0.0,1.0]},\"yaxis3\":{\"anchor\":\"x3\",\"domain\":[0.6484375,0.740625]},\"xaxis4\":{\"anchor\":\"y4\",\"domain\":[0.0,1.0]},\"yaxis4\":{\"anchor\":\"x4\",\"domain\":[0.51875,0.6109375]},\"xaxis5\":{\"anchor\":\"y5\",\"domain\":[0.0,1.0]},\"yaxis5\":{\"anchor\":\"x5\",\"domain\":[0.38906250000000003,0.48125000000000007]},\"xaxis6\":{\"anchor\":\"y6\",\"domain\":[0.0,1.0]},\"yaxis6\":{\"anchor\":\"x6\",\"domain\":[0.259375,0.3515625]},\"xaxis7\":{\"anchor\":\"y7\",\"domain\":[0.0,1.0]},\"yaxis7\":{\"anchor\":\"x7\",\"domain\":[0.1296875,0.22187500000000002]},\"xaxis8\":{\"anchor\":\"y8\",\"domain\":[0.0,1.0]},\"yaxis8\":{\"anchor\":\"x8\",\"domain\":[0.0,0.0921875]},\"title\":{\"text\":\"Word Count based on Category for top 30 words\"},\"height\":1500},                        {\"responsive\": true}                    ).then(function(){\n",
       "                            \n",
       "var gd = document.getElementById('af1f9063-897e-44bc-b6df-3ad5ca3c2fa5');\n",
       "var x = new MutationObserver(function (mutations, observer) {{\n",
       "        var display = window.getComputedStyle(gd).display;\n",
       "        if (!display || display === 'none') {{\n",
       "            console.log([gd, 'removed!']);\n",
       "            Plotly.purge(gd);\n",
       "            observer.disconnect();\n",
       "        }}\n",
       "}});\n",
       "\n",
       "// Listen for the removal of the full notebook cells\n",
       "var notebookContainer = gd.closest('#notebook-container');\n",
       "if (notebookContainer) {{\n",
       "    x.observe(notebookContainer, {childList: true});\n",
       "}}\n",
       "\n",
       "// Listen for the clearing of the current output cell\n",
       "var outputEl = gd.closest('.output');\n",
       "if (outputEl) {{\n",
       "    x.observe(outputEl, {childList: true});\n",
       "}}\n",
       "\n",
       "                        })                };                });            </script>        </div>"
      ]
     },
     "metadata": {},
     "output_type": "display_data"
    }
   ],
   "source": [
    "from plotly.subplots import make_subplots\n",
    "\n",
    "unique_cats = df_articles['position_section'].unique()\n",
    "fig = make_subplots(\n",
    "    rows=len(unique_cats), \n",
    "    cols=1\n",
    ")\n",
    "row = 1\n",
    "n = 30\n",
    "\n",
    "for category in unique_cats:\n",
    "    df_cat = df_articles[df_articles['position_section'] == category]['body']\n",
    "    sorted_words, sorted_counts = getNWordCounts(df_cat)\n",
    "    \n",
    "    \n",
    "    # Add the first bar chart to the first subplot\n",
    "    fig.add_trace(\n",
    "        go.Bar(\n",
    "            x=sorted_words[:n], \n",
    "            y=sorted_counts[:n], \n",
    "            name=f'{category}'),\n",
    "            row=row, \n",
    "            col=1\n",
    "    )\n",
    "    \n",
    "    row += 1\n",
    "    \n",
    "    fig.update_layout(\n",
    "        title_text=f\"Word Count based on Category for top {n} words\",\n",
    "        height=1500\n",
    "    )\n",
    "    \n",
    "fig.show()\n",
    "    "
   ]
  },
  {
   "cell_type": "markdown",
   "id": "fff9be72-7689-4f71-9611-8b2e9b6033a2",
   "metadata": {},
   "source": [
    "## Sentence Context with Boston"
   ]
  },
  {
   "cell_type": "code",
   "execution_count": 36,
   "id": "b30b924c-709c-46d9-8edb-8bb58803bd38",
   "metadata": {},
   "outputs": [],
   "source": [
    "body_np = df_articles['body'].to_numpy()\n",
    "one_giant_string_of_all_bodies = \"\".join(body_np)"
   ]
  },
  {
   "cell_type": "code",
   "execution_count": 40,
   "id": "941fd7e1-bc96-4f30-b738-caee7892661a",
   "metadata": {},
   "outputs": [],
   "source": [
    "def split_by_sentence_stoppers(s):\n",
    "    # Split by !, ?, ;, and . but also handle cases with spaces following these punctuation marks\n",
    "    return [phrase.strip() for phrase in re.split(r'[!?.;]\\s*', s) if phrase]\n",
    "    \n",
    "arr_sentences = split_by_sentence_stoppers(one_giant_string_of_all_bodies)"
   ]
  },
  {
   "cell_type": "code",
   "execution_count": 43,
   "id": "513a4de8-0b64-4342-8f53-2e3a99924e67",
   "metadata": {},
   "outputs": [
    {
     "name": "stdout",
     "output_type": "stream",
     "text": [
      "['Thomas White, a senior at Boston Latin School, is like a lot of high school athletes', 'A cross country runner, he trained hard all summer in hopes a season would happen', 'And, to his surprise, it did', \"But it wasn't without restrictions\", '“The state … didn’t really know what was safe or not safe', 'So everything kept getting pushed back,\" said White\\'s coach, Chris Blondin', '\"And we were just praying that it wouldn’t end up like the spring season where it outright got cancelled', 'So the fact that we even have a season at all is just a blessing', '”But then, in the last week of October, Boston Public Schools postponed the few athletic activities it was allowing, essentially killing the BLS season', \"It's just one example of the dark hole that high school sports have been thrown into during the pandemic\"]\n"
     ]
    }
   ],
   "source": [
    "print(arr_sentences[:10])"
   ]
  },
  {
   "cell_type": "code",
   "execution_count": 48,
   "id": "e2d67c52-2dbe-4727-8590-9de4bb5f4f0a",
   "metadata": {},
   "outputs": [],
   "source": [
    "arr_sentences_boston = []\n",
    "\n",
    "for sentence in arr_sentences:\n",
    "    if ('Boston' in sentence or 'boston' in sentence):\n",
    "        arr_sentences_boston.append(sentence)\n"
   ]
  },
  {
   "cell_type": "code",
   "execution_count": 50,
   "id": "ffa5966b-2364-4175-83be-f7f0fa1d2c25",
   "metadata": {},
   "outputs": [
    {
     "name": "stdout",
     "output_type": "stream",
     "text": [
      "['Thomas White, a senior at Boston Latin School, is like a lot of high school athletes', '”But then, in the last week of October, Boston Public Schools postponed the few athletic activities it was allowing, essentially killing the BLS season', 'It’s unlikely Donald Trump will win Massachusetts this week, and even more unlikely likely he’ll win Boston, where Hillary Clinton got 81 percent of the vote in 2016', 'Maureen Feeney, the former Boston City Councilor and current city clerk, has lived in the area in question — Ward 16, Precinct 12 — for half a century', '(On a map of Boston, it’s the city’s southeastern tip, right across the Neponset River from Quincy and Milton', '” If you’re an outsider and visit 16-12, you’ll probably notice Florian Hall, the headquarters for the Boston Firefighters Union', \"Florian Hall, the headquarters of the Boston firefighter's union (side view)You might not see a single 'Donald Trump for President' sign\", '“[Trump] didn’t win a single precinct in Boston, but he came damn close in 16-12,” said Yawu Miller, the senior editor of the Bay State Banner', '”Every election cycle, Miller studies Boston’s election returns, looking for unusual results', '”Larry DiCara, the former Boston City Councilor and mayoral candidate, says that outcome — and Trump’s strong performance two years earlier — may reflect the fact that 16-12 is packed with residents who work in public safety', \"A homemade sign supporting police on Whitridge Street in Boston's Ward 16, Precinct 12“It’s a neighborhood with a high percentage of people who are police and fire, and police have strongly supported Donald Trump,” DiCara said\", '”ModuleNow, as affluent newcomers gentrify Boston, 16-12 has ceased to be representative', 'High, or Mary’s going to graduate from UMass Boston, or whatever the case might be', '“People used to say people would vote primarily on ethnicity in Boston, next on neighborhood — they’d vote for somebody from the neighborhood regardless of their ethnicity — and ideology was like the last thing,” Miller said', 'On Tuesday, as Boston’s presidential results trickle in with what’s likely to be a minimal amount of drama, that little section might just be a national bellwether, telling us if Trump’s white, working-class support is as strong as it was four years ago', 'There\\'s not these super-spreader events that you see in other places,\" Boston Chief of Health and Human Services Marty Martinez said in a press call Friday', '- Katie Lannan-- GOP Active in Coastal Competition South of Boston: Ever since he won his seat in 2012, barely an election goes by without Democrats casting a nervous eye toward Rep', 'Boston City Councilor Julia Mejia endorsed Mullet, as has U', 'The state Democratic Party asked authorities for an investigation into a string of race-baiting robocalls in the district, which, according to a Boston Globe report, claimed to support Nguyen but misrepresented her positions, saying she supported defunding the police and \"making white Americans pay tax reparations', '- Chris LisinskiBoston Mayor Marty Walsh is urging calm on and after Election Day, especially in the very possible scenario that there is not a clear winner in the presidential race by Wednesday or later', 'Acknowledging heightened anxiety over the election, Walsh reiterated assurances that there are no known threats to public safety in Boston or anywhere in the commonwealth, and said the city is prepared to ensure a peaceful election and a safe public environment in the days and weeks that follow', 'To that end, Walsh and Boston Police Commissioner William Gross said that while they welcome lawful and civil demonstrations from across the political spectrum, acts of voter intimidation or any other lawlessness will not be tolerated, and the Boston Police Department is prepared to deploy quickly and aggressively in the case such incidents arise', '“We want you to be comfortable in the fact that the Boston Police Department will be covering all polling sites,” Gross said, noting that state law allows police officers to be present inside polling places, as well as outside', '” Walsh also sought to reassure the public that while this may be an unusual election year, that should not erode faith in the integrity of the voting process, in Boston or nationally', 'The mayor noted that while he expects election results will be clear for Boston and Massachusetts relatively early, Boston and other cities, like communities around the country, will likely be counting absentee ballots for several days following the election', 'Price III spoke to Boston Public Radio on Monday about how Trump has emboldened the rise of \"Patriotic Churches', '\"Monroe is a syndicated religion columnist and the Boston voice for Detour’s African American Heritage Trail and a visiting researcher in the Religion and Conflict Transformation Program at Boston University School of Theology', \"Today on Boston Public Radio:Robert Costa talked about his special report for Washington Week, on the attitudes of Pennsylvania voters ahead of Tuesday’s election, and how they have and haven't changed in the four years since 2016\", 'Monroe is a syndicated religion columnist, the Boston voice for Detour’s African American Heritage Trail, and a visiting researcher in the Religion and Conflict Transformation Program at Boston University School of Theology', '”More than 500 of the union’s members live in Boston, where Mayor Marty Walsh called for schools to roll back to remote learning after a spike in COVID-19 cases last month']\n"
     ]
    }
   ],
   "source": [
    "print(arr_sentences_boston[:30])"
   ]
  },
  {
   "cell_type": "markdown",
   "id": "febca69a-2b50-4dbe-be7a-ac113b02274c",
   "metadata": {},
   "source": [
    "# Using Rule-Based Approach using Named Entity Recognition"
   ]
  },
  {
   "cell_type": "markdown",
   "id": "f3cdc0b1-680b-4f73-922a-c1a727446af6",
   "metadata": {},
   "source": [
    "The new approach should be:\n",
    "<br>\n",
    "Sentence Compression -> NER-BERT -> Optional post processing -> ChatGPT -> Google Maps API."
   ]
  },
  {
   "cell_type": "code",
   "execution_count": 51,
   "id": "5e1aee9b-785a-437c-98f2-835e7371ad01",
   "metadata": {},
   "outputs": [],
   "source": [
    "from transformers import pipeline, BertTokenizer, BertForTokenClassification\n",
    "import torch"
   ]
  },
  {
   "cell_type": "code",
   "execution_count": 58,
   "id": "09ec95a6-d164-496d-af97-14e236ba242d",
   "metadata": {},
   "outputs": [],
   "source": [
    "def contains_location(sentence, nlp_ner):    \n",
    "    ner_results = nlp_ner(sentence)\n",
    "\n",
    "    # Check for location entities\n",
    "    for entity in ner_results:\n",
    "        if entity['entity'] == 'B-LOC' or entity['entity'] == 'I-LOC': # B-LOC and I-LOC tags denote locations in CoNLL-03 format\n",
    "            return True\n",
    "    return False"
   ]
  },
  {
   "cell_type": "code",
   "execution_count": 59,
   "id": "eddc728c-3a9c-4dd5-ace5-073891a6e164",
   "metadata": {},
   "outputs": [
    {
     "name": "stderr",
     "output_type": "stream",
     "text": [
      "Some weights of the model checkpoint at dbmdz/bert-large-cased-finetuned-conll03-english were not used when initializing BertForTokenClassification: ['bert.pooler.dense.bias', 'bert.pooler.dense.weight']\n",
      "- This IS expected if you are initializing BertForTokenClassification from the checkpoint of a model trained on another task or with another architecture (e.g. initializing a BertForSequenceClassification model from a BertForPreTraining model).\n",
      "- This IS NOT expected if you are initializing BertForTokenClassification from the checkpoint of a model that you expect to be exactly identical (initializing a BertForSequenceClassification model from a BertForSequenceClassification model).\n"
     ]
    }
   ],
   "source": [
    "# Load pre-trained NER pipeline\n",
    "nlp_ner = pipeline(\"ner\", model=\"dbmdz/bert-large-cased-finetuned-conll03-english\", tokenizer=\"dbmdz/bert-large-cased-finetuned-conll03-english\")\n"
   ]
  },
  {
   "cell_type": "code",
   "execution_count": 76,
   "id": "2dd6d687-c62e-4134-a500-6e5b1049c559",
   "metadata": {},
   "outputs": [],
   "source": [
    "sentences_with_location = [];\n",
    "k = 100\n",
    "for sentence in arr_sentences[:k]:\n",
    "    if (contains_location(sentence, nlp_ner)):\n",
    "        sentences_with_location.append(sentence)\n"
   ]
  },
  {
   "cell_type": "code",
   "execution_count": 77,
   "id": "eeb08f21-5784-46ed-8039-f91876297c2f",
   "metadata": {},
   "outputs": [
    {
     "name": "stdout",
     "output_type": "stream",
     "text": [
      "98609\n",
      "28\n"
     ]
    }
   ],
   "source": [
    "print(len(arr_sentences))\n",
    "print(len(sentences_with_location))"
   ]
  },
  {
   "cell_type": "code",
   "execution_count": 80,
   "id": "29d1a62b-9717-4430-b56f-5e154fed4a59",
   "metadata": {},
   "outputs": [
    {
     "name": "stdout",
     "output_type": "stream",
     "text": [
      "Thomas White, a senior at Boston Latin School, is like a lot of high school athletes\n",
      "\n",
      "A cross country runner, he trained hard all summer in hopes a season would happen\n",
      "\n",
      "And, to his surprise, it did\n",
      "\n",
      "But it wasn't without restrictions\n",
      "\n",
      "“The state … didn’t really know what was safe or not safe\n",
      "\n",
      "So everything kept getting pushed back,\" said White's coach, Chris Blondin\n",
      "\n",
      "\"And we were just praying that it wouldn’t end up like the spring season where it outright got cancelled\n",
      "\n",
      "So the fact that we even have a season at all is just a blessing\n",
      "\n",
      "”But then, in the last week of October, Boston Public Schools postponed the few athletic activities it was allowing, essentially killing the BLS season\n",
      "\n",
      "It's just one example of the dark hole that high school sports have been thrown into during the pandemic\n",
      "\n",
      "And even for the sports and districts that are still going, a season can seem like a countdown to the inevitable postponement or cancellation\n",
      "\n",
      "And for White, and other high school seniors like him, that uncertainty about what happens next may be the common refrain as they attempt to navigate through the haze of COVID-19\n",
      "\n",
      "More from COVID And The ClassroomFor the full story, click on the audio player button above\n",
      "\n",
      "Tuesday's election is expected to draw as many as 3\n",
      "\n",
      "Lenny Mirra knows what he's up against as he runs for a fourth term and that \"there are a lot of people that won't vote for Republicans because of Donald Trump\n",
      "\n",
      "\"\"Even though a state legislator has nothing to do with the president, there are people that will say, no, you're on the 'red team' and Donald Trump is on the 'red team', therefore I'm not voting for you,\" Mirra told GBH News\n",
      "\n",
      "\"There are people like that\n",
      "\n",
      "There's a lot of people like that,\" he said\n",
      "\n",
      "\"Voters will make a distinction between a presidential candidate or president they don't like,\" Ubertaccio said, \"The work of a state legislator is so different than the way in which a president is perceived in a locality that they can, in fact, overcome\n",
      "\n",
      "Republican Rep\n",
      "\n",
      "Ubertaccio thinks Xiarhos will have a harder time retaining Hunt's GOP seat as a newcomer than Rep\n",
      "\n",
      "Will Crocker will have defending his Hyannis-based seat against Democrat Kip Diggs\n",
      "\n",
      "Former Massachusetts Senate Minority Leader, and veteran of congressional and statewide campaigns, Richard Tisei agrees that any Republican \"sitting back and resting on your laurels\" is going to have a problem this election cycle\n",
      "\n",
      "\"But if you've been out and you're connected to the community and you've been doing the work, if you're not taking anything for granted and you're running an aggressive campaign, I think you'll make it through whatever storm should be coming in November,\" Tisei told GBH News\n",
      "\n",
      "If Republicans do lose any of the 13 seats the party is defending this cycle, not much may change in the Democrat-dominated House, where Speaker Robert DeLeo's caucus already has a 127-to-31 advantage\n",
      "\n",
      "Democratic political strategist Jay Cincotti said an even slimmer Republican caucus emerging from 2020 with fewer moderates from \"purple\" districts would leave a leaner, meaner GOP\n",
      "\n",
      "\"It probably does empower the extremes of the party with respect to the minority party in this case\n",
      "\n",
      "So I think if you saw Democratic gains, I think we would see an emboldened extreme right sort of get more noisy,\" Cincotti said\n",
      "\n",
      "A larger Democratic majority would make it easier for Democrats to override Gov\n",
      "\n",
      "Charlie Baker's occasional veto, but by flipping vulnerable \"purple\" seats now held by Republicans into the Democratic column, DeLeo could find himself with a greater number of moderate members less willing to take on contentious progressive goals\n",
      "\n",
      "A counterexample was what happened in the state Senate when it's GOP caucus shriveled to one-tenth of the chamber and Democrats used the super-majority to force a more progressive agenda than had been seen before\n",
      "\n",
      "\"I think the increase of a Democratic majority will embolden the progressive to try to get louder and to advocate for their positions more aggressively,\" Cincotti said\n",
      "\n",
      "Tisei called Republicans that hold Democratic-leaning seats \"above average to exceptional,\" in their political skill and bipartisanship\n",
      "\n",
      "But in one small pocket of the city, the odds of a Trump victory are actually pretty good\n",
      "\n",
      "Maureen Feeney, the former Boston City Councilor and current city clerk, has lived in the area in question — Ward 16, Precinct 12 — for half a century\n",
      "\n",
      ") It is, Feeney says, a place where voting is a social event\n",
      "\n",
      "Brendan’s grammar school, people talking and holding signs, giving jabs here and there,” Feeney said\n",
      "\n",
      "“It’s just always been a critically important component of living in this neighborhood\n",
      "\n",
      "\"In addition, Feeney says, 16-12 can feel like a world unto itself, where the same families living side by side for generations creates what feels like a small town in the midst of the city\n",
      "\n",
      "“So many of the people who’ve lived here have married or whatever and have bought their parents’ house, or a neighbor’s house,” Feeney said\n",
      "\n",
      "“I see Brian and Stevie and Amanda and they’re all bringing their kids — but they used to walk by my house when they were going to school\n",
      "\n",
      "The streets are full of single- and two-family homes with well-kept yards decked out for Halloween — not to mention a lot of American flags\n",
      "\n",
      "But that absence is deceptive\n",
      "\n",
      "“He got 46 percent of the vote\n",
      "\n",
      "And every election, 16-12 stands out\n",
      "\n",
      "In 2017, for example, Mayor Marty Walsh crushed challenger Tito Jackson, winning a whopping 95 percent of the vote\n",
      "\n",
      "“She received 20 votes,” Miller said\n",
      "\n",
      "“And Greg Henning\n",
      "\n",
      "the candidate who was backed by the police unions, received 360 votes\n",
      "\n",
      "”Larry DiCara, the former Boston City Councilor and mayoral candidate, says that outcome — and Trump’s strong performance two years earlier — may reflect the fact that 16-12 is packed with residents who work in public safety\n",
      "\n",
      "“Certainly in the great debate about reforming the police department, and issues of liability, Donald Trump stands with the police, notwithstanding that generally, he’s anathema to organized labor\n",
      "\n",
      "”Many firefighters are standing with the police during that debate, too — including their statewide union, the Professional Fire Fighters of Massachusetts, whose website laments “unrelenting attacks” on “our Brothers and Sisters in blue\n",
      "\n",
      "”But DiCara said he believes the roots of 16-12’s unusual political identity go back further\n",
      "\n",
      "“Ronald Reagan was able to relate to white, middle-class people far better than any Republican had up to that time,” DiCara said\n",
      "\n",
      "’” Back then, DiCara says, you could find precincts like 16-12 throughout the city\n",
      "\n",
      "“These are churchgoing people,” DiCara said\n",
      "\n",
      "“The majority of them are white\n",
      "\n",
      "The great majority of them are Irish\n",
      "\n",
      "[They’re] very set in their ways, and that includes politics\n",
      "\n",
      "Instead, it’s an outlier\n",
      "\n",
      "Still, one big question remains: How could so many voters back Trump one year and Walsh, a vocal Trump critic, the very next\n",
      "\n",
      "DiCara notes that when Walsh was a state represenative, 16-12 was part of his district\n",
      "\n",
      "“He knows almost everyone in that precinct by first name,” DiCara said of Walsh\n",
      "\n",
      "“He knows when Johnny’s going to graduate from B\n",
      "\n",
      "C\n",
      "\n",
      "High, or Mary’s going to graduate from UMass Boston, or whatever the case might be\n",
      "\n",
      "”But Miller has a different explanation\n",
      "\n",
      "“So it was always more tribal\n",
      "\n",
      "”“I think it’s beginning to flip … almost everywhere, except that little section,\" he said\n",
      "\n",
      "But in some ways, the data raise more questions than answers\n",
      "\n",
      "While Gov\n",
      "\n",
      "Charlie Baker and other public officials have repeatedly said the biggest risk of infection was coming from social gatherings, particularly among young people, the data show that the vast majority of COVID-19 clusters were traced back to transmission within households\n",
      "\n",
      "====== NER RESULTS SENTENCES ========\n",
      "\n",
      "A wave of blue votes could wash over the Massachusetts State House's small Republican caucus this election, but local political experts say that voters may be more than willing to keep conservatives on Beacon Hill even if most Bay Staters want to reject President Trump\n",
      "\n",
      "5 million Massachusetts ballots through the mail and in person, energized by Massachusetts voters' zeal to replace Trump, who lost to Hillary Clinton here 61 percent to 33 percent in 2016\n",
      "\n",
      "Georgetown Republican Rep\n",
      "\n",
      "Stonehill College political scientist Peter Ubertaccio said the national political mood is not always a good barometer of what's happening at the local level and that Republicans that focus on the district and not the White House can survive Democratic challenges even when the winds are blowing against the GOP\n",
      "\n",
      "\"Trump will likely lose to Joe Biden throughout Massachusetts, but areas like Worcester and Barnstable County could show slimmer Democratic victory margins than the deepest blue precincts of the Commonwealth\n",
      "\n",
      "On the Cape this year, Republicans are defending three contiguous seats from the bridges to Brewster that Democrats think they can pick up\n",
      "\n",
      "Randy Hunt's retirement from the Fifth Barnstable district leaves retired Yarmouth deputy police chief and Republican candidate Steven Xiarhos running to replace him on Beacon Hill against Democratic opponent Jim Dever, an attorney and Sandwich school committee member\n",
      "\n",
      "Xiarhos has tied himself closer to President Trump than most Massachusetts Republicans, close enough in fact to have to quarantine after attending a White House function and possible COVID-19 outbreak in September\n",
      "\n",
      "\"There's an excellent chance that the Republicans keep the seat in Hyannis\n",
      "\n",
      "But there's an equally good chance that they may lose it in Sandwich simply because they don't have an incumbent running for reelection and the calculation is very different in voters' minds,\" Ubertaccio said\n",
      "\n",
      "However the election goes, Tisei is confident that the conservative message of Governors Baker, Jane Swift, Paul Cellucci and Bill Weld will be represented on Beacon Hill\n",
      "\n",
      "\"They're all superstars in their own right that they were able to get elected in Massachusetts in the first place,\" Tisei said\n",
      "\n",
      "It’s unlikely Donald Trump will win Massachusetts this week, and even more unlikely likely he’ll win Boston, where Hillary Clinton got 81 percent of the vote in 2016\n",
      "\n",
      "(On a map of Boston, it’s the city’s southeastern tip, right across the Neponset River from Quincy and Milton\n",
      "\n",
      "“You’d have cake sales from St\n",
      "\n",
      "” If you’re an outsider and visit 16-12, you’ll probably notice Florian Hall, the headquarters for the Boston Firefighters Union\n",
      "\n",
      "Florian Hall, the headquarters of the Boston firefighter's union (side view)You might not see a single 'Donald Trump for President' sign\n",
      "\n",
      "“[Trump] didn’t win a single precinct in Boston, but he came damn close in 16-12,” said Yawu Miller, the senior editor of the Bay State Banner\n",
      "\n",
      "”Every election cycle, Miller studies Boston’s election returns, looking for unusual results\n",
      "\n",
      "And in 2018, when Rachael Rollins won the Democratic primary in the Suffolk County District Attorney’s race, her push for criminal justice reform drew support citywide — but not here\n",
      "\n",
      "A homemade sign supporting police on Whitridge Street in Boston's Ward 16, Precinct 12“It’s a neighborhood with a high percentage of people who are police and fire, and police have strongly supported Donald Trump,” DiCara said\n",
      "\n",
      "He points to 1983, when Ronald Reagan stopped by the Eire Pub — a literal stone’s throw from the precinct’s northwestern corner — for a beer and some potent cultural symbolism\n",
      "\n",
      "“The Eire Pub visit was a real message that ‘I’m one of you folks, I’m one of the guys\n",
      "\n",
      "I’ll have a cold one at the Eire\n",
      "\n",
      "”ModuleNow, as affluent newcomers gentrify Boston, 16-12 has ceased to be representative\n",
      "\n",
      "“People used to say people would vote primarily on ethnicity in Boston, next on neighborhood — they’d vote for somebody from the neighborhood regardless of their ethnicity — and ideology was like the last thing,” Miller said\n",
      "\n",
      "On Tuesday, as Boston’s presidential results trickle in with what’s likely to be a minimal amount of drama, that little section might just be a national bellwether, telling us if Trump’s white, working-class support is as strong as it was four years ago\n",
      "\n",
      "The state Department of Public Health released new details last week about the sources of COVID-19 clusters in Massachusetts, using data from the state's contact tracing efforts\n",
      "\n"
     ]
    }
   ],
   "source": [
    "non_loc_sentences = []\n",
    "for x in arr_sentences[:k]:\n",
    "    if (not x in sentences_with_location):\n",
    "        non_loc_sentences.append(x)\n",
    "\n",
    "for s in non_loc_sentences:\n",
    "    print(s)\n",
    "    print()\n",
    "\n",
    "print(\"====== NER RESULTS SENTENCES ========\")\n",
    "print()\n",
    "\n",
    "for s in sentences_with_location:\n",
    "    print(s)\n",
    "    print()"
   ]
  },
  {
   "cell_type": "markdown",
   "id": "c397e500-3f46-4a0f-a54c-37734c3f2904",
   "metadata": {},
   "source": [
    "### Example of Reducing a body for ChatGPT Consumption"
   ]
  },
  {
   "cell_type": "code",
   "execution_count": 81,
   "id": "18c42fb4-1f5b-4c30-9cac-1a2429b15668",
   "metadata": {},
   "outputs": [
    {
     "name": "stdout",
     "output_type": "stream",
     "text": [
      "['It\\'s Election Day, and some states continue to deal with questions around how and when votes will be counted. GBH Morning Edition host Joe Mathieu spoke with Northeastern University law professor and GBH News legal analyst Daniel Medwed to update us on some of the voting rights lititgation we\\'ve seen this election season. The transcript below has been edited for clarity. Joe Mathieu: We spent a lot of time last week talking about Pennsylvania, the notorious swing state. Republicans are trying today to overturn a state court decision that would allow mail-in ballots to be received as late as this Friday as opposed to Election Day today. Has that been resolved, Daniel? Daniel Medwed: Well, fortunately, yes — for the time being, at least. Here\\'s what happened. The state Republican Party filed multiple requests with the U.S. Supreme Court to overturn that state decision, but the Supreme Court thwarted those attempts, basically saying it was too close to the election [and] didn\\'t want to meddle in state voting law. What\\'s alarming about the decision, though, at least for those of us who are really concerned about protracted post-election litigation, is that three justices — Alito, Gorsuch and Thomas — hinted that they thought this lawsuit had merit [and] that the Pennsylvania Supreme Court usurped the authority of the state legislature when it pushed back the deadline for receiving mail-in ballots. And some people think that\\'s an overture, an invitation, or at least an opening for the state Republican Party to renew its lawsuit as soon as tomorrow. The Keystone State is really key to the post-election litigation puzzle, I think. Mathieu: We talked about \"naked ballots\" last week. You mentioned that a state requires voters to submit mail-in ballots in a security sleeve. If you don\\'t, they\\'re naked; they don\\'t count. We\\'ve seen estimates, Daniel, that could affect thousands of votes. What do you think of that? Medwed: Well, that\\'s right. In another decision, the Pennsylvania state Supreme Court said that those naked ballots are invalid; they won\\'t be tabulated. And that could, as you point out, jeopardize up to 100,000 votes. That\\'s the estimate I\\'ve seen. Now the good news is, if there\\'s any, the Department of State in Pennsylvania — the equivalent of our secretary of state\\'s office here in Massachusetts, which monitors and oversees the electoral process — [has] issued some guidance, and they\\'ve said to voters, if you think that there\\'s a deficiency with your mail-in ballot, maybe it\\'s a naked ballot or it has some other infirmity, there are options to cure it. You can come down to your polling place today and file a provisional ballot. The problem is that\\'s cold comfort, of course, to people who might not even know about their deficiency. And evidently, counties across Pennsylvania are taking various approaches in terms of how effective they are and aggressive they are in alerting voters about potential problems. Mathieu: I want to go to New Hampshire, Daniel, because over the past few years, as you well know, there\\'s been a dispute surrounding the eligibility of college students to vote in New Hampshire. This comes up every two to four years. How has it been resolved? Medwed: Well, I think we have some clarity finally on it in New Hampshire. Here\\'s how it\\'s supposed to work. Traditionally in most states, college students are allowed to vote in the place where they\\'re attending school as long as they\\'re domiciled in that state — they\\'ve attained residency status. And that\\'s how it worked in New Hampshire for many, many years. That is until 2017, when state Republicans changed the law to basically make it much harder to achieve a domicile status. That led to an avalanche of litigation, which culminated in a state court decision in April 2020, where a New Hampshire Superior Court judge ruled that those Republican efforts were unconstitutional. Even though that decision is currently up on appeal, it is the law of the Granite State. College students may vote in this election in New Hampshire if they are otherwise eligible to vote. There are, of course, many complications stemming from the coronavirus epidemic because [many] college students in New Hampshire and elsewhere are learning remotely. And that does pose a fly in the ointment. Mathieu: So how does that work for voting purposes? Remote learners are treated as living in New Hampshire, their home states or somewhere [else]? Medwed: Well, here\\'s how it works, or at least how we think it will work. So on the one hand, seniors, juniors and sophomores who were in residence in New Hampshire during the last academic year before the spring surge and the lockdown, they\\'re treated under New Hampshire law as temporarily displaced and they\\'re eligible to vote. They could send in their absentee ballot or, I guess, conceivably drive up to New Hampshire today to do it in person. But on the other hand, incoming freshmen who have never actually resided in New Hampshire and are learning remotely now are ineligible to vote, even if they otherwise are over the age of 18 and so on. ']\n"
     ]
    }
   ],
   "source": [
    "# Lets take this article\n",
    "test_para = df_articles[df_articles[\"content_id\"] == \"00000175-8eb2-d779-a575-bebf9ad70001\"]['body'].to_numpy()\n",
    "print(test_para)"
   ]
  },
  {
   "cell_type": "code",
   "execution_count": 83,
   "id": "3ab61b9f-90c9-4ceb-87e0-1e6a9aee4473",
   "metadata": {},
   "outputs": [],
   "source": [
    "test_sentence = split_by_sentence_stoppers(test_para[0])"
   ]
  },
  {
   "cell_type": "code",
   "execution_count": 115,
   "id": "3c55bae8-9e0d-482a-9afd-11b8640f7d43",
   "metadata": {},
   "outputs": [],
   "source": [
    "# for s in test_sentence:\n",
    "#     print(s)\n",
    "#     print()"
   ]
  },
  {
   "cell_type": "code",
   "execution_count": 110,
   "id": "ac2fc9bf-3013-4d6a-a8a3-df730a050a8e",
   "metadata": {},
   "outputs": [],
   "source": [
    "def constraints(sentence, nlp_ner):    \n",
    "    ner_results = nlp_ner(sentence)\n",
    "\n",
    "    # Check for location entities\n",
    "    for entity in ner_results:\n",
    "        # BIO scheme\n",
    "        if (entity['entity'] == 'B-LOC' or \n",
    "            entity['entity'] == 'I-LOC' or\n",
    "            entity['entity'] == 'B-ORG' or\n",
    "            entity['entity'] == 'I-ORG'  \n",
    "            # entity['entity'] == 'GPE' \n",
    "           ): # B-LOC and I-LOC tags denote locations in CoNLL-03 format\n",
    "            return True\n",
    "    return False"
   ]
  },
  {
   "cell_type": "code",
   "execution_count": 111,
   "id": "971f6545-e3d5-43da-a2a7-3a3a90a8ff3e",
   "metadata": {},
   "outputs": [],
   "source": [
    "recognized_locs = [];\n",
    "k = 100\n",
    "for sentence in test_sentence:\n",
    "    if (constraints(sentence, nlp_ner)):\n",
    "        recognized_locs.append(sentence)"
   ]
  },
  {
   "cell_type": "code",
   "execution_count": 112,
   "id": "c4c5975d-d23b-4c32-8da0-aa2db193201c",
   "metadata": {},
   "outputs": [
    {
     "name": "stdout",
     "output_type": "stream",
     "text": [
      "Amount of recognized locations: 21\n"
     ]
    }
   ],
   "source": [
    "print(f\"Amount of recognized locations: {len(recognized_locs)}\")"
   ]
  },
  {
   "cell_type": "code",
   "execution_count": 128,
   "id": "d0ebfc13-2e6c-4370-b54a-bd936bc0d50d",
   "metadata": {},
   "outputs": [
    {
     "name": "stdout",
     "output_type": "stream",
     "text": [
      "[\"GBH Morning Edition host Joe Mathieu spoke with Northeastern University law professor and GBH News legal analyst Daniel Medwed to update us on some of the voting rights lititgation we've seen this election season\", 'Joe Mathieu: We spent a lot of time last week talking about Pennsylvania, the notorious swing state', 'The state Republican Party filed multiple requests with the U', \"Supreme Court to overturn that state decision, but the Supreme Court thwarted those attempts, basically saying it was too close to the election [and] didn't want to meddle in state voting law\", \"What's alarming about the decision, though, at least for those of us who are really concerned about protracted post-election litigation, is that three justices — Alito, Gorsuch and Thomas — hinted that they thought this lawsuit had merit [and] that the Pennsylvania Supreme Court usurped the authority of the state legislature when it pushed back the deadline for receiving mail-in ballots\", \"And some people think that's an overture, an invitation, or at least an opening for the state Republican Party to renew its lawsuit as soon as tomorrow\", 'The Keystone State is really key to the post-election litigation puzzle, I think', 'In another decision, the Pennsylvania state Supreme Court said that those naked ballots are invalid', \"Now the good news is, if there's any, the Department of State in Pennsylvania — the equivalent of our secretary of state's office here in Massachusetts, which monitors and oversees the electoral process — [has] issued some guidance, and they've said to voters, if you think that there's a deficiency with your mail-in ballot, maybe it's a naked ballot or it has some other infirmity, there are options to cure it\", 'And evidently, counties across Pennsylvania are taking various approaches in terms of how effective they are and aggressive they are in alerting voters about potential problems', \"Mathieu: I want to go to New Hampshire, Daniel, because over the past few years, as you well know, there's been a dispute surrounding the eligibility of college students to vote in New Hampshire\", 'Medwed: Well, I think we have some clarity finally on it in New Hampshire', \"And that's how it worked in New Hampshire for many, many years\", 'That led to an avalanche of litigation, which culminated in a state court decision in April 2020, where a New Hampshire Superior Court judge ruled that those Republican efforts were unconstitutional', 'Even though that decision is currently up on appeal, it is the law of the Granite State', 'College students may vote in this election in New Hampshire if they are otherwise eligible to vote', 'There are, of course, many complications stemming from the coronavirus epidemic because [many] college students in New Hampshire and elsewhere are learning remotely', 'Remote learners are treated as living in New Hampshire, their home states or somewhere [else]', \"So on the one hand, seniors, juniors and sophomores who were in residence in New Hampshire during the last academic year before the spring surge and the lockdown, they're treated under New Hampshire law as temporarily displaced and they're eligible to vote\", 'They could send in their absentee ballot or, I guess, conceivably drive up to New Hampshire today to do it in person', 'But on the other hand, incoming freshmen who have never actually resided in New Hampshire and are learning remotely now are ineligible to vote, even if they otherwise are over the age of 18 and so on']\n"
     ]
    }
   ],
   "source": [
    "print(recognized_locs)"
   ]
  },
  {
   "cell_type": "code",
   "execution_count": 116,
   "id": "d68866b7-e0b4-401c-8153-3eca7414962b",
   "metadata": {},
   "outputs": [],
   "source": [
    "regular_sentences = []\n",
    "\n",
    "for s in test_sentence:\n",
    "    if (s not in recognized_locs):\n",
    "        regular_sentences.append(s);"
   ]
  },
  {
   "cell_type": "code",
   "execution_count": 117,
   "id": "6d2b3898-24a4-462d-bc0f-18bd8e339e06",
   "metadata": {},
   "outputs": [
    {
     "name": "stdout",
     "output_type": "stream",
     "text": [
      "[\"It's Election Day, and some states continue to deal with questions around how and when votes will be counted\", 'The transcript below has been edited for clarity', 'Republicans are trying today to overturn a state court decision that would allow mail-in ballots to be received as late as this Friday as opposed to Election Day today', 'Has that been resolved, Daniel', 'Daniel Medwed: Well, fortunately, yes — for the time being, at least', \"Here's what happened\", 'S', 'Mathieu: We talked about \"naked ballots\" last week', 'You mentioned that a state requires voters to submit mail-in ballots in a security sleeve', \"If you don't, they're naked\", \"they don't count\", \"We've seen estimates, Daniel, that could affect thousands of votes\", 'What do you think of that', \"Medwed: Well, that's right\", \"they won't be tabulated\", 'And that could, as you point out, jeopardize up to 100,000 votes', \"That's the estimate I've seen\", 'You can come down to your polling place today and file a provisional ballot', \"The problem is that's cold comfort, of course, to people who might not even know about their deficiency\", 'This comes up every two to four years', 'How has it been resolved', \"Here's how it's supposed to work\", \"Traditionally in most states, college students are allowed to vote in the place where they're attending school as long as they're domiciled in that state — they've attained residency status\", 'That is until 2017, when state Republicans changed the law to basically make it much harder to achieve a domicile status', 'And that does pose a fly in the ointment', 'Mathieu: So how does that work for voting purposes', \"Medwed: Well, here's how it works, or at least how we think it will work\"]\n"
     ]
    }
   ],
   "source": [
    "print(regular_sentences)"
   ]
  },
  {
   "cell_type": "markdown",
   "id": "e70dd242-5986-4e3f-8249-bc447937c922",
   "metadata": {},
   "source": [
    "## Sentence Compression"
   ]
  },
  {
   "cell_type": "code",
   "execution_count": 153,
   "id": "c64821d1-03e0-4013-be79-7f7c35cbf82b",
   "metadata": {},
   "outputs": [],
   "source": [
    "import spacy\n",
    "\n",
    "nlp = spacy.load(\"en_core_web_sm\")\n",
    "\n",
    "def compress_sentence(sentence):\n",
    "    doc = nlp(sentence)\n",
    "\n",
    "    # Extract main subject, verb, and object\n",
    "    subject, verb, obj = '', '', ''\n",
    "    for token in doc:\n",
    "        if \"subj\" in token.dep_:\n",
    "            subject = token.text\n",
    "        if \"obj\" in token.dep_:\n",
    "            obj = token.text\n",
    "        if token.pos_ == \"VERB\":\n",
    "            verb = token.text\n",
    "\n",
    "    # Extract named entities\n",
    "    entities = ' '.join([ent.text for ent in doc.ents])\n",
    "\n",
    "    # Combine extracted elements\n",
    "    compressed = ' '.join([entities, subject, verb, obj]).strip()\n",
    "    return compressed"
   ]
  },
  {
   "cell_type": "code",
   "execution_count": 156,
   "id": "202c6032-1cc0-43e3-90a7-4a57f1394e83",
   "metadata": {},
   "outputs": [
    {
     "name": "stdout",
     "output_type": "stream",
     "text": [
      "Uncompressed by spaCy: It's Election Day, and some states continue to deal with questions around how and when votes will be counted\n",
      "\n",
      "Compressed: Election Day votes counted questions\n",
      "====\n",
      "Uncompressed by spaCy: Republicans are trying today to overturn a state court decision that would allow mail-in ballots to be received as late as this Friday as opposed to Election Day today\n",
      "\n",
      "Compressed: Republicans today this Friday Election Day ballots opposed Day\n",
      "====\n",
      "Uncompressed by spaCy: Mathieu: We talked about \"naked ballots\" last week\n",
      "\n",
      "Compressed: last week We talked ballots\n",
      "====\n",
      "Uncompressed by spaCy: We've seen estimates, Daniel, that could affect thousands of votes\n",
      "\n",
      "Compressed: Daniel thousands that affect votes\n",
      "====\n",
      "Uncompressed by spaCy: And that could, as you point out, jeopardize up to 100,000 votes\n",
      "\n",
      "Compressed: up to 100,000 you jeopardize votes\n",
      "====\n",
      "Uncompressed by spaCy: You can come down to your polling place today and file a provisional ballot\n",
      "\n",
      "Compressed: today You file ballot\n",
      "====\n",
      "Uncompressed by spaCy: That is until 2017, when state Republicans changed the law to basically make it much harder to achieve a domicile status\n",
      "\n",
      "Compressed: 2017 Republicans it achieve status\n",
      "====\n"
     ]
    }
   ],
   "source": [
    "sentence = \"It's Election Day, and some states continue to deal with questions around how and when votes will be counted.\"\n",
    "\n",
    "for s in regular_sentences:\n",
    "    compressed = compress_sentence(s)\n",
    "    if (len(compressed.split()) <= 3):\n",
    "        continue\n",
    "    print(f\"Uncompressed by spaCy: {s}\")\n",
    "    print()\n",
    "    print(f\"Compressed: {compress_sentence(s)}\")\n",
    "    print(\"====\")"
   ]
  },
  {
   "cell_type": "code",
   "execution_count": null,
   "id": "3eebba07-6ca7-463b-b596-b2f51bcf8ce9",
   "metadata": {},
   "outputs": [],
   "source": []
  },
  {
   "cell_type": "code",
   "execution_count": null,
   "id": "b262b609-639b-48d4-8ed2-30b4e956556f",
   "metadata": {},
   "outputs": [],
   "source": []
  },
  {
   "cell_type": "code",
   "execution_count": null,
   "id": "4a7c2aa2-5669-4339-a176-11f65ba52442",
   "metadata": {},
   "outputs": [],
   "source": []
  },
  {
   "cell_type": "code",
   "execution_count": null,
   "id": "e3afbd75-dcfb-498f-b05f-048c9f5518d8",
   "metadata": {},
   "outputs": [],
   "source": []
  },
  {
   "cell_type": "code",
   "execution_count": null,
   "id": "429136df-fb94-42e4-a920-5d992e5e9356",
   "metadata": {},
   "outputs": [],
   "source": []
  },
  {
   "cell_type": "code",
   "execution_count": null,
   "id": "1e27e9c8-18d9-41c7-a551-0d18ca7533dc",
   "metadata": {},
   "outputs": [],
   "source": []
  }
 ],
 "metadata": {
  "kernelspec": {
   "display_name": "Python 3 (ipykernel)",
   "language": "python",
   "name": "python3"
  },
  "language_info": {
   "codemirror_mode": {
    "name": "ipython",
    "version": 3
   },
   "file_extension": ".py",
   "mimetype": "text/x-python",
   "name": "python",
   "nbconvert_exporter": "python",
   "pygments_lexer": "ipython3",
   "version": "3.9.0"
  }
 },
 "nbformat": 4,
 "nbformat_minor": 5
}
