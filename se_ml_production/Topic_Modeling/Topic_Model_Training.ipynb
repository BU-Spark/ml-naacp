{
 "cells": [
  {
   "cell_type": "markdown",
   "id": "46b3feef-709b-4e3c-9002-86cc2214f7ac",
   "metadata": {},
   "source": [
    "# Topic Modeling Training"
   ]
  },
  {
   "cell_type": "code",
   "execution_count": 1,
   "id": "3d470190-7e39-4bec-99b2-5d5ffb29a26d",
   "metadata": {},
   "outputs": [
    {
     "name": "stderr",
     "output_type": "stream",
     "text": [
      "/Users/zacharyg/miniconda3/envs/python_se/lib/python3.10/site-packages/tqdm/auto.py:21: TqdmWarning: IProgress not found. Please update jupyter and ipywidgets. See https://ipywidgets.readthedocs.io/en/stable/user_install.html\n",
      "  from .autonotebook import tqdm as notebook_tqdm\n"
     ]
    }
   ],
   "source": [
    "import openai\n",
    "import pandas as pd\n",
    "import dask.dataframe as dd \n",
    "\n",
    "from bertopic import BERTopic\n",
    "\n",
    "from sentence_transformers import SentenceTransformer \n",
    "from bertopic.vectorizers import ClassTfidfTransformer\n",
    "from sklearn.feature_extraction.text import CountVectorizer\n",
    "from bertopic.representation import MaximalMarginalRelevance"
   ]
  },
  {
   "cell_type": "code",
   "execution_count": 2,
   "id": "9e3a0108-8e94-4721-b0da-ebb68643a68d",
   "metadata": {},
   "outputs": [],
   "source": [
    "# We train on Boston globe Data\n",
    "lndf = dd.read_csv(\n",
    "    \"./TBG/TBG_unique_raw.csv\",\n",
    "    blocksize=100e6, \n",
    "    dtype={'author': 'object', 'edition': 'object','licensor_indexing_terms': 'object'}\n",
    ")"
   ]
  },
  {
   "cell_type": "code",
   "execution_count": 3,
   "id": "c0d30a54-408c-4fa6-a778-55c5c558491d",
   "metadata": {},
   "outputs": [
    {
     "data": {
      "text/plain": [
       "<bound method DataFrame.dropna of Dask DataFrame Structure:\n",
       "               pub_type position_section position_subsection     hl1     hl2  author    lede    body language word_count copyright content-id   volume issue_number edition pub_name pub_date licensor_indexing_terms indexing_terms\n",
       "npartitions=81                                                                                                                                                                                                                      \n",
       "                 object           object              object  object  object  object  object  object   object    float64    object     object  float64      float64  object   object   object                  object         object\n",
       "                    ...              ...                 ...     ...     ...     ...     ...     ...      ...        ...       ...        ...      ...          ...     ...      ...      ...                     ...            ...\n",
       "...                 ...              ...                 ...     ...     ...     ...     ...     ...      ...        ...       ...        ...      ...          ...     ...      ...      ...                     ...            ...\n",
       "                    ...              ...                 ...     ...     ...     ...     ...     ...      ...        ...       ...        ...      ...          ...     ...      ...      ...                     ...            ...\n",
       "                    ...              ...                 ...     ...     ...     ...     ...     ...      ...        ...       ...        ...      ...          ...     ...      ...      ...                     ...            ...\n",
       "Dask Name: read-csv, 1 graph layer>"
      ]
     },
     "execution_count": 3,
     "metadata": {},
     "output_type": "execute_result"
    }
   ],
   "source": [
    "lndf.dropna"
   ]
  },
  {
   "cell_type": "code",
   "execution_count": 4,
   "id": "98ff2b6e-7239-4679-900e-082f685a4d08",
   "metadata": {},
   "outputs": [],
   "source": [
    "sample = lndf.sample(frac=0.8, random_state=1)\n",
    "sample_pd = sample.compute()"
   ]
  },
  {
   "cell_type": "code",
   "execution_count": 5,
   "id": "afcc3197-ff78-4e88-b5f1-a8cd460cdbea",
   "metadata": {},
   "outputs": [
    {
     "name": "stdout",
     "output_type": "stream",
     "text": [
      "cleaning article body text...\n"
     ]
    }
   ],
   "source": [
    "print(\"cleaning article body text...\")\n",
    "new_body = []\n",
    "for body in sample[\"body\"]:\n",
    "    if body == \"body\":\n",
    "        new_body.append(\"\")\n",
    "    else:\n",
    "        try:\n",
    "            new_body.append(body.split(\"body \")[1])\n",
    "        except IndexError:\n",
    "            new_body.append(body)\n",
    "        except AttributeError:\n",
    "            new_body.append(\"\")\n",
    "clean_body=pd.Series(new_body)"
   ]
  },
  {
   "cell_type": "code",
   "execution_count": 6,
   "id": "86e4f4f8-7220-4592-a309-5933f2222c36",
   "metadata": {},
   "outputs": [
    {
     "name": "stdout",
     "output_type": "stream",
     "text": [
      "initializing embeddings...\n"
     ]
    }
   ],
   "source": [
    "print(\"initializing embeddings...\")\n",
    "sentence_model = SentenceTransformer(\"all-MiniLM-L6-v2\")\n",
    "vectorizer_model = CountVectorizer(stop_words='english')\n",
    "representation_model = MaximalMarginalRelevance(diversity=0.8)\n",
    "ctfidf_model = ClassTfidfTransformer(reduce_frequent_words=True)"
   ]
  },
  {
   "cell_type": "code",
   "execution_count": 12,
   "id": "e9e4afec-4947-41e1-a307-1d3426785bcf",
   "metadata": {},
   "outputs": [],
   "source": [
    "clean_body = clean_body[:1000] # Cut it short as we are not interested in training an effective model"
   ]
  },
  {
   "cell_type": "code",
   "execution_count": 13,
   "id": "ac421027-0100-45fd-ae06-df9e54555106",
   "metadata": {},
   "outputs": [],
   "source": [
    "embeddings_body = sentence_model.encode(clean_body)"
   ]
  },
  {
   "cell_type": "code",
   "execution_count": 14,
   "id": "33c5632c-b54f-401a-be65-ed56d66b6ac7",
   "metadata": {},
   "outputs": [
    {
     "name": "stdout",
     "output_type": "stream",
     "text": [
      "fitting topic model...\n"
     ]
    }
   ],
   "source": [
    "print(\"fitting topic model...\")\n",
    "bglobe_topicmodel = BERTopic(\n",
    "    n_gram_range = (1,3),\n",
    "    embedding_model=sentence_model,\n",
    "    vectorizer_model=vectorizer_model,\n",
    "    representation_model=representation_model,\n",
    "    ctfidf_model=ctfidf_model\n",
    ")\n",
    "topic_lede, prob_lede = bglobe_topicmodel.fit_transform(clean_body, embeddings_body)"
   ]
  },
  {
   "cell_type": "code",
   "execution_count": 15,
   "id": "9be82969-9379-4922-bd4b-a314dcc8994e",
   "metadata": {},
   "outputs": [
    {
     "name": "stdout",
     "output_type": "stream",
     "text": [
      "save topic model...\n"
     ]
    }
   ],
   "source": [
    "print(\"save topic model...\")\n",
    "bglobe_topicmodel.save(\"./BERTopic_CPU_M1\")"
   ]
  },
  {
   "cell_type": "code",
   "execution_count": null,
   "id": "ed5a23e2-7122-40e5-a715-9a89accbcb73",
   "metadata": {},
   "outputs": [],
   "source": []
  },
  {
   "cell_type": "code",
   "execution_count": null,
   "id": "d0dfc078-60d6-421f-9218-416b2cc13455",
   "metadata": {},
   "outputs": [],
   "source": []
  },
  {
   "cell_type": "code",
   "execution_count": null,
   "id": "de5fc3be-8d5b-4c03-84bf-d3d133e422ea",
   "metadata": {},
   "outputs": [],
   "source": []
  },
  {
   "cell_type": "code",
   "execution_count": null,
   "id": "882a28b9-b0cd-4d2b-96a6-98d5839bac77",
   "metadata": {},
   "outputs": [],
   "source": []
  },
  {
   "cell_type": "code",
   "execution_count": null,
   "id": "6d1e32aa-b7bd-435f-8b16-624066f5459b",
   "metadata": {},
   "outputs": [],
   "source": []
  },
  {
   "cell_type": "code",
   "execution_count": null,
   "id": "7f041241-2e72-41bf-9395-e9c5131008f4",
   "metadata": {},
   "outputs": [],
   "source": []
  },
  {
   "cell_type": "code",
   "execution_count": null,
   "id": "8233e607-fa4f-44d7-98d1-a9d378fa1c5c",
   "metadata": {},
   "outputs": [],
   "source": [
    "\n"
   ]
  }
 ],
 "metadata": {
  "kernelspec": {
   "display_name": "Python 3 (ipykernel)",
   "language": "python",
   "name": "python3"
  },
  "language_info": {
   "codemirror_mode": {
    "name": "ipython",
    "version": 3
   },
   "file_extension": ".py",
   "mimetype": "text/x-python",
   "name": "python",
   "nbconvert_exporter": "python",
   "pygments_lexer": "ipython3",
   "version": "3.10.0"
  }
 },
 "nbformat": 4,
 "nbformat_minor": 5
}
