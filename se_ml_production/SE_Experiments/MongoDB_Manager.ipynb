{
 "cells": [
  {
   "cell_type": "code",
   "execution_count": 1,
   "id": "4cf744c3-438b-425c-ac47-7102f23c5d43",
   "metadata": {},
   "outputs": [],
   "source": [
    "from enum import Enum\n",
    "from pymongo import MongoClient#"
   ]
  },
  {
   "cell_type": "code",
   "execution_count": 41,
   "id": "de8161ed-4ce3-4775-b7d1-4dec4950c09b",
   "metadata": {},
   "outputs": [],
   "source": [
    " # Errors from Pymongo\n",
    "from pymongo.errors import InvalidOperation"
   ]
  },
  {
   "cell_type": "markdown",
   "id": "ae6f78c2-5c04-433d-9ea8-2fe2c1b4fbb0",
   "metadata": {},
   "source": [
    "### Some Status Enums for MongoDB Manager Class"
   ]
  },
  {
   "cell_type": "code",
   "execution_count": 3,
   "id": "5c64251b-02c4-4778-8b0c-96734a32b0e5",
   "metadata": {},
   "outputs": [],
   "source": [
    "STATUS = Enum('STATUS', ['STARTING', 'IDLE', 'RUNNING', 'FAILED'])"
   ]
  },
  {
   "cell_type": "markdown",
   "id": "7b15cc3d-e65a-4375-b366-dc39fd89da1c",
   "metadata": {},
   "source": [
    "### MongoDB Manager Class"
   ]
  },
  {
   "cell_type": "code",
   "execution_count": null,
   "id": "e432d754-9e68-4e06-b8ed-c7013403cd59",
   "metadata": {},
   "outputs": [],
   "source": [
    "class MongoDBManager:\n",
    "    \"\"\"\n",
    "    A MongoDB Manager. This avoids all the loose MongoDB connections and consoldiates them in one place.\n",
    "\n",
    "    Note: Its resource intensive to instantiate a MongoDB connection\n",
    "    \"\"\"\n",
    "    def __init__(self):\n",
    "        \"\"\"\n",
    "        MongoDB Manager Initalizer\n",
    "        ---------------------------\n",
    "        uri: The MongoDB URI\n",
    "        act_con: Active Connections\n",
    "        init_connection: This creates the client object\n",
    "        hist_connections_closed: Number of times a connection was closed.\n",
    "        hist_connections_opened: Number of times a connection was opened.\n",
    "        jobs_count: Number of jobs passed to MongoDB Manager\n",
    "        \"\"\"\n",
    "        self.act_con = []\n",
    "        self.upper_bound_con = 50 # We limit ourselves to 50 cocurrent conneciton\n",
    "        self.hist_connections_closed = 0\n",
    "        self.hist_connections_opened = 0\n",
    "        self.jobs_count = 0\n",
    "        self.job_queue = [] # For async purposes in the future...\n",
    "        self.init_connection(uri) \n",
    "        \n",
    "    def __str__(self):\n",
    "        \"\"\"\n",
    "        Some useful metrics.\n",
    "        \"\"\"\n",
    "        try:\n",
    "            connection_list = []\n",
    "            for connection in act_con:\n",
    "               connection_list.append(self.ping(connection))\n",
    "            return(\n",
    "            f\"========================\\n\"\n",
    "            f\"MongoDB Manager 1.0\\n\"\n",
    "            f\"Here are some Metrics!\\n\"\n",
    "            f\"========================\\n\"\n",
    "            f\"Connections: \\n{connection_list} \\n\\n\"\n",
    "            f\"Number of Active: {len(self.act_con)}\\n\"\n",
    "            f\"Number of Connections Closed: {self.hist_connections_closed}\\n\"\n",
    "            f\"Number of Open Connections: {self.hist_connections_opened}\\n\"\n",
    "            f\"Number of jobs processed: {self.jobs_count}\\n\"\n",
    "            )\n",
    "        except InvalidOperation as InvOp: # For any bad connections we see...\n",
    "            connection_list.append({\"BAD CONNECTION\" : 0})\n",
    "            continue # If we get bad or close connections\n",
    "        return\n",
    "        \n",
    "    def ping(connection):\n",
    "        \"\"\"\n",
    "        Pings the MongoDB server.\n",
    "        \"\"\"\n",
    "        return connection.admin.command('ping')\n",
    "\n",
    "    def init_connection(self, uri):\n",
    "        \"\"\"\n",
    "        Attempts to initalize the connection. Should Instantiate a MongoDB Client object.\n",
    "        \"\"\"\n",
    "        try:\n",
    "            if (len(act_con) >= self.upper_bound_con):\n",
    "                # We might run into this error if we parallize our containers that need each MongoDB manager\n",
    "                raise Exception(\"Cannot create anymore connections! Aborting...\")\n",
    "            client = MongoClient(uri)\n",
    "            act_con.append(client)\n",
    "            self.hist_connections_opened += 1\n",
    "            return\n",
    "        except Exception as e:\n",
    "            print(f\"Original Error: {e}\\n\\n\")\n",
    "            raise Exception(\"[FATAL ERROR!] MongoDB Manager failed to initalize a MongoDB connection. Aborting...\")\n",
    "        return\n",
    "\n",
    "    def force_close_connection(self, connection):\n",
    "        \"\"\"\n",
    "        Attempts to force close/close the MongoDB connection.\n",
    "        \"\"\"\n",
    "        try:\n",
    "            if (not connection):\n",
    "                print(\"[Warning] No client for this connection was found. No connection to close!\")\n",
    "                return\n",
    "            connection.admin.command('ping') # We need to ping if the connection is alive\n",
    "            connection.close();\n",
    "            print(f\"[INFO] Connection was successfully forcefully closed at {connection}\")\n",
    "            self.hist_connections_closed += 1\n",
    "            \n",
    "            return\n",
    "        except InvalidOperation as InvOp:\n",
    "            print(f\"Original Error: {InvOp}\\n\\n\")\n",
    "            print(\"[Warning] Tried to close an already closed connection!\")\n",
    "        except Exception as e:\n",
    "            print(f\"Original Error: {e}\\n\\n\")\n",
    "            raise Exception(\"[FATAL ERROR!] MongoDB Manager failed close a MongoDB connection. Aborting...\")\n",
    "        return\n",
    "                            \n",
    "            \n",
    "    def run_job(self, retry_times, connection, func, *args, **kwargs):\n",
    "        \"\"\"\n",
    "        A wrapper for all MongoDB jobs. We can retry a \"x\" amount of times \n",
    "        -----\n",
    "        retry_times: The number of times to retry for the connects\n",
    "        connection: The PyMongo Connection you want to handle this job\n",
    "        func: The function you want to execute\n",
    "        \"\"\"\n",
    "        try:\n",
    "            # Ping MongoDB\n",
    "            # If MongoDB doesn't response, then we need to force a connection\n",
    "            # We need to close our first connection and then open a new one...\n",
    "            # If the connection is alive and well, then we just use as is, make sure we reset the timout to keep alive\n",
    "            result = func(*args, **kwargs) # Run the with args\n",
    "            # We need to force the connection to be closed as we are done.\n",
    "            return result # Return anything if needed\n",
    "        except Exception as e:\n",
    "            return\n",
    "        pass\n",
    "        \n",
    "        \n"
   ]
  },
  {
   "cell_type": "markdown",
   "id": "8d7f0f86-a9b7-470f-b75a-630c83f4cf5c",
   "metadata": {},
   "source": [
    "### Some Stress Testing"
   ]
  },
  {
   "cell_type": "code",
   "execution_count": 42,
   "id": "0a316281-f366-4623-8414-74563bc428e9",
   "metadata": {},
   "outputs": [],
   "source": [
    "db = MongoDBManager(\n",
    "    uri=\"mongodb://localhost:27017\"\n",
    ")\n",
    "\n",
    "# Spawn like 5 connections\n",
    "db.init_connection()"
   ]
  },
  {
   "cell_type": "code",
   "execution_count": 43,
   "id": "9bc63004-ddd8-4ff6-b8f6-2847988da13d",
   "metadata": {},
   "outputs": [
    {
     "name": "stdout",
     "output_type": "stream",
     "text": [
      "========================\n",
      "MongoDB Manager 0.1\n",
      "Here are some Metrics!\n",
      "========================\n",
      "Client Object: \n",
      "MongoClient(host=['localhost:27017'], document_class=dict, tz_aware=False, connect=True)\n",
      "Number of Connections Closed: 0\n",
      "Number of Open Connections: 1\n",
      "Number of jobs processed: 0\n",
      "\n"
     ]
    }
   ],
   "source": [
    "print(db)"
   ]
  },
  {
   "cell_type": "code",
   "execution_count": 39,
   "id": "c69ff911-917e-4de6-a479-be06feee54b7",
   "metadata": {},
   "outputs": [
    {
     "name": "stdout",
     "output_type": "stream",
     "text": [
      "[INFO] Connection was successfully forcefully closed at MongoClient(host=['ac-8xmnmpk-shard-00-00.5bib9wc.mongodb.net:27017', 'ac-8xmnmpk-shard-00-01.5bib9wc.mongodb.net:27017', 'ac-8xmnmpk-shard-00-02.5bib9wc.mongodb.net:27017'], document_class=dict, tz_aware=False, connect=True, authsource='admin', replicaset='atlas-je9gce-shard-0', tls=True)\n"
     ]
    }
   ],
   "source": [
    "db.force_close_connection()"
   ]
  },
  {
   "cell_type": "code",
   "execution_count": 40,
   "id": "202fb6ef-2707-4f8f-81af-ce2a3cfab675",
   "metadata": {},
   "outputs": [
    {
     "name": "stdout",
     "output_type": "stream",
     "text": [
      "========================\n",
      "MongoDB Manager 0.1\n",
      "Here are some Metrics!\n",
      "========================\n",
      "Client Object: \n",
      "MongoClient(host=['ac-8xmnmpk-shard-00-00.5bib9wc.mongodb.net:27017', 'ac-8xmnmpk-shard-00-01.5bib9wc.mongodb.net:27017', 'ac-8xmnmpk-shard-00-02.5bib9wc.mongodb.net:27017'], document_class=dict, tz_aware=False, connect=True, authsource='admin', replicaset='atlas-je9gce-shard-0', tls=True)\n",
      "Number of Connections Closed: 1\n",
      "Number of Open Connections: 1\n",
      "Number of jobs processed: 0\n",
      "\n"
     ]
    }
   ],
   "source": [
    "print(db)"
   ]
  },
  {
   "cell_type": "code",
   "execution_count": 34,
   "id": "a58b3205-1e3a-4776-85d8-d5b66ee540ed",
   "metadata": {},
   "outputs": [
    {
     "name": "stdout",
     "output_type": "stream",
     "text": [
      "Original Error: Cannot use MongoClient after close\n",
      "\n",
      "\n",
      "[Warning] Tried to close an already closed connection!\n"
     ]
    }
   ],
   "source": [
    "db.force_close_connection()"
   ]
  },
  {
   "cell_type": "code",
   "execution_count": null,
   "id": "894e2600-a37a-4167-872a-9e41e2edb2d2",
   "metadata": {},
   "outputs": [],
   "source": []
  },
  {
   "cell_type": "code",
   "execution_count": null,
   "id": "4357c213-af25-4f41-a32c-b8351aebf77b",
   "metadata": {},
   "outputs": [],
   "source": []
  },
  {
   "cell_type": "code",
   "execution_count": null,
   "id": "dbb496f8-ca17-414d-9374-e11df37e71c6",
   "metadata": {},
   "outputs": [],
   "source": []
  },
  {
   "cell_type": "code",
   "execution_count": null,
   "id": "21ca4ab1-8ffd-4c7b-b0a9-bfb60df02a25",
   "metadata": {},
   "outputs": [],
   "source": []
  },
  {
   "cell_type": "code",
   "execution_count": null,
   "id": "96443465-3909-40e5-b941-aea5627ee1dd",
   "metadata": {},
   "outputs": [],
   "source": []
  },
  {
   "cell_type": "code",
   "execution_count": null,
   "id": "e8f5dbcb-7c02-49a1-96b9-dda557f2bccc",
   "metadata": {},
   "outputs": [],
   "source": []
  },
  {
   "cell_type": "code",
   "execution_count": null,
   "id": "ae993ff1-a72e-4226-b590-6155bea365b7",
   "metadata": {},
   "outputs": [],
   "source": []
  },
  {
   "cell_type": "code",
   "execution_count": null,
   "id": "478a356c-14d6-4793-8831-0296e0d47934",
   "metadata": {},
   "outputs": [],
   "source": []
  },
  {
   "cell_type": "code",
   "execution_count": null,
   "id": "3973fbf7-e23d-4389-b41a-b15ed96eee2f",
   "metadata": {},
   "outputs": [],
   "source": []
  },
  {
   "cell_type": "code",
   "execution_count": null,
   "id": "ed95789f-c607-4db9-8cb6-3b7d8002ca66",
   "metadata": {},
   "outputs": [],
   "source": []
  },
  {
   "cell_type": "code",
   "execution_count": null,
   "id": "a046f4de-b970-4fa3-afd2-0e83c4358c02",
   "metadata": {},
   "outputs": [],
   "source": []
  },
  {
   "cell_type": "code",
   "execution_count": null,
   "id": "ec2d263d-f6e8-4e47-ae33-4d8657231f39",
   "metadata": {},
   "outputs": [],
   "source": []
  }
 ],
 "metadata": {
  "kernelspec": {
   "display_name": "Python 3 (ipykernel)",
   "language": "python",
   "name": "python3"
  },
  "language_info": {
   "codemirror_mode": {
    "name": "ipython",
    "version": 3
   },
   "file_extension": ".py",
   "mimetype": "text/x-python",
   "name": "python",
   "nbconvert_exporter": "python",
   "pygments_lexer": "ipython3",
   "version": "3.10.0"
  }
 },
 "nbformat": 4,
 "nbformat_minor": 5
}
