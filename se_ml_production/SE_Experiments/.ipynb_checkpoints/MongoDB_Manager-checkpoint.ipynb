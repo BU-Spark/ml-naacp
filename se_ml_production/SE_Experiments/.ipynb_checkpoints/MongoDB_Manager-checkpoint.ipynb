{
 "cells": [
  {
   "cell_type": "code",
   "execution_count": null,
   "id": "4cf744c3-438b-425c-ac47-7102f23c5d43",
   "metadata": {},
   "outputs": [],
   "source": [
    "import uuid\n",
    "import time\n",
    "from pymongo import MongoClient "
   ]
  },
  {
   "cell_type": "code",
   "execution_count": null,
   "id": "de8161ed-4ce3-4775-b7d1-4dec4950c09b",
   "metadata": {},
   "outputs": [],
   "source": [
    " # Errors from Pymongo\n",
    "from pymongo.errors import InvalidOperation, ConnectionFailure, NetworkTimeout, ServerSelectionTimeoutError"
   ]
  },
  {
   "cell_type": "markdown",
   "id": "7b15cc3d-e65a-4375-b366-dc39fd89da1c",
   "metadata": {},
   "source": [
    "### MongoDB Manager Class"
   ]
  },
  {
   "cell_type": "code",
   "execution_count": null,
   "id": "e432d754-9e68-4e06-b8ed-c7013403cd59",
   "metadata": {},
   "outputs": [],
   "source": [
    "class MongoDBManager:\n",
    "    \"\"\"\n",
    "    A MongoDB Manager. This avoids all the loose MongoDB connections and consoldiates them in one place.\n",
    "\n",
    "    Note: Its resource intensive to instantiate a MongoDB connection\n",
    "    Note: I didn't create one uri, because what if you want to connect to multiple MongoDB DBs?\n",
    "    \"\"\"\n",
    "    def __init__(self):\n",
    "        \"\"\"\n",
    "        MongoDB Manager Initalizer\n",
    "        ---------------------------\n",
    "        uri: The MongoDB URI\n",
    "        act_con: Active Connections\n",
    "        init_connection: This creates the client object\n",
    "        hist_connections_closed: Number of times a connection was closed.\n",
    "        hist_connections_opened: Number of times a connection was opened.\n",
    "        jobs_count: Number of jobs passed to MongoDB Manager\n",
    "        \"\"\"\n",
    "        self.act_con = []\n",
    "        self.upper_bound_con = 50 # We limit ourselves to 50 cocurrent conneciton\n",
    "        self.hist_connections_closed = 0\n",
    "        self.hist_connections_opened = 0\n",
    "        self.jobs_count = 0\n",
    "        self.job_queue = [] # For async purposes in the future...\n",
    "        \n",
    "    def __str__(self):\n",
    "        \"\"\"\n",
    "        Some useful metrics.\n",
    "        \"\"\"\n",
    "        connection_list = []\n",
    "        for connection in self.act_con:\n",
    "            try:\n",
    "                connection_list.append({connection['id']: self.ping(connection['connection'])})\n",
    "            except InvalidOperation as InvOp: # For any bad connections we see...\n",
    "                connection_list.append({connection['id']: \"BAD CONNECTION\"})\n",
    "                continue\n",
    "        return(\n",
    "        f\"========================\\n\"\n",
    "        f\"MongoDB Manager 1.0\\n\"\n",
    "        f\"- Avaliable Metrics -\\n\"\n",
    "        f\"========================\\n\"\n",
    "        f\"Connections: \\n{connection_list} \\n\\n\"\n",
    "        f\"Number of Active Connections: {len(self.act_con)}\\n\"\n",
    "        f\"Historical Number of Connections Closed: {self.hist_connections_closed}\\n\"\n",
    "        f\"Historical Number of Open Connections: {self.hist_connections_opened}\\n\"\n",
    "        f\"Number of jobs processed: {self.jobs_count}\\n\"\n",
    "        )\n",
    "\n",
    "    def init_connection(self, uri):\n",
    "        \"\"\"\n",
    "        Attempts to initalize the connection. Should Instantiate a MongoDB Client object.\n",
    "        \"\"\"\n",
    "        try:\n",
    "            if (len(self.act_con) >= self.upper_bound_con):\n",
    "                # We might run into this error if we parallize our containers that need each MongoDB manager\n",
    "                raise Exception(\"Cannot create anymore connections! Aborting...\")\n",
    "            client = MongoClient(uri)\n",
    "            unique_id = uuid.uuid4()\n",
    "            self.act_con.append({\n",
    "                'id': str(unique_id), \n",
    "                'connection': client,\n",
    "                'uri': uri\n",
    "            })\n",
    "            self.hist_connections_opened += 1\n",
    "            return\n",
    "        except Exception as e:\n",
    "            print(f\"Original Error: {e}\\n\\n\")\n",
    "            raise Exception(\"[FATAL ERROR!] MongoDB Manager failed to initalize a MongoDB connection. Aborting...\")\n",
    "        return\n",
    "\n",
    "    def force_close_connection(self, unique_id=None):\n",
    "        \"\"\"\n",
    "        Attempts to force close/close the MongoDB connection.\n",
    "\n",
    "        If unique_id is not provided, then the first connection is closed.\n",
    "        \"\"\"\n",
    "        try:\n",
    "            if (len(self.act_con) < 1):\n",
    "                print(\"[Warning] No connections to close! Aborting...\")\n",
    "                return\n",
    "                \n",
    "            connection_obj = None\n",
    "            \n",
    "            if (unique_id):\n",
    "                for connection in self.act_con:\n",
    "                    if (connection['id'] == unique_id):\n",
    "                        connection_obj = connection\n",
    "                        break\n",
    "\n",
    "                if (not connection_obj):\n",
    "                    raise Exception(\"[FATAL ERROR!] MongoDB Manager failed find the specified connection. Aborting...\")\n",
    "            else:\n",
    "                connection_obj = self.act_con[0] # Close the first connection in the list\n",
    "\n",
    "            connection_obj['connection'].admin.command('ping') # We need to ping if the connection is alive\n",
    "            connection_obj['connection'].close();\n",
    "            print(f\"[INFO] Connection was successfully forcefully closed at id: {connection_obj['id']}.\")\n",
    "            self.hist_connections_closed += 1\n",
    "\n",
    "            if (unique_id):\n",
    "                # Remove the connection from the list of active connections\n",
    "                self.act_con = [d for d in self.act_con if d['id'] != unique_id]\n",
    "            else:\n",
    "                del self.act_con[0] # Remove the first connection in the list\n",
    "                \n",
    "            print(f\"[INFO] Connection was successfully removed from active connection list.\")\n",
    "            return\n",
    "        except InvalidOperation as InvOp:\n",
    "            print(f\"[Warning] Original Error: {InvOp}\")\n",
    "            print(\"[Warning] Tried to close an already closed connection!\")\n",
    "        except Exception as e:\n",
    "            print(f\"Original Error: {e}\\n\\n\")\n",
    "            raise Exception(\"[FATAL ERROR!] MongoDB Manager failed close a MongoDB connection. Aborting...\")\n",
    "        return\n",
    "                            \n",
    "            \n",
    "    def run_job(self, func, *args, connection_obj=None, retry_times=10, retry_time=5, db=\"se_naacp_gbh\", **kwargs):\n",
    "        \"\"\"\n",
    "        A wrapper for all MongoDB jobs. We can retry a \"x\" amount of times \n",
    "        -----\n",
    "        *** IMPORTANT ***\n",
    "        PLEASE HAVE THE CLIENT OR CONNECTION BE THE FIRST ARGUMENT OF YOUR PYTHON FUNCTION\n",
    "        retry_times: The number of times to retry for the connects\n",
    "        connection: The PyMongo Connection you want to handle this job\n",
    "        func: The function you want to execute\n",
    "        \"\"\"\n",
    "        try:\n",
    "            new_args = None\n",
    "            \n",
    "            if(not connection_obj): # If no connection is provided, we take the first one\n",
    "                connection_obj = self.act_con[0]\n",
    "            \n",
    "            for retries in range(1, retry_times+2):\n",
    "                try:    \n",
    "                    print(\"[INFO] Checking MongoDB Connection...\")\n",
    "                    if (not self.ping(connection_obj['connection']) == {'ok': 1.0}): # If MongoDB doesn't respond, then we need to force a connection\n",
    "                        raise InvalidOperation(\"Connection ping failed.\")\n",
    "                    else:\n",
    "                        # Perform a simple operation to check if the connection is closed\n",
    "                        db_test = connection_obj['connection'][db]\n",
    "                        db_test.list_collection_names()\n",
    "                        break\n",
    "                except (Exception, InvalidOperation, ConnectionFailure, NetworkTimeout, ServerSelectionTimeoutError) as BADCONN:\n",
    "                    if (retries == retry_times+1):\n",
    "                        print(f\"Original Error: {BADCONN}\\n\\n\")\n",
    "                        raise Exception(\"[FATAL ERROR!] MongoDB Manager Exhausted all retries! Aborting...\")\n",
    "                    try:   \n",
    "                        print(f\"[Warning] Failed MongoDB Connection! Retrying in {retry_time} seconds {retries}/{retry_times}...\")\n",
    "                        time.sleep(retry_time)\n",
    "                        print(\"[1/3] New Initializing Connection...\")\n",
    "                        self.init_connection(uri=connection_obj['uri'])\n",
    "                        print(\"[2/3] Close the current connection...\")\n",
    "                        self.force_close_connection(unique_id=connection_obj['id'])\n",
    "                        print(\"[3/3] Changed connection object...\")\n",
    "                        connection_obj = self.act_con[len(self.act_con) - 1]\n",
    "                        new_args = list(args) # Create new args by copying old args\n",
    "                        new_args[0] = connection_obj['connection']\n",
    "                        new_args = tuple(new_args) # Change it back into a tuple\n",
    "                    except (Exception, InvalidOperation, ConnectionFailure, NetworkTimeout, ServerSelectionTimeoutError) as e:\n",
    "                        print(f\"[Warning] THIS Retry failed as {e}\") # We print and do nothing...\n",
    "                    continue\n",
    "                    \n",
    "            # == The function ==\n",
    "            if (new_args):\n",
    "                result = func(*new_args, **kwargs) # This is the same function with a swapped DB link\n",
    "            else:  \n",
    "                result = func(*args, **kwargs)\n",
    "            \n",
    "            return result # Return anything if needed\n",
    "        except Exception as e:\n",
    "            print(f\"Original Error: {e}\\n\\n\")\n",
    "            raise Exception(\"[FATAL ERROR!] MongoDB Manager failed to run a job. Aborting...\")\n",
    "        return\n",
    "        \n",
    "    ### Some Utility functions ###\n",
    "    def ping(self, connection):\n",
    "        \"\"\"\n",
    "        Pings the MongoDB server.\n",
    "        \"\"\"\n",
    "        return connection.admin.command('ping')\n",
    "\n",
    "    def remove_connection_from_active_list(unique_id):\n",
    "        \"\"\"\n",
    "        Removes a connection id forcefully from the list. (This should only be used if there is a bug!)\n",
    "        \"\"\"\n",
    "        self.act_con = [d for d in self.act_con if d['id'] != unique_id]\n",
    "        return\n",
    "        \n"
   ]
  },
  {
   "cell_type": "markdown",
   "id": "8d7f0f86-a9b7-470f-b75a-630c83f4cf5c",
   "metadata": {},
   "source": [
    "### Some Stress Testing"
   ]
  },
  {
   "cell_type": "code",
   "execution_count": null,
   "id": "0a316281-f366-4623-8414-74563bc428e9",
   "metadata": {},
   "outputs": [],
   "source": [
    "# Instantiate our MongoDB Manager\n",
    "db = MongoDBManager()\n",
    "\n",
    "# Spawn like 5 connections\n",
    "db.init_connection(uri=\"mongodb://localhost:27017\") # Connection 1\n",
    "db.init_connection(uri=\"mongodb://localhost:27017\") # Connection 2\n",
    "db.init_connection(uri=\"mongodb://localhost:27017\") # Connection 3\n",
    "db.init_connection(uri=\"mongodb://localhost:27017\") # Connection 4\n",
    "db.init_connection(uri=\"mongodb://localhost:27017\") # Connection 5"
   ]
  },
  {
   "cell_type": "code",
   "execution_count": null,
   "id": "9bc63004-ddd8-4ff6-b8f6-2847988da13d",
   "metadata": {},
   "outputs": [],
   "source": [
    "print(db)"
   ]
  },
  {
   "cell_type": "code",
   "execution_count": null,
   "id": "c69ff911-917e-4de6-a479-be06feee54b7",
   "metadata": {},
   "outputs": [],
   "source": [
    "db.force_close_connection()"
   ]
  },
  {
   "cell_type": "code",
   "execution_count": null,
   "id": "202fb6ef-2707-4f8f-81af-ce2a3cfab675",
   "metadata": {},
   "outputs": [],
   "source": [
    "print(db)"
   ]
  },
  {
   "cell_type": "code",
   "execution_count": null,
   "id": "a58b3205-1e3a-4776-85d8-d5b66ee540ed",
   "metadata": {},
   "outputs": [],
   "source": [
    "db.force_close_connection(\n",
    "    unique_id=db.act_con[2]['id'] # Delete the third connection\n",
    ")"
   ]
  },
  {
   "cell_type": "code",
   "execution_count": null,
   "id": "894e2600-a37a-4167-872a-9e41e2edb2d2",
   "metadata": {},
   "outputs": [],
   "source": [
    "print(db)"
   ]
  },
  {
   "cell_type": "markdown",
   "id": "161b434f-cbcc-499f-87bd-37abd4ce4440",
   "metadata": {},
   "source": [
    "Lets add a dummy connection, should retrieve bad connection!"
   ]
  },
  {
   "cell_type": "code",
   "execution_count": null,
   "id": "dbb496f8-ca17-414d-9374-e11df37e71c6",
   "metadata": {},
   "outputs": [],
   "source": [
    "db.act_con[0]['connection'].close()"
   ]
  },
  {
   "cell_type": "code",
   "execution_count": null,
   "id": "21ca4ab1-8ffd-4c7b-b0a9-bfb60df02a25",
   "metadata": {},
   "outputs": [],
   "source": [
    "print(db)"
   ]
  },
  {
   "cell_type": "markdown",
   "id": "72bc0660-e2cf-478e-aef0-3386177e0253",
   "metadata": {},
   "source": [
    "Now lets try running on a job that is on a good connection."
   ]
  },
  {
   "cell_type": "code",
   "execution_count": null,
   "id": "e8f5dbcb-7c02-49a1-96b9-dda557f2bccc",
   "metadata": {},
   "outputs": [],
   "source": [
    "test_client = MongoClient(\"mongodb://localhost:27017\")"
   ]
  },
  {
   "cell_type": "code",
   "execution_count": null,
   "id": "ae993ff1-a72e-4226-b590-6155bea365b7",
   "metadata": {},
   "outputs": [],
   "source": [
    "def sample_database_get_func(con, n):\n",
    "    db = con[\"se_naacp_gbh\"]\n",
    "    collection = db[\"articles_data\"]\n",
    "    result = collection.distinct('author')\n",
    "    return result[:n]"
   ]
  },
  {
   "cell_type": "code",
   "execution_count": null,
   "id": "92f70e54-501e-4703-956d-df57095bc740",
   "metadata": {},
   "outputs": [],
   "source": [
    "sample_database_get_func(test_client, 10)"
   ]
  },
  {
   "cell_type": "markdown",
   "id": "a21b94e8-bf95-43f4-a79f-29e93fd6e5a4",
   "metadata": {},
   "source": [
    "Reminder of the function: \n",
    "<br>\n",
    "`def run_job(self, func, *args, connection_obj=None, retry_times=10, time=5, **kwargs):`"
   ]
  },
  {
   "cell_type": "code",
   "execution_count": null,
   "id": "478a356c-14d6-4793-8831-0296e0d47934",
   "metadata": {},
   "outputs": [],
   "source": [
    "db.run_job(\n",
    "    sample_database_get_func,\n",
    "    db.act_con[1]['connection'], # We do the second because our first connection was bad\n",
    "    10,\n",
    "    connection_obj=db.act_con[1]\n",
    ")"
   ]
  },
  {
   "cell_type": "markdown",
   "id": "f9806a16-4947-43e6-9ed6-0659e5957110",
   "metadata": {},
   "source": [
    "Now we try it on a bad connection."
   ]
  },
  {
   "cell_type": "code",
   "execution_count": null,
   "id": "ed95789f-c607-4db9-8cb6-3b7d8002ca66",
   "metadata": {},
   "outputs": [],
   "source": [
    "db.run_job(\n",
    "    sample_database_get_func,\n",
    "    db.act_con[0]['connection'], # We do the second because our first connection was bad\n",
    "    10,\n",
    "    connection_obj=db.act_con[0]\n",
    ")"
   ]
  },
  {
   "cell_type": "markdown",
   "id": "88c253c6-f294-42d7-82ce-8a08b7b895cd",
   "metadata": {},
   "source": [
    "Now what if we disable the MongoDB server and then reboot it back up, this time we change the `retry_time` to 10 seconds so we have enough time to kill and reboot"
   ]
  },
  {
   "cell_type": "code",
   "execution_count": null,
   "id": "f04ec6ce-1d7b-41e1-af6b-1405397795a5",
   "metadata": {},
   "outputs": [],
   "source": [
    "print(db)"
   ]
  },
  {
   "cell_type": "code",
   "execution_count": null,
   "id": "ec2d263d-f6e8-4e47-ae33-4d8657231f39",
   "metadata": {},
   "outputs": [],
   "source": [
    "db.run_job(\n",
    "    sample_database_get_func,\n",
    "    db.act_con[0]['connection'], # We do the second because our first connection was bad\n",
    "    10,\n",
    "    connection_obj=db.act_con[2]\n",
    ")"
   ]
  },
  {
   "cell_type": "code",
   "execution_count": null,
   "id": "87095fef-55f0-435c-a28e-ede5a4f3fb2b",
   "metadata": {},
   "outputs": [],
   "source": []
  },
  {
   "cell_type": "code",
   "execution_count": null,
   "id": "89971a0d-0da6-45b3-984d-1a8949b2b070",
   "metadata": {},
   "outputs": [],
   "source": []
  },
  {
   "cell_type": "code",
   "execution_count": null,
   "id": "f69a0335-6532-4229-b736-33d5bcc97365",
   "metadata": {},
   "outputs": [],
   "source": []
  },
  {
   "cell_type": "code",
   "execution_count": null,
   "id": "58111269-4432-4c1d-bd9c-ad3884b28cbb",
   "metadata": {},
   "outputs": [],
   "source": []
  },
  {
   "cell_type": "code",
   "execution_count": null,
   "id": "0e846c66-6e45-4d3c-8516-2cac7cbad3de",
   "metadata": {},
   "outputs": [],
   "source": []
  },
  {
   "cell_type": "code",
   "execution_count": null,
   "id": "8614ed76-4e2d-4dfd-aea7-3b24130a952f",
   "metadata": {},
   "outputs": [],
   "source": []
  },
  {
   "cell_type": "code",
   "execution_count": null,
   "id": "06d6d55a-2ea2-4f15-925e-e7a0d00b26e4",
   "metadata": {},
   "outputs": [],
   "source": []
  }
 ],
 "metadata": {
  "kernelspec": {
   "display_name": "Python 3 (ipykernel)",
   "language": "python",
   "name": "python3"
  },
  "language_info": {
   "codemirror_mode": {
    "name": "ipython",
    "version": 3
   },
   "file_extension": ".py",
   "mimetype": "text/x-python",
   "name": "python",
   "nbconvert_exporter": "python",
   "pygments_lexer": "ipython3",
   "version": "3.10.0"
  }
 },
 "nbformat": 4,
 "nbformat_minor": 5
}
