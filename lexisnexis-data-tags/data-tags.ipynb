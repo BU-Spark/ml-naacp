{
 "cells": [
  {
   "cell_type": "code",
   "execution_count": 14,
   "metadata": {},
   "outputs": [],
   "source": [
    "import pandas as pd\n",
    "import json"
   ]
  },
  {
   "cell_type": "code",
   "execution_count": 8,
   "metadata": {},
   "outputs": [],
   "source": [
    "articles = \"/Users/mvoong/Documents/lexisnexis/out/469785/\" # \n",
    "df = pd.read_csv(articles+\"ffff9dc1-3c02-468a-a946-05f87191d8e6.csv\")"
   ]
  },
  {
   "cell_type": "code",
   "execution_count": 47,
   "metadata": {},
   "outputs": [
    {
     "name": "stdout",
     "output_type": "stream",
     "text": [
      "Expecting ',' delimiter: line 1 column 1844 (char 1843)\n",
      "\n"
     ]
    }
   ],
   "source": [
    "subjects = []\n",
    "legal = []\n",
    "for i in range(len(df)):\n",
    "    topics = []\n",
    "    legal_topics = []\n",
    "    try:\n",
    "        index_terms = df['indexing_terms'][i].replace(\"'\", '\"')\n",
    "        index_terms = json.loads(index_terms)\n",
    "        sub = index_terms['subject']\n",
    "        for term in sub:\n",
    "            if int(term['score']) > 85:\n",
    "                topics.append(term['className'])\n",
    "        try:\n",
    "            for term in index_terms['legal']:\n",
    "                legal_topics.append(term['className'])\n",
    "        except:\n",
    "            pass\n",
    "    except Exception as e:\n",
    "        print(e)\n",
    "        #print(df['indexing_terms'][i])\n",
    "        print()\n",
    "    \n",
    "    subjects.append(topics)\n",
    "    legal.append(legal_topics)\n",
    "    \n",
    "    "
   ]
  },
  {
   "cell_type": "code",
   "execution_count": 50,
   "metadata": {},
   "outputs": [
    {
     "name": "stdout",
     "output_type": "stream",
     "text": [
      "[['COOKING & ENTERTAINING'], [], ['ATHLETES'], ['DELAYS & POSTPONEMENTS', 'FOOD BANKS & SOUP KITCHENS', 'FOOD CHARITIES', 'TAXES & TAXATION', 'Unemployment Compensation', 'Governments', 'TAX BREAKS', 'Tax', 'TAX RELIEF'], [], ['COVID CORONAVIRUS', 'COVID-19 CORONAVIRUS', 'CORONAVIRUSES', 'EDUCATION & TRAINING', 'HIGH SCHOOLS', 'INFECTIOUS DISEASE', 'PUBLIC HEALTH', 'PUBLIC HEALTH ADMINISTRATION', 'STUDENTS & STUDENT LIFE', 'VIRUSES', 'COMMUNICABLE DISEASE CONTROL', 'DISEASE CONTACT TRACING', 'Faculty & Staff', 'HEALTH DEPARTMENTS'], ['TOURNAMENTS', 'SPORTS & RECREATION EVENTS', 'WINTER SPORTS', 'COLLEGE & UNIVERSITY SPORTS', 'SPORTS & RECREATION'], ['MASSAGE SERVICES', 'DEATH & DYING', 'SHOOTINGS', 'WEDDINGS & ENGAGEMENTS']]\n",
      "[[], [], ['Business & Corporate Compliance', 'Governments'], ['Healthcare Law', 'Tax Law'], ['Contracts Law'], [], [], []]\n"
     ]
    }
   ],
   "source": [
    "print(subjects)\n",
    "print(legal)"
   ]
  }
 ],
 "metadata": {
  "kernelspec": {
   "display_name": "base",
   "language": "python",
   "name": "python3"
  },
  "language_info": {
   "codemirror_mode": {
    "name": "ipython",
    "version": 3
   },
   "file_extension": ".py",
   "mimetype": "text/x-python",
   "name": "python",
   "nbconvert_exporter": "python",
   "pygments_lexer": "ipython3",
   "version": "3.9.7"
  },
  "orig_nbformat": 4,
  "vscode": {
   "interpreter": {
    "hash": "40d3a090f54c6569ab1632332b64b2c03c39dcf918b08424e98f38b5ae0af88f"
   }
  }
 },
 "nbformat": 4,
 "nbformat_minor": 2
}
