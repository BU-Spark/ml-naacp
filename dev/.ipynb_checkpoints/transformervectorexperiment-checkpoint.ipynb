{
 "cells": [
  {
   "cell_type": "code",
   "execution_count": 1,
   "id": "535b7d35",
   "metadata": {},
   "outputs": [],
   "source": [
    "%matplotlib notebook\n"
   ]
  },
  {
   "cell_type": "code",
   "execution_count": 2,
   "id": "f872d8c7",
   "metadata": {},
   "outputs": [
    {
     "name": "stderr",
     "output_type": "stream",
     "text": [
      "2023-04-21 22:06:36.584468: I tensorflow/core/util/port.cc:110] oneDNN custom operations are on. You may see slightly different numerical results due to floating-point round-off errors from different computation orders. To turn them off, set the environment variable `TF_ENABLE_ONEDNN_OPTS=0`.\n",
      "2023-04-21 22:06:36.675357: I tensorflow/core/platform/cpu_feature_guard.cc:182] This TensorFlow binary is optimized to use available CPU instructions in performance-critical operations.\n",
      "To enable the following instructions: AVX2 AVX512F AVX512_VNNI FMA, in other operations, rebuild TensorFlow with the appropriate compiler flags.\n"
     ]
    }
   ],
   "source": [
    "import torch\n",
    "import numpy as np\n",
    "from torch.utils.data import Dataset, DataLoader\n",
    "from torch import nn\n",
    "from torch.nn import functional as F\n",
    "import umap.umap_ as umap\n",
    "\n",
    "from torch import optim\n",
    "import matplotlib.pyplot as plt\n",
    "from sklearn.metrics import classification_report\n",
    "from sklearn.metrics import confusion_matrix\n",
    "import itertools\n",
    "import seaborn as sns\n",
    "import pandas as pd\n",
    "import pickle"
   ]
  },
  {
   "cell_type": "markdown",
   "id": "23ed30a7",
   "metadata": {},
   "source": [
    "### Load transformer embedding corpus from serialization"
   ]
  },
  {
   "cell_type": "code",
   "execution_count": 3,
   "id": "4824dc9e",
   "metadata": {},
   "outputs": [],
   "source": [
    "file = open('./data/transformer_corpus', 'rb')\n",
    "object_file = pickle.load(file)"
   ]
  },
  {
   "cell_type": "code",
   "execution_count": 4,
   "id": "046a35e6",
   "metadata": {},
   "outputs": [
    {
     "name": "stdout",
     "output_type": "stream",
     "text": [
      "259087\n"
     ]
    }
   ],
   "source": [
    "print(len(object_file))"
   ]
  },
  {
   "cell_type": "code",
   "execution_count": 5,
   "id": "a03b6c59",
   "metadata": {},
   "outputs": [
    {
     "data": {
      "text/html": [
       "<div>\n",
       "<style scoped>\n",
       "    .dataframe tbody tr th:only-of-type {\n",
       "        vertical-align: middle;\n",
       "    }\n",
       "\n",
       "    .dataframe tbody tr th {\n",
       "        vertical-align: top;\n",
       "    }\n",
       "\n",
       "    .dataframe thead th {\n",
       "        text-align: right;\n",
       "    }\n",
       "</style>\n",
       "<table border=\"1\" class=\"dataframe\">\n",
       "  <thead>\n",
       "    <tr style=\"text-align: right;\">\n",
       "      <th></th>\n",
       "      <th>article</th>\n",
       "      <th>label</th>\n",
       "      <th>entities</th>\n",
       "      <th>embedding</th>\n",
       "    </tr>\n",
       "  </thead>\n",
       "  <tbody>\n",
       "    <tr>\n",
       "      <th>0</th>\n",
       "      <td>health experts said early predict whether dema...</td>\n",
       "      <td>U.S. NEWS</td>\n",
       "      <td>[]</td>\n",
       "      <td>[[-0.042428464, -0.05273746, 0.01222564, 0.009...</td>\n",
       "    </tr>\n",
       "    <tr>\n",
       "      <th>1</th>\n",
       "      <td>subdued passengers crew fled back aircraft con...</td>\n",
       "      <td>U.S. NEWS</td>\n",
       "      <td>[]</td>\n",
       "      <td>[[0.03151287, 0.010903334, -0.00016828088, 0.0...</td>\n",
       "    </tr>\n",
       "    <tr>\n",
       "      <th>2</th>\n",
       "      <td>accidentally put toothpaste toddler toothbrush...</td>\n",
       "      <td>PARENTING</td>\n",
       "      <td>[]</td>\n",
       "      <td>[[-0.046831407, -0.055872813, 0.007849889, 0.0...</td>\n",
       "    </tr>\n",
       "    <tr>\n",
       "      <th>3</th>\n",
       "      <td>amy cooper accused investment firm franklin te...</td>\n",
       "      <td>U.S. NEWS</td>\n",
       "      <td>[]</td>\n",
       "      <td>[[0.0052872994, -0.00012764185, 0.028915998, 0...</td>\n",
       "    </tr>\n",
       "    <tr>\n",
       "      <th>4</th>\n",
       "      <td>woman seen working south carolina store thursd...</td>\n",
       "      <td>U.S. NEWS</td>\n",
       "      <td>[]</td>\n",
       "      <td>[[-0.09672863, 0.004548617, -0.08565861, 0.061...</td>\n",
       "    </tr>\n",
       "  </tbody>\n",
       "</table>\n",
       "</div>"
      ],
      "text/plain": [
       "                                             article      label entities  \\\n",
       "0  health experts said early predict whether dema...  U.S. NEWS       []   \n",
       "1  subdued passengers crew fled back aircraft con...  U.S. NEWS       []   \n",
       "2  accidentally put toothpaste toddler toothbrush...  PARENTING       []   \n",
       "3  amy cooper accused investment firm franklin te...  U.S. NEWS       []   \n",
       "4  woman seen working south carolina store thursd...  U.S. NEWS       []   \n",
       "\n",
       "                                           embedding  \n",
       "0  [[-0.042428464, -0.05273746, 0.01222564, 0.009...  \n",
       "1  [[0.03151287, 0.010903334, -0.00016828088, 0.0...  \n",
       "2  [[-0.046831407, -0.055872813, 0.007849889, 0.0...  \n",
       "3  [[0.0052872994, -0.00012764185, 0.028915998, 0...  \n",
       "4  [[-0.09672863, 0.004548617, -0.08565861, 0.061...  "
      ]
     },
     "execution_count": 5,
     "metadata": {},
     "output_type": "execute_result"
    }
   ],
   "source": [
    "df = pd.DataFrame(object_file, columns =['article', 'label','entities', 'embedding']) \n",
    "df.head()"
   ]
  },
  {
   "cell_type": "code",
   "execution_count": 6,
   "id": "51642d67",
   "metadata": {},
   "outputs": [
    {
     "name": "stderr",
     "output_type": "stream",
     "text": [
      "/tmp/ipykernel_51071/3706133808.py:1: DeprecationWarning: `np.float` is a deprecated alias for the builtin `float`. To silence this warning, use `float` by itself. Doing this will not modify any behavior and is safe. If you specifically wanted the numpy scalar type, use `np.float64` here.\n",
      "Deprecated in NumPy 1.20; for more details and guidance: https://numpy.org/devdocs/release/1.20.0-notes.html#deprecations\n",
      "  df['embedding'] = df['embedding'].map(lambda e: np.array(e, dtype=np.float))\n"
     ]
    },
    {
     "data": {
      "text/html": [
       "<div>\n",
       "<style scoped>\n",
       "    .dataframe tbody tr th:only-of-type {\n",
       "        vertical-align: middle;\n",
       "    }\n",
       "\n",
       "    .dataframe tbody tr th {\n",
       "        vertical-align: top;\n",
       "    }\n",
       "\n",
       "    .dataframe thead th {\n",
       "        text-align: right;\n",
       "    }\n",
       "</style>\n",
       "<table border=\"1\" class=\"dataframe\">\n",
       "  <thead>\n",
       "    <tr style=\"text-align: right;\">\n",
       "      <th></th>\n",
       "      <th>article</th>\n",
       "      <th>label</th>\n",
       "      <th>entities</th>\n",
       "      <th>embedding</th>\n",
       "    </tr>\n",
       "  </thead>\n",
       "  <tbody>\n",
       "    <tr>\n",
       "      <th>0</th>\n",
       "      <td>health experts said early predict whether dema...</td>\n",
       "      <td>U.S. NEWS</td>\n",
       "      <td>[]</td>\n",
       "      <td>[[-0.04242846369743347, -0.052737459540367126,...</td>\n",
       "    </tr>\n",
       "    <tr>\n",
       "      <th>1</th>\n",
       "      <td>subdued passengers crew fled back aircraft con...</td>\n",
       "      <td>U.S. NEWS</td>\n",
       "      <td>[]</td>\n",
       "      <td>[[0.031512871384620667, 0.010903334245085716, ...</td>\n",
       "    </tr>\n",
       "    <tr>\n",
       "      <th>2</th>\n",
       "      <td>accidentally put toothpaste toddler toothbrush...</td>\n",
       "      <td>PARENTING</td>\n",
       "      <td>[]</td>\n",
       "      <td>[[-0.0468314066529274, -0.05587281286716461, 0...</td>\n",
       "    </tr>\n",
       "    <tr>\n",
       "      <th>3</th>\n",
       "      <td>amy cooper accused investment firm franklin te...</td>\n",
       "      <td>U.S. NEWS</td>\n",
       "      <td>[]</td>\n",
       "      <td>[[0.005287299398332834, -0.0001276418479392305...</td>\n",
       "    </tr>\n",
       "    <tr>\n",
       "      <th>4</th>\n",
       "      <td>woman seen working south carolina store thursd...</td>\n",
       "      <td>U.S. NEWS</td>\n",
       "      <td>[]</td>\n",
       "      <td>[[-0.09672863036394119, 0.004548617172986269, ...</td>\n",
       "    </tr>\n",
       "  </tbody>\n",
       "</table>\n",
       "</div>"
      ],
      "text/plain": [
       "                                             article      label entities  \\\n",
       "0  health experts said early predict whether dema...  U.S. NEWS       []   \n",
       "1  subdued passengers crew fled back aircraft con...  U.S. NEWS       []   \n",
       "2  accidentally put toothpaste toddler toothbrush...  PARENTING       []   \n",
       "3  amy cooper accused investment firm franklin te...  U.S. NEWS       []   \n",
       "4  woman seen working south carolina store thursd...  U.S. NEWS       []   \n",
       "\n",
       "                                           embedding  \n",
       "0  [[-0.04242846369743347, -0.052737459540367126,...  \n",
       "1  [[0.031512871384620667, 0.010903334245085716, ...  \n",
       "2  [[-0.0468314066529274, -0.05587281286716461, 0...  \n",
       "3  [[0.005287299398332834, -0.0001276418479392305...  \n",
       "4  [[-0.09672863036394119, 0.004548617172986269, ...  "
      ]
     },
     "execution_count": 6,
     "metadata": {},
     "output_type": "execute_result"
    }
   ],
   "source": [
    "df['embedding'] = df['embedding'].map(lambda e: np.array(e, dtype=np.float))\n",
    "\n",
    "df.head()\n"
   ]
  },
  {
   "cell_type": "code",
   "execution_count": 7,
   "id": "fb4c01fe",
   "metadata": {},
   "outputs": [],
   "source": [
    "unique = list(np.unique(df['label']))\n",
    "df['label_num'] = df['label'].map(lambda e: unique.index(e))\n"
   ]
  },
  {
   "cell_type": "code",
   "execution_count": 8,
   "id": "ad738aec",
   "metadata": {},
   "outputs": [
    {
     "name": "stdout",
     "output_type": "stream",
     "text": [
      "(259087, 5)\n",
      "(259087, 5)\n"
     ]
    }
   ],
   "source": [
    "df.head()\n",
    "print(df.shape)\n",
    "df.dropna()\n",
    "print(df.shape)\n"
   ]
  },
  {
   "cell_type": "code",
   "execution_count": 9,
   "id": "00aaf473",
   "metadata": {},
   "outputs": [
    {
     "name": "stderr",
     "output_type": "stream",
     "text": [
      "/tmp/ipykernel_51071/687884188.py:3: DeprecationWarning: `np.float` is a deprecated alias for the builtin `float`. To silence this warning, use `float` by itself. Doing this will not modify any behavior and is safe. If you specifically wanted the numpy scalar type, use `np.float64` here.\n",
      "Deprecated in NumPy 1.20; for more details and guidance: https://numpy.org/devdocs/release/1.20.0-notes.html#deprecations\n",
      "  labels = df['label_num'].to_numpy().astype(np.float)\n"
     ]
    },
    {
     "name": "stdout",
     "output_type": "stream",
     "text": [
      "[[-0.04242846 -0.05273746  0.01222564 ... -0.12872475 -0.0369744\n",
      "   0.07397687]\n",
      " [ 0.03151287  0.01090333 -0.00016828 ...  0.08744578 -0.03970892\n",
      "  -0.0353999 ]\n",
      " [-0.04683141 -0.05587281  0.00784989 ... -0.00730067  0.06827408\n",
      "   0.04921927]\n",
      " ...\n",
      " [ 0.00263818  0.01890752 -0.00195855 ...  0.07984449 -0.02753437\n",
      "   0.01261969]\n",
      " [-0.0177998   0.05252247  0.00633611 ... -0.00095687 -0.03967441\n",
      "   0.06988091]\n",
      " [-0.05717564 -0.00429257  0.01951273 ... -0.01829587 -0.07201405\n",
      "   0.0024681 ]]\n",
      "(259087, 384)\n"
     ]
    }
   ],
   "source": [
    "\n",
    "#mat_embeddings = np.array(np.zeros(384))\n",
    "mat_embeddings = df['embedding'].map(lambda e: np.array(e[0])).to_numpy()\n",
    "labels = df['label_num'].to_numpy().astype(np.float)\n",
    "#print(embeddings[0].shape)\n",
    "m_em = np.stack(mat_embeddings)\n",
    "print(m_em)\n",
    "print(m_em.shape)"
   ]
  },
  {
   "cell_type": "code",
   "execution_count": null,
   "id": "42a28687",
   "metadata": {},
   "outputs": [],
   "source": []
  },
  {
   "cell_type": "code",
   "execution_count": null,
   "id": "405bd8c5",
   "metadata": {},
   "outputs": [],
   "source": [
    "\n",
    "\n",
    "\n",
    "umap_embedding = umap.UMAP(n_neighbors = 10).fit_transform(m_em)\n",
    "fig, ax = plt.subplots()\n",
    "#labels_num = np.array([d.y[name] for name in test_data.y])\n",
    "scatter = ax.scatter(umap_embedding.T[0], umap_embedding.T[1], s=0.03, c=df['label_num'], cmap='Spectral')\n",
    "# produce a legend with the unique colors from the scatter\n",
    "legend1 = ax.legend(*scatter.legend_elements(),\n",
    "                    loc=\"lower left\", title=\"Classes\")\n",
    "ax.add_artist(legend1)\n",
    "plt.rcParams['figure.figsize'] = [20, 20]\n",
    "\n",
    "plt.title(\"Transformer Embedding Space & Umap\")\n",
    "fig.savefig('transformerembeddingspace.png', dpi=fig.dpi, bbox_inches='tight', pad_inches=0.5)\n",
    "plt.show()"
   ]
  },
  {
   "cell_type": "code",
   "execution_count": 11,
   "id": "56930731",
   "metadata": {
    "scrolled": true
   },
   "outputs": [],
   "source": [
    "from sklearn.decomposition import PCA\n",
    "ncomp_pca = 30\n",
    "pca_70 = PCA(n_components = ncomp_pca, random_state=2000,svd_solver = 'full')\n",
    "pca_70.fit(m_em)\n",
    "m_em2 = pca_70.transform(m_em).astype(np.float64)"
   ]
  },
  {
   "cell_type": "code",
   "execution_count": 10,
   "id": "f39e318f",
   "metadata": {},
   "outputs": [],
   "source": []
  },
  {
   "cell_type": "code",
   "execution_count": null,
   "id": "7e56f665",
   "metadata": {},
   "outputs": [],
   "source": [
    "umap_embedding = umap.UMAP(n_neighbors = 10).fit_transform(m_em2)\n",
    "\n",
    "fig = plt.figure()\n",
    "ax = fig.add_subplot(projection='3d')\n",
    "scatter = ax.scatter(umap_embedding.T[0], umap_embedding.T[1], umap_embedding.T[2], s=0.03, c=df['label_num'], cmap='Spectral')\n",
    "# produce a legend with the unique colors from the scatter\n",
    "legend1 = ax.legend(*scatter.legend_elements(),\n",
    "                    loc=\"lower left\", title=\"Classes\")\n",
    "ax.add_artist(legend1)\n",
    "plt.rcParams['figure.figsize'] = [20, 20]\n",
    "\n",
    "plt.title(\"PCA Reduced Transformer Embedding, n_components = \" + str(ncomp_pca) +  \" Embedding Space & Umap\")\n",
    "fig.savefig('transformer&pca.png', dpi=fig.dpi, bbox_inches='tight', pad_inches=0.5)\n",
    "plt.show()\n",
    "#test_dataloader = DataLoader(dataset=test_data, batch_size=batch_size, shuffle=True)\n",
    "#train_dataloader = DataLoader(dataset=test_data, batch_size=batch_size, shuffle=True)"
   ]
  },
  {
   "cell_type": "code",
   "execution_count": null,
   "id": "80ab52a1",
   "metadata": {},
   "outputs": [],
   "source": [
    "\n",
    "fig = plt.figure()\n",
    "ax = fig.add_subplot(projection='3d')\n",
    "scatter = ax.scatter(umap_embedding.T[0], umap_embedding.T[1], umap_embedding.T[2], s=0.03, c=df['label_num'], cmap='Spectral')\n",
    "# produce a legend with the unique colors from the scatter\n",
    "legend1 = ax.legend(*scatter.legend_elements(),\n",
    "                    loc=\"lower left\", title=\"Classes\")\n",
    "ax.add_artist(legend1)\n",
    "plt.rcParams['figure.figsize'] = [20, 20]\n",
    "\n",
    "plt.title(\"PCA Reduced Transformer Embedding, n_components = \" + str(ncomp_pca) +  \" Embedding Space & Umap\")\n",
    "fig.savefig('transformer&pca.png', dpi=fig.dpi, bbox_inches='tight', pad_inches=0.5)\n",
    "plt.show()\n"
   ]
  },
  {
   "cell_type": "code",
   "execution_count": null,
   "id": "31da2de7",
   "metadata": {},
   "outputs": [],
   "source": []
  }
 ],
 "metadata": {
  "kernelspec": {
   "display_name": "Python 3 (ipykernel)",
   "language": "python",
   "name": "python3"
  },
  "language_info": {
   "codemirror_mode": {
    "name": "ipython",
    "version": 3
   },
   "file_extension": ".py",
   "mimetype": "text/x-python",
   "name": "python",
   "nbconvert_exporter": "python",
   "pygments_lexer": "ipython3",
   "version": "3.10.6"
  }
 },
 "nbformat": 4,
 "nbformat_minor": 5
}
