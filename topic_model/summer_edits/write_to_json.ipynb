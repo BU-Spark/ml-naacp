{
 "cells": [
  {
   "cell_type": "code",
   "execution_count": 6,
   "id": "0a147ad2-9602-420d-9ce4-b36f0ac215d5",
   "metadata": {},
   "outputs": [],
   "source": [
    "#Assuming working dir on scc: sparkgrp/dyxu\n",
    "\n",
    "import pandas as pd\n",
    "import json\n",
    "\n",
    "# Load the JSON file\n",
    "with open('GBH_SUMMER_DEMO_DATA.json', 'r') as file:\n",
    "    json_data = json.load(file)\n",
    "\n",
    "# Load the pandas DataFrame with OpenAI labels\n",
    "df_labels = pd.read_csv('gbh_step_one_output_non_stochastic.csv')  # Replace with the path to your DataFrame\n",
    "\n",
    "# Iterate over each article\n",
    "for article_id, article_data in json_data['articles'].items():\n",
    "    # Get the corresponding row from the DataFrame based on article_id\n",
    "    # print(article_id)\n",
    "    row = df_labels[df_labels['content_id'] == article_id]\n",
    "\n",
    "    # Extract the OpenAI labels from the row\n",
    "    if not(row.empty):\n",
    "        # openai_labels = row[['Keyword_1', 'Keyword_2', 'Keyword_3']].values.tolist()[0]\n",
    "        openai_labels = row[['openai_label']].values.tolist()[0]\n",
    "        openai_labels = [label for label in openai_labels if not pd.isna(label)]\n",
    "        # Add the OpenAI labels to the \"data\" dictionary\n",
    "        article_data['openai_labels'] = openai_labels\n",
    "\n",
    "# Save the modified JSON file\n",
    "with open('step_two_output.json', 'w') as file:\n",
    "    json.dump(json_data, file)"
   ]
  },
  {
   "cell_type": "code",
   "execution_count": null,
   "id": "7b97aad5-e31a-4691-b3b9-e8ff9bfec456",
   "metadata": {},
   "outputs": [],
   "source": []
  }
 ],
 "metadata": {
  "kernelspec": {
   "display_name": "env",
   "language": "python",
   "name": "env"
  },
  "language_info": {
   "codemirror_mode": {
    "name": "ipython",
    "version": 3
   },
   "file_extension": ".py",
   "mimetype": "text/x-python",
   "name": "python",
   "nbconvert_exporter": "python",
   "pygments_lexer": "ipython3",
   "version": "3.10.5"
  }
 },
 "nbformat": 4,
 "nbformat_minor": 5
}
