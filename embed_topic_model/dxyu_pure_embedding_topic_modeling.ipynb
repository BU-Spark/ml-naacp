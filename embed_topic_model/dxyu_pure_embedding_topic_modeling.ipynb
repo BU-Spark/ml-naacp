{
 "cells": [
  {
   "cell_type": "code",
   "execution_count": 1,
   "id": "52782fe5-bcf0-4c47-9a38-08887e3337ea",
   "metadata": {},
   "outputs": [
    {
     "name": "stderr",
     "output_type": "stream",
     "text": [
      "/Users/zgou/miniconda3/envs/SHIPLY_LLM/lib/python3.8/site-packages/tqdm/auto.py:21: TqdmWarning: IProgress not found. Please update jupyter and ipywidgets. See https://ipywidgets.readthedocs.io/en/stable/user_install.html\n",
      "  from .autonotebook import tqdm as notebook_tqdm\n"
     ]
    }
   ],
   "source": [
    "import os\n",
    "import re\n",
    "import json\n",
    "from tqdm import tqdm\n",
    "import pandas as pd\n",
    "from bs4 import BeautifulSoup\n",
    "from transformers import pipeline\n",
    "from openai import AsyncOpenAI, OpenAI\n",
    "from tenacity import retry, wait_random_exponential, stop_after_attempt"
   ]
  },
  {
   "cell_type": "code",
   "execution_count": 2,
   "id": "db18f7ef-39c2-404f-adba-5171c57501dc",
   "metadata": {},
   "outputs": [],
   "source": [
    "import numpy as np\n",
    "from sklearn.metrics.pairwise import cosine_similarity"
   ]
  },
  {
   "cell_type": "code",
   "execution_count": 3,
   "id": "0cb90a02-9528-4cb4-941a-5de26b26fff5",
   "metadata": {},
   "outputs": [],
   "source": [
    "tqdm.pandas()"
   ]
  },
  {
   "cell_type": "markdown",
   "id": "a436bb72-0b86-48ed-a86f-c777f3ebc866",
   "metadata": {},
   "source": [
    "### Pure Embedding Approach for Topic Modeling"
   ]
  },
  {
   "cell_type": "code",
   "execution_count": 4,
   "id": "7be72b41-f59a-4367-92d3-5d4d3cb2cf5b",
   "metadata": {},
   "outputs": [],
   "source": [
    "# 230 topics from BERTopic\n",
    "selected_topics_df = pd.read_csv(\"./topics/embedding_similarity_label.csv\")\n",
    "selected_topics_df = selected_topics_df.drop(columns=['Unnamed: 0'])"
   ]
  },
  {
   "cell_type": "code",
   "execution_count": 5,
   "id": "e7dc83a1-46b0-475b-8fdf-a181850643ce",
   "metadata": {},
   "outputs": [
    {
     "data": {
      "text/html": [
       "<div>\n",
       "<style scoped>\n",
       "    .dataframe tbody tr th:only-of-type {\n",
       "        vertical-align: middle;\n",
       "    }\n",
       "\n",
       "    .dataframe tbody tr th {\n",
       "        vertical-align: top;\n",
       "    }\n",
       "\n",
       "    .dataframe thead th {\n",
       "        text-align: right;\n",
       "    }\n",
       "</style>\n",
       "<table border=\"1\" class=\"dataframe\">\n",
       "  <thead>\n",
       "    <tr style=\"text-align: right;\">\n",
       "      <th></th>\n",
       "      <th>Topic</th>\n",
       "      <th>Name</th>\n",
       "      <th>Representation</th>\n",
       "      <th>closest_topic</th>\n",
       "    </tr>\n",
       "  </thead>\n",
       "  <tbody>\n",
       "    <tr>\n",
       "      <th>0</th>\n",
       "      <td>-1</td>\n",
       "      <td>-1_schools_case_information_women</td>\n",
       "      <td>['schools', 'case', 'information', 'women', 'p...</td>\n",
       "      <td>Personal Finance - Financial Assistance - Gove...</td>\n",
       "    </tr>\n",
       "    <tr>\n",
       "      <th>1</th>\n",
       "      <td>0</td>\n",
       "      <td>0_downtime_blah_salute_ok</td>\n",
       "      <td>['downtime', 'blah', 'salute', 'ok', 'boy', 'n...</td>\n",
       "      <td>Communication</td>\n",
       "    </tr>\n",
       "    <tr>\n",
       "      <th>2</th>\n",
       "      <td>1</td>\n",
       "      <td>1_song_symphony_opera_blues</td>\n",
       "      <td>['song', 'symphony', 'opera', 'blues', 'musici...</td>\n",
       "      <td>Fine Art - Opera</td>\n",
       "    </tr>\n",
       "    <tr>\n",
       "      <th>3</th>\n",
       "      <td>2</td>\n",
       "      <td>2_inning_yankees_red_francona</td>\n",
       "      <td>['inning', 'yankees', 'red', 'francona', 'runs...</td>\n",
       "      <td>Sports - Baseball</td>\n",
       "    </tr>\n",
       "    <tr>\n",
       "      <th>4</th>\n",
       "      <td>3</td>\n",
       "      <td>3_candidates_primary_romney_gop</td>\n",
       "      <td>['candidates', 'primary', 'romney', 'gop', 'we...</td>\n",
       "      <td>Politics - Elections</td>\n",
       "    </tr>\n",
       "    <tr>\n",
       "      <th>...</th>\n",
       "      <td>...</td>\n",
       "      <td>...</td>\n",
       "      <td>...</td>\n",
       "      <td>...</td>\n",
       "    </tr>\n",
       "    <tr>\n",
       "      <th>226</th>\n",
       "      <td>225</td>\n",
       "      <td>225_farms_csa_burpee_hirshberg</td>\n",
       "      <td>['farms', 'csa', 'burpee', 'hirshberg', 'heron...</td>\n",
       "      <td>Business and Finance - Industries - Agriculture</td>\n",
       "    </tr>\n",
       "    <tr>\n",
       "      <th>227</th>\n",
       "      <td>226</td>\n",
       "      <td>226_crone_olympic_peterson_mantha</td>\n",
       "      <td>['crone', 'olympic', 'peterson', 'mantha', 'li...</td>\n",
       "      <td>Sports - Olympic Sports - Winter Olympic Sports</td>\n",
       "    </tr>\n",
       "    <tr>\n",
       "      <th>228</th>\n",
       "      <td>227</td>\n",
       "      <td>227_saleh_yemeni_rabbo_taiz</td>\n",
       "      <td>['saleh', 'yemeni', 'rabbo', 'taiz', 'marib', ...</td>\n",
       "      <td>Religion &amp; Spirituality - Spirituality</td>\n",
       "    </tr>\n",
       "    <tr>\n",
       "      <th>229</th>\n",
       "      <td>228</td>\n",
       "      <td>228_detainees_waterboarding_conventions_geneva</td>\n",
       "      <td>['detainees', 'waterboarding', 'conventions', ...</td>\n",
       "      <td>Science</td>\n",
       "    </tr>\n",
       "    <tr>\n",
       "      <th>230</th>\n",
       "      <td>229</td>\n",
       "      <td>229_chi_ropeik_bifida_helen</td>\n",
       "      <td>['chi', 'ropeik', 'bifida', 'helen', 'surgery'...</td>\n",
       "      <td>Sports - Figure Skating</td>\n",
       "    </tr>\n",
       "  </tbody>\n",
       "</table>\n",
       "<p>231 rows × 4 columns</p>\n",
       "</div>"
      ],
      "text/plain": [
       "     Topic                                            Name  \\\n",
       "0       -1               -1_schools_case_information_women   \n",
       "1        0                       0_downtime_blah_salute_ok   \n",
       "2        1                     1_song_symphony_opera_blues   \n",
       "3        2                   2_inning_yankees_red_francona   \n",
       "4        3                 3_candidates_primary_romney_gop   \n",
       "..     ...                                             ...   \n",
       "226    225                  225_farms_csa_burpee_hirshberg   \n",
       "227    226               226_crone_olympic_peterson_mantha   \n",
       "228    227                     227_saleh_yemeni_rabbo_taiz   \n",
       "229    228  228_detainees_waterboarding_conventions_geneva   \n",
       "230    229                     229_chi_ropeik_bifida_helen   \n",
       "\n",
       "                                        Representation  \\\n",
       "0    ['schools', 'case', 'information', 'women', 'p...   \n",
       "1    ['downtime', 'blah', 'salute', 'ok', 'boy', 'n...   \n",
       "2    ['song', 'symphony', 'opera', 'blues', 'musici...   \n",
       "3    ['inning', 'yankees', 'red', 'francona', 'runs...   \n",
       "4    ['candidates', 'primary', 'romney', 'gop', 'we...   \n",
       "..                                                 ...   \n",
       "226  ['farms', 'csa', 'burpee', 'hirshberg', 'heron...   \n",
       "227  ['crone', 'olympic', 'peterson', 'mantha', 'li...   \n",
       "228  ['saleh', 'yemeni', 'rabbo', 'taiz', 'marib', ...   \n",
       "229  ['detainees', 'waterboarding', 'conventions', ...   \n",
       "230  ['chi', 'ropeik', 'bifida', 'helen', 'surgery'...   \n",
       "\n",
       "                                         closest_topic  \n",
       "0    Personal Finance - Financial Assistance - Gove...  \n",
       "1                                        Communication  \n",
       "2                                     Fine Art - Opera  \n",
       "3                                    Sports - Baseball  \n",
       "4                                 Politics - Elections  \n",
       "..                                                 ...  \n",
       "226    Business and Finance - Industries - Agriculture  \n",
       "227    Sports - Olympic Sports - Winter Olympic Sports  \n",
       "228             Religion & Spirituality - Spirituality  \n",
       "229                                            Science  \n",
       "230                            Sports - Figure Skating  \n",
       "\n",
       "[231 rows x 4 columns]"
      ]
     },
     "execution_count": 5,
     "metadata": {},
     "output_type": "execute_result"
    }
   ],
   "source": [
    "selected_topics_df"
   ]
  },
  {
   "cell_type": "code",
   "execution_count": null,
   "id": "98c948f1-34a0-461a-96be-c1fac7dc07c5",
   "metadata": {},
   "outputs": [],
   "source": [
    "# Load CURRENT GBH articles\n",
    "unseen_articles = pd.read_csv('./sample_data/se_naacp_db.articles_data.csv')\n",
    "# unseen_articles = pd.read_csv('./eval_dataset/Singer_Evaluation_Set.csv')\n",
    "unseen_articles = unseen_articles.rename(columns={\"body\": \"Body\"})\n",
    "unseen_articles = unseen_articles.dropna(subset=['Body'])\n",
    "unseen_articles.reset_index(drop=True, inplace=True)"
   ]
  },
  {
   "cell_type": "code",
   "execution_count": null,
   "id": "b196b4f8-5f50-40a4-ad33-1a7c65f142b1",
   "metadata": {},
   "outputs": [],
   "source": [
    "unseen_articles.columns"
   ]
  },
  {
   "cell_type": "code",
   "execution_count": null,
   "id": "a053caa4-8a52-45d5-9df2-041ecb3445a6",
   "metadata": {},
   "outputs": [],
   "source": [
    "# Load GBH articles\n",
    "# unseen_articles = pd.read_csv('./sample_data/Articles Nov 2020 - March 2023.csv', usecols=range(12))\n",
    "# unseen_articles = unseen_articles.dropna(subset=['Body'])\n",
    "# unseen_articles = unseen_articles.sample(n=5000, random_state=1)\n",
    "# unseen_articles.reset_index(drop=True, inplace=True)"
   ]
  },
  {
   "cell_type": "markdown",
   "id": "adc2bcb0-bc8a-496b-99a9-3337b9c50bb9",
   "metadata": {},
   "source": [
    "### Calling of the OpenAI Embeddings"
   ]
  },
  {
   "cell_type": "code",
   "execution_count": null,
   "id": "216fe614-9351-4702-bf59-fbbc0a1bbc44",
   "metadata": {},
   "outputs": [],
   "source": [
    "client = OpenAI(\n",
    "    # This is the default and can be omitted\n",
    "    api_key='YOUR_OPEN_KEY_HERE',\n",
    ")"
   ]
  },
  {
   "cell_type": "code",
   "execution_count": null,
   "id": "a01b908c-17b1-4b05-93f3-116260056c0f",
   "metadata": {},
   "outputs": [],
   "source": [
    "# Retry up to 10 times with exponential backoff, starting at 1 second and maxing out at 20 seconds delay\n",
    "@retry(wait=wait_random_exponential(min=1, max=20), stop=stop_after_attempt(10))\n",
    "def get_embedding(text: str, model=\"text-embedding-3-small\"):\n",
    "    #print(text)\n",
    "    try:\n",
    "        embedding = client.embeddings.create(input=text, model=model).data[0].embedding\n",
    "        return embedding\n",
    "    except Exception as e:\n",
    "        print(f\"Failed to retrieve ADA Embedding: {e}. Replacing with replacement value!\")\n",
    "        return [-1.0]\n",
    "    return "
   ]
  },
  {
   "cell_type": "markdown",
   "id": "43fc217d-608e-42cd-9f84-d31ffa37cd58",
   "metadata": {},
   "source": [
    "### Text Preprocessing"
   ]
  },
  {
   "cell_type": "code",
   "execution_count": null,
   "id": "5f8bd874-3a20-4200-a702-884ea7e7a50c",
   "metadata": {},
   "outputs": [],
   "source": [
    "# News body preprocessing, gets rid of html tags\n",
    "def truncate(tokens, length=500):\n",
    "    \"\"\"\n",
    "    Function to get the first 500 elements from a list\n",
    "    \"\"\"\n",
    "    return tokens[:length]\n",
    "\n",
    "unseen_articles['Body'] = unseen_articles['Body'].apply(lambda x: re.sub(re.compile('<.*?>'), '', x))\n",
    "unseen_articles['tokens'] = unseen_articles['Body'].apply(lambda x: x.split())\n",
    "unseen_articles['tokens'] = unseen_articles['tokens'].apply(truncate)\n",
    "\n",
    "print(max(len(row['tokens']) for _, row in unseen_articles.iterrows()))\n",
    "\n",
    "unseen_articles['ada_embedding'] = unseen_articles.tokens.progress_apply(lambda x: get_embedding(','.join(map(str,x)), model='text-embedding-ada-002'))"
   ]
  },
  {
   "cell_type": "code",
   "execution_count": null,
   "id": "7c50a0a5-e6c8-4124-a77f-9714491e821a",
   "metadata": {},
   "outputs": [],
   "source": [
    "unseen_articles"
   ]
  },
  {
   "cell_type": "markdown",
   "id": "4094e2ee-2a6c-4d46-8b4d-ce46fbbac3c6",
   "metadata": {},
   "source": [
    "### Ada Embedding -> Taxanomy List"
   ]
  },
  {
   "cell_type": "code",
   "execution_count": null,
   "id": "8ea1dd8b-8d4f-4402-aa06-29b0755ae7d6",
   "metadata": {},
   "outputs": [],
   "source": [
    "taxonomy_df = pd.read_csv('./taxonomy_list/Content_Taxonomy.csv', skiprows=5, usecols=range(8))\n",
    "taxonomy_df.columns = taxonomy_df.iloc[0]\n",
    "taxonomy_df = taxonomy_df.tail(-1)"
   ]
  },
  {
   "cell_type": "code",
   "execution_count": null,
   "id": "36d253c7-8822-4185-9085-310f62d5469a",
   "metadata": {},
   "outputs": [],
   "source": [
    "taxonomy_df"
   ]
  },
  {
   "cell_type": "code",
   "execution_count": null,
   "id": "0342fcce-16a0-45e2-bc15-0a707347fb29",
   "metadata": {},
   "outputs": [],
   "source": [
    "tier_1_list = []\n",
    "tier_2_list = []\n",
    "tier_3_list = []\n",
    "tier_4_list = []\n",
    "for index, row in taxonomy_df.iterrows():\n",
    "    if not pd.isnull(row['Tier 4']) and row['Tier 4'] != ' ':\n",
    "        tier_1_label = row['Tier 1']\n",
    "        tier_2_label = row['Tier 2']\n",
    "        tier_3_label = row['Tier 3']\n",
    "        tier_4_label = row['Tier 4']\n",
    "        tier_4_list.append(f'{tier_1_label} - {tier_2_label} - {tier_3_label} - {tier_4_label}')\n",
    "    elif not pd.isnull(row['Tier 3']) and row['Tier 3'] != ' ':\n",
    "        tier_1_label = row['Tier 1']\n",
    "        tier_2_label = row['Tier 2']\n",
    "        tier_3_label = row['Tier 3']\n",
    "        tier_3_list.append(f'{tier_1_label} - {tier_2_label} - {tier_3_label}')\n",
    "    elif not pd.isnull(row['Tier 2']) and row['Tier 2'] != ' ':\n",
    "        tier_1_label = row['Tier 1']\n",
    "        tier_2_label = row['Tier 2']\n",
    "        tier_2_list.append(f'{tier_1_label} - {tier_2_label}')\n",
    "    else:\n",
    "        tier_1_label = row['Tier 1']\n",
    "        tier_1_list.append(f'{tier_1_label}')\n",
    "\n",
    "tier_1_list = list(set(tier_1_list))\n",
    "tier_2_list = list(set(tier_2_list))\n",
    "tier_3_list = list(set(tier_3_list))\n",
    "tier_4_list = list(set(tier_4_list))\n",
    "\n",
    "tier_1_embedding = [get_embedding(topic) for topic in tier_1_list]\n",
    "tier_2_embedding = [get_embedding(topic) for topic in tier_2_list]\n",
    "tier_3_embedding = [get_embedding(topic) for topic in tier_3_list]\n",
    "tier_4_embedding = [get_embedding(topic) for topic in tier_4_list]\n",
    "\n",
    "all_topics_list = []\n",
    "[all_topics_list.append(topic) for topic in tier_1_list]\n",
    "[all_topics_list.append(topic) for topic in tier_2_list]\n",
    "[all_topics_list.append(topic) for topic in tier_3_list]\n",
    "[all_topics_list.append(topic) for topic in tier_4_list]\n",
    "\n",
    "all_topics_embedding = []\n",
    "[all_topics_embedding.append(embedding) for embedding in tier_1_embedding]\n",
    "[all_topics_embedding.append(embedding) for embedding in tier_2_embedding]\n",
    "[all_topics_embedding.append(embedding) for embedding in tier_3_embedding]\n",
    "[all_topics_embedding.append(embedding) for embedding in tier_4_embedding]\n",
    "print(len(all_topics_embedding))"
   ]
  },
  {
   "cell_type": "markdown",
   "id": "85de3918-9fbf-4470-afa1-6d7914f5e3b0",
   "metadata": {},
   "source": [
    "### Similarity Metric Matching"
   ]
  },
  {
   "cell_type": "code",
   "execution_count": null,
   "id": "e8e87352-c7f3-48c6-be16-9e7007f3ded6",
   "metadata": {},
   "outputs": [],
   "source": [
    "# Get embedding for the 230 topics selected by BERTopic \n",
    "selected_taxonomy_df = pd.read_csv('./topics/embedding_similarity_label.csv')\n",
    "selected_taxonomy_df = selected_taxonomy_df.dropna(subset=['closest_topic'])\n",
    "selected_topics_list = selected_taxonomy_df['closest_topic'].values.tolist()\n",
    "# print(all_topics_list)\n",
    "\n",
    "selected_topics_embedding = [get_embedding(topic) for topic in selected_topics_list]"
   ]
  },
  {
   "cell_type": "code",
   "execution_count": null,
   "id": "077c8ed3-f003-4b8d-b16d-6b5080c39c2e",
   "metadata": {},
   "outputs": [],
   "source": [
    "# Find most similar taxonomy to the BOW representations\n",
    "closest_topic_list_all = []\n",
    "for index, row in unseen_articles.iterrows():\n",
    "    target_embedding = row['ada_embedding']\n",
    "    similarities = [cosine_similarity(np.array(target_embedding).reshape(1, -1), np.array(topic).reshape(1, -1))[0][0] for topic in all_topics_embedding]\n",
    "\n",
    "    # Find the index of the topic with the highest similarity\n",
    "    closest_topic_index = np.argmax(similarities)\n",
    "\n",
    "    # Retrieve the closest topic embedding\n",
    "    closest_topic = all_topics_list[closest_topic_index]\n",
    "    closest_topic_list_all.append(closest_topic)\n",
    "\n",
    "unseen_articles['closest_topic_all'] = closest_topic_list_all\n",
    "print(unseen_articles.head(10))"
   ]
  },
  {
   "cell_type": "code",
   "execution_count": null,
   "id": "95b27ff1-c140-463b-8ab8-de2ac09a4abf",
   "metadata": {},
   "outputs": [],
   "source": [
    "# Find most similar taxonomy to the BOW representations\n",
    "closest_topic_list_selected = []\n",
    "for index, row in unseen_articles.iterrows():\n",
    "    target_embedding = row['ada_embedding']\n",
    "    similarities = [cosine_similarity(np.array(target_embedding).reshape(1, -1), np.array(topic).reshape(1, -1))[0][0] for topic in selected_topics_embedding]\n",
    "\n",
    "    # Find the index of the topic with the highest similarity\n",
    "    closest_topic_index = np.argmax(similarities)\n",
    "\n",
    "    # Retrieve the closest topic embedding\n",
    "    closest_topic = selected_topics_list[closest_topic_index]\n",
    "    closest_topic_list_selected.append(closest_topic)\n",
    "\n",
    "unseen_articles['closest_topic_selected'] = closest_topic_list_selected\n",
    "print(unseen_articles.head(10))"
   ]
  },
  {
   "cell_type": "markdown",
   "id": "9c38dde3-317a-4518-9174-3b39455eac1b",
   "metadata": {},
   "source": [
    "### Export to CSV"
   ]
  },
  {
   "cell_type": "code",
   "execution_count": null,
   "id": "6f6d5e16-02cb-49b3-bf31-827e8f219fd7",
   "metadata": {},
   "outputs": [],
   "source": [
    "unseen_articles.to_csv('./outputs/pure_embedding_current_GBH_Data.csv')"
   ]
  },
  {
   "cell_type": "markdown",
   "id": "61cce5e4-9a21-4388-b1b0-f6de3b484bed",
   "metadata": {},
   "source": [
    "### Quick Analysis"
   ]
  },
  {
   "cell_type": "code",
   "execution_count": null,
   "id": "2b1786fe-d248-428f-b22c-97a09c1c0cb3",
   "metadata": {},
   "outputs": [],
   "source": [
    "import matplotlib.pyplot as plt"
   ]
  },
  {
   "cell_type": "code",
   "execution_count": null,
   "id": "1a70b969-ea7f-428e-a6ca-929b10fd2982",
   "metadata": {},
   "outputs": [],
   "source": [
    "unseen_articles = pd.read_csv('./outputs/pure_embedding_current_GBH_Data.csv')"
   ]
  },
  {
   "cell_type": "code",
   "execution_count": null,
   "id": "bc866bbd-0168-45b3-8ab7-870fb955723f",
   "metadata": {},
   "outputs": [],
   "source": [
    "unseen_articles.columns"
   ]
  },
  {
   "cell_type": "code",
   "execution_count": null,
   "id": "bbbd9648-c63b-48e3-a05f-659b6b6462eb",
   "metadata": {},
   "outputs": [],
   "source": [
    "unseen_articles"
   ]
  },
  {
   "cell_type": "code",
   "execution_count": null,
   "id": "a89db02d-9076-43d9-a595-97ccd00bfb10",
   "metadata": {},
   "outputs": [],
   "source": [
    "df_to_export = pd.concat([unseen_articles['_id'], unseen_articles['hl1'], unseen_articles['Body'], unseen_articles['openai_labels[0]'], unseen_articles['closest_topic_selected'], unseen_articles['closest_topic_all']], axis=1)"
   ]
  },
  {
   "cell_type": "code",
   "execution_count": null,
   "id": "8a127fba-f708-418d-b974-0816f4404824",
   "metadata": {},
   "outputs": [],
   "source": [
    "df_to_export.to_csv('./outputs/pure_embedding_current_GBH_Data_CLEANED_WITH_ID.csv')"
   ]
  },
  {
   "cell_type": "code",
   "execution_count": null,
   "id": "47c550c5-98a3-4149-b8ad-24a6c276d756",
   "metadata": {},
   "outputs": [],
   "source": [
    "df_to_export[100:201].to_csv('./outputs/pure_embedding_current_SAMPLE.csv')"
   ]
  },
  {
   "cell_type": "code",
   "execution_count": null,
   "id": "b8d2fed6-4b3a-4f0d-9f8f-733ade62d024",
   "metadata": {},
   "outputs": [],
   "source": []
  },
  {
   "cell_type": "code",
   "execution_count": null,
   "id": "51171c57-dca0-42dd-a924-35c885ce2740",
   "metadata": {},
   "outputs": [],
   "source": [
    "# Analysis on labels from two lists\n",
    "selected_series = unseen_articles['closest_topic_selected']\n",
    "\n",
    "# Get the value counts\n",
    "selected_counts = selected_series.value_counts()\n",
    "print(selected_counts)\n",
    "# Identify categories with count 1\n",
    "categories_to_combine = selected_counts[selected_counts <= 10].index\n",
    "\n",
    "# Create a new category name for combined values\n",
    "new_category_name = 'Other'\n",
    "\n",
    "# Replace categories with count 1 with the new category\n",
    "selected_series = selected_series.apply(lambda x: new_category_name if x in categories_to_combine else x)\n",
    "\n",
    "# Create a pie chart\n",
    "plt.figure(figsize=(22, 22))\n",
    "plt.pie(selected_series.value_counts(), labels=selected_series.value_counts().index, autopct='%1.1f%%', startangle=140)\n",
    "plt.title('Pie Chart of Selected Topics')\n",
    "plt.show()\n",
    "\n",
    "\n",
    "all_series = unseen_articles['closest_topic_all']\n",
    "\n",
    "# Get the value counts\n",
    "all_counts = all_series.value_counts()\n",
    "print(all_counts)\n",
    "# Identify categories with count 1\n",
    "categories_to_combine = all_counts[all_counts <= 10].index\n",
    "\n",
    "# Create a new category name for combined values\n",
    "new_category_name = 'Other'\n",
    "\n",
    "# Replace categories with count 1 with the new category\n",
    "all_series = all_series.apply(lambda x: new_category_name if x in categories_to_combine else x)\n",
    "\n",
    "# Create a pie chart\n",
    "plt.figure(figsize=(22, 22))\n",
    "plt.pie(all_series.value_counts(), labels=all_series.value_counts().index, autopct='%1.1f%%', startangle=140)\n",
    "plt.title('Pie Chart of All Topics')\n",
    "plt.show()\n",
    "\n",
    "count_matching_rows = len(unseen_articles[unseen_articles['closest_topic_all'] == unseen_articles['closest_topic_selected']])\n",
    "print(f'There are {count_matching_rows} matching labels in {len(unseen_articles)} articles. The ratio is {count_matching_rows/len(unseen_articles)*100}%.')"
   ]
  },
  {
   "cell_type": "code",
   "execution_count": null,
   "id": "bd633c53-bc02-4495-925e-c1ba4e7cd63a",
   "metadata": {},
   "outputs": [],
   "source": []
  },
  {
   "cell_type": "code",
   "execution_count": null,
   "id": "ddb6ac95-66c8-4320-9232-67d47c0fe956",
   "metadata": {},
   "outputs": [],
   "source": []
  },
  {
   "cell_type": "code",
   "execution_count": null,
   "id": "eaf53e7b-1661-4007-96ef-069a17b841e2",
   "metadata": {},
   "outputs": [],
   "source": []
  }
 ],
 "metadata": {
  "kernelspec": {
   "display_name": "Python 3 (ipykernel)",
   "language": "python",
   "name": "python3"
  },
  "language_info": {
   "codemirror_mode": {
    "name": "ipython",
    "version": 3
   },
   "file_extension": ".py",
   "mimetype": "text/x-python",
   "name": "python",
   "nbconvert_exporter": "python",
   "pygments_lexer": "ipython3",
   "version": "3.8.16"
  }
 },
 "nbformat": 4,
 "nbformat_minor": 5
}
