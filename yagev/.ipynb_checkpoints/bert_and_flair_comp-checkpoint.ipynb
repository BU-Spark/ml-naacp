{
 "cells": [
  {
   "cell_type": "code",
   "execution_count": 7,
   "id": "5336b0b7-471d-4c48-8d63-93cfa82eb1d1",
   "metadata": {},
   "outputs": [],
   "source": [
    "import pandas as pd\n",
    "from transformers import AutoTokenizer, AutoModelForTokenClassification\n",
    "from transformers import pipeline\n",
    "import flair\n",
    "from flair.data import Sentence\n",
    "from flair.nn import Classifier"
   ]
  },
  {
   "cell_type": "code",
   "execution_count": 8,
   "id": "cb0a5e7b-a79d-483f-bdd4-3fc2a823e351",
   "metadata": {},
   "outputs": [],
   "source": [
    "def get_locations_bert(article_text):\n",
    "    \"\"\"\n",
    "    get location names from article using NER - bert model \n",
    "    https://huggingface.co/dslim/bert-base-NER\n",
    "    input: article_text as a string, aggregate of h1, h2, lede, and body\n",
    "    returns: locations - set of tuples of (NAME, 'LOC') and organizations - set of tuples (NAME, 'ORG) mentioned in the article\n",
    "    \"\"\"\n",
    "    tokenizer = AutoTokenizer.from_pretrained(\"dslim/bert-large-NER\")\n",
    "    model = AutoModelForTokenClassification.from_pretrained(\"dslim/bart-large-NER\")\n",
    "    nlp = pipeline(\"ner\", model=model, tokenizer=tokenizer, aggregation_strategy=\"simple\")\n",
    "    \n",
    "    ner_results = nlp(article_text)\n",
    "    locations = set([(X['word'],X['entity_group']) for X in ner_results if X['entity_group'] == 'LOC'])\n",
    "    orgs = set([(X['word'], X['entity_group']) for X in ner_results if X['entity_group'] == 'ORG'])\n",
    "    return locations, orgs"
   ]
  },
  {
   "cell_type": "code",
   "execution_count": 45,
   "id": "ae1fba79-8765-4824-859e-de575c38fa4b",
   "metadata": {},
   "outputs": [],
   "source": [
    "def get_locations_flair_test(article_text : str) -> flair.data.Sentence:\n",
    "    \"\"\"\n",
    "    get location names from article using NER - flair model \n",
    "    https://flairnlp.github.io/docs/tutorial-basics/tagging-entities\n",
    "    input: article_text as a string, aggregate of h1, h2, lede, and body\n",
    "    returns: locations - set of tuples of (NAME, 'LOC') and organizations - set of tuples (NAME, 'ORG) mentioned in the article\n",
    "    \"\"\"\n",
    "    text = Sentence(article_text)\n",
    "    tagger = Classifier.load('ner-ontonotes-large')\n",
    "    tagger.predict(text)\n",
    "    \n",
    "    return text"
   ]
  },
  {
   "cell_type": "code",
   "execution_count": 46,
   "id": "54d5d9c7-5a1f-4628-9c80-c28ff2fd36f4",
   "metadata": {},
   "outputs": [
    {
     "data": {
      "application/json": {
       "ascii": false,
       "bar_format": null,
       "colour": null,
       "elapsed": 0.032080888748168945,
       "initial": 0,
       "n": 0,
       "ncols": null,
       "nrows": 24,
       "postfix": null,
       "prefix": "Downloading (…)\"pytorch_model.bin\";",
       "rate": null,
       "total": 2240097289,
       "unit": "B",
       "unit_divisor": 1000,
       "unit_scale": true
      },
      "application/vnd.jupyter.widget-view+json": {
       "model_id": "38baa604149c44d09eb7a13d23383c11",
       "version_major": 2,
       "version_minor": 0
      },
      "text/plain": [
       "Downloading (…)\"pytorch_model.bin\";:   0%|          | 0.00/2.24G [00:00<?, ?B/s]"
      ]
     },
     "metadata": {},
     "output_type": "display_data"
    },
    {
     "name": "stdout",
     "output_type": "stream",
     "text": [
      "2023-04-05 18:48:08,364 SequenceTagger predicts: Dictionary with 76 tags: <unk>, O, B-CARDINAL, E-CARDINAL, S-PERSON, S-CARDINAL, S-PRODUCT, B-PRODUCT, I-PRODUCT, E-PRODUCT, B-WORK_OF_ART, I-WORK_OF_ART, E-WORK_OF_ART, B-PERSON, E-PERSON, S-GPE, B-DATE, I-DATE, E-DATE, S-ORDINAL, S-LANGUAGE, I-PERSON, S-EVENT, S-DATE, B-QUANTITY, E-QUANTITY, S-TIME, B-TIME, I-TIME, E-TIME, B-GPE, E-GPE, S-ORG, I-GPE, S-NORP, B-FAC, I-FAC, E-FAC, B-NORP, E-NORP, S-PERCENT, B-ORG, E-ORG, B-LANGUAGE, E-LANGUAGE, I-CARDINAL, I-ORG, S-WORK_OF_ART, I-QUANTITY, B-MONEY\n"
     ]
    }
   ],
   "source": [
    "test = get_locations_flair_test(\"I went to TD Garden which is next to Somerville and ate dinner at Burger King\")"
   ]
  },
  {
   "cell_type": "code",
   "execution_count": 47,
   "id": "21122f5a-7330-420f-86e0-09f4480dc243",
   "metadata": {},
   "outputs": [
    {
     "data": {
      "text/plain": [
       "flair.data.Sentence"
      ]
     },
     "execution_count": 47,
     "metadata": {},
     "output_type": "execute_result"
    }
   ],
   "source": [
    "type(test)"
   ]
  },
  {
   "cell_type": "code",
   "execution_count": 48,
   "id": "65f28eea-87f8-4e85-ab7e-eb5af53bfb9b",
   "metadata": {},
   "outputs": [
    {
     "data": {
      "text/plain": [
       "Sentence[16]: \"I went to TD Garden which is next to Somerville and ate dinner at Burger King\" → [\"TD Garden\"/FAC, \"Somerville\"/FAC, \"Burger King\"/ORG]"
      ]
     },
     "execution_count": 48,
     "metadata": {},
     "output_type": "execute_result"
    }
   ],
   "source": [
    "test"
   ]
  },
  {
   "cell_type": "code",
   "execution_count": 50,
   "id": "b9ddeaa8-1467-43c1-90ee-2e31e5d1f446",
   "metadata": {},
   "outputs": [
    {
     "data": {
      "text/plain": [
       "['Span[3:5]: \"TD Garden\"'/'FAC' (1.0),\n",
       " 'Span[9:10]: \"Somerville\"'/'FAC' (0.9999),\n",
       " 'Span[14:16]: \"Burger King\"'/'ORG' (1.0)]"
      ]
     },
     "execution_count": 50,
     "metadata": {},
     "output_type": "execute_result"
    }
   ],
   "source": [
    "test.get_labels('ner')"
   ]
  },
  {
   "cell_type": "code",
   "execution_count": 51,
   "id": "3bae2894-8333-4cd8-be7f-c8ffa9ce72f8",
   "metadata": {},
   "outputs": [
    {
     "data": {
      "text/plain": [
       "{'text': 'I went to TD Garden which is next to Somerville and ate dinner at Burger King',\n",
       " 'ner': [{'value': 'FAC', 'confidence': 0.9999774098396301},\n",
       "  {'value': 'FAC', 'confidence': 0.9998844861984253},\n",
       "  {'value': 'ORG', 'confidence': 0.9999557137489319}]}"
      ]
     },
     "execution_count": 51,
     "metadata": {},
     "output_type": "execute_result"
    }
   ],
   "source": [
    "test.to_dict('ner')"
   ]
  },
  {
   "cell_type": "code",
   "execution_count": 52,
   "id": "e738a33a-5e50-4df8-a188-113710a2513c",
   "metadata": {},
   "outputs": [],
   "source": [
    "for token in test.get_labels('ner'):\n",
    "    print(str(token).split('\"'))\n",
    "    print(str(token).split('\"')[1])\n",
    "    print(str(token).split('\"')[2].split(' ')[2])"
   ]
  },
  {
   "cell_type": "code",
   "execution_count": 55,
   "id": "d28af75d-a107-4d62-9372-ede38d9186aa",
   "metadata": {},
   "outputs": [
    {
     "name": "stdout",
     "output_type": "stream",
     "text": [
      "2023-04-05 18:50:19,935 SequenceTagger predicts: Dictionary with 76 tags: <unk>, O, B-CARDINAL, E-CARDINAL, S-PERSON, S-CARDINAL, S-PRODUCT, B-PRODUCT, I-PRODUCT, E-PRODUCT, B-WORK_OF_ART, I-WORK_OF_ART, E-WORK_OF_ART, B-PERSON, E-PERSON, S-GPE, B-DATE, I-DATE, E-DATE, S-ORDINAL, S-LANGUAGE, I-PERSON, S-EVENT, S-DATE, B-QUANTITY, E-QUANTITY, S-TIME, B-TIME, I-TIME, E-TIME, B-GPE, E-GPE, S-ORG, I-GPE, S-NORP, B-FAC, I-FAC, E-FAC, B-NORP, E-NORP, S-PERCENT, B-ORG, E-ORG, B-LANGUAGE, E-LANGUAGE, I-CARDINAL, I-ORG, S-WORK_OF_ART, I-QUANTITY, B-MONEY\n"
     ]
    },
    {
     "data": {
      "text/plain": [
       "flair.models.sequence_tagger_model.SequenceTagger"
      ]
     },
     "execution_count": 55,
     "metadata": {},
     "output_type": "execute_result"
    }
   ],
   "source": [
    "tagger = Classifier.load('ner-ontonotes-large')\n",
    "type(tagger)"
   ]
  },
  {
   "cell_type": "code",
   "execution_count": 70,
   "id": "37c4088b-0d73-4994-9d5b-e99baa420227",
   "metadata": {},
   "outputs": [],
   "source": [
    "def get_locations_flair(article_text : str, tagger : flair.models.sequence_tagger_model.SequenceTagger, \n",
    "                        entities = ['FAC', 'GPE', 'LOC', 'ORG']) -> flair.data.Sentence:\n",
    "    \"\"\"\n",
    "    get location names from article using NER - flair model (tagger should be using \"ner-ontonotes-large\" model\n",
    "        https://flairnlp.github.io/docs/tutorial-basics/tagging-entities\n",
    "    input: article_text as a string, aggregate of h1, h2, lede, and body\n",
    "    returns: final_entites - a list of tuples of (entity, tag)  mentioned in the article\n",
    "    \"\"\"\n",
    "    text = Sentence(article_text)\n",
    "    tagger.predict(text)\n",
    "    \n",
    "    entity_lst = []\n",
    "    \n",
    "    for token in text.get_labels('ner'):\n",
    "        entity = str(token).split('\"')[1]\n",
    "        tag = str(token).split('\"')[2].split(' ')[2]\n",
    "        entity_lst.append((entity, tag))\n",
    "        \n",
    "    \n",
    "    final_entities = [x for x in entity_lst if x[1] in entities]\n",
    "    \n",
    "    return final_entities"
   ]
  },
  {
   "cell_type": "code",
   "execution_count": 60,
   "id": "8faa9c4d-d10e-4785-9444-d0597e5d723c",
   "metadata": {},
   "outputs": [
    {
     "data": {
      "text/html": [
       "<div>\n",
       "<style scoped>\n",
       "    .dataframe tbody tr th:only-of-type {\n",
       "        vertical-align: middle;\n",
       "    }\n",
       "\n",
       "    .dataframe tbody tr th {\n",
       "        vertical-align: top;\n",
       "    }\n",
       "\n",
       "    .dataframe thead th {\n",
       "        text-align: right;\n",
       "    }\n",
       "</style>\n",
       "<table border=\"1\" class=\"dataframe\">\n",
       "  <thead>\n",
       "    <tr style=\"text-align: right;\">\n",
       "      <th></th>\n",
       "      <th>Type</th>\n",
       "      <th>Label</th>\n",
       "      <th>Headline</th>\n",
       "      <th>Body</th>\n",
       "      <th>Byline</th>\n",
       "      <th>Publish Date</th>\n",
       "      <th>Unnamed: 6</th>\n",
       "      <th>Unnamed: 7</th>\n",
       "      <th>Unnamed: 8</th>\n",
       "      <th>Unnamed: 9</th>\n",
       "      <th>...</th>\n",
       "      <th>Unnamed: 44</th>\n",
       "      <th>Unnamed: 45</th>\n",
       "      <th>Unnamed: 46</th>\n",
       "      <th>Unnamed: 47</th>\n",
       "      <th>Unnamed: 48</th>\n",
       "      <th>Unnamed: 49</th>\n",
       "      <th>Unnamed: 50</th>\n",
       "      <th>Unnamed: 51</th>\n",
       "      <th>Unnamed: 52</th>\n",
       "      <th>Unnamed: 53</th>\n",
       "    </tr>\n",
       "  </thead>\n",
       "  <tbody>\n",
       "    <tr>\n",
       "      <th>0</th>\n",
       "      <td>Article</td>\n",
       "      <td>Watertown Police Detective Alleges Hostile Wor...</td>\n",
       "      <td>Watertown Police Detective Alleges Hostile Wor...</td>\n",
       "      <td>BOSTON (AP) — A Watertown police detective all...</td>\n",
       "      <td>Associated Press</td>\n",
       "      <td>Wed Nov 18 14:39:02 EST 2020</td>\n",
       "      <td>NaN</td>\n",
       "      <td>NaN</td>\n",
       "      <td>NaN</td>\n",
       "      <td>NaN</td>\n",
       "      <td>...</td>\n",
       "      <td>NaN</td>\n",
       "      <td>NaN</td>\n",
       "      <td>NaN</td>\n",
       "      <td>NaN</td>\n",
       "      <td>NaN</td>\n",
       "      <td>NaN</td>\n",
       "      <td>NaN</td>\n",
       "      <td>NaN</td>\n",
       "      <td>NaN</td>\n",
       "      <td>NaN</td>\n",
       "    </tr>\n",
       "    <tr>\n",
       "      <th>1</th>\n",
       "      <td>Article</td>\n",
       "      <td>In 2020, Larissa FastHorse's 'The Thanksgiving...</td>\n",
       "      <td>In 2020, Larissa FastHorse's 'The Thanksgiving...</td>\n",
       "      <td>In late October, Native American playwright &lt;a...</td>\n",
       "      <td>Jill Kaufman</td>\n",
       "      <td>Fri Nov 20 16:34:53 EST 2020</td>\n",
       "      <td>NaN</td>\n",
       "      <td>NaN</td>\n",
       "      <td>NaN</td>\n",
       "      <td>NaN</td>\n",
       "      <td>...</td>\n",
       "      <td>NaN</td>\n",
       "      <td>NaN</td>\n",
       "      <td>NaN</td>\n",
       "      <td>NaN</td>\n",
       "      <td>NaN</td>\n",
       "      <td>NaN</td>\n",
       "      <td>NaN</td>\n",
       "      <td>NaN</td>\n",
       "      <td>NaN</td>\n",
       "      <td>NaN</td>\n",
       "    </tr>\n",
       "    <tr>\n",
       "      <th>2</th>\n",
       "      <td>Article</td>\n",
       "      <td>In From The Cold: Martha’s Vineyard To Open It...</td>\n",
       "      <td>In From The Cold: Martha’s Vineyard To Open It...</td>\n",
       "      <td>For the past five winters, three Martha’s Vine...</td>\n",
       "      <td>Jennette Barnes</td>\n",
       "      <td>Tue Nov 24 15:48:23 EST 2020</td>\n",
       "      <td>NaN</td>\n",
       "      <td>NaN</td>\n",
       "      <td>NaN</td>\n",
       "      <td>NaN</td>\n",
       "      <td>...</td>\n",
       "      <td>NaN</td>\n",
       "      <td>NaN</td>\n",
       "      <td>NaN</td>\n",
       "      <td>NaN</td>\n",
       "      <td>NaN</td>\n",
       "      <td>NaN</td>\n",
       "      <td>NaN</td>\n",
       "      <td>NaN</td>\n",
       "      <td>NaN</td>\n",
       "      <td>NaN</td>\n",
       "    </tr>\n",
       "    <tr>\n",
       "      <th>3</th>\n",
       "      <td>Article</td>\n",
       "      <td>Retail Behemoth Amazon May Be Coming To The Si...</td>\n",
       "      <td>Retail Behemoth Amazon May Be Coming To The Si...</td>\n",
       "      <td>A site plan filed with the city of Worcester’s...</td>\n",
       "      <td>Aaron Schachter</td>\n",
       "      <td>Fri Nov 27 15:11:17 EST 2020</td>\n",
       "      <td>NaN</td>\n",
       "      <td>NaN</td>\n",
       "      <td>NaN</td>\n",
       "      <td>NaN</td>\n",
       "      <td>...</td>\n",
       "      <td>NaN</td>\n",
       "      <td>NaN</td>\n",
       "      <td>NaN</td>\n",
       "      <td>NaN</td>\n",
       "      <td>NaN</td>\n",
       "      <td>NaN</td>\n",
       "      <td>NaN</td>\n",
       "      <td>NaN</td>\n",
       "      <td>NaN</td>\n",
       "      <td>NaN</td>\n",
       "    </tr>\n",
       "    <tr>\n",
       "      <th>4</th>\n",
       "      <td>Article</td>\n",
       "      <td>Rollins Talking Criminal Justice With Biden Team</td>\n",
       "      <td>Rollins Talking Criminal Justice With Biden Team</td>\n",
       "      <td>While she said &amp;quot;right now I&amp;#39;m stickin...</td>\n",
       "      <td>Michael P. Norton | State House News Service</td>\n",
       "      <td>Mon Nov 30 08:49:08 EST 2020</td>\n",
       "      <td>NaN</td>\n",
       "      <td>NaN</td>\n",
       "      <td>NaN</td>\n",
       "      <td>NaN</td>\n",
       "      <td>...</td>\n",
       "      <td>NaN</td>\n",
       "      <td>NaN</td>\n",
       "      <td>NaN</td>\n",
       "      <td>NaN</td>\n",
       "      <td>NaN</td>\n",
       "      <td>NaN</td>\n",
       "      <td>NaN</td>\n",
       "      <td>NaN</td>\n",
       "      <td>NaN</td>\n",
       "      <td>NaN</td>\n",
       "    </tr>\n",
       "  </tbody>\n",
       "</table>\n",
       "<p>5 rows × 54 columns</p>\n",
       "</div>"
      ],
      "text/plain": [
       "      Type                                              Label  \\\n",
       "0  Article  Watertown Police Detective Alleges Hostile Wor...   \n",
       "1  Article  In 2020, Larissa FastHorse's 'The Thanksgiving...   \n",
       "2  Article  In From The Cold: Martha’s Vineyard To Open It...   \n",
       "3  Article  Retail Behemoth Amazon May Be Coming To The Si...   \n",
       "4  Article   Rollins Talking Criminal Justice With Biden Team   \n",
       "\n",
       "                                            Headline  \\\n",
       "0  Watertown Police Detective Alleges Hostile Wor...   \n",
       "1  In 2020, Larissa FastHorse's 'The Thanksgiving...   \n",
       "2  In From The Cold: Martha’s Vineyard To Open It...   \n",
       "3  Retail Behemoth Amazon May Be Coming To The Si...   \n",
       "4   Rollins Talking Criminal Justice With Biden Team   \n",
       "\n",
       "                                                Body  \\\n",
       "0  BOSTON (AP) — A Watertown police detective all...   \n",
       "1  In late October, Native American playwright <a...   \n",
       "2  For the past five winters, three Martha’s Vine...   \n",
       "3  A site plan filed with the city of Worcester’s...   \n",
       "4  While she said &quot;right now I&#39;m stickin...   \n",
       "\n",
       "                                         Byline                  Publish Date  \\\n",
       "0                              Associated Press  Wed Nov 18 14:39:02 EST 2020   \n",
       "1                                  Jill Kaufman  Fri Nov 20 16:34:53 EST 2020   \n",
       "2                               Jennette Barnes  Tue Nov 24 15:48:23 EST 2020   \n",
       "3                               Aaron Schachter  Fri Nov 27 15:11:17 EST 2020   \n",
       "4  Michael P. Norton | State House News Service  Mon Nov 30 08:49:08 EST 2020   \n",
       "\n",
       "  Unnamed: 6 Unnamed: 7 Unnamed: 8 Unnamed: 9  ... Unnamed: 44 Unnamed: 45  \\\n",
       "0        NaN        NaN        NaN        NaN  ...         NaN         NaN   \n",
       "1        NaN        NaN        NaN        NaN  ...         NaN         NaN   \n",
       "2        NaN        NaN        NaN        NaN  ...         NaN         NaN   \n",
       "3        NaN        NaN        NaN        NaN  ...         NaN         NaN   \n",
       "4        NaN        NaN        NaN        NaN  ...         NaN         NaN   \n",
       "\n",
       "  Unnamed: 46 Unnamed: 47 Unnamed: 48 Unnamed: 49 Unnamed: 50 Unnamed: 51  \\\n",
       "0         NaN         NaN         NaN         NaN         NaN         NaN   \n",
       "1         NaN         NaN         NaN         NaN         NaN         NaN   \n",
       "2         NaN         NaN         NaN         NaN         NaN         NaN   \n",
       "3         NaN         NaN         NaN         NaN         NaN         NaN   \n",
       "4         NaN         NaN         NaN         NaN         NaN         NaN   \n",
       "\n",
       "  Unnamed: 52 Unnamed: 53  \n",
       "0         NaN         NaN  \n",
       "1         NaN         NaN  \n",
       "2         NaN         NaN  \n",
       "3         NaN         NaN  \n",
       "4         NaN         NaN  \n",
       "\n",
       "[5 rows x 54 columns]"
      ]
     },
     "execution_count": 60,
     "metadata": {},
     "output_type": "execute_result"
    }
   ],
   "source": [
    "df = pd.read_csv('gbh_rss_feed_location_analysis/search-result-2022-11-08-04-04-19(1).csv')\n",
    "\n",
    "df.head()"
   ]
  },
  {
   "cell_type": "code",
   "execution_count": 63,
   "id": "44d6e517-1603-443b-b555-733d1b457ece",
   "metadata": {},
   "outputs": [],
   "source": [
    "sample_text = df.Body.iloc[2]"
   ]
  },
  {
   "cell_type": "code",
   "execution_count": 64,
   "id": "77bdd28a-515e-479e-a8f8-6639050119f5",
   "metadata": {},
   "outputs": [
    {
     "name": "stdout",
     "output_type": "stream",
     "text": [
      "2023-04-05 18:54:54,385 SequenceTagger predicts: Dictionary with 76 tags: <unk>, O, B-CARDINAL, E-CARDINAL, S-PERSON, S-CARDINAL, S-PRODUCT, B-PRODUCT, I-PRODUCT, E-PRODUCT, B-WORK_OF_ART, I-WORK_OF_ART, E-WORK_OF_ART, B-PERSON, E-PERSON, S-GPE, B-DATE, I-DATE, E-DATE, S-ORDINAL, S-LANGUAGE, I-PERSON, S-EVENT, S-DATE, B-QUANTITY, E-QUANTITY, S-TIME, B-TIME, I-TIME, E-TIME, B-GPE, E-GPE, S-ORG, I-GPE, S-NORP, B-FAC, I-FAC, E-FAC, B-NORP, E-NORP, S-PERCENT, B-ORG, E-ORG, B-LANGUAGE, E-LANGUAGE, I-CARDINAL, I-ORG, S-WORK_OF_ART, I-QUANTITY, B-MONEY\n"
     ]
    }
   ],
   "source": [
    "tagger = Classifier.load('ner-ontonotes-large')"
   ]
  },
  {
   "cell_type": "code",
   "execution_count": 71,
   "id": "a0c04dd9-8fd9-4d5e-9fc5-b2f44f76ce80",
   "metadata": {},
   "outputs": [
    {
     "data": {
      "text/plain": [
       "[('Martha’s Vineyard', 'GPE'),\n",
       " ('Vineyard', 'LOC'),\n",
       " ('Oak Bluffs', 'GPE'),\n",
       " ('the Portuguese-American Club.', 'ORG'),\n",
       " ('Seadale', 'ORG'),\n",
       " ('Vineyard', 'LOC'),\n",
       " ('Martha’s Vineyard Hospital', 'ORG'),\n",
       " ('The Vineyard Trust', 'ORG'),\n",
       " ('the Old Whaling Church.', 'ORG'),\n",
       " ('Harbor Homes', 'ORG'),\n",
       " ('Edgartown.', 'GPE'),\n",
       " ('Martha’s Vineyard Hospital', 'ORG'),\n",
       " ('Vineyard', 'ORG')]"
      ]
     },
     "execution_count": 71,
     "metadata": {},
     "output_type": "execute_result"
    }
   ],
   "source": [
    "get_locations_flair(article_text = sample_text, tagger = tagger)"
   ]
  },
  {
   "cell_type": "code",
   "execution_count": null,
   "id": "dcd05e83-0d44-47e8-a173-686f14bb8ead",
   "metadata": {},
   "outputs": [],
   "source": []
  }
 ],
 "metadata": {
  "kernelspec": {
   "display_name": "Python 3 (ipykernel)",
   "language": "python",
   "name": "python3"
  },
  "language_info": {
   "codemirror_mode": {
    "name": "ipython",
    "version": 3
   },
   "file_extension": ".py",
   "mimetype": "text/x-python",
   "name": "python",
   "nbconvert_exporter": "python",
   "pygments_lexer": "ipython3",
   "version": "3.8.13"
  }
 },
 "nbformat": 4,
 "nbformat_minor": 5
}
