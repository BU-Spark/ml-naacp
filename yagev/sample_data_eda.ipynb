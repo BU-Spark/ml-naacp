{
 "cells": [
  {
   "cell_type": "code",
   "execution_count": 10,
   "id": "da369567-4b1e-43d7-8c5c-29cb19069a98",
   "metadata": {},
   "outputs": [],
   "source": [
    "import pandas as pd\n",
    "import json"
   ]
  },
  {
   "cell_type": "code",
   "execution_count": 2,
   "id": "152a9033-4eae-4cea-b281-ed17ccdf32f7",
   "metadata": {},
   "outputs": [
    {
     "data": {
      "text/html": [
       "<div>\n",
       "<style scoped>\n",
       "    .dataframe tbody tr th:only-of-type {\n",
       "        vertical-align: middle;\n",
       "    }\n",
       "\n",
       "    .dataframe tbody tr th {\n",
       "        vertical-align: top;\n",
       "    }\n",
       "\n",
       "    .dataframe thead th {\n",
       "        text-align: right;\n",
       "    }\n",
       "</style>\n",
       "<table border=\"1\" class=\"dataframe\">\n",
       "  <thead>\n",
       "    <tr style=\"text-align: right;\">\n",
       "      <th></th>\n",
       "      <th>Unnamed: 0</th>\n",
       "      <th>pub_type</th>\n",
       "      <th>position_section</th>\n",
       "      <th>position_subsection</th>\n",
       "      <th>hl1</th>\n",
       "      <th>hl2</th>\n",
       "      <th>author</th>\n",
       "      <th>lede</th>\n",
       "      <th>body</th>\n",
       "      <th>language</th>\n",
       "      <th>word_count</th>\n",
       "      <th>copyright</th>\n",
       "      <th>content-id</th>\n",
       "      <th>volume</th>\n",
       "      <th>issue_number</th>\n",
       "      <th>edition</th>\n",
       "      <th>pub_name</th>\n",
       "      <th>pub_date</th>\n",
       "      <th>licensor_indexing_terms</th>\n",
       "      <th>indexing_terms</th>\n",
       "    </tr>\n",
       "  </thead>\n",
       "  <tbody>\n",
       "    <tr>\n",
       "      <th>0</th>\n",
       "      <td>0</td>\n",
       "      <td>Newspaper, Newspapers</td>\n",
       "      <td>NEWS</td>\n",
       "      <td>Local</td>\n",
       "      <td>3-alarm blaze leaves some homeless</td>\n",
       "      <td>NaN</td>\n",
       "      <td>COLNETH SMILEY Jr.</td>\n",
       "      <td>A three-alarm blaze at a Quincy apartment buil...</td>\n",
       "      <td>Smoke from the fire on Newport Street across f...</td>\n",
       "      <td>['ENGLISH']</td>\n",
       "      <td>158</td>\n",
       "      <td>Copyright 2015 Boston Herald Inc. All Rights R...</td>\n",
       "      <td>BHERLD-27895273</td>\n",
       "      <td>Vol. 33</td>\n",
       "      <td>No. 309</td>\n",
       "      <td>All Editions</td>\n",
       "      <td>The Boston Herald</td>\n",
       "      <td>5/11/15</td>\n",
       "      <td>FIRE, NEWPORT, QUINCY, ALARM, SMOKE, SMYTH, 30...</td>\n",
       "      <td>{'legal': [{'className': 'Governments', 'class...</td>\n",
       "    </tr>\n",
       "    <tr>\n",
       "      <th>1</th>\n",
       "      <td>1</td>\n",
       "      <td>Newspaper, Newspapers</td>\n",
       "      <td>NEWS</td>\n",
       "      <td>Local</td>\n",
       "      <td>Bridgewater police seek ID of burned woman's body</td>\n",
       "      <td>NaN</td>\n",
       "      <td>BRIAN DOWLING</td>\n",
       "      <td>Police are asking for the public's help to ide...</td>\n",
       "      <td>The remains of the unidentified woman, whose h...</td>\n",
       "      <td>['ENGLISH']</td>\n",
       "      <td>201</td>\n",
       "      <td>Copyright 2015 Boston Herald Inc. All Rights R...</td>\n",
       "      <td>BHERLD-27895267</td>\n",
       "      <td>Vol. 33</td>\n",
       "      <td>No. 309</td>\n",
       "      <td>All Editions</td>\n",
       "      <td>The Boston Herald</td>\n",
       "      <td>5/11/15</td>\n",
       "      <td>WOMAN, POLICE, BODY, BRIDGEWATER, BURNED, CRUZ...</td>\n",
       "      <td>{'subject': [{'score': '90', 'classCode': 'N92...</td>\n",
       "    </tr>\n",
       "    <tr>\n",
       "      <th>2</th>\n",
       "      <td>2</td>\n",
       "      <td>Newspaper, Newspapers</td>\n",
       "      <td>SPORTS</td>\n",
       "      <td>Football-NFL</td>\n",
       "      <td>Fitzpatrick gets thumbs-up to start</td>\n",
       "      <td>NaN</td>\n",
       "      <td>NaN</td>\n",
       "      <td>It's a thumbs-up on Ryan Fitzpatrick starting ...</td>\n",
       "      <td>'No limitations today,' Fitzpatrick said. 'Rea...</td>\n",
       "      <td>['ENGLISH']</td>\n",
       "      <td>514</td>\n",
       "      <td>Copyright 2015 Boston Herald Inc. All Rights R...</td>\n",
       "      <td>BHERLD-27897026</td>\n",
       "      <td>Vol. 33</td>\n",
       "      <td>No. 309</td>\n",
       "      <td>All Editions</td>\n",
       "      <td>The Boston Herald</td>\n",
       "      <td>5/11/15</td>\n",
       "      <td>FITZPATRICK, MANZIEL, COACH, FISHER, QUARTERBA...</td>\n",
       "      <td>{'legal': [{'className': 'Education Law', 'cla...</td>\n",
       "    </tr>\n",
       "    <tr>\n",
       "      <th>3</th>\n",
       "      <td>3</td>\n",
       "      <td>Newspaper, Newspapers</td>\n",
       "      <td>NEWS</td>\n",
       "      <td>Obituaries</td>\n",
       "      <td>Eileen Walsh, at 83, - of Abington, a nurse</td>\n",
       "      <td>NaN</td>\n",
       "      <td>NaN</td>\n",
       "      <td>Eileen (Conlon) Walsh of Abington, a nurse, di...</td>\n",
       "      <td>She was a nurse at Shattuck and Carney hospita...</td>\n",
       "      <td>['ENGLISH']</td>\n",
       "      <td>111</td>\n",
       "      <td>Copyright 2015 Boston Herald Inc. All Rights R...</td>\n",
       "      <td>BHERLD-27890931</td>\n",
       "      <td>Vol. 33</td>\n",
       "      <td>No. 309</td>\n",
       "      <td>All Editions</td>\n",
       "      <td>The Boston Herald</td>\n",
       "      <td>5/11/15</td>\n",
       "      <td>NURSE, WALSH, ABINGTON, EILEEN, FUNERAL, ARRAN...</td>\n",
       "      <td>{'subject': [{'score': '97', 'classCode': 'STX...</td>\n",
       "    </tr>\n",
       "    <tr>\n",
       "      <th>4</th>\n",
       "      <td>4</td>\n",
       "      <td>Newspaper, Newspapers</td>\n",
       "      <td>SPORTS</td>\n",
       "      <td>Agate</td>\n",
       "      <td>HIGH SCHOOL SCOREBOARD</td>\n",
       "      <td>NaN</td>\n",
       "      <td>NaN</td>\n",
       "      <td>FIELD HOCKEY Governor's 5, Groton 1 St. Mark's...</td>\n",
       "      <td>Newton North at Needham, 4 Chelmsford at North...</td>\n",
       "      <td>['ENGLISH']</td>\n",
       "      <td>937</td>\n",
       "      <td>Copyright 2015 Boston Herald Inc. All Rights R...</td>\n",
       "      <td>BHERLD-27898638</td>\n",
       "      <td>Vol. 33</td>\n",
       "      <td>No. 309</td>\n",
       "      <td>All Editions</td>\n",
       "      <td>The Boston Herald</td>\n",
       "      <td>5/11/15</td>\n",
       "      <td>BISHOP, CATHOLIC, CENTRAL, DIVISION, NORTH, PR...</td>\n",
       "      <td>{'subject': [{'score': '89', 'classCode': 'ST0...</td>\n",
       "    </tr>\n",
       "  </tbody>\n",
       "</table>\n",
       "</div>"
      ],
      "text/plain": [
       "   Unnamed: 0               pub_type position_section position_subsection  \\\n",
       "0           0  Newspaper, Newspapers             NEWS               Local   \n",
       "1           1  Newspaper, Newspapers             NEWS               Local   \n",
       "2           2  Newspaper, Newspapers           SPORTS        Football-NFL   \n",
       "3           3  Newspaper, Newspapers             NEWS          Obituaries   \n",
       "4           4  Newspaper, Newspapers           SPORTS               Agate   \n",
       "\n",
       "                                                 hl1  hl2              author  \\\n",
       "0                 3-alarm blaze leaves some homeless  NaN  COLNETH SMILEY Jr.   \n",
       "1  Bridgewater police seek ID of burned woman's body  NaN       BRIAN DOWLING   \n",
       "2                Fitzpatrick gets thumbs-up to start  NaN                 NaN   \n",
       "3        Eileen Walsh, at 83, - of Abington, a nurse  NaN                 NaN   \n",
       "4                             HIGH SCHOOL SCOREBOARD  NaN                 NaN   \n",
       "\n",
       "                                                lede  \\\n",
       "0  A three-alarm blaze at a Quincy apartment buil...   \n",
       "1  Police are asking for the public's help to ide...   \n",
       "2  It's a thumbs-up on Ryan Fitzpatrick starting ...   \n",
       "3  Eileen (Conlon) Walsh of Abington, a nurse, di...   \n",
       "4  FIELD HOCKEY Governor's 5, Groton 1 St. Mark's...   \n",
       "\n",
       "                                                body     language  word_count  \\\n",
       "0  Smoke from the fire on Newport Street across f...  ['ENGLISH']         158   \n",
       "1  The remains of the unidentified woman, whose h...  ['ENGLISH']         201   \n",
       "2  'No limitations today,' Fitzpatrick said. 'Rea...  ['ENGLISH']         514   \n",
       "3  She was a nurse at Shattuck and Carney hospita...  ['ENGLISH']         111   \n",
       "4  Newton North at Needham, 4 Chelmsford at North...  ['ENGLISH']         937   \n",
       "\n",
       "                                           copyright       content-id  \\\n",
       "0  Copyright 2015 Boston Herald Inc. All Rights R...  BHERLD-27895273   \n",
       "1  Copyright 2015 Boston Herald Inc. All Rights R...  BHERLD-27895267   \n",
       "2  Copyright 2015 Boston Herald Inc. All Rights R...  BHERLD-27897026   \n",
       "3  Copyright 2015 Boston Herald Inc. All Rights R...  BHERLD-27890931   \n",
       "4  Copyright 2015 Boston Herald Inc. All Rights R...  BHERLD-27898638   \n",
       "\n",
       "    volume issue_number       edition           pub_name pub_date  \\\n",
       "0  Vol. 33      No. 309  All Editions  The Boston Herald  5/11/15   \n",
       "1  Vol. 33      No. 309  All Editions  The Boston Herald  5/11/15   \n",
       "2  Vol. 33      No. 309  All Editions  The Boston Herald  5/11/15   \n",
       "3  Vol. 33      No. 309  All Editions  The Boston Herald  5/11/15   \n",
       "4  Vol. 33      No. 309  All Editions  The Boston Herald  5/11/15   \n",
       "\n",
       "                             licensor_indexing_terms  \\\n",
       "0  FIRE, NEWPORT, QUINCY, ALARM, SMOKE, SMYTH, 30...   \n",
       "1  WOMAN, POLICE, BODY, BRIDGEWATER, BURNED, CRUZ...   \n",
       "2  FITZPATRICK, MANZIEL, COACH, FISHER, QUARTERBA...   \n",
       "3  NURSE, WALSH, ABINGTON, EILEEN, FUNERAL, ARRAN...   \n",
       "4  BISHOP, CATHOLIC, CENTRAL, DIVISION, NORTH, PR...   \n",
       "\n",
       "                                      indexing_terms  \n",
       "0  {'legal': [{'className': 'Governments', 'class...  \n",
       "1  {'subject': [{'score': '90', 'classCode': 'N92...  \n",
       "2  {'legal': [{'className': 'Education Law', 'cla...  \n",
       "3  {'subject': [{'score': '97', 'classCode': 'STX...  \n",
       "4  {'subject': [{'score': '89', 'classCode': 'ST0...  "
      ]
     },
     "execution_count": 2,
     "metadata": {},
     "output_type": "execute_result"
    }
   ],
   "source": [
    "df = pd.read_csv('sample_data.csv')\n",
    "\n",
    "df.head()"
   ]
  },
  {
   "cell_type": "code",
   "execution_count": 4,
   "id": "0294f31f-e3da-460b-acc1-aaded5ad4ae7",
   "metadata": {},
   "outputs": [
    {
     "data": {
      "text/plain": [
       "93"
      ]
     },
     "execution_count": 4,
     "metadata": {},
     "output_type": "execute_result"
    }
   ],
   "source": [
    "len(df)"
   ]
  },
  {
   "cell_type": "code",
   "execution_count": 6,
   "id": "300fdf19-0b61-4d13-9b95-3e025a54ff80",
   "metadata": {},
   "outputs": [
    {
     "data": {
      "text/html": [
       "<div>\n",
       "<style scoped>\n",
       "    .dataframe tbody tr th:only-of-type {\n",
       "        vertical-align: middle;\n",
       "    }\n",
       "\n",
       "    .dataframe tbody tr th {\n",
       "        vertical-align: top;\n",
       "    }\n",
       "\n",
       "    .dataframe thead th {\n",
       "        text-align: right;\n",
       "    }\n",
       "</style>\n",
       "<table border=\"1\" class=\"dataframe\">\n",
       "  <thead>\n",
       "    <tr style=\"text-align: right;\">\n",
       "      <th></th>\n",
       "      <th>Tags</th>\n",
       "    </tr>\n",
       "  </thead>\n",
       "  <tbody>\n",
       "    <tr>\n",
       "      <th>0</th>\n",
       "      <td>2018 Elections</td>\n",
       "    </tr>\n",
       "    <tr>\n",
       "      <th>1</th>\n",
       "      <td>Aging</td>\n",
       "    </tr>\n",
       "    <tr>\n",
       "      <th>2</th>\n",
       "      <td>Analysis</td>\n",
       "    </tr>\n",
       "    <tr>\n",
       "      <th>3</th>\n",
       "      <td>Biotech</td>\n",
       "    </tr>\n",
       "    <tr>\n",
       "      <th>4</th>\n",
       "      <td>Business</td>\n",
       "    </tr>\n",
       "  </tbody>\n",
       "</table>\n",
       "</div>"
      ],
      "text/plain": [
       "             Tags\n",
       "0  2018 Elections\n",
       "1           Aging\n",
       "2        Analysis\n",
       "3         Biotech\n",
       "4        Business"
      ]
     },
     "execution_count": 6,
     "metadata": {},
     "output_type": "execute_result"
    }
   ],
   "source": [
    "tags_df = pd.read_csv('topictags.csv')\n",
    "\n",
    "tags_df.head()"
   ]
  },
  {
   "cell_type": "code",
   "execution_count": 15,
   "id": "009ca9b5-53ab-42c0-9e2d-c64313de137d",
   "metadata": {},
   "outputs": [
    {
     "data": {
      "text/plain": [
       "81"
      ]
     },
     "execution_count": 15,
     "metadata": {},
     "output_type": "execute_result"
    }
   ],
   "source": [
    "len(df.indexing_terms.unique())"
   ]
  },
  {
   "cell_type": "code",
   "execution_count": 8,
   "id": "80576f92-2fe9-4cef-8ca9-ca25ed6737d7",
   "metadata": {},
   "outputs": [
    {
     "data": {
      "text/plain": [
       "\"{'legal': [{'className': 'Governments', 'classCode': 'Z3VpZD11cm46dG9waWM6MjdEQjE4OUJDMzQxNDNEMEI0RTI1QUFCMzJENjEwRTA7cGFyZW50Z3VpZD0'}], 'subject': [{'score': '92', 'classCode': 'STX000726', 'className': 'FIRES'}, {'score': '77', 'classCode': 'STX000969', 'className': 'INVESTIGATIONS'}], 'industry': [{'score': '73', 'classCode': 'ST000DFRN', 'className': 'EMERGENCY VEHICLES'}]}\""
      ]
     },
     "execution_count": 8,
     "metadata": {},
     "output_type": "execute_result"
    }
   ],
   "source": [
    "df.indexing_terms.unique()[0]"
   ]
  },
  {
   "cell_type": "code",
   "execution_count": 9,
   "id": "73ef39b5-b0e7-4313-b0bd-920f11ceb6f4",
   "metadata": {},
   "outputs": [
    {
     "data": {
      "text/plain": [
       "\"{'subject': [{'score': '90', 'classCode': 'N922120QM', 'className': 'POLICE FORCES'}, {'score': '78', 'classCode': 'ST000CEBQ', 'className': 'BURN INJURIES'}, {'score': '75', 'classCode': 'STX000969', 'className': 'INVESTIGATIONS'}, {'score': '72', 'classCode': 'ST000DIDA', 'className': 'COMMUTING'}, {'score': '52', 'classCode': 'STX001120', 'className': 'METAL DETECTORS'}], 'industry': [{'score': '52', 'classCode': 'STX001120', 'className': 'METAL DETECTORS'}]}\""
      ]
     },
     "execution_count": 9,
     "metadata": {},
     "output_type": "execute_result"
    }
   ],
   "source": [
    "df.indexing_terms.unique()[1]"
   ]
  },
  {
   "cell_type": "code",
   "execution_count": 18,
   "id": "d82c60c4-912d-454f-a1af-8e2939b141e0",
   "metadata": {},
   "outputs": [],
   "source": [
    "def get_subjects(json : dict) -> list :\n",
    "    subjects = json['subject']\n",
    "    arr = []\n",
    "    \n",
    "    for s in subjects:\n",
    "        temp = s['className']\n",
    "        arr.append(temp)\n",
    "    \n",
    "    return arr"
   ]
  },
  {
   "cell_type": "code",
   "execution_count": 46,
   "id": "cdb94dd9-3e44-4a49-b395-0fad3ca03a2e",
   "metadata": {},
   "outputs": [
    {
     "name": "stdout",
     "output_type": "stream",
     "text": [
      "{'legal': [{'className': 'Governments', 'classCode': 'Z3VpZD11cm46dG9waWM6MjdEQjE4OUJDMzQxNDNEMEI0RTI1QUFCMzJENjEwRTA7cGFyZW50Z3VpZD0'}], 'subject': [{'score': '92', 'classCode': 'STX000726', 'className': 'FIRES'}, {'score': '77', 'classCode': 'STX000969', 'className': 'INVESTIGATIONS'}], 'industry': [{'score': '73', 'classCode': 'ST000DFRN', 'className': 'EMERGENCY VEHICLES'}]}\n",
      "{'legal': [{'className': 'Governments', 'classCode': 'Z3VpZD11cm46dG9waWM6MjdEQjE4OUJDMzQxNDNEMEI0RTI1QUFCMzJENjEwRTA7cGFyZW50Z3VpZD0'}], 'subject': [{'score': '92', 'classCode': 'STX000726', 'className': 'FIRES'}, {'score': '77', 'classCode': 'STX000969', 'className': 'INVESTIGATIONS'}], 'industry': [{'score': '73', 'classCode': 'ST000DFRN', 'className': 'EMERGENCY VEHICLES'}]}\n",
      "['FIRES', 'INVESTIGATIONS']\n",
      "1\n",
      "\n",
      "{'subject': [{'score': '90', 'classCode': 'N922120QM', 'className': 'POLICE FORCES'}, {'score': '78', 'classCode': 'ST000CEBQ', 'className': 'BURN INJURIES'}, {'score': '75', 'classCode': 'STX000969', 'className': 'INVESTIGATIONS'}, {'score': '72', 'classCode': 'ST000DIDA', 'className': 'COMMUTING'}, {'score': '52', 'classCode': 'STX001120', 'className': 'METAL DETECTORS'}], 'industry': [{'score': '52', 'classCode': 'STX001120', 'className': 'METAL DETECTORS'}]}\n",
      "{'subject': [{'score': '90', 'classCode': 'N922120QM', 'className': 'POLICE FORCES'}, {'score': '78', 'classCode': 'ST000CEBQ', 'className': 'BURN INJURIES'}, {'score': '75', 'classCode': 'STX000969', 'className': 'INVESTIGATIONS'}, {'score': '72', 'classCode': 'ST000DIDA', 'className': 'COMMUTING'}, {'score': '52', 'classCode': 'STX001120', 'className': 'METAL DETECTORS'}], 'industry': [{'score': '52', 'classCode': 'STX001120', 'className': 'METAL DETECTORS'}]}\n",
      "['POLICE FORCES', 'BURN INJURIES', 'INVESTIGATIONS', 'COMMUTING', 'METAL DETECTORS']\n",
      "2\n",
      "AL DETECTORS\"}]}\n",
      "{'legal': [{'className': 'Education Law', 'classCode': 'Z3VpZD11cm46dG9waWM6NDkzNUEzQzFBNEZBNEFBREIxNDM5MTc1MUU5QjI4MTY7cGFyZW50Z3VpZD0'}], 'subject': [{'score': '89', 'classCode': 'STX000126', 'className': 'ATHLETES'}, {'score': '89', 'classCode': 'STX000081', 'className': 'AMERICAN FOOTBALL'}, {'score': '77', 'classCode': 'ST000C47H', 'className': 'WOUNDS & INJURIES'}, {'score': '73', 'classCode': 'STX000539', 'className': 'DRUGS IN SPORTS'}, {'score': '72', 'classCode': 'ST000C9YJ', 'className': 'AMERICAN FOOTBALL TOURNAMENTS'}, {'score': '70', 'classCode': 'ST0009U2J', 'className': 'SPORTS & RECREATION EVENTS'}, {'score': '60', 'classCode': 'STX001644', 'className': 'SUBSTANCE ABUSE'}, {'score': '50', 'classCode': 'STX000534', 'className': 'DRUG POLICY'}], 'city': [{'score': '70', 'classCode': 'GX615', 'className': 'CINCINNATI, OH, USA'}, {'score': '50', 'classCode': 'GX601', 'className': 'NEW YORK, NY, USA'}, {'score': '50', 'classCode': 'GX621', 'className': 'TAMPA, FL, USA'}], 'state': [{'score': '73', 'classCode': 'GS148', 'className': 'NEW YORK, USA'}]}\n",
      "{'legal': [{'className': 'Education Law', 'classCode': 'Z3VpZD11cm46dG9waWM6NDkzNUEzQzFBNEZBNEFBREIxNDM5MTc1MUU5QjI4MTY7cGFyZW50Z3VpZD0'}], 'subject': [{'score': '89', 'classCode': 'STX000126', 'className': 'ATHLETES'}, {'score': '89', 'classCode': 'STX000081', 'className': 'AMERICAN FOOTBALL'}, {'score': '77', 'classCode': 'ST000C47H', 'className': 'WOUNDS & INJURIES'}, {'score': '73', 'classCode': 'STX000539', 'className': 'DRUGS IN SPORTS'}, {'score': '72', 'classCode': 'ST000C9YJ', 'className': 'AMERICAN FOOTBALL TOURNAMENTS'}, {'score': '70', 'classCode': 'ST0009U2J', 'className': 'SPORTS & RECREATION EVENTS'}, {'score': '60', 'classCode': 'STX001644', 'className': 'SUBSTANCE ABUSE'}, {'score': '50', 'classCode': 'STX000534', 'className': 'DRUG POLICY'}], 'city': [{'score': '70', 'classCode': 'GX615', 'className': 'CINCINNATI, OH, USA'}, {'score': '50', 'classCode': 'GX601', 'className': 'NEW YORK, NY, USA'}, {'score': '50', 'classCode': 'GX621', 'className': 'TAMPA, FL, USA'}], 'state': [{'score': '73', 'classCode': 'GS148', 'className': 'NEW YORK, USA'}]}\n",
      "['ATHLETES', 'AMERICAN FOOTBALL', 'WOUNDS & INJURIES', 'DRUGS IN SPORTS', 'AMERICAN FOOTBALL TOURNAMENTS', 'SPORTS & RECREATION EVENTS', 'SUBSTANCE ABUSE', 'DRUG POLICY']\n",
      "3\n",
      "\"score\": \"72\", \"classCode\": \"ST000C9YJ\", \"className\": \"AMERICAN FOOTBALL TOURNAMENTS\"}, {\"score\": \"70\", \"classCode\": \"ST0009U2J\", \"className\": \"SPORTS & RECREATION EVENTS\"}, {\"score\": \"60\", \"classCode\": \"STX001644\", \"className\": \"SUBSTANCE ABUSE\"}, {\"score\": \"50\", \"classCode\": \"STX000534\", \"className\": \"DRUG POLICY\"}], \"city\": [{\"score\": \"70\", \"classCode\": \"GX615\", \"className\": \"CINCINNATI, OH, USA\"}, {\"score\": \"50\", \"classCode\": \"GX601\", \"className\": \"NEW YORK, NY, USA\"}, {\"score\": \"50\", \"classCode\": \"GX621\", \"className\": \"TAMPA, FL, USA\"}], \"state\": [{\"score\": \"73\", \"classCode\": \"GS148\", \"className\": \"NEW YORK, USA\"}]}\n",
      "{'subject': [{'score': '97', 'classCode': 'STX000454', 'className': 'DEATHS & OBITUARIES'}, {'score': '70', 'classCode': 'ST000CET8', 'className': 'GRANDCHILDREN'}], 'industry': [{'score': '88', 'classCode': 'N621399MG', 'className': 'NURSES & NURSING'}], 'city': [{'score': '72', 'classCode': 'GX601', 'className': 'NEW YORK, NY, USA'}], 'state': [{'score': '72', 'classCode': 'GS148', 'className': 'NEW YORK, USA'}], 'country': [{'score': '77', 'classCode': 'GC628', 'className': 'ENGLAND'}, {'score': '72', 'classCode': 'GC320', 'className': 'IRELAND'}]}\n",
      "{'subject': [{'score': '97', 'classCode': 'STX000454', 'className': 'DEATHS & OBITUARIES'}, {'score': '70', 'classCode': 'ST000CET8', 'className': 'GRANDCHILDREN'}], 'industry': [{'score': '88', 'classCode': 'N621399MG', 'className': 'NURSES & NURSING'}], 'city': [{'score': '72', 'classCode': 'GX601', 'className': 'NEW YORK, NY, USA'}], 'state': [{'score': '72', 'classCode': 'GS148', 'className': 'NEW YORK, USA'}], 'country': [{'score': '77', 'classCode': 'GC628', 'className': 'ENGLAND'}, {'score': '72', 'classCode': 'GC320', 'className': 'IRELAND'}]}\n",
      "['DEATHS & OBITUARIES', 'GRANDCHILDREN']\n",
      "4\n",
      "assCode\": \"GC628\", \"className\": \"ENGLAND\"}, {\"score\": \"72\", \"classCode\": \"GC320\", \"className\": \"IRELAND\"}]}\n"
     ]
    },
    {
     "ename": "JSONDecodeError",
     "evalue": "Expecting ',' delimiter: line 1 column 459 (char 458)",
     "output_type": "error",
     "traceback": [
      "\u001b[0;31m---------------------------------------------------------------------------\u001b[0m",
      "\u001b[0;31mJSONDecodeError\u001b[0m                           Traceback (most recent call last)",
      "Cell \u001b[0;32mIn [46], line 6\u001b[0m\n\u001b[1;32m      3\u001b[0m \u001b[38;5;28;01mfor\u001b[39;00m i \u001b[38;5;129;01min\u001b[39;00m \u001b[38;5;28mrange\u001b[39m(\u001b[38;5;28mlen\u001b[39m(df)):\n\u001b[1;32m      4\u001b[0m     \u001b[38;5;66;03m#try:\u001b[39;00m\n\u001b[1;32m      5\u001b[0m         string_json \u001b[38;5;241m=\u001b[39m df\u001b[38;5;241m.\u001b[39mindexing_terms\u001b[38;5;241m.\u001b[39miloc[i]\n\u001b[0;32m----> 6\u001b[0m         dict_ \u001b[38;5;241m=\u001b[39m \u001b[43mjson\u001b[49m\u001b[38;5;241;43m.\u001b[39;49m\u001b[43mloads\u001b[49m\u001b[43m(\u001b[49m\u001b[43mstring_json\u001b[49m\u001b[38;5;241;43m.\u001b[39;49m\u001b[43mreplace\u001b[49m\u001b[43m(\u001b[49m\u001b[38;5;124;43m\"\u001b[39;49m\u001b[38;5;124;43m'\u001b[39;49m\u001b[38;5;124;43m\"\u001b[39;49m\u001b[43m,\u001b[49m\u001b[43m \u001b[49m\u001b[38;5;124;43m'\u001b[39;49m\u001b[38;5;124;43m\"\u001b[39;49m\u001b[38;5;124;43m'\u001b[39;49m\u001b[43m)\u001b[49m\u001b[43m)\u001b[49m\n\u001b[1;32m      7\u001b[0m         temp_arr \u001b[38;5;241m=\u001b[39m get_subjects(dict_)\n\u001b[1;32m      8\u001b[0m         collection\u001b[38;5;241m.\u001b[39mappend(\u001b[38;5;28mstr\u001b[39m(temp_arr))\n",
      "File \u001b[0;32m~/miniforge3/lib/python3.8/json/__init__.py:357\u001b[0m, in \u001b[0;36mloads\u001b[0;34m(s, cls, object_hook, parse_float, parse_int, parse_constant, object_pairs_hook, **kw)\u001b[0m\n\u001b[1;32m    352\u001b[0m     \u001b[38;5;28;01mdel\u001b[39;00m kw[\u001b[38;5;124m'\u001b[39m\u001b[38;5;124mencoding\u001b[39m\u001b[38;5;124m'\u001b[39m]\n\u001b[1;32m    354\u001b[0m \u001b[38;5;28;01mif\u001b[39;00m (\u001b[38;5;28mcls\u001b[39m \u001b[38;5;129;01mis\u001b[39;00m \u001b[38;5;28;01mNone\u001b[39;00m \u001b[38;5;129;01mand\u001b[39;00m object_hook \u001b[38;5;129;01mis\u001b[39;00m \u001b[38;5;28;01mNone\u001b[39;00m \u001b[38;5;129;01mand\u001b[39;00m\n\u001b[1;32m    355\u001b[0m         parse_int \u001b[38;5;129;01mis\u001b[39;00m \u001b[38;5;28;01mNone\u001b[39;00m \u001b[38;5;129;01mand\u001b[39;00m parse_float \u001b[38;5;129;01mis\u001b[39;00m \u001b[38;5;28;01mNone\u001b[39;00m \u001b[38;5;129;01mand\u001b[39;00m\n\u001b[1;32m    356\u001b[0m         parse_constant \u001b[38;5;129;01mis\u001b[39;00m \u001b[38;5;28;01mNone\u001b[39;00m \u001b[38;5;129;01mand\u001b[39;00m object_pairs_hook \u001b[38;5;129;01mis\u001b[39;00m \u001b[38;5;28;01mNone\u001b[39;00m \u001b[38;5;129;01mand\u001b[39;00m \u001b[38;5;129;01mnot\u001b[39;00m kw):\n\u001b[0;32m--> 357\u001b[0m     \u001b[38;5;28;01mreturn\u001b[39;00m \u001b[43m_default_decoder\u001b[49m\u001b[38;5;241;43m.\u001b[39;49m\u001b[43mdecode\u001b[49m\u001b[43m(\u001b[49m\u001b[43ms\u001b[49m\u001b[43m)\u001b[49m\n\u001b[1;32m    358\u001b[0m \u001b[38;5;28;01mif\u001b[39;00m \u001b[38;5;28mcls\u001b[39m \u001b[38;5;129;01mis\u001b[39;00m \u001b[38;5;28;01mNone\u001b[39;00m:\n\u001b[1;32m    359\u001b[0m     \u001b[38;5;28mcls\u001b[39m \u001b[38;5;241m=\u001b[39m JSONDecoder\n",
      "File \u001b[0;32m~/miniforge3/lib/python3.8/json/decoder.py:337\u001b[0m, in \u001b[0;36mJSONDecoder.decode\u001b[0;34m(self, s, _w)\u001b[0m\n\u001b[1;32m    332\u001b[0m \u001b[38;5;28;01mdef\u001b[39;00m \u001b[38;5;21mdecode\u001b[39m(\u001b[38;5;28mself\u001b[39m, s, _w\u001b[38;5;241m=\u001b[39mWHITESPACE\u001b[38;5;241m.\u001b[39mmatch):\n\u001b[1;32m    333\u001b[0m     \u001b[38;5;124;03m\"\"\"Return the Python representation of ``s`` (a ``str`` instance\u001b[39;00m\n\u001b[1;32m    334\u001b[0m \u001b[38;5;124;03m    containing a JSON document).\u001b[39;00m\n\u001b[1;32m    335\u001b[0m \n\u001b[1;32m    336\u001b[0m \u001b[38;5;124;03m    \"\"\"\u001b[39;00m\n\u001b[0;32m--> 337\u001b[0m     obj, end \u001b[38;5;241m=\u001b[39m \u001b[38;5;28;43mself\u001b[39;49m\u001b[38;5;241;43m.\u001b[39;49m\u001b[43mraw_decode\u001b[49m\u001b[43m(\u001b[49m\u001b[43ms\u001b[49m\u001b[43m,\u001b[49m\u001b[43m \u001b[49m\u001b[43midx\u001b[49m\u001b[38;5;241;43m=\u001b[39;49m\u001b[43m_w\u001b[49m\u001b[43m(\u001b[49m\u001b[43ms\u001b[49m\u001b[43m,\u001b[49m\u001b[43m \u001b[49m\u001b[38;5;241;43m0\u001b[39;49m\u001b[43m)\u001b[49m\u001b[38;5;241;43m.\u001b[39;49m\u001b[43mend\u001b[49m\u001b[43m(\u001b[49m\u001b[43m)\u001b[49m\u001b[43m)\u001b[49m\n\u001b[1;32m    338\u001b[0m     end \u001b[38;5;241m=\u001b[39m _w(s, end)\u001b[38;5;241m.\u001b[39mend()\n\u001b[1;32m    339\u001b[0m     \u001b[38;5;28;01mif\u001b[39;00m end \u001b[38;5;241m!=\u001b[39m \u001b[38;5;28mlen\u001b[39m(s):\n",
      "File \u001b[0;32m~/miniforge3/lib/python3.8/json/decoder.py:353\u001b[0m, in \u001b[0;36mJSONDecoder.raw_decode\u001b[0;34m(self, s, idx)\u001b[0m\n\u001b[1;32m    344\u001b[0m \u001b[38;5;124;03m\"\"\"Decode a JSON document from ``s`` (a ``str`` beginning with\u001b[39;00m\n\u001b[1;32m    345\u001b[0m \u001b[38;5;124;03ma JSON document) and return a 2-tuple of the Python\u001b[39;00m\n\u001b[1;32m    346\u001b[0m \u001b[38;5;124;03mrepresentation and the index in ``s`` where the document ended.\u001b[39;00m\n\u001b[0;32m   (...)\u001b[0m\n\u001b[1;32m    350\u001b[0m \n\u001b[1;32m    351\u001b[0m \u001b[38;5;124;03m\"\"\"\u001b[39;00m\n\u001b[1;32m    352\u001b[0m \u001b[38;5;28;01mtry\u001b[39;00m:\n\u001b[0;32m--> 353\u001b[0m     obj, end \u001b[38;5;241m=\u001b[39m \u001b[38;5;28;43mself\u001b[39;49m\u001b[38;5;241;43m.\u001b[39;49m\u001b[43mscan_once\u001b[49m\u001b[43m(\u001b[49m\u001b[43ms\u001b[49m\u001b[43m,\u001b[49m\u001b[43m \u001b[49m\u001b[43midx\u001b[49m\u001b[43m)\u001b[49m\n\u001b[1;32m    354\u001b[0m \u001b[38;5;28;01mexcept\u001b[39;00m \u001b[38;5;167;01mStopIteration\u001b[39;00m \u001b[38;5;28;01mas\u001b[39;00m err:\n\u001b[1;32m    355\u001b[0m     \u001b[38;5;28;01mraise\u001b[39;00m JSONDecodeError(\u001b[38;5;124m\"\u001b[39m\u001b[38;5;124mExpecting value\u001b[39m\u001b[38;5;124m\"\u001b[39m, s, err\u001b[38;5;241m.\u001b[39mvalue) \u001b[38;5;28;01mfrom\u001b[39;00m \u001b[38;5;28mNone\u001b[39m\n",
      "\u001b[0;31mJSONDecodeError\u001b[0m: Expecting ',' delimiter: line 1 column 459 (char 458)"
     ]
    }
   ],
   "source": [
    "collection = []\n",
    "\n",
    "for i in range(len(df)):\n",
    "    #try:\n",
    "        string_json = df.indexing_terms.iloc[i]\n",
    "        dict_ = json.loads(string_json.replace(\"'\", '\"'))\n",
    "        temp_arr = get_subjects(dict_)\n",
    "        collection.append(str(temp_arr))\n",
    "    #except:\n",
    "        print(string_json)\n",
    "        print(dict_)\n",
    "        print(str(temp_arr))\n",
    "        print(len(collection))\n",
    "        print(string_json.replace(\"'\", '\"')[450:])\n",
    "        #break\n",
    "\n",
    "collection"
   ]
  },
  {
   "cell_type": "code",
   "execution_count": null,
   "id": "e7508585-e2f7-471a-b5de-fd9b697a526c",
   "metadata": {},
   "outputs": [],
   "source": []
  }
 ],
 "metadata": {
  "kernelspec": {
   "display_name": "Python 3 (ipykernel)",
   "language": "python",
   "name": "python3"
  },
  "language_info": {
   "codemirror_mode": {
    "name": "ipython",
    "version": 3
   },
   "file_extension": ".py",
   "mimetype": "text/x-python",
   "name": "python",
   "nbconvert_exporter": "python",
   "pygments_lexer": "ipython3",
   "version": "3.8.13"
  }
 },
 "nbformat": 4,
 "nbformat_minor": 5
}
