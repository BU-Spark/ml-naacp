{
 "cells": [
  {
   "cell_type": "code",
   "execution_count": null,
   "id": "6f1d3385-d9a6-4a7a-8046-3d1de3a3e2a4",
   "metadata": {},
   "outputs": [],
   "source": [
    "import ast\n",
    "import pandas as pd"
   ]
  },
  {
   "cell_type": "code",
   "execution_count": null,
   "id": "f25ecfef-99bb-4a6e-b94c-cb90e76019f1",
   "metadata": {},
   "outputs": [],
   "source": [
    "df = pd.read_csv(\"./outputs/gbh_output_all_fields.csv\")"
   ]
  },
  {
   "cell_type": "code",
   "execution_count": null,
   "id": "94c4fc53-267c-4db9-a6ca-8ae39e1ef6f5",
   "metadata": {},
   "outputs": [],
   "source": [
    "df.columns"
   ]
  },
  {
   "cell_type": "code",
   "execution_count": null,
   "id": "7dbf0b3a-a459-49d9-b6b8-bb3daffe5d7e",
   "metadata": {},
   "outputs": [],
   "source": [
    "df = df.drop(columns=[\n",
    "    'Unnamed: 0',\n",
    "    '_id',\n",
    "    'neighborhoods[0]',\n",
    "    'neighborhoods[1]',\n",
    "    'neighborhoods[2]',\n",
    "    'neighborhoods[3]',\n",
    "    'neighborhoods[4]',\n",
    "    'neighborhoods[5]',\n",
    "    'tracts[0]', \n",
    "    'tracts[1]',\n",
    "    'tracts[2]', \n",
    "    'tracts[3]', \n",
    "    'tracts[4]', \n",
    "    'tracts[5]', \n",
    "    'tracts[6]',\n",
    "    'hl1_y', \n",
    "    'body_y',\n",
    "    'llama_prediction',\n",
    "    'Explicit_Pass_1', \n",
    "    'NER_Pass_1', \n",
    "    'NER_Pass_1_Sorted',\n",
    "    'NER_Pass_1_Coordinates', \n",
    "    'NER_prediction', \n",
    "    'NER_Sorted',\n",
    "    'NER_Sorted_Coordinates',\n",
    "    'topic_model_body', \n",
    "    'tokens',\n",
    "    'ada_embedding', \n",
    "    'closest_topic_all', \n",
    "    'closest_topic_selected',\n",
    "    'link.$regexReplace.replacement',\n",
    "    'link.$regexReplace.input',\n",
    "    'link.$regexReplace.find',\n",
    "    'openai_labels[0]'\n",
    "])"
   ]
  },
  {
   "cell_type": "code",
   "execution_count": null,
   "id": "06d8ee11-128f-4bf1-af77-3c3fa4b43682",
   "metadata": {},
   "outputs": [],
   "source": [
    "df = df.rename(columns={\"Tracts\": \"tracts\", 'hl1_x': 'hl1','body_x': 'body', 'closest_topic_client': 'openai_labels'})"
   ]
  },
  {
   "cell_type": "code",
   "execution_count": null,
   "id": "8db427df-9c92-48da-b6c3-834f5d3bfeb3",
   "metadata": {},
   "outputs": [],
   "source": [
    "df.dtypes"
   ]
  },
  {
   "cell_type": "code",
   "execution_count": null,
   "id": "c2488a1a-319d-43c1-89f2-8a2e808b50b9",
   "metadata": {},
   "outputs": [],
   "source": [
    "neigh_tract_dict = {\n",
    "    \"Fenway\" : [\"010103\", \"010104\", \"010204\", \"010408\", \"010404\", \"010403\", \"981501\", \"010405\", \"010206\", \"010205\"],\n",
    "\t\"Downtown\": [\"030302\", \"070202\", \"070102\", \"030301\", \"070104\", \"070103\", \"070201\"],\n",
    "\t\"Beacon Hill\": [\"020200\", \"020302\", \"020101\", \"981700\"],\n",
    "\t\"Dorchester\" : [ \"092400\", \"091400\", \"090300\", \"091800\", \"092300\", \"100601\", \"090901\", \"100400\", \"090100\", \"091001\",\"090200\", \"100200\", \"091700\", \"092200\", \"090700\", \"091500\", \"091300\", \"100300\", \"100100\", \"092000\", \"100500\", \"100800\", \"100603\", \"091200\", \"100700\", \"092101\", \"091900\", \"091600\", \"091100\"],\n",
    "\t\"Mattapan\": [\"100900\", \"101002\", \"101102\", \"981100\", \"101001\",\"101101\"],\n",
    "\t\"Jamaica Plain\": [\"120103\", \"981800\", \"110105\", \"120600\", \"120700\", \"120301\", \"081200\", \"120105\",\"081101\", \"981000\", \"120500\", \"120104\", \"120201\", \"110106\", \"081301\", \"120400\"],\n",
    "\t\"Roslindale\": [\"110502\", \"110104\", \"110501\", \"110401\", \"140106\", \"110301\", \"110607\", \"110403\",\"110201\"],\n",
    "\t\"Roxbury\": [\"081500\", \"080500\", \"070801\", \"080100\", \"081800\", \"980300\", \"082000\", \"080601\", \"081700\", \"080300\", \"090600\", \"081400\", \"090400\", \"070901\", \"082100\", \"081900\", \"081302\",\"080401\"],\n",
    "\t\"West End\": [\"020304\", \"020301\", \"020305\"],\n",
    "\t\"Longwood\": [\"010300\", \"081001\"],\n",
    "\t\"South Boston\": [\"061101\", \"060700\", \"060101\", \"061201\", \"061000\", \"060800\", \"981201\", \"060200\", \"061202\", \"060400\", \"061203\", \"060301\", \"060601\", \"060501\"],\n",
    "\t\"Back Bay\": [\"010702\", \"010701\", \"010802\", \"010801\", \"010500\", \"010600\"],\n",
    "\t\"Charlestown\": [\"040100\", \"040300\", \"040401\", \"040600\", \"040801\", \"040200\"],\n",
    "\t\"Allston\": [\"000604\", \"000804\", \"000703\", \"000704\", \"000806\", \"000101\", \"000807\", \"000701\", \"000805\"],\n",
    "\t\"Hyde Park\": [\"140107\", \"140201\", \"140105\", \"980700\", \"140300\", \"140202\", \"140400\", \"140102\"],\n",
    "\t\"East Boston\": [\"050500\", \"050600\", \"981502\", \"050101\", \"981300\", \"050901\", \"050300\", \"050700\", \"050400\", \"051000\", \"981600\", \"051200\", \"050200\", \"051101\"],\n",
    "\t\"South End\": [\"070301\", \"070302\", \"070502\", \"070501\", \"071101\", \"070600\", \"070700\", \"070902\", \"070802\", \"071201\", \"070402\"],\n",
    "\t\"West Roxbury\": [\"980900\", \"130406\", \"981900\", \"130404\", \"110601\", \"130300\", \"130402\", \"130200\", \"130101\"],\n",
    "\t\"South Boston Waterfront\": [\"981202\", \"060602\", \"060603\", \"061204\", \"060604\"],\n",
    "    \"North End\": [\"030200\", \"030100\", \"030500\", \"030400\"]\n",
    "}"
   ]
  },
  {
   "cell_type": "code",
   "execution_count": null,
   "id": "c8c83c06-a250-4e6f-a68c-630fcfec3a82",
   "metadata": {},
   "outputs": [],
   "source": [
    "def lookUp(tract):\n",
    "    for key in neigh_tract_dict.keys():\n",
    "        if (ast.literal_eval(tract)[0] in neigh_tract_dict[key]):\n",
    "            return [key]\n",
    "    return [\"Greater Boston\"]"
   ]
  },
  {
   "cell_type": "code",
   "execution_count": null,
   "id": "062597c1-dabe-402c-88b6-026b9179d12e",
   "metadata": {},
   "outputs": [],
   "source": [
    "df['neighborhoods'] = df[\"tracts\"].apply(lookUp)"
   ]
  },
  {
   "cell_type": "code",
   "execution_count": null,
   "id": "4e44b0b0-a22d-46c6-ac28-858c580fb9db",
   "metadata": {},
   "outputs": [],
   "source": [
    "arrify = lambda x: [x]"
   ]
  },
  {
   "cell_type": "code",
   "execution_count": null,
   "id": "120c18ea-be03-45f7-8a8e-d65cb087669f",
   "metadata": {},
   "outputs": [],
   "source": [
    "df['openai_labels'] = df[\"openai_labels\"].apply(arrify)"
   ]
  },
  {
   "cell_type": "code",
   "execution_count": null,
   "id": "8d170fd5-108b-4594-94d2-495364273a5e",
   "metadata": {},
   "outputs": [],
   "source": [
    "gbh_df = df[df['userID'] == 'org_2bHDzl2Zax0nILIzDhui2DLWdH6']"
   ]
  },
  {
   "cell_type": "code",
   "execution_count": null,
   "id": "eb074038-d32e-4715-b7c8-fa418a88d941",
   "metadata": {},
   "outputs": [],
   "source": [
    "df.to_csv(\"./prod_data.csv\")"
   ]
  },
  {
   "cell_type": "code",
   "execution_count": null,
   "id": "ae2379e6-9b78-4a1d-bf81-3dc1e8efc233",
   "metadata": {},
   "outputs": [],
   "source": [
    "df['userID'].value_counts()"
   ]
  },
  {
   "cell_type": "markdown",
   "id": "786a8cd8-d5e7-44a7-aa3e-decd37e231c5",
   "metadata": {},
   "source": [
    "### Reading Each Year"
   ]
  },
  {
   "cell_type": "code",
   "execution_count": null,
   "id": "f74946a8-3ba4-48dd-a17b-f6ed4ccc3bff",
   "metadata": {},
   "outputs": [],
   "source": [
    "import ast\n",
    "import pandas as pd\n",
    "from tqdm import tqdm\n",
    "tqdm.pandas()"
   ]
  },
  {
   "cell_type": "code",
   "execution_count": null,
   "id": "deb134ea-2b0e-4a8a-a81a-d7140e00e040",
   "metadata": {},
   "outputs": [],
   "source": [
    "year = 2010\n",
    "csvs = [\n",
    "    f'./combination/Boston_Globe_{year}_1.csv', \n",
    "    f'./combination/Boston_Globe_{year}_2.csv', \n",
    "    f'./combination/Boston_Globe_{year}_3.csv', \n",
    "    f'./combination/Boston_Globe_{year}_4.csv', \n",
    "    f'./combination/Boston_Globe_{year}_5.csv',\n",
    "]\n",
    "merged_df = pd.concat([pd.read_csv(file) for file in csvs])"
   ]
  },
  {
   "cell_type": "code",
   "execution_count": null,
   "id": "436ac01b-2a6e-47c8-947d-3dc292b96d0f",
   "metadata": {},
   "outputs": [],
   "source": [
    "merged_df.columns"
   ]
  },
  {
   "cell_type": "code",
   "execution_count": null,
   "id": "a4b2becb-bbf9-4c25-8680-06ca752b88bf",
   "metadata": {},
   "outputs": [],
   "source": [
    "merged_df = merged_df.drop(columns=['Unnamed: 0'])"
   ]
  },
  {
   "cell_type": "code",
   "execution_count": null,
   "id": "5ac2c888-dbe8-42a8-b2fa-477c5a8f1103",
   "metadata": {},
   "outputs": [],
   "source": [
    "merged_df"
   ]
  },
  {
   "cell_type": "markdown",
   "id": "735bc9d5-81bb-4aad-8106-a1bd7b1d844e",
   "metadata": {},
   "source": [
    "### Merging all the CSVs for Boston Globe"
   ]
  },
  {
   "cell_type": "code",
   "execution_count": null,
   "id": "5868ac2b-2026-4f2f-8911-87d547d7c723",
   "metadata": {},
   "outputs": [],
   "source": [
    "import re\n",
    "from bs4 import BeautifulSoup"
   ]
  },
  {
   "cell_type": "code",
   "execution_count": null,
   "id": "a2803a20-a1bc-47b2-a35e-a7a06594d482",
   "metadata": {},
   "outputs": [],
   "source": [
    "master_df = pd.read_csv(\"./sample_data/cleaned_articles_mass.csv\")"
   ]
  },
  {
   "cell_type": "code",
   "execution_count": null,
   "id": "9d576ec3-d11f-4960-97b2-ecdb32ec6cd8",
   "metadata": {},
   "outputs": [],
   "source": [
    "func_clean_html = lambda x: BeautifulSoup(x, \"html.parser\").get_text()\n",
    "master_df['body'] = master_df['body'].progress_apply(func_clean_html)\n",
    "master_df['hl1'] = master_df['hl1'].progress_apply(func_clean_html)\n",
    "\n",
    "func_clean_regex = lambda x: ' '.join([item for item in re.findall(r'[A-Za-z0-9!@#$%^&*().]+', x) if len(item) > 1])\n",
    "master_df['body'] = master_df['body'].progress_apply(func_clean_regex)\n",
    "master_df['hl1'] = master_df['hl1'].progress_apply(func_clean_regex)"
   ]
  },
  {
   "cell_type": "markdown",
   "id": "a88eb36e-316e-4608-9eda-3c8f8a85c5c7",
   "metadata": {},
   "source": [
    "### Combine"
   ]
  },
  {
   "cell_type": "code",
   "execution_count": null,
   "id": "cebac7a1-082e-4c25-a83f-45c9ddbbd26a",
   "metadata": {},
   "outputs": [],
   "source": [
    "final_df = pd.merge(merged_df, master_df, on='body', how='inner')"
   ]
  },
  {
   "cell_type": "code",
   "execution_count": null,
   "id": "6714173c-fce2-40d5-843d-2cbc3641bb65",
   "metadata": {},
   "outputs": [],
   "source": [
    "final_df"
   ]
  },
  {
   "cell_type": "code",
   "execution_count": null,
   "id": "5115d6be-da00-43d9-ae08-dc88dce997a4",
   "metadata": {},
   "outputs": [],
   "source": [
    "final_df.to_csv(f\"./outputs/Boston_Globe_{year}_5000_articles_approx.csv\")"
   ]
  },
  {
   "cell_type": "code",
   "execution_count": null,
   "id": "843daf42-286b-4734-9fd3-041e2d36348e",
   "metadata": {},
   "outputs": [],
   "source": []
  },
  {
   "cell_type": "markdown",
   "id": "722dba8b-5aa9-4156-90a9-e533aab3412b",
   "metadata": {},
   "source": [
    "### Final Combine"
   ]
  },
  {
   "cell_type": "code",
   "execution_count": null,
   "id": "c5ad548a-f2d4-4174-bb4d-b8d9a6fb754e",
   "metadata": {},
   "outputs": [],
   "source": [
    "arr = [\n",
    "    f'./combination/Boston_Globe_2010_5000_articles_approx.csv', \n",
    "    f'./combination/Boston_Globe_2011_5000_articles_approx.csv', \n",
    "    f'./combination/Boston_Globe_2012_5000_articles_approx.csv', \n",
    "    f'./combination/Boston_Globe_2013_5000_articles_approx.csv', \n",
    "    f'./combination/Boston_Globe_2014_5000_articles_approx.csv',\n",
    "    f'./combination/Boston_Globe_2015_5000_articles_approx.csv',\n",
    "    f'./combination/Boston_Globe_2016_5000_articles_approx.csv',\n",
    "    f'./combination/Boston_Globe_2017_5000_articles_approx.csv',\n",
    "    f'./combination/Boston_Globe_2018_5000_articles_approx.csv',\n",
    "    f'./combination/Boston_Globe_2019_5000_articles_approx.csv',\n",
    "]"
   ]
  },
  {
   "cell_type": "code",
   "execution_count": null,
   "id": "9abbc0e9-2989-4906-a7af-ade20f51e488",
   "metadata": {},
   "outputs": [],
   "source": [
    "final_final_df = pd.concat([pd.read_csv(file) for file in arr])"
   ]
  },
  {
   "cell_type": "code",
   "execution_count": null,
   "id": "aeb9af5d-e9ac-4c0b-9f9f-a8b076fb5cb7",
   "metadata": {},
   "outputs": [],
   "source": [
    "final_final_df = final_final_df.drop(columns=['Unnamed: 0'])"
   ]
  },
  {
   "cell_type": "code",
   "execution_count": null,
   "id": "bd688ed0-478d-4242-af9a-b9335a73e14b",
   "metadata": {},
   "outputs": [],
   "source": [
    "final_final_df.to_csv(\"./outputs/final_df_half.csv\")"
   ]
  },
  {
   "cell_type": "markdown",
   "id": "b2365644-5eee-429b-a19b-dbfd7f2cc3d4",
   "metadata": {},
   "source": [
    "#### Quick File"
   ]
  },
  {
   "cell_type": "code",
   "execution_count": 1,
   "id": "eb2612d6-5971-4600-8059-37962cd8a4f3",
   "metadata": {},
   "outputs": [],
   "source": [
    "import pandas as pd"
   ]
  },
  {
   "cell_type": "code",
   "execution_count": 2,
   "id": "b90395b5-1667-4cd7-88ba-bf5a66649dd7",
   "metadata": {},
   "outputs": [],
   "source": [
    "df = pd.read_csv(\"./sample_data/se_naacp_db.articles_data.csv\")"
   ]
  },
  {
   "cell_type": "code",
   "execution_count": 3,
   "id": "a0697cc4-cb51-455c-b79b-c79a30f7d8c9",
   "metadata": {},
   "outputs": [
    {
     "data": {
      "text/plain": [
       "Index(['_id', 'neighborhoods[0]', 'neighborhoods[1]', 'neighborhoods[2]',\n",
       "       'neighborhoods[3]', 'neighborhoods[4]', 'neighborhoods[5]',\n",
       "       'position_section', 'tracts[0]', 'tracts[1]', 'tracts[2]', 'tracts[3]',\n",
       "       'tracts[4]', 'tracts[5]', 'tracts[6]', 'author', 'body', 'content_id',\n",
       "       'hl1', 'hl2', 'pub_date', 'pub_name', 'link', 'openai_labels[0]',\n",
       "       'userID', 'uploadID', 'dateSum', 'link.$regexReplace.input',\n",
       "       'link.$regexReplace.find', 'link.$regexReplace.replacement'],\n",
       "      dtype='object')"
      ]
     },
     "execution_count": 3,
     "metadata": {},
     "output_type": "execute_result"
    }
   ],
   "source": [
    "df.columns"
   ]
  },
  {
   "cell_type": "code",
   "execution_count": 4,
   "id": "718a3605-9b89-448f-83bc-c48f5cd4915d",
   "metadata": {},
   "outputs": [],
   "source": [
    "df = df.drop(columns=['_id', 'neighborhoods[0]', 'neighborhoods[1]', 'neighborhoods[2]',\n",
    "       'neighborhoods[3]', 'neighborhoods[4]', 'neighborhoods[5]',\n",
    "       'position_section', 'tracts[0]', 'tracts[1]','content_id', 'tracts[2]', 'tracts[3]',\n",
    "       'tracts[4]', 'tracts[5]', 'tracts[6]','hl2','openai_labels[0]',\n",
    "       'userID', 'uploadID', 'dateSum', 'link.$regexReplace.input',\n",
    "       'link.$regexReplace.find', 'link.$regexReplace.replacement'])"
   ]
  },
  {
   "cell_type": "code",
   "execution_count": 5,
   "id": "4ecc273a-3a97-432f-bfbc-687495fd3a5f",
   "metadata": {},
   "outputs": [
    {
     "data": {
      "text/plain": [
       "Index(['author', 'body', 'hl1', 'pub_date', 'pub_name', 'link'], dtype='object')"
      ]
     },
     "execution_count": 5,
     "metadata": {},
     "output_type": "execute_result"
    }
   ],
   "source": [
    "df.columns"
   ]
  },
  {
   "cell_type": "code",
   "execution_count": 6,
   "id": "024ecb84-40fc-42a1-8a2e-d0d7aee11cb8",
   "metadata": {},
   "outputs": [],
   "source": [
    "df = df.rename(columns={'author': 'Byline', 'body':'Body', 'hl1':'Headline', 'pub_date':'Publish Date', 'pub_name':'Publisher', 'link':'Paths'})"
   ]
  },
  {
   "cell_type": "code",
   "execution_count": 7,
   "id": "e4d91b90-5cd4-4145-827c-e7c0a632071b",
   "metadata": {},
   "outputs": [],
   "source": [
    "df = df[:10]"
   ]
  },
  {
   "cell_type": "code",
   "execution_count": 8,
   "id": "872d130c-64b3-4c9c-a2e9-025eff865742",
   "metadata": {},
   "outputs": [],
   "source": [
    "df.to_csv(\"./outputs/test_2.csv\", index=False)"
   ]
  },
  {
   "cell_type": "code",
   "execution_count": null,
   "id": "7e8be6b1-0eb8-4218-9699-3303962eaf32",
   "metadata": {},
   "outputs": [],
   "source": []
  }
 ],
 "metadata": {
  "kernelspec": {
   "display_name": "Python 3 (ipykernel)",
   "language": "python",
   "name": "python3"
  },
  "language_info": {
   "codemirror_mode": {
    "name": "ipython",
    "version": 3
   },
   "file_extension": ".py",
   "mimetype": "text/x-python",
   "name": "python",
   "nbconvert_exporter": "python",
   "pygments_lexer": "ipython3",
   "version": "3.8.16"
  }
 },
 "nbformat": 4,
 "nbformat_minor": 5
}
