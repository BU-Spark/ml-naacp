{
 "cells": [
  {
   "cell_type": "markdown",
   "metadata": {},
   "source": [
    "Another lil script to visualize publications by months (to use to know which months would be good to analyze)"
   ]
  },
  {
   "cell_type": "code",
   "execution_count": 3,
   "metadata": {},
   "outputs": [],
   "source": [
    "import pandas as pd\n",
    "from dateutil import parser\n",
    "from datetime import datetime # for converting and using dates\n",
    "import pytz\n",
    "\n",
    "# Load data\n",
    "articles = pd.read_csv(\"../../data/processed/gbh_geocoded_output.csv\")\n",
    "\n",
    "# Drop rows without neighborhoods\n",
    "articles.dropna(subset=[\"Neighborhood\"], inplace=True)\n",
    "\n",
    "# Dictionary to map timezone names to pytz time zones\n",
    "tzinfos = {'EST': pytz.timezone('US/Eastern'), 'EDT': pytz.timezone('US/Eastern')}\n",
    "\n",
    "# Function to convert date strings to datetime objects\n",
    "def convert_to_datetime(date_str):\n",
    "    return parser.parse(date_str, tzinfos=tzinfos)\n",
    "\n",
    "# Apply the conversion function to the 'Publication Date' column\n",
    "articles['Publication Date'] = articles['Publication Date'].apply(convert_to_datetime)\n",
    "\n",
    "# Ensure the Publication Date column is timezone-aware\n",
    "articles['Publication Date'] = articles['Publication Date'].dt.tz_convert(pytz.timezone('US/Eastern'))\n"
   ]
  },
  {
   "cell_type": "code",
   "execution_count": 4,
   "metadata": {},
   "outputs": [
    {
     "name": "stdout",
     "output_type": "stream",
     "text": [
      "Using articles from 2002-12-18 to 2024-12-18\n",
      "Number of articles: 925\n"
     ]
    }
   ],
   "source": [
    "# Define the date range (example)\n",
    "start_date = pytz.timezone('US/Eastern').localize(datetime(2002, 12, 18))\n",
    "end_date = pytz.timezone('US/Eastern').localize(datetime(2024, 12, 18))\n",
    "\n",
    "# Filter the DataFrame for the date range\n",
    "filtered_articles = articles[(articles['Publication Date'] >= start_date) & (articles['Publication Date'] <= end_date)]\n",
    "\n",
    "print(f\"Using articles from {start_date.date()} to {end_date.date()}\")\n",
    "print(f\"Number of articles: {len(filtered_articles)}\")"
   ]
  },
  {
   "cell_type": "code",
   "execution_count": 5,
   "metadata": {},
   "outputs": [
    {
     "name": "stdout",
     "output_type": "stream",
     "text": [
      "Top 10 months with most articles published:\n",
      "  Year-Month  Number of Articles\n",
      "0    2023-03                  98\n",
      "1    2023-05                  79\n",
      "2    2024-03                  79\n",
      "3    2023-07                  78\n",
      "4    2023-04                  71\n",
      "5    2024-04                  71\n",
      "6    2024-02                  61\n",
      "7    2021-01                  51\n",
      "8    2023-10                  51\n",
      "9    2023-11                  44\n"
     ]
    },
    {
     "name": "stderr",
     "output_type": "stream",
     "text": [
      "C:\\Users\\axel0\\AppData\\Local\\Temp\\ipykernel_36956\\3514186500.py:2: UserWarning: Converting to PeriodArray/Index representation will drop timezone information.\n",
      "  filtered_articles['Year-Month'] = filtered_articles['Publication Date'].dt.to_period('M')\n"
     ]
    }
   ],
   "source": [
    "# Extract year and month from the 'Publication Date' column\n",
    "filtered_articles['Year-Month'] = filtered_articles['Publication Date'].dt.to_period('M')\n",
    "\n",
    "# Count articles by year-month\n",
    "articles_by_month = filtered_articles['Year-Month'].value_counts().sort_index()\n",
    "\n",
    "# Get top 10 months with the most articles\n",
    "top_10_months = articles_by_month.nlargest(10)\n",
    "\n",
    "# Convert PeriodIndex to string for better readability in the table\n",
    "top_10_months.index = top_10_months.index.astype(str)\n",
    "\n",
    "# Create a DataFrame to display the top 10 months\n",
    "top_10_months_df = top_10_months.reset_index()\n",
    "top_10_months_df.columns = ['Year-Month', 'Number of Articles']\n",
    "\n",
    "print(\"Top 10 months with most articles published:\")\n",
    "print(top_10_months_df)"
   ]
  },
  {
   "cell_type": "code",
   "execution_count": null,
   "metadata": {},
   "outputs": [],
   "source": []
  }
 ],
 "metadata": {
  "kernelspec": {
   "display_name": "Python 3",
   "language": "python",
   "name": "python3"
  },
  "language_info": {
   "codemirror_mode": {
    "name": "ipython",
    "version": 3
   },
   "file_extension": ".py",
   "mimetype": "text/x-python",
   "name": "python",
   "nbconvert_exporter": "python",
   "pygments_lexer": "ipython3",
   "version": "3.12.4"
  }
 },
 "nbformat": 4,
 "nbformat_minor": 2
}
