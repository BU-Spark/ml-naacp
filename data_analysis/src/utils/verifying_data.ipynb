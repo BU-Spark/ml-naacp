{
 "cells": [
  {
   "cell_type": "code",
   "execution_count": 18,
   "metadata": {},
   "outputs": [],
   "source": [
    "import pandas as pd\n",
    "from dateutil import parser\n",
    "from datetime import datetime # for converting and using dates\n",
    "import pytz\n",
    "\n",
    "# Load data\n",
    "articles = pd.read_csv(\"../../data/processed/gbh_geocoded_output.csv\")"
   ]
  },
  {
   "cell_type": "code",
   "execution_count": 22,
   "metadata": {},
   "outputs": [
    {
     "data": {
      "text/html": [
       "<div>\n",
       "<style scoped>\n",
       "    .dataframe tbody tr th:only-of-type {\n",
       "        vertical-align: middle;\n",
       "    }\n",
       "\n",
       "    .dataframe tbody tr th {\n",
       "        vertical-align: top;\n",
       "    }\n",
       "\n",
       "    .dataframe thead th {\n",
       "        text-align: right;\n",
       "    }\n",
       "</style>\n",
       "<table border=\"1\" class=\"dataframe\">\n",
       "  <thead>\n",
       "    <tr style=\"text-align: right;\">\n",
       "      <th></th>\n",
       "      <th>Coordinates</th>\n",
       "      <th>Census Tract</th>\n",
       "      <th>Neighborhood</th>\n",
       "      <th>Article Count</th>\n",
       "    </tr>\n",
       "  </thead>\n",
       "  <tbody>\n",
       "    <tr>\n",
       "      <th>0</th>\n",
       "      <td>[-71.0588801, 42.3600825]</td>\n",
       "      <td>30302</td>\n",
       "      <td>Downtown</td>\n",
       "      <td>242</td>\n",
       "    </tr>\n",
       "    <tr>\n",
       "      <th>1</th>\n",
       "      <td>[-71.1084303, 42.3503433]</td>\n",
       "      <td>10103</td>\n",
       "      <td>Fenway</td>\n",
       "      <td>97</td>\n",
       "    </tr>\n",
       "    <tr>\n",
       "      <th>2</th>\n",
       "      <td>[-71.0638101, 42.3587772]</td>\n",
       "      <td>20302</td>\n",
       "      <td>Beacon Hill</td>\n",
       "      <td>69</td>\n",
       "    </tr>\n",
       "    <tr>\n",
       "      <th>3</th>\n",
       "      <td>[-71.06694, 42.3516729]</td>\n",
       "      <td>70201</td>\n",
       "      <td>Downtown</td>\n",
       "      <td>26</td>\n",
       "    </tr>\n",
       "    <tr>\n",
       "      <th>4</th>\n",
       "      <td>[-71.057993, 42.360406]</td>\n",
       "      <td>30302</td>\n",
       "      <td>Downtown</td>\n",
       "      <td>20</td>\n",
       "    </tr>\n",
       "    <tr>\n",
       "      <th>5</th>\n",
       "      <td>[-71.0657256, 42.3550897]</td>\n",
       "      <td>981700</td>\n",
       "      <td>Downtown</td>\n",
       "      <td>18</td>\n",
       "    </tr>\n",
       "    <tr>\n",
       "      <th>6</th>\n",
       "      <td>[-71.0201972, 42.3665992]</td>\n",
       "      <td>981300</td>\n",
       "      <td>East Boston</td>\n",
       "      <td>17</td>\n",
       "    </tr>\n",
       "    <tr>\n",
       "      <th>7</th>\n",
       "      <td>[-71.06939, 42.3561948]</td>\n",
       "      <td>981700</td>\n",
       "      <td>Downtown</td>\n",
       "      <td>15</td>\n",
       "    </tr>\n",
       "    <tr>\n",
       "      <th>8</th>\n",
       "      <td>[-71.0788285, 42.3494163]</td>\n",
       "      <td>10600</td>\n",
       "      <td>Back Bay</td>\n",
       "      <td>12</td>\n",
       "    </tr>\n",
       "    <tr>\n",
       "      <th>9</th>\n",
       "      <td>[-71.068767, 42.36256789999999]</td>\n",
       "      <td>20301</td>\n",
       "      <td>Beacon Hill</td>\n",
       "      <td>11</td>\n",
       "    </tr>\n",
       "  </tbody>\n",
       "</table>\n",
       "</div>"
      ],
      "text/plain": [
       "                       Coordinates  Census Tract Neighborhood  Article Count\n",
       "0        [-71.0588801, 42.3600825]         30302     Downtown            242\n",
       "1        [-71.1084303, 42.3503433]         10103       Fenway             97\n",
       "2        [-71.0638101, 42.3587772]         20302  Beacon Hill             69\n",
       "3          [-71.06694, 42.3516729]         70201     Downtown             26\n",
       "4          [-71.057993, 42.360406]         30302     Downtown             20\n",
       "5        [-71.0657256, 42.3550897]        981700     Downtown             18\n",
       "6        [-71.0201972, 42.3665992]        981300  East Boston             17\n",
       "7          [-71.06939, 42.3561948]        981700     Downtown             15\n",
       "8        [-71.0788285, 42.3494163]         10600     Back Bay             12\n",
       "9  [-71.068767, 42.36256789999999]         20301  Beacon Hill             11"
      ]
     },
     "execution_count": 22,
     "metadata": {},
     "output_type": "execute_result"
    }
   ],
   "source": [
    "# Drop rows without neighborhoods or coordinates\n",
    "articles.dropna(subset=[\"Neighborhood\", \"Coordinates\"], inplace=True)\n",
    "\n",
    "# Group by 'Coordinates', 'Census Tract', and 'Neighborhood' and count the number of articles\n",
    "articles_by_coordinate = articles.groupby(['Coordinates', 'Census Tract', 'Neighborhood']).size().reset_index(name='Article Count')\n",
    "\n",
    "# Sort by 'Article Count' in descending order and get the top 10 coordinates\n",
    "top_10_coordinates = articles_by_coordinate.sort_values(by='Article Count', ascending=False).head(10)\n",
    "\n",
    "top_10_coordinates = top_10_coordinates.reset_index()\n",
    "top_10_coordinates = top_10_coordinates.drop(columns=\"index\")\n",
    "top_10_coordinates"
   ]
  },
  {
   "cell_type": "code",
   "execution_count": 24,
   "metadata": {},
   "outputs": [],
   "source": [
    "top_coordinate = articles[articles['Coordinates'] == top_10_coordinates[\"Coordinates\"][0]]\n",
    "second_top = articles[articles['Coordinates'] == top_10_coordinates[\"Coordinates\"][1]]\n",
    "third_top = articles[articles['Coordinates'] == top_10_coordinates[\"Coordinates\"][2]]"
   ]
  },
  {
   "cell_type": "code",
   "execution_count": 25,
   "metadata": {},
   "outputs": [],
   "source": [
    "# Function to get the top 5 category based on the number of articles\n",
    "def get_article_count(data, column):\n",
    "    count = data[column].value_counts()\n",
    "    top_count = count.head(10)\n",
    "    top_count_df = top_count.reset_index()\n",
    "    top_count_df.columns = [column, \"Article Count\"]\n",
    "    return top_count_df"
   ]
  },
  {
   "cell_type": "code",
   "execution_count": 27,
   "metadata": {},
   "outputs": [
    {
     "name": "stdout",
     "output_type": "stream",
     "text": [
      "\n",
      "Top 10 Most Frequented Topics:\n",
      "        Closest Topic  Article Count\n",
      "               Other             40\n",
      "      Local Politics             28\n",
      "  Politics/Elections             27\n",
      "Housing/Homelessness             18\n",
      "          Healthcare             12\n",
      "     Labor/Workforce             11\n",
      "         Immigration             10\n",
      "     Law Enforcement              9\n",
      "      State Politics              8\n",
      "    Equity & Justice              7\n"
     ]
    }
   ],
   "source": [
    "# Count articles by Topic\n",
    "topic_count1 = get_article_count(top_coordinate, \"Closest Topic\")\n",
    "print(\"\\nTop 10 Most Frequented Topics:\\n\", topic_count1.to_string(index=False))\n"
   ]
  },
  {
   "cell_type": "code",
   "execution_count": 28,
   "metadata": {},
   "outputs": [
    {
     "name": "stdout",
     "output_type": "stream",
     "text": [
      "\n",
      "Top 10 Most Frequented Topics:\n",
      "        Closest Topic  Article Count\n",
      "               Other             18\n",
      "      Local Politics             14\n",
      "Housing/Homelessness             11\n",
      "      State Politics              6\n",
      "          Healthcare              5\n",
      "  Politics/Elections              5\n",
      "    Higher Education              3\n",
      "               Taxes              3\n",
      "           Childcare              3\n",
      "     Labor/Workforce              3\n"
     ]
    }
   ],
   "source": [
    "# Count articles by Topic\n",
    "topic_count2 = get_article_count(second_top, \"Closest Topic\")\n",
    "print(\"\\nTop 10 Most Frequented Topics:\\n\", topic_count2.to_string(index=False))\n"
   ]
  },
  {
   "cell_type": "code",
   "execution_count": 29,
   "metadata": {},
   "outputs": [
    {
     "name": "stdout",
     "output_type": "stream",
     "text": [
      "\n",
      "Top 10 Most Frequented Topics:\n",
      "          Closest Topic  Article Count\n",
      "        State Politics             11\n",
      "  Housing/Homelessness              9\n",
      "    Politics/Elections              9\n",
      "        Local Politics              6\n",
      "         Public Health              4\n",
      "         Gender issues              4\n",
      "            Healthcare              4\n",
      "Accessiblity/Disablity              3\n",
      "      Equity & Justice              3\n",
      "      Higher Education              2\n"
     ]
    },
    {
     "ename": "",
     "evalue": "",
     "output_type": "error",
     "traceback": [
      "\u001b[1;31mThe Kernel crashed while executing code in the current cell or a previous cell. \n",
      "\u001b[1;31mPlease review the code in the cell(s) to identify a possible cause of the failure. \n",
      "\u001b[1;31mClick <a href='https://aka.ms/vscodeJupyterKernelCrash'>here</a> for more info. \n",
      "\u001b[1;31mView Jupyter <a href='command:jupyter.viewOutput'>log</a> for further details."
     ]
    }
   ],
   "source": [
    "\n",
    "# Count articles by Topic\n",
    "topic_count3 = get_article_count(third_top, \"Closest Topic\")\n",
    "print(\"\\nTop 10 Most Frequented Topics:\\n\", topic_count3.to_string(index=False))"
   ]
  },
  {
   "cell_type": "code",
   "execution_count": null,
   "metadata": {},
   "outputs": [],
   "source": []
  }
 ],
 "metadata": {
  "kernelspec": {
   "display_name": "Python 3",
   "language": "python",
   "name": "python3"
  },
  "language_info": {
   "codemirror_mode": {
    "name": "ipython",
    "version": 3
   },
   "file_extension": ".py",
   "mimetype": "text/x-python",
   "name": "python",
   "nbconvert_exporter": "python",
   "pygments_lexer": "ipython3",
   "version": "3.12.4"
  }
 },
 "nbformat": 4,
 "nbformat_minor": 2
}
