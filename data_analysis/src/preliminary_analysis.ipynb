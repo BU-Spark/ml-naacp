{
 "cells": [
  {
   "cell_type": "markdown",
   "metadata": {},
   "source": [
    "# Step 4: Exploratory Data Analysis\n",
    "\n",
    "The goal of this step is to get an idea of the data set, what may be relevant, and where connections may be. So, as a beginning step, I will focus mostly on article counts and how they relate to race, topics, and census tracts. This will closely mimic what's currently being offered on the website."
   ]
  },
  {
   "cell_type": "code",
   "execution_count": 176,
   "metadata": {},
   "outputs": [],
   "source": [
    "import pandas as pd\n",
    "import textwrap # for wrapping output text\n",
    "from datetime import datetime # for converting and using dates\n",
    "from dateutil import parser\n",
    "import pytz"
   ]
  },
  {
   "cell_type": "code",
   "execution_count": 186,
   "metadata": {},
   "outputs": [
    {
     "data": {
      "text/html": [
       "<div>\n",
       "<style scoped>\n",
       "    .dataframe tbody tr th:only-of-type {\n",
       "        vertical-align: middle;\n",
       "    }\n",
       "\n",
       "    .dataframe tbody tr th {\n",
       "        vertical-align: top;\n",
       "    }\n",
       "\n",
       "    .dataframe thead th {\n",
       "        text-align: right;\n",
       "    }\n",
       "</style>\n",
       "<table border=\"1\" class=\"dataframe\">\n",
       "  <thead>\n",
       "    <tr style=\"text-align: right;\">\n",
       "      <th></th>\n",
       "      <th>Index</th>\n",
       "      <th>ID</th>\n",
       "      <th>Coordinates</th>\n",
       "      <th>Block</th>\n",
       "      <th>Census Tract</th>\n",
       "      <th>Neighborhood</th>\n",
       "      <th>County</th>\n",
       "      <th>Closest Topic</th>\n",
       "      <th>Publication Date</th>\n",
       "    </tr>\n",
       "  </thead>\n",
       "  <tbody>\n",
       "    <tr>\n",
       "      <th>0</th>\n",
       "      <td>0</td>\n",
       "      <td>65adafef8d9d92f2327ea8ff</td>\n",
       "      <td>[-71.0201972, 42.3665992]</td>\n",
       "      <td>1044</td>\n",
       "      <td>981300</td>\n",
       "      <td>East Boston</td>\n",
       "      <td>25</td>\n",
       "      <td>Weather</td>\n",
       "      <td>Mon Dec 18 12:34:19 EST 2023</td>\n",
       "    </tr>\n",
       "    <tr>\n",
       "      <th>1</th>\n",
       "      <td>1</td>\n",
       "      <td>65adafef8d9d92f2327ea923</td>\n",
       "      <td>[-71.06939, 42.3561948]</td>\n",
       "      <td>1000</td>\n",
       "      <td>981700</td>\n",
       "      <td>Downtown</td>\n",
       "      <td>25</td>\n",
       "      <td>State Politics</td>\n",
       "      <td>Thu Nov 30 14:12:21 EST 2023</td>\n",
       "    </tr>\n",
       "    <tr>\n",
       "      <th>2</th>\n",
       "      <td>2</td>\n",
       "      <td>65adafef8d9d92f2327ea8fd</td>\n",
       "      <td>[-71.148182, 42.357122]</td>\n",
       "      <td>2032</td>\n",
       "      <td>102</td>\n",
       "      <td>Allston</td>\n",
       "      <td>25</td>\n",
       "      <td>GBH</td>\n",
       "      <td>Mon Dec 18 16:00:52 EST 2023</td>\n",
       "    </tr>\n",
       "  </tbody>\n",
       "</table>\n",
       "</div>"
      ],
      "text/plain": [
       "   Index                        ID                Coordinates  Block  \\\n",
       "0      0  65adafef8d9d92f2327ea8ff  [-71.0201972, 42.3665992]   1044   \n",
       "1      1  65adafef8d9d92f2327ea923    [-71.06939, 42.3561948]   1000   \n",
       "2      2  65adafef8d9d92f2327ea8fd    [-71.148182, 42.357122]   2032   \n",
       "\n",
       "   Census Tract Neighborhood  County   Closest Topic  \\\n",
       "0        981300  East Boston      25         Weather   \n",
       "1        981700     Downtown      25  State Politics   \n",
       "2           102      Allston      25             GBH   \n",
       "\n",
       "               Publication Date  \n",
       "0  Mon Dec 18 12:34:19 EST 2023  \n",
       "1  Thu Nov 30 14:12:21 EST 2023  \n",
       "2  Mon Dec 18 16:00:52 EST 2023  "
      ]
     },
     "execution_count": 186,
     "metadata": {},
     "output_type": "execute_result"
    }
   ],
   "source": [
    "# Load geocoded articles\n",
    "articles = pd.read_csv(\"../data/processed/gbh_geocoded_output.csv\")\n",
    "\n",
    "articles.head(3)"
   ]
  },
  {
   "cell_type": "code",
   "execution_count": 187,
   "metadata": {},
   "outputs": [
    {
     "data": {
      "text/plain": [
       "Index               1056\n",
       "ID                  1056\n",
       "Coordinates         1056\n",
       "Block               1056\n",
       "Census Tract        1056\n",
       "Neighborhood         925\n",
       "County              1056\n",
       "Closest Topic       1056\n",
       "Publication Date    1056\n",
       "dtype: int64"
      ]
     },
     "execution_count": 187,
     "metadata": {},
     "output_type": "execute_result"
    }
   ],
   "source": [
    "# Currently, not all census tracts are related to a neighborhood. So, there are some NaN values in the neighborhood column.\n",
    "# Only Suffolk County (25) has tracked neighborhoods.\n",
    "articles.notna().sum()"
   ]
  },
  {
   "cell_type": "code",
   "execution_count": 256,
   "metadata": {},
   "outputs": [],
   "source": [
    "# Drop rows without neighborhoods. Later on this will not be needed.\n",
    "articles.dropna(subset=[\"Neighborhood\"], inplace=True)"
   ]
  },
  {
   "cell_type": "markdown",
   "metadata": {},
   "source": [
    "First I will parse by dates so that all following functions can have that applied as well."
   ]
  },
  {
   "cell_type": "code",
   "execution_count": 189,
   "metadata": {},
   "outputs": [],
   "source": [
    "# Dictionary to map timezone names to pytz time zones\n",
    "tzinfos = {\n",
    "    'EST': pytz.timezone('US/Eastern'),\n",
    "    'EDT': pytz.timezone('US/Eastern')\n",
    "}\n",
    "\n",
    "# Function to convert date strings to datetime objects\n",
    "def convert_to_datetime(date_str):\n",
    "    return parser.parse(date_str, tzinfos=tzinfos)"
   ]
  },
  {
   "cell_type": "code",
   "execution_count": 190,
   "metadata": {},
   "outputs": [],
   "source": [
    "# Apply the conversion function to the 'Publication Date' column\n",
    "articles['Publication Date'] = articles['Publication Date'].apply(convert_to_datetime)\n",
    "\n",
    "# Ensure the Publication Date column is timezone-aware\n",
    "articles['Publication Date'] = articles['Publication Date'].dt.tz_convert(pytz.timezone('US/Eastern'))\n"
   ]
  },
  {
   "cell_type": "code",
   "execution_count": 240,
   "metadata": {},
   "outputs": [
    {
     "name": "stdout",
     "output_type": "stream",
     "text": [
      "Using articles from 2023-12-18 to 2023-12-18\n"
     ]
    }
   ],
   "source": [
    "# Define the date range (timezone-aware)\n",
    "start_date = pytz.timezone('US/Eastern').localize(datetime(2023, 12, 18))\n",
    "end_date = pytz.timezone('US/Eastern').localize(datetime(2023, 12, 18))\n",
    "\n",
    "\n",
    "# Filter the DataFrame for the date range\n",
    "filtered_articles = articles[(articles['Publication Date'] >= start_date) & (articles['Publication Date'] <= end_date)]\n",
    "\n",
    "print(f\"Using articles from {start_date.date()} to {end_date.date()}\")"
   ]
  },
  {
   "cell_type": "code",
   "execution_count": 193,
   "metadata": {},
   "outputs": [],
   "source": [
    "# If we don't want the to use the filtered by date data, skip this step\n",
    "all_articles = articles.copy()\n",
    "articles = filtered_articles"
   ]
  },
  {
   "cell_type": "code",
   "execution_count": 195,
   "metadata": {},
   "outputs": [],
   "source": [
    "# If want to use all articles again, use this step\n",
    "articles = all_articles.copy()"
   ]
  },
  {
   "cell_type": "markdown",
   "metadata": {},
   "source": [
    "We can now begin doing some basic analysis"
   ]
  },
  {
   "cell_type": "code",
   "execution_count": 197,
   "metadata": {},
   "outputs": [
    {
     "name": "stdout",
     "output_type": "stream",
     "text": [
      "Total articles: 925\n"
     ]
    }
   ],
   "source": [
    "# Get the total count of articles\n",
    "\n",
    "total_articles = articles[\"ID\"].count()\n",
    "print(f\"Total articles: {total_articles}\")"
   ]
  },
  {
   "cell_type": "code",
   "execution_count": 198,
   "metadata": {},
   "outputs": [],
   "source": [
    "# Function to get the top 5 category based on amount of articles\n",
    "def get_article_count(data, column):\n",
    "    count = data[column].value_counts()\n",
    "    top_count = count.head(5)\n",
    "    top_count_df = top_count.reset_index()\n",
    "    top_count_df.columns = [column, \"Article Count\"]\n",
    "\n",
    "    return top_count_df"
   ]
  },
  {
   "cell_type": "code",
   "execution_count": 199,
   "metadata": {},
   "outputs": [],
   "source": [
    "# Get the count of articles for a given category\n",
    "def get_specific_count(data, column, category):\n",
    "    return len(data[data[column] == category])"
   ]
  },
  {
   "cell_type": "markdown",
   "metadata": {},
   "source": [
    "We can now get article counts and popularity for a given demographic"
   ]
  },
  {
   "cell_type": "code",
   "execution_count": 200,
   "metadata": {},
   "outputs": [
    {
     "name": "stdout",
     "output_type": "stream",
     "text": [
      "The 22 available neighborhoods are: \n",
      "East Boston, Downtown, Allston, Roxbury, Fenway, Beacon Hill, Mission Hill, Back Bay, South Boston\n",
      "Waterfront, Longwood, South Boston, West Roxbury, South End, Hyde Park, West End, Dorchester, North\n",
      "End, Brighton, Jamaica Plain, Charlestown, Mattapan, Roslindale\n"
     ]
    }
   ],
   "source": [
    "# Get all Neighborhoods\n",
    "neighborhoods = articles[\"Neighborhood\"].unique()\n",
    "neighborhood_count = len(neighborhoods)\n",
    "\n",
    "neighborhoods_str = ', '.join(neighborhoods)\n",
    "wrapped_neighborhoods = textwrap.fill(neighborhoods_str, width=100)\n",
    "print(f\"The {neighborhood_count} available neighborhoods are: \\n{wrapped_neighborhoods}\")"
   ]
  },
  {
   "cell_type": "code",
   "execution_count": 201,
   "metadata": {},
   "outputs": [
    {
     "name": "stdout",
     "output_type": "stream",
     "text": [
      "Top 5 Most Frequented Neighborhoods:\n",
      " Neighborhood  Article Count\n",
      "    Downtown            409\n",
      "      Fenway            145\n",
      " Beacon Hill             84\n",
      "     Roxbury             50\n",
      "    Back Bay             36\n"
     ]
    }
   ],
   "source": [
    "# Count articles by Neighborhood\n",
    "neighborhood_count = get_article_count(articles, \"Neighborhood\")\n",
    "\n",
    "print(\"Top 5 Most Frequented Neighborhoods:\\n\", neighborhood_count.to_string(index=False))"
   ]
  },
  {
   "cell_type": "code",
   "execution_count": 202,
   "metadata": {},
   "outputs": [
    {
     "name": "stdout",
     "output_type": "stream",
     "text": [
      "Number of articles for Downtown: 409\n"
     ]
    }
   ],
   "source": [
    "# Example: Get the count of articles for a specific neighborhood\n",
    "neighborhood = \"Downtown\"\n",
    "\n",
    "neighborhood_specific_count = get_specific_count(articles, \"Neighborhood\", neighborhood)\n",
    "print(f\"Number of articles for {neighborhood}: {neighborhood_specific_count}\")"
   ]
  },
  {
   "cell_type": "code",
   "execution_count": 237,
   "metadata": {},
   "outputs": [],
   "source": [
    "# Get the census tracts for a specific neighborhood\n",
    "def get_tracts_for_neighborhood(data, neighborhood):\n",
    "    return data[data[\"Neighborhood\"] == neighborhood][\"Census Tract\"].unique()"
   ]
  },
  {
   "cell_type": "code",
   "execution_count": 239,
   "metadata": {},
   "outputs": [
    {
     "name": "stdout",
     "output_type": "stream",
     "text": [
      "The Downtown neighborhood has the following census tracts: \n",
      "981700, 70201, 70102, 30302, 30301, 70202, 70103, 70302\n"
     ]
    }
   ],
   "source": [
    "# Example: Get the census tracts for a specific neighborhood\n",
    "neighborhood = \"Downtown\"\n",
    "tracts = get_tracts_for_neighborhood(articles, neighborhood)\n",
    "\n",
    "tracts_str = ', '.join(map(str, tracts))\n",
    "wrapped_tracts = textwrap.fill(tracts_str, width=100)\n",
    "print(f\"The {neighborhood} neighborhood has the following census tracts: \\n{wrapped_tracts}\")"
   ]
  },
  {
   "cell_type": "code",
   "execution_count": 225,
   "metadata": {},
   "outputs": [
    {
     "name": "stdout",
     "output_type": "stream",
     "text": [
      "There are 104 census tracts available\n"
     ]
    }
   ],
   "source": [
    "# Get all Census Tracts\n",
    "tracts = articles[\"Census Tract\"].unique()\n",
    "tracts_count = len(tracts)\n",
    "\n",
    "tracts_str = ', '.join(map(str, tracts))\n",
    "print(f\"There are {tracts_count} census tracts available\")"
   ]
  },
  {
   "cell_type": "code",
   "execution_count": 204,
   "metadata": {},
   "outputs": [
    {
     "name": "stdout",
     "output_type": "stream",
     "text": [
      "Top 5 Most Frequented Census Tracts:\n",
      "  Census Tract Neighborhood  Article Count\n",
      "        30302     Downtown            319\n",
      "        10103       Fenway            104\n",
      "        20302  Beacon Hill             70\n",
      "       981700     Downtown             37\n",
      "        70201     Downtown             30\n"
     ]
    }
   ],
   "source": [
    "# Count articles by Census Tract\n",
    "\n",
    "tract_count = get_article_count(articles, \"Census Tract\")\n",
    "\n",
    "# Drop duplicates to ensure unique Census Tract-Neighborhood pairs\n",
    "unique_tract_neighborhood = articles[['Census Tract', 'Neighborhood']].drop_duplicates()\n",
    "\n",
    "# Merge with the unique Census Tract-Neighborhood pairs to get the neighborhood information\n",
    "tract_count_df = tract_count.merge(unique_tract_neighborhood, on='Census Tract', how='left')\n",
    "\n",
    "tract_count_df.insert(1, \"Neighborhood\", tract_count_df.pop(\"Neighborhood\"))\n",
    "\n",
    "print(\"Top 5 Most Frequented Census Tracts:\\n\", tract_count_df.to_string(index=False))"
   ]
  },
  {
   "cell_type": "code",
   "execution_count": 205,
   "metadata": {},
   "outputs": [
    {
     "name": "stdout",
     "output_type": "stream",
     "text": [
      "Number of articles for Census Tract 30302: 319\n"
     ]
    }
   ],
   "source": [
    "# Example: Get the count of articles for a specific Census Tract\n",
    "tract = 30302\n",
    "\n",
    "tract_specific_count = get_specific_count(articles, \"Census Tract\", tract)\n",
    "\n",
    "print(f\"Number of articles for Census Tract {tract}: {tract_specific_count}\")"
   ]
  },
  {
   "cell_type": "code",
   "execution_count": 209,
   "metadata": {},
   "outputs": [
    {
     "name": "stdout",
     "output_type": "stream",
     "text": [
      "There are 1 counties available\n"
     ]
    }
   ],
   "source": [
    "# Get all Counties. For now it's only Suffolk\n",
    "counties = articles[\"County\"].unique()\n",
    "counties_count = len(counties)\n",
    "\n",
    "counties_str = ', '.join(map(str,counties))\n",
    "print(f\"There are {counties_count} counties available\")"
   ]
  },
  {
   "cell_type": "code",
   "execution_count": 210,
   "metadata": {},
   "outputs": [
    {
     "name": "stdout",
     "output_type": "stream",
     "text": [
      "Top 5 Most Frequented Counties:\n",
      "  County  Article Count\n",
      "     25            925\n"
     ]
    }
   ],
   "source": [
    "# Count articles by County\n",
    "county_count = get_article_count(articles, \"County\")\n",
    "\n",
    "# As other counties do not have neighborhoods assigned to them on our database, only one will show\n",
    "print(\"Top 5 Most Frequented Counties:\\n\", county_count.to_string(index=False))"
   ]
  },
  {
   "cell_type": "code",
   "execution_count": 224,
   "metadata": {},
   "outputs": [
    {
     "name": "stdout",
     "output_type": "stream",
     "text": [
      "Number of articles for County #25: 925\n"
     ]
    }
   ],
   "source": [
    "# Example: Get the count of articles for a specific County\n",
    "county = 25\n",
    "\n",
    "county_specific_count = get_specific_count(articles, \"County\", county)\n",
    "print(f\"Number of articles for County #{county}: {county_specific_count}\")"
   ]
  },
  {
   "cell_type": "markdown",
   "metadata": {},
   "source": [
    "Similarly, this can be done to find out the topics "
   ]
  },
  {
   "cell_type": "code",
   "execution_count": 227,
   "metadata": {},
   "outputs": [
    {
     "name": "stdout",
     "output_type": "stream",
     "text": [
      "There are 52 topics available: \n",
      "Weather, State Politics, GBH, Aging/Seniors, Guns, Infrastructure, Education, Other, Public Health,\n",
      "Arts & Culture, Obituaries, Local Politics, Law Enforcement, Mental Health, Housing/Homelessness,\n",
      "Labor/Workforce, Gentrification, Shopping, Addiction/Substance Use, Immigration, Equity & Justice,\n",
      "Taxes, Philanthropy/Nonprofits, Small Business, Sports, Higher Education, Research & Development,\n",
      "Youth, Accessiblity/Disablity, Civil Rights, Poverty & hunger, Population & Demographics, Childcare,\n",
      "Homeland Security, Gender issues, LGBTQ+, Technology, Healthcare, Politics/Elections, Crime, Native\n",
      "Americans, Veterans Affairs, Government, Race, Natural Disasters, Extremism, Families, Terrorism,\n",
      "Construction, Environment, Religion, International Affairs\n"
     ]
    }
   ],
   "source": [
    "# Get the total topics and their count\n",
    "\n",
    "total_topics = articles[\"Closest Topic\"].unique()\n",
    "topics_count = len(total_topics)\n",
    "\n",
    "topics_str = ', '.join(map(str, total_topics))\n",
    "wrapped_topics = textwrap.fill(topics_str, width=100)\n",
    "print(f\"There are {topics_count} topics available: \\n{wrapped_topics}\")"
   ]
  },
  {
   "cell_type": "code",
   "execution_count": 228,
   "metadata": {},
   "outputs": [
    {
     "name": "stdout",
     "output_type": "stream",
     "text": [
      "Top 5 Most Frequented Topics:\n",
      "        Closest Topic  Article Count\n",
      "               Other            136\n",
      "      Local Politics            126\n",
      "Housing/Homelessness             81\n",
      "  Politics/Elections             69\n",
      "      State Politics             35\n"
     ]
    }
   ],
   "source": [
    "# Count articles of a Topic\n",
    "topic_count = get_article_count(articles, \"Closest Topic\")\n",
    "\n",
    "print(\"Top 5 Most Frequented Topics:\\n\", topic_count.to_string(index=False))"
   ]
  },
  {
   "cell_type": "code",
   "execution_count": 229,
   "metadata": {},
   "outputs": [
    {
     "name": "stdout",
     "output_type": "stream",
     "text": [
      "Number of articles for Local Politics: 126\n"
     ]
    }
   ],
   "source": [
    "# Example: Get the count of articles for a specific Topic\n",
    "topic = \"Local Politics\"\n",
    "\n",
    "topic_specific_count = get_specific_count(articles, \"Closest Topic\", topic)\n",
    "print(f\"Number of articles for {topic}: {topic_specific_count}\")"
   ]
  },
  {
   "cell_type": "markdown",
   "metadata": {},
   "source": [
    "Then, we can get topic distribution on any given tract or neighborhood"
   ]
  },
  {
   "cell_type": "code",
   "execution_count": 261,
   "metadata": {},
   "outputs": [],
   "source": [
    "# Get the topics for all census tracts\n",
    "\n",
    "def get_all_topics(data, column):\n",
    "    # Group by census tract and aggregate topics\n",
    "    topic_counts = data.groupby([column,'Closest Topic']).size().reset_index(name='counts')\n",
    "\n",
    "    # Determine all topics for each tract\n",
    "    all_topics = topic_counts.groupby(column)['Closest Topic'].apply(list).reset_index(name='All Topics')\n",
    "\n",
    "    # Determine the main 3 topics for each tract\n",
    "    top_3_topics = topic_counts.sort_values([column, 'counts'], ascending=[True, False])\n",
    "    top_3_topics = top_3_topics.groupby(column).head(3).reset_index(drop=True)\n",
    "    main_3_topics = top_3_topics.groupby(column)['Closest Topic'].apply(list).reset_index(name='Main 3 Topics')\n",
    "\n",
    "    # Merge the results\n",
    "    result = pd.merge(all_topics, main_3_topics, on=column)\n",
    "    return result"
   ]
  },
  {
   "cell_type": "code",
   "execution_count": 262,
   "metadata": {},
   "outputs": [],
   "source": [
    "# Get the topics for a specific tract\n",
    "def get_main_topics_from_demo(data, column, demo):\n",
    "    topics = data[data[column] == demo]\n",
    "    formattedTopics = topics[\"Main 3 Topics\"].values[0]\n",
    "    formattedTopicss = str(formattedTopics[0]) + \", \" + str(formattedTopics[1]) + \", \" + str(formattedTopics[2])\n",
    "    return formattedTopicss\n"
   ]
  },
  {
   "cell_type": "code",
   "execution_count": 265,
   "metadata": {},
   "outputs": [
    {
     "data": {
      "text/html": [
       "<div>\n",
       "<style scoped>\n",
       "    .dataframe tbody tr th:only-of-type {\n",
       "        vertical-align: middle;\n",
       "    }\n",
       "\n",
       "    .dataframe tbody tr th {\n",
       "        vertical-align: top;\n",
       "    }\n",
       "\n",
       "    .dataframe thead th {\n",
       "        text-align: right;\n",
       "    }\n",
       "</style>\n",
       "<table border=\"1\" class=\"dataframe\">\n",
       "  <thead>\n",
       "    <tr style=\"text-align: right;\">\n",
       "      <th></th>\n",
       "      <th>Neighborhood</th>\n",
       "      <th>All Topics</th>\n",
       "      <th>Main 3 Topics</th>\n",
       "    </tr>\n",
       "  </thead>\n",
       "  <tbody>\n",
       "    <tr>\n",
       "      <th>0</th>\n",
       "      <td>Allston</td>\n",
       "      <td>[Accessiblity/Disablity, Construction, GBH, Hi...</td>\n",
       "      <td>[Other, GBH, Local Politics]</td>\n",
       "    </tr>\n",
       "    <tr>\n",
       "      <th>1</th>\n",
       "      <td>Back Bay</td>\n",
       "      <td>[Arts &amp; Culture, Civil Rights, Equity &amp; Justic...</td>\n",
       "      <td>[Other, Politics/Elections, Local Politics]</td>\n",
       "    </tr>\n",
       "    <tr>\n",
       "      <th>2</th>\n",
       "      <td>Beacon Hill</td>\n",
       "      <td>[Accessiblity/Disablity, Addiction/Substance U...</td>\n",
       "      <td>[State Politics, Housing/Homelessness, Politic...</td>\n",
       "    </tr>\n",
       "  </tbody>\n",
       "</table>\n",
       "</div>"
      ],
      "text/plain": [
       "  Neighborhood                                         All Topics  \\\n",
       "0      Allston  [Accessiblity/Disablity, Construction, GBH, Hi...   \n",
       "1     Back Bay  [Arts & Culture, Civil Rights, Equity & Justic...   \n",
       "2  Beacon Hill  [Accessiblity/Disablity, Addiction/Substance U...   \n",
       "\n",
       "                                       Main 3 Topics  \n",
       "0                       [Other, GBH, Local Politics]  \n",
       "1        [Other, Politics/Elections, Local Politics]  \n",
       "2  [State Politics, Housing/Homelessness, Politic...  "
      ]
     },
     "execution_count": 265,
     "metadata": {},
     "output_type": "execute_result"
    }
   ],
   "source": [
    "# Get all topics for the neighborhoods\n",
    "neighborhood_topics = get_all_topics(articles, \"Neighborhood\")\n",
    "neighborhood_topics.head(3)"
   ]
  },
  {
   "cell_type": "code",
   "execution_count": 266,
   "metadata": {},
   "outputs": [
    {
     "name": "stdout",
     "output_type": "stream",
     "text": [
      "The main 3 topics for the Downtown neighborhood are: Local Politics, Other, Politics/Elections\n"
     ]
    }
   ],
   "source": [
    "# Example: Get the topics for a specific neighborhood\n",
    "neighborhood = \"Downtown\"\n",
    "topics =  get_main_topics_from_demo(neighborhood_topics, \"Neighborhood\", neighborhood)\n",
    "print(f\"The main 3 topics for the {neighborhood} neighborhood are: {topics}\")"
   ]
  },
  {
   "cell_type": "code",
   "execution_count": 267,
   "metadata": {},
   "outputs": [
    {
     "data": {
      "text/html": [
       "<div>\n",
       "<style scoped>\n",
       "    .dataframe tbody tr th:only-of-type {\n",
       "        vertical-align: middle;\n",
       "    }\n",
       "\n",
       "    .dataframe tbody tr th {\n",
       "        vertical-align: top;\n",
       "    }\n",
       "\n",
       "    .dataframe thead th {\n",
       "        text-align: right;\n",
       "    }\n",
       "</style>\n",
       "<table border=\"1\" class=\"dataframe\">\n",
       "  <thead>\n",
       "    <tr style=\"text-align: right;\">\n",
       "      <th></th>\n",
       "      <th>Census Tract</th>\n",
       "      <th>All Topics</th>\n",
       "      <th>Main 3 Topics</th>\n",
       "    </tr>\n",
       "  </thead>\n",
       "  <tbody>\n",
       "    <tr>\n",
       "      <th>0</th>\n",
       "      <td>102</td>\n",
       "      <td>[GBH, Higher Education, Immigration, Labor/Wor...</td>\n",
       "      <td>[GBH, Other, Higher Education]</td>\n",
       "    </tr>\n",
       "    <tr>\n",
       "      <th>1</th>\n",
       "      <td>302</td>\n",
       "      <td>[Housing/Homelessness]</td>\n",
       "      <td>[Housing/Homelessness]</td>\n",
       "    </tr>\n",
       "    <tr>\n",
       "      <th>2</th>\n",
       "      <td>402</td>\n",
       "      <td>[Other]</td>\n",
       "      <td>[Other]</td>\n",
       "    </tr>\n",
       "  </tbody>\n",
       "</table>\n",
       "</div>"
      ],
      "text/plain": [
       "   Census Tract                                         All Topics  \\\n",
       "0           102  [GBH, Higher Education, Immigration, Labor/Wor...   \n",
       "1           302                             [Housing/Homelessness]   \n",
       "2           402                                            [Other]   \n",
       "\n",
       "                    Main 3 Topics  \n",
       "0  [GBH, Other, Higher Education]  \n",
       "1          [Housing/Homelessness]  \n",
       "2                         [Other]  "
      ]
     },
     "execution_count": 267,
     "metadata": {},
     "output_type": "execute_result"
    }
   ],
   "source": [
    "# Get all topics for the census tracts\n",
    "tract_topics = get_all_topics(articles, \"Census Tract\")\n",
    "tract_topics.head(3)"
   ]
  },
  {
   "cell_type": "code",
   "execution_count": 268,
   "metadata": {},
   "outputs": [
    {
     "name": "stdout",
     "output_type": "stream",
     "text": [
      "The main topics in the tract 30302 are: Local Politics, Other, Politics/Elections\n"
     ]
    },
    {
     "ename": "",
     "evalue": "",
     "output_type": "error",
     "traceback": [
      "\u001b[1;31mThe Kernel crashed while executing code in the current cell or a previous cell. \n",
      "\u001b[1;31mPlease review the code in the cell(s) to identify a possible cause of the failure. \n",
      "\u001b[1;31mClick <a href='https://aka.ms/vscodeJupyterKernelCrash'>here</a> for more info. \n",
      "\u001b[1;31mView Jupyter <a href='command:jupyter.viewOutput'>log</a> for further details."
     ]
    }
   ],
   "source": [
    "# Example: Get the topics for a specific tract\n",
    "tract = 30302\n",
    "topics =  get_main_topics_from_demo(tract_topics, \"Census Tract\", tract)\n",
    "print(f\"The main topics in the tract {str(tract)} are: \" + str(topics))"
   ]
  },
  {
   "cell_type": "markdown",
   "metadata": {},
   "source": [
    "We can also collect the amount of articles for a given topic and demographic"
   ]
  },
  {
   "cell_type": "code",
   "execution_count": 231,
   "metadata": {},
   "outputs": [],
   "source": [
    "# Count articles of a topic on a given demographic\n",
    "\n",
    "def get_topic_count(data, column, demographic, topic):\n",
    "    filtered_articles = data[data[column] == demographic]\n",
    "    topic_count = get_specific_count(filtered_articles, \"Closest Topic\", topic)\n",
    "    return topic_count\n"
   ]
  },
  {
   "cell_type": "code",
   "execution_count": 232,
   "metadata": {},
   "outputs": [
    {
     "name": "stdout",
     "output_type": "stream",
     "text": [
      "Number of articles for Local Politics in Downtown: 68\n"
     ]
    }
   ],
   "source": [
    "# Example: Get the count of articles for a specific Topic in a specific Neighborhood\n",
    "topic = \"Local Politics\"\n",
    "neighborhood = \"Downtown\"\n",
    "\n",
    "topic_specific_count = get_topic_count(articles, \"Neighborhood\", neighborhood, topic)\n",
    "print(f\"Number of articles for {topic} in {neighborhood}: {topic_specific_count}\")"
   ]
  },
  {
   "cell_type": "code",
   "execution_count": 233,
   "metadata": {},
   "outputs": [
    {
     "name": "stdout",
     "output_type": "stream",
     "text": [
      "Number of articles for Local Politics in Census Tract 30302: 52\n"
     ]
    }
   ],
   "source": [
    "# Example: Get the count of articles for a specific Topic in a specific Census Tract\n",
    "topic = \"Local Politics\"\n",
    "tract = 30302\n",
    "\n",
    "topic_specific_count = get_topic_count(articles, \"Census Tract\", tract, topic)\n",
    "print(f\"Number of articles for {topic} in Census Tract {tract}: {topic_specific_count}\")"
   ]
  },
  {
   "cell_type": "markdown",
   "metadata": {},
   "source": [
    "Combining these two for a more useful dataset, we can obtain the topics with the amount of articles each of them have"
   ]
  },
  {
   "cell_type": "code",
   "execution_count": null,
   "metadata": {},
   "outputs": [],
   "source": []
  },
  {
   "cell_type": "code",
   "execution_count": 230,
   "metadata": {},
   "outputs": [
    {
     "name": "stdout",
     "output_type": "stream",
     "text": [
      "\n",
      "Top 5 Dates:\n",
      " Publication Date  Article Count\n",
      "      2023-07-19             20\n",
      "      2023-07-28             11\n",
      "      2021-01-26             10\n",
      "      2023-03-10              9\n",
      "      2020-11-03              8\n"
     ]
    }
   ],
   "source": [
    "# Count articles by Date\n",
    "date_counts = articles['Publication Date'].dt.date.value_counts().reset_index()\n",
    "\n",
    "date_counts.columns = ['Publication Date', 'Article Count']\n",
    "\n",
    "top_5 = date_counts.head(5)\n",
    "\n",
    "print(\"\\nTop 5 Dates:\\n\", top_5.to_string(index=False))"
   ]
  },
  {
   "cell_type": "code",
   "execution_count": null,
   "metadata": {},
   "outputs": [],
   "source": []
  }
 ],
 "metadata": {
  "kernelspec": {
   "display_name": "Python 3",
   "language": "python",
   "name": "python3"
  },
  "language_info": {
   "codemirror_mode": {
    "name": "ipython",
    "version": 3
   },
   "file_extension": ".py",
   "mimetype": "text/x-python",
   "name": "python",
   "nbconvert_exporter": "python",
   "pygments_lexer": "ipython3",
   "version": "3.12.4"
  }
 },
 "nbformat": 4,
 "nbformat_minor": 2
}
