{
 "cells": [
  {
   "cell_type": "code",
   "execution_count": 2,
   "metadata": {},
   "outputs": [],
   "source": [
    "import pandas as pd\n",
    "from dateutil import parser\n",
    "from datetime import datetime # for converting and using dates\n",
    "import pytz\n",
    "\n",
    "# Load data\n",
    "articles = pd.read_csv(\"../data/processed/gbh_geocoded_output.csv\")"
   ]
  },
  {
   "cell_type": "code",
   "execution_count": 4,
   "metadata": {},
   "outputs": [
    {
     "data": {
      "text/plain": [
       "Coordinates\n",
       "[-71.0588801, 42.3600825]          242\n",
       "[-71.1084303, 42.3503433]           97\n",
       "[-71.0638101, 42.3587772]           69\n",
       "[-71.06694, 42.3516729]             26\n",
       "[-71.09355839999999, 42.359143]     26\n",
       "[-71.057993, 42.360406]             20\n",
       "[-71.0657256, 42.3550897]           18\n",
       "[-71.0201972, 42.3665992]           17\n",
       "[-71.06939, 42.3561948]             15\n",
       "[-71.118281, 42.3744368]            13\n",
       "Name: count, dtype: int64"
      ]
     },
     "execution_count": 4,
     "metadata": {},
     "output_type": "execute_result"
    }
   ],
   "source": [
    "# Count articles by year-month\n",
    "articles_by_month = articles['Coordinates'].value_counts().sort_index()\n",
    "\n",
    "# Get top 10 months with the most articles\n",
    "top_10_months = articles_by_month.nlargest(10)\n",
    "\n",
    "top_10_months"
   ]
  },
  {
   "cell_type": "code",
   "execution_count": 11,
   "metadata": {},
   "outputs": [],
   "source": [
    "top_coordinate = articles[articles['Coordinates'] == top_10_months.index[0]]\n",
    "second_top = articles[articles['Coordinates'] == top_10_months.index[1]]\n",
    "third_top = articles[articles['Coordinates'] == top_10_months.index[2]]"
   ]
  },
  {
   "cell_type": "code",
   "execution_count": 19,
   "metadata": {},
   "outputs": [],
   "source": [
    "# Function to get the top 5 category based on the number of articles\n",
    "def get_article_count(data, column):\n",
    "    count = data[column].value_counts()\n",
    "    top_count = count.head(10)\n",
    "    top_count_df = top_count.reset_index()\n",
    "    top_count_df.columns = [column, \"Article Count\"]\n",
    "    return top_count_df"
   ]
  },
  {
   "cell_type": "code",
   "execution_count": 20,
   "metadata": {},
   "outputs": [
    {
     "name": "stdout",
     "output_type": "stream",
     "text": [
      "\n",
      "Top 10 Most Frequented Topics:\n",
      "        Closest Topic  Article Count\n",
      "               Other             40\n",
      "      Local Politics             28\n",
      "  Politics/Elections             27\n",
      "Housing/Homelessness             18\n",
      "          Healthcare             12\n",
      "     Labor/Workforce             11\n",
      "         Immigration             10\n",
      "     Law Enforcement              9\n",
      "      State Politics              8\n",
      "    Equity & Justice              7\n"
     ]
    }
   ],
   "source": [
    "# Count articles by Topic\n",
    "topic_count1 = get_article_count(top_coordinate, \"Closest Topic\")\n",
    "print(\"\\nTop 10 Most Frequented Topics:\\n\", topic_count1.to_string(index=False))\n"
   ]
  },
  {
   "cell_type": "code",
   "execution_count": 16,
   "metadata": {},
   "outputs": [
    {
     "name": "stdout",
     "output_type": "stream",
     "text": [
      "\n",
      "Top 10 Most Frequented Topics:\n",
      "        Closest Topic  Article Count\n",
      "               Other             18\n",
      "      Local Politics             14\n",
      "Housing/Homelessness             11\n",
      "      State Politics              6\n",
      "          Healthcare              5\n",
      "  Politics/Elections              5\n",
      "    Higher Education              3\n",
      "               Taxes              3\n",
      "           Childcare              3\n",
      "     Labor/Workforce              3\n"
     ]
    }
   ],
   "source": [
    "# Count articles by Topic\n",
    "topic_count2 = get_article_count(second_top, \"Closest Topic\")\n",
    "print(\"\\nTop 10 Most Frequented Topics:\\n\", topic_count2.to_string(index=False))\n"
   ]
  },
  {
   "cell_type": "code",
   "execution_count": 15,
   "metadata": {},
   "outputs": [
    {
     "name": "stdout",
     "output_type": "stream",
     "text": [
      "\n",
      "Top 10 Most Frequented Topics:\n",
      "          Closest Topic  Article Count\n",
      "        State Politics             11\n",
      "  Housing/Homelessness              9\n",
      "    Politics/Elections              9\n",
      "        Local Politics              6\n",
      "         Public Health              4\n",
      "         Gender issues              4\n",
      "            Healthcare              4\n",
      "Accessiblity/Disablity              3\n",
      "      Equity & Justice              3\n",
      "      Higher Education              2\n"
     ]
    }
   ],
   "source": [
    "\n",
    "# Count articles by Topic\n",
    "topic_count3 = get_article_count(third_top, \"Closest Topic\")\n",
    "print(\"\\nTop 10 Most Frequented Topics:\\n\", topic_count3.to_string(index=False))"
   ]
  },
  {
   "cell_type": "code",
   "execution_count": null,
   "metadata": {},
   "outputs": [],
   "source": []
  }
 ],
 "metadata": {
  "kernelspec": {
   "display_name": "Python 3",
   "language": "python",
   "name": "python3"
  },
  "language_info": {
   "codemirror_mode": {
    "name": "ipython",
    "version": 3
   },
   "file_extension": ".py",
   "mimetype": "text/x-python",
   "name": "python",
   "nbconvert_exporter": "python",
   "pygments_lexer": "ipython3",
   "version": "3.12.3"
  }
 },
 "nbformat": 4,
 "nbformat_minor": 2
}
