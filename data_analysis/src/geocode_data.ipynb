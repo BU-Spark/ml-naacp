{
 "cells": [
  {
   "cell_type": "markdown",
   "metadata": {},
   "source": [
    "# Step 2: Geocoding data\n",
    "\n",
    "Even though the initial data had some information about the census tracts and neighborhoods, we want to make sure they are up to date. So this code aims to use the relevant APIs to recollect such data."
   ]
  },
  {
   "cell_type": "code",
   "execution_count": 2,
   "metadata": {},
   "outputs": [],
   "source": [
    "# Import necessary libraries\n",
    "\n",
    "import pandas as pd\n",
    "import ast # For converting string to list\n",
    "import requests # For making API requests\n",
    "import json # For parsing JSON of neighboordhoods"
   ]
  },
  {
   "cell_type": "code",
   "execution_count": 3,
   "metadata": {},
   "outputs": [],
   "source": [
    "# Load new processed data\n",
    "\n",
    "articles = pd.read_csv(\"../data/processed/gbh_processed_output.csv\")"
   ]
  },
  {
   "cell_type": "markdown",
   "metadata": {},
   "source": [
    "### Get Census geographies\n",
    "\n",
    "This function has been used in other parts of the website so it's valuable to understand it. It takes as input a dictionary of \"place\": (longitude coordinate and latitude coordinate as another nested dictionary), and outputs all the relevant census geographies for each location."
   ]
  },
  {
   "cell_type": "code",
   "execution_count": 4,
   "metadata": {},
   "outputs": [],
   "source": [
    "# Get census geographies for any given location\n",
    "\n",
    "def get_census_geos(geocode_results): # format: {place: {lon: lon, lat: lat}}\n",
    "    \"\"\"\n",
    "    get census geographies - tract, block group, block by coordinates\n",
    "    input: google maps geocode_results as a dictionary\n",
    "    return: block, block_group, tract, county for each location\n",
    "    \"\"\"\n",
    "    census_geos = {}\n",
    "    for place in geocode_results:\n",
    "        # building the geocoding url\n",
    "        base_url = f'https://geocoding.geo.census.gov/geocoder/geographies/coordinates?'\n",
    "        survey_ver = f'&benchmark=4&vintage=4&layers=2020 Census Blocks&format=json'\n",
    "        lon = geocode_results[place]['lon']\n",
    "        lat = geocode_results[place]['lat']\n",
    "        census_geo_url = f'{base_url}x={lon}&y={lat}{survey_ver}'\n",
    "\n",
    "        # getting the census geographies \n",
    "        response = requests.get(census_geo_url)\n",
    "        response_json = response.json()\n",
    "\n",
    "        # Extract and organize the census geographies\n",
    "        try:\n",
    "            block = response_json['result']['geographies']['2020 Census Blocks'][0]['BLOCK']\n",
    "            block_group = response_json['result']['geographies']['2020 Census Blocks'][0]['BLKGRP']\n",
    "            tract = response_json['result']['geographies']['2020 Census Blocks'][0]['TRACT']\n",
    "            county = response_json['result']['geographies']['2020 Census Blocks'][0]['COUNTY']\n",
    "            census_geos[place] = {'block': block,\n",
    "                                  'blkgrp': block_group,\n",
    "                                  'tract': tract,\n",
    "                                  'county': county}\n",
    "        except IndexError:\n",
    "            print(\"Unable to retrieve census geography for: \" + place)\n",
    "        except KeyError:\n",
    "            print(\"Location is outside of the United States: \" + place)\n",
    "            # Still saves it as NaN, but will be able to filter out later\n",
    "            census_geos[place] = {'block': None,\n",
    "                                  'blkgrp': None,\n",
    "                                  'tract': None,\n",
    "                                  'county': None}\n",
    "    return census_geos"
   ]
  },
  {
   "cell_type": "code",
   "execution_count": null,
   "metadata": {},
   "outputs": [],
   "source": [
    "# Get the census geographies for each location and add it to database\n",
    "\n",
    "geocodes = {}\n",
    "count=0 # Didn't know the 'place' so used index as a key\n",
    "for coordinates in articles[\"Coordinates\"]:\n",
    "    if not (isinstance(coordinates,list)): # Sometimes the coordinates weren't in the right format, so convert them\n",
    "        coordinates = ast.literal_eval(coordinates)\n",
    "    lon, lat = coordinates[0], coordinates[1]\n",
    "    geocodes[str(count)] = {\"lon\": lon, \"lat\": lat}\n",
    "    count+=1 \n",
    "\n",
    "census_geos = get_census_geos(geocodes)\n",
    "\n",
    "census_geos_df = pd.DataFrame.from_dict(census_geos, orient='index')"
   ]
  },
  {
   "cell_type": "markdown",
   "metadata": {},
   "source": [
    "Now that the census geographies have been added to the database, we can save it to a new file."
   ]
  },
  {
   "cell_type": "code",
   "execution_count": null,
   "metadata": {},
   "outputs": [],
   "source": [
    "# Add census info to data\n",
    "\n",
    "# Add the county, tract and block to dataFrame\n",
    "articles.insert(3, \"County\", census_geos_df[\"county\"].values)\n",
    "articles.insert(3, \"Census Tract\", census_geos_df[\"tract\"].values)\n",
    "articles.insert(3,\"Block\", census_geos_df[\"block\"].values)\n",
    "\n",
    "# Filter out None values\n",
    "geocoded_articles = articles[articles[\"Census Tract\"].notna()]"
   ]
  },
  {
   "cell_type": "markdown",
   "metadata": {},
   "source": [
    "### We can also collect the relevant neighborhood information\n",
    "\n",
    "Using a data set that contains the neighborhood for any given census tract, we can easily relate the two. The following class is used in other sections of the project to achieve this."
   ]
  },
  {
   "cell_type": "code",
   "execution_count": 11,
   "metadata": {},
   "outputs": [],
   "source": [
    "geocoded_articles = pd.read_csv(\"../data/processed/gbh_geocoded_output.csv\")"
   ]
  },
  {
   "cell_type": "code",
   "execution_count": 12,
   "metadata": {},
   "outputs": [],
   "source": [
    "# Relate neighborhoods to census geographies\n",
    "class neighborhood_mapping():\n",
    "    def __init__(self):\n",
    "        self.load_mappings()\n",
    "    \n",
    "    def load_mappings(self):\n",
    "        # load census tract to boston neighborhood mapping \n",
    "        # File is not comprehensive! have to add more tracts and connections to their neighborhoods\n",
    "        self.tract_mapping = json.load(open(\"./data/tracts-neighbors.json\")) # Will have to download this file and add manually to the relevant folder\n",
    "        \n",
    "        # load census block to boston neighborhood mapping \n",
    "        self.block_mapping = json.load(open(\"./data/blocks-neighbors.json\")) # Not currently in use\n",
    "\n",
    "    def tract_to_neighborhood(self, tract):\n",
    "        # given a census tract return the boston neighborhood it is in \n",
    "        return self.tract_mapping[tract]\n",
    "    \n",
    "    def block_to_neighborhood(self, block):\n",
    "        # given a census block return the boston neighborhood it is in \n",
    "        return self.block_mapping(block)"
   ]
  },
  {
   "cell_type": "code",
   "execution_count": null,
   "metadata": {},
   "outputs": [],
   "source": [
    "# Create the neighborhood mapping object\n",
    "mappings = neighborhood_mapping()\n",
    "\n",
    "# Return a formatted id for the census tract\n",
    "def format_id(state, county, census_tract): \n",
    "    # The input is of the form, Ma Code, County Code, Census Tract\n",
    "    full_id= f\"{state}{county.zfill(3)}{census_tract.zfill(6)}\"\n",
    "\n",
    "    return full_id\n",
    "    \n",
    "# Add a new column for Neighborhood\n",
    "geocoded_articles['Neighborhood'] = None\n",
    "\n",
    "# Loop through each row in the DataFrame and update the Neighborhood column\n",
    "for index, row in geocoded_articles.iterrows():\n",
    "    formatted_id = format_id(\"25\", str(row[\"County\"]), str(row[\"Census Tract\"]))\n",
    "    try:\n",
    "        neighborhood = mappings.tract_to_neighborhood(formatted_id)\n",
    "    except KeyError:\n",
    "        print(\"Unable to retrieve neighborhood for: \" + formatted_id)\n",
    "        neighborhood = None\n",
    "    geocoded_articles.at[index, 'Neighborhood'] = neighborhood\n",
    "\n",
    "geocoded_articles.insert(5, \"Neighborhood\", geocoded_articles.pop(\"Neighborhood\"))\n"
   ]
  },
  {
   "cell_type": "markdown",
   "metadata": {},
   "source": [
    "Now that the census geographies have been added to the database, we can save it to a new file."
   ]
  },
  {
   "cell_type": "code",
   "execution_count": null,
   "metadata": {},
   "outputs": [],
   "source": [
    "geocoded_articles.to_csv(\"../data/processed/gbh_geocoded_output.csv\", index=False)\n",
    "geocoded_articles.head(5)"
   ]
  }
 ],
 "metadata": {
  "kernelspec": {
   "display_name": "Python 3",
   "language": "python",
   "name": "python3"
  },
  "language_info": {
   "codemirror_mode": {
    "name": "ipython",
    "version": 3
   },
   "file_extension": ".py",
   "mimetype": "text/x-python",
   "name": "python",
   "nbconvert_exporter": "python",
   "pygments_lexer": "ipython3",
   "version": "3.12.3"
  }
 },
 "nbformat": 4,
 "nbformat_minor": 2
}
