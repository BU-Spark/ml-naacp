{
 "cells": [
  {
   "cell_type": "markdown",
   "metadata": {},
   "source": [
    "# Step 3: Extracting demographics\n",
    "\n",
    "Now that we have the geocoded data, we can find the demographics of the relevant locations to later on make connections between the two."
   ]
  },
  {
   "cell_type": "code",
   "execution_count": 1,
   "metadata": {},
   "outputs": [],
   "source": [
    "# Import relevant libraries\n",
    "\n",
    "import requests\n",
    "import pandas as pd"
   ]
  },
  {
   "cell_type": "code",
   "execution_count": 2,
   "metadata": {},
   "outputs": [],
   "source": [
    "# Load geocoded data\n",
    "\n",
    "data = pd.read_csv(\"../data/processed/gbh_geocoded_output.csv\")"
   ]
  },
  {
   "cell_type": "markdown",
   "metadata": {},
   "source": [
    "### Get Census Demographics\n",
    "\n",
    "This is also a function that's been used in the past. With it, given the basic information, we can find the relevant demographics of the location. There is a limit to how many queries can be done though, so this must be kept in mind. Further, we can select which year, data source and survey name to collect the data from and which demographics we are interested on. All the relevant links are inside the function. "
   ]
  },
  {
   "cell_type": "code",
   "execution_count": 3,
   "metadata": {},
   "outputs": [],
   "source": [
    "\"\"\"\n",
    "# CENSUS DATA API \n",
    "# https://www.census.gov/content/dam/Census/library/publications/2020/acs/acs_api_handbook_2020_ch02.pdf\n",
    "# any user can query small quantities of data with minimal restrictions - up to 50 variables in a single query, up to 500 queries per IP address per day \n",
    "# more than 500 queries per IP address per day requires you to register for API key - www.census.gov/developers\n",
    "# https://www.census.gov/data/developers/data-sets/decennial-census.html \n",
    "\"\"\"\n",
    "# Get census demographics for any given article\n",
    "def get_census_demographics(year, dsource, dname, tract, county, state, block=False):\n",
    "    # input: census year, data source, survey name, tract, county, state\n",
    "    # return: demographic data for tract mentioned\n",
    "    \n",
    "    # census variables: https://api.census.gov/data/2020/dec/pl/variables.html \n",
    "    \"\"\"\n",
    "    P2_001N - Total\n",
    "    P2_002N - Total: Hispanic or Latino\n",
    "    P2_003N - Total: Not Hispanic or Latino\n",
    "    P2_004N - Total: Not Hispanic or Latino: Population of One Race\n",
    "    P2_005N - Total: Not Hispanic or Latino: Population of One Race: White alone\n",
    "    P2_006N - Total: Not Hispanic or Latino: Population of One Race: Black or African American alone\n",
    "    P2_007N - Total: Not Hispanic or Latino: Population of One Race: American Indian and Alaska Native alone\n",
    "    P2_008N - Total: Not Hispanic or Latino: Population of One Race: Asian alone\n",
    "    P2_009N - Total: Not Hispanic or Latino: Population of One Race: Native Hawaiian and Other Pacific Islander alone\n",
    "    P2_010N - Total: Not Hispanic or Latino: Population of One Race: Some Other Race Alone\n",
    "    \"\"\"\n",
    "    cols = 'NAME,P2_001N,P2_002N,P2_003N,P2_004N,P2_005N,P2_006N,P2_007N,P2_008N,P2_009N,P2_010N'\n",
    "    base_url = f\"https://api.census.gov/data/{year}/{dsource}/{dname}\"\n",
    "\n",
    "    if (block):\n",
    "        # to get block demographics \n",
    "        census_url = f\"{base_url}?get={cols}&for=block:{block}&in=tract:{tract}&in=county:{county}&in=state:{state}\"\n",
    "    else:\n",
    "        # to get tract demographics \n",
    "        census_url = f\"{base_url}?get={cols}&for=tract:{tract}&in=county:{county}&in=state:{state}\"\n",
    "\n",
    "    census_response = requests.get(census_url)\n",
    "    census_response_json = census_response.json()\n",
    "\n",
    "    return census_response_json"
   ]
  },
  {
   "cell_type": "code",
   "execution_count": 4,
   "metadata": {},
   "outputs": [],
   "source": [
    "# Function so save the data collected\n",
    "\n",
    "def save_data(data1, filename1):\n",
    "    data1.to_csv(filename1, index=False)"
   ]
  },
  {
   "cell_type": "markdown",
   "metadata": {},
   "source": [
    "We can also create a function to handle get_demographics and further automate the process. "
   ]
  },
  {
   "cell_type": "code",
   "execution_count": 5,
   "metadata": {},
   "outputs": [],
   "source": [
    "# Get census data for all given articles (with unique tract/block) and save to CSV\n",
    "def collect_data(data, output, filename, block=False):\n",
    "    error_tracts = []\n",
    "\n",
    "    for index, row in data.iterrows():\n",
    "        tract = str(row[\"Census Tract\"])\n",
    "        county = str(row[\"County\"])\n",
    "        print(index, tract, county)\n",
    "        state = \"25\" # Massachusetts\n",
    "        try:\n",
    "            # Make API call to get census demographics data\n",
    "            if block:\n",
    "                block = str(row[\"Block\"])\n",
    "                census_data = get_census_demographics(\"2020\", \"dec\", \"pl\", tract, county, state, block)\n",
    "            else:\n",
    "                census_data = get_census_demographics(\"2020\", \"dec\", \"pl\", tract, county, state, False)\n",
    "\n",
    "            # If successful, save data to output dataframe\n",
    "            if census_data:\n",
    "                census_data = census_data[1]\n",
    "\n",
    "                # Calculate percentages as well for each demographic\n",
    "                total_population = int(census_data[1])\n",
    "                percentages = [round(100*(int(census_data[i])/total_population), 2) for i in range(1, 11)]\n",
    "\n",
    "                output.loc[len(output.index)] = [index, tract, county, state, census_data[0], census_data[1], percentages[0], census_data[2], percentages[1], census_data[3], \n",
    "                                                 percentages[2], census_data[4], percentages[3], census_data[5], percentages[4], census_data[6], percentages[5], census_data[7], \n",
    "                                                 percentages[6], census_data[8], percentages[7], census_data[9],  percentages[8], census_data[10], percentages[9]]\n",
    "            \n",
    "            # Save data to CSV after every 10 iterations in case there's any errors or takes too long\n",
    "            if index % 10 == 0:\n",
    "                save_data(output, filename)\n",
    "        \n",
    "        except Exception as e:\n",
    "            print(\"Error retrieving data for tract: \" + tract + \". With error: \" + str(e))\n",
    "            error_tracts.append([tract, county, state])\n",
    "\n",
    "    # Save final data to CSV\n",
    "    save_data(output, filename)\n",
    "\n",
    "    return error_tracts\n"
   ]
  },
  {
   "cell_type": "markdown",
   "metadata": {},
   "source": [
    "In the interest of limiting API calls, making the process faster and less memory intensive, we can collect only the unique tracts and use them to link it to other articles when needed."
   ]
  },
  {
   "cell_type": "code",
   "execution_count": 6,
   "metadata": {},
   "outputs": [],
   "source": [
    "# Create a list of unique tracts from the geocoded data\n",
    "\n",
    "unique_tracts = data[['Census Tract', 'County']].drop_duplicates().reset_index(drop=True)"
   ]
  },
  {
   "cell_type": "code",
   "execution_count": null,
   "metadata": {},
   "outputs": [],
   "source": [
    "# Create table with demographics of each unique tract\n",
    "\n",
    "demographics = pd.DataFrame(columns=[\"Index\", \"Census Tract\", \"County\", \"State\", \"Name\", \"Total\", \"Total Percent\", \"Hispanic or Latino\", \"Hispanic or Latino Percent\",\n",
    "                                     \"Not Hispanic or Latino\", \"Not Hispanic or Latino Percent\", \"One Race Total\", \"One Race Total Percent\", \"White\", \"White Percent\", \"African American\", \n",
    "                                     \"African American Percent\", \"American Indian and Alaska Native\", \"American Indian and Alaska Native Percent\", \"Asian\", \"Asian Percent\",\n",
    "                                     \"Native Hawaiian and Other Pacific Island\", \"Native Hawaiian and Other Pacific Island Percent\", \"Other\", \"Other Percent\"])\n",
    "\n",
    "# Collect data for each unique tract and save it to CSV\n",
    "collect_data(unique_tracts[:3], demographics, '../data/processed/demographics_by_tract.csv')"
   ]
  },
  {
   "cell_type": "markdown",
   "metadata": {},
   "source": [
    "We can also do the same with blocks to be more specific, but currently it gives us a better hollistic perspective to focus on the census tract so this is just left as something that could be used in the future."
   ]
  },
  {
   "cell_type": "code",
   "execution_count": 15,
   "metadata": {},
   "outputs": [],
   "source": [
    "# Create a list of unique blocks from the geocoded data\n",
    "unique_blocks = data[['Block', 'Census Tract', 'County']].drop_duplicates().reset_index(drop=True)"
   ]
  },
  {
   "cell_type": "code",
   "execution_count": null,
   "metadata": {},
   "outputs": [],
   "source": [
    "# Create table with demographics of each unique tract\n",
    "block_demographics = pd.DataFrame(columns=[\"Index\", \"Census Tract\", \"County\", \"State\", \"Name\", \"Total\", \"Total Percent\", \"Hispanic or Latino\", \"Hispanic or Latino Percent\",\n",
    "                                     \"Not Hispanic or Latino\", \"Not Hispanic or Latino Percent\", \"One Race Total\", \"One Race Total Percent\", \"White\", \"White Percent\", \"African American\", \n",
    "                                     \"African American Percent\", \"American Indian and Alaska Native\", \"American Indian and Alaska Native Percent\", \"Asian\", \"Asian Percent\",\n",
    "                                     \"Native Hawaiian and Other Pacific Island\", \"Native Hawaiian and Other Pacific Island Percent\", \"Other\", \"Other Percent\"])\n",
    "\n",
    "# Collect data for each unique tract and save it to CSV\n",
    "collect_data(unique_blocks, block_demographics, '../data/processed/demographics_by_block.csv', True)"
   ]
  }
 ],
 "metadata": {
  "kernelspec": {
   "display_name": "Python 3",
   "language": "python",
   "name": "python3"
  },
  "language_info": {
   "codemirror_mode": {
    "name": "ipython",
    "version": 3
   },
   "file_extension": ".py",
   "mimetype": "text/x-python",
   "name": "python",
   "nbconvert_exporter": "python",
   "pygments_lexer": "ipython3",
   "version": "3.12.3"
  }
 },
 "nbformat": 4,
 "nbformat_minor": 2
}
