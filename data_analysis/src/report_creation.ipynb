{
 "cells": [
  {
   "cell_type": "code",
   "execution_count": null,
   "metadata": {},
   "outputs": [],
   "source": []
  },
  {
   "cell_type": "code",
   "execution_count": null,
   "metadata": {},
   "outputs": [],
   "source": [
    "# Agregate Results for a given tract\n",
    "def get_tract_analysis(tract):\n",
    "    total_article_count = get_total_count(merged_articles)\n",
    "    tract_article_count = get_count_for_tract(tract)\n",
    "    total_population = demographics[demographics['Tract'] == tract]['Total'].values[0]\n",
    "    main_races = get_race_for_tract(tract).T\n",
    "    averaged_races = round(100 * main_races / total_population, 1)\n",
    "    # merged_races = pd.merge(main_races, main_races_percent)\n",
    "    main_topics = get_topics_for_tract(tract)\n",
    "\n",
    "    print(f\"Out of the {total_article_count} articles in the dataset, {tract_article_count} articles are in the tract {str(tract)}. \\nThe main topics are: {str(main_topics)} \\n\\nThe main races are (by percent): {str(averaged_races)}\")\n"
   ]
  },
  {
   "cell_type": "code",
   "execution_count": null,
   "metadata": {},
   "outputs": [],
   "source": [
    "# Example\n",
    "tract = 30302\n",
    "get_tract_analysis(tract)"
   ]
  }
 ],
 "metadata": {
  "language_info": {
   "name": "python"
  }
 },
 "nbformat": 4,
 "nbformat_minor": 2
}
